{
 "cells": [
  {
   "cell_type": "markdown",
   "id": "24611359",
   "metadata": {},
   "source": [
    "# Pythia Foundations\n",
    "\n",
    "## A community learning resource for Python-based computing in the geosciences"
   ]
  },
  {
   "cell_type": "markdown",
   "id": "422cec20-f029-427f-97bd-90e147e2eb0f",
   "metadata": {},
   "source": [
    "<img src=\"images/pretty-earth.png\" alt=\"Pretty Earth\" width=\"600px\">"
   ]
  },
  {
   "cell_type": "markdown",
   "id": "fa6980e8",
   "metadata": {},
   "source": [
    "Brought to you by [Project Pythia](https://projectpythia.org), this growing collection covers the foundational skills everyone needs to get started with scientific computing in the open-source Python ecosystem."
   ]
  },
  {
   "cell_type": "code",
   "execution_count": null,
   "id": "4c986b6d",
   "metadata": {},
   "outputs": [],
   "source": []
  }
 ],
 "metadata": {
  "kernelspec": {
   "display_name": "Python 3",
   "language": "python",
   "name": "python3"
  },
  "language_info": {
   "codemirror_mode": {
    "name": "ipython",
    "version": 3
   },
   "file_extension": ".py",
   "mimetype": "text/x-python",
   "name": "python",
   "nbconvert_exporter": "python",
   "pygments_lexer": "ipython3",
   "version": "3.8.10"
  }
 },
 "nbformat": 4,
 "nbformat_minor": 5
}
