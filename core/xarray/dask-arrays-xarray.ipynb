{
 "cells": [
  {
   "cell_type": "markdown",
   "id": "d59e6a58-b50e-4015-bbd8-b48608d44b26",
   "metadata": {},
   "source": [
    "<img src=\"images/dask_horizontal.svg\" align=\"left\" width=\"30%\">\n"
   ]
  },
  {
   "cell_type": "markdown",
   "id": "013dde55-1cea-4fd8-b980-0fa06bdd5568",
   "metadata": {},
   "source": [
    "# Dask Arrays with Xarray\n",
    "\n",
    "The scientific Python package known as Dask provides Dask Arrays: parallel, larger-than-memory, n-dimensional arrays that make use of blocked algorithms. They are analogous to Numpy arrays, but are distributed. These terms are defined below:\n",
    "\n",
    "*  **Parallel** code uses many or all of the cores on the computer running the code.\n",
    "*  **Larger-than-memory** refers to algorithms that break up data arrays into small pieces, operate on these pieces in an optimized fashion, and stream data from a storage device. This allows a user or programmer to work with datasets of a size larger than the available memory.\n",
    "*  A **blocked algorithm** speeds up large computations by converting them into a series of smaller computations.\n",
    "\n",
    "In this tutorial, we cover the use of Xarray to wrap Dask arrays. By using Dask arrays instead of Numpy arrays in Xarray data objects, it becomes possible to execute analysis code in parallel with much less code and effort.\n",
    "\n",
    "\n",
    "## Learning Objectives\n",
    "\n",
    "- Learn the distinction between *eager* and *lazy* execution, and performing both types of execution with Xarray\n",
    "- Understand key features of Dask Arrays\n",
    "- Learn to perform operations with Dask Arrays in similar ways to performing operations with NumPy arrays\n",
    "- Understand the use of Xarray `DataArrays` and `Datasets` as \"Dask collections\", and the use of top-level Dask functions such as `dask.visualize()` on such collections\n",
    "- Understand the ability to use Dask transparently in all built-in Xarray operations\n",
    "\n",
    "## Prerequisites\n",
    "\n",
    "\n",
    "| Concepts | Importance | Notes |\n",
    "| --- | --- | --- |\n",
    "| [Introduction to NumPy](../numpy/numpy-basics) | Necessary | Familiarity with Data Arrays |\n",
    "| [Introduction to Xarray](xarray-intro) | Necessary | Familiarity with Xarray Data Structures |\n",
    "\n",
    "\n",
    "- **Time to learn**: *30-40 minutes*\n"
   ]
  },
  {
   "cell_type": "markdown",
   "id": "027ccc87-420b-45dd-830a-38766dd6248f",
   "metadata": {},
   "source": [
    "## Imports\n",
    "\n",
    "For this tutorial, as we are working with Dask, there are a number of Dask packages that must be imported. Also, this is technically an Xarray tutorial, so Xarray and NumPy must also be imported. Finally, the Pythia datasets package is imported, allowing access to the Project Pythia example data library."
   ]
  },
  {
   "cell_type": "code",
   "execution_count": null,
   "id": "8aa666b9-4af2-41b5-8e77-e28f9cecddd1",
   "metadata": {},
   "outputs": [],
   "source": [
    "import dask\n",
    "import dask.array as da\n",
    "import numpy as np\n",
    "import xarray as xr\n",
    "from dask.diagnostics import ProgressBar\n",
    "from dask.utils import format_bytes\n",
    "from pythia_datasets import DATASETS"
   ]
  },
  {
   "cell_type": "markdown",
   "id": "259bdc60-6e96-4258-8d71-e733ce2d9aca",
   "metadata": {},
   "source": [
    "## Blocked algorithms\n",
    "\n",
    "As described above, the definition of \"blocked algorithm\" is an algorithm that replaces a large operation with many small operations. In the case of datasets, this means that a blocked algorithm separates a dataset into chunks, and performs an operation on each.\n",
    "\n",
    "As an example of how blocked algorithms work, consider a dataset containing a billion numbers, and assume that the sum of the numbers is needed. Using a non-blocked algorithm, all of the numbers are added in one operation, which is extremely inefficient. However, by using a blocked algorithm, the dataset is broken into chunks. (For the purposes of this example, assume that 1,000 chunks are created, with 1,000,000 numbers each.) The sum of the numbers in each chunk is taken, most likely in parallel, and then each of those sums are summed to obtain the final result.\n",
    "\n",
    "By using blocked algorithms, we achieve the result, in this case one sum of one billion numbers, through the results of many smaller operations, in this case one thousand sums of one million numbers each. (Also note that each of the one thousand sums must then be summed, making the total number of sums 1,001.) This allows for a much greater degree of parallelism, potentially speeding up the code execution dramatically."
   ]
  },
  {
   "cell_type": "markdown",
   "id": "53b69958-355f-4121-a644-227adc1b14ef",
   "metadata": {},
   "source": [
    "### `dask.array` contains these algorithms\n",
    "\n",
    "The main object type used in Dask is `dask.array`, which implements a subset of the `ndarray` (NumPy array) interface. However, unlike `ndarray`, `dask.array` uses blocked algorithms, which break up the array into smaller arrays, as described above. This allows for the execution of computations on arrays larger than memory, by using parallelism to divide the computation among multiple cores. Dask manages and coordinates blocked algorithms for any given computation by using Dask graphs, which lay out in detail the steps Dask takes to solve a problem. In addition, `dask.array` objects, known as Dask Arrays, are **lazy**; in other words, any computation performed on them is delayed until a specific method is called."
   ]
  },
  {
   "cell_type": "markdown",
   "id": "1aef9368-240b-423b-a3c7-0ab7baa8fa13",
   "metadata": {},
   "source": [
    "### Create a `dask.array` object\n",
    "\n",
    "As stated earlier, Dask Arrays are loosely based on NumPy arrays. In the next set of examples, we illustrate the main differences between Dask Arrays and NumPy arrays. In order to illustrate the differences, we must have both a Dask Array object and a NumPy array object. Therefore, this first example creates a 3-D NumPy array of random data:"
   ]
  },
  {
   "cell_type": "code",
   "execution_count": null,
   "id": "690bc749-976e-4b78-a801-8d01ee363ad7",
   "metadata": {
    "tags": []
   },
   "outputs": [],
   "source": [
    "shape = (600, 200, 200)\n",
    "arr = np.random.random(shape)\n",
    "arr"
   ]
  },
  {
   "cell_type": "code",
   "execution_count": null,
   "id": "c36032d1-0fb6-43d2-a188-87e8e00bd5a4",
   "metadata": {},
   "outputs": [],
   "source": [
    "format_bytes(arr.nbytes)"
   ]
  },
  {
   "cell_type": "markdown",
   "id": "8e7e54dc-342c-4d31-902a-ece54a813e7e",
   "metadata": {},
   "source": [
    "As shown above, this NumPy array contains about 183 MB of data."
   ]
  },
  {
   "cell_type": "markdown",
   "id": "905dffb1-0879-4842-8b76-2538592f6156",
   "metadata": {},
   "source": [
    "As stated above, we must also create a Dask Array. This next example creates a Dask Array with the same dimension sizes as the existing NumPy array:"
   ]
  },
  {
   "cell_type": "code",
   "execution_count": null,
   "id": "be84728a-7953-4561-aa7d-326f4a45e3aa",
   "metadata": {},
   "outputs": [],
   "source": [
    "darr = da.random.random(shape, chunks=(300, 100, 200))"
   ]
  },
  {
   "cell_type": "markdown",
   "id": "632e9f08-3142-46d7-b457-e9bde0d1dce9",
   "metadata": {},
   "source": [
    "By specifying values to the `chunks` keyword argument, we can specify the array pieces that Dask's blocked algorithms break the array into; in this case, we specify `(300, 100, 200)`."
   ]
  },
  {
   "cell_type": "markdown",
   "id": "ebbafe88-bb79-436c-aa3b-a9c5f31ff1ec",
   "metadata": {},
   "source": [
    "<div class=\"admonition alert alert-info\">\n",
    "    <p class=\"admonition-title\" style=\"font-weight:bold\">Specifying Chunks</p>\n",
    "    In this tutorial, we specify Dask Array chunks in a block shape. However, there are many additional ways to specify chunks; see <a href=\"https://docs.dask.org/en/latest/array-chunks.html\">this documentation</a> for more details.\n",
    "\n",
    "</div>\n",
    "\n"
   ]
  },
  {
   "cell_type": "markdown",
   "id": "ed467b75-9629-4fbc-a235-866459e4b881",
   "metadata": {},
   "source": [
    "If you are viewing this page as a Jupyter Notebook, the next Jupyter cell will produce a rich information graphic giving in-depth details about the array and each individual chunk."
   ]
  },
  {
   "cell_type": "code",
   "execution_count": null,
   "id": "42c13417-a5a2-4fd2-8610-a3cd70f4b93a",
   "metadata": {},
   "outputs": [],
   "source": [
    "darr"
   ]
  },
  {
   "cell_type": "markdown",
   "id": "75988622-8ec1-45b0-a069-29ca74f53836",
   "metadata": {},
   "source": [
    "The above graphic contains a symbolic representation of the array, including `shape`, `dtype`, and `chunksize`. (Your view may be different, depending on how you are accessing this page.) Notice that there is no data shown for this array; this is because Dask Arrays are lazy, as described above. Before we call a compute method for this array, we first illustrate the structure of a Dask graph. In this example, we show the Dask graph by calling `.visualize()` on the array:"
   ]
  },
  {
   "cell_type": "code",
   "execution_count": null,
   "id": "44a7a6e4-bcfc-40c1-a095-8fa315bfef4e",
   "metadata": {},
   "outputs": [],
   "source": [
    "darr.visualize()"
   ]
  },
  {
   "cell_type": "markdown",
   "id": "37f4038c-f2b2-40c3-91cd-af2713dd23df",
   "metadata": {},
   "source": [
    "As shown in the above Dask graph, our array has four chunks, each one created by a call to NumPy's \"random\" method (`np.random.random`). These chunks are concatenated into a single array after the calculation is performed."
   ]
  },
  {
   "cell_type": "markdown",
   "id": "c5b29134-62af-4a0b-8e44-9f99b5072b45",
   "metadata": {},
   "source": [
    "### Manipulate a `dask.array` object as you would a numpy array\n",
    "\n",
    "\n",
    "We can perform computations on the Dask Array created above in a similar fashion to NumPy arrays. These computations include arithmetic, slicing, and reductions, among others.\n",
    "\n",
    "Although the code for performing these computations is similar between NumPy arrays and Dask Arrays, the process by which they are performed is quite different. For example, it is possible to call `sum()` on both a NumPy array and a Dask Array; however, these two `sum()` calls are definitely not the same, as shown below.\n",
    "\n",
    "#### What's the difference?\n",
    "\n",
    "When `sum()` is called on a Dask Array, the computation is not performed; instead, an expression of the computation is built. The `sum()` computation, as well as any other computation methods called on the same Dask Array, are not performed until a specific method (known as a compute method) is called on the array. (This is known as **lazy execution**.) On the other hand, calling `sum()` on a NumPy array performs the calculation immediately; this is known as **eager execution**.\n",
    "\n",
    "#### Why the difference?\n",
    "\n",
    "As described earlier, a Dask Array is divided into chunks. Any computations run on the Dask Array run on each chunk individually. If the result of the computation is obtained before the computation runs through all of the chunks, Dask can stop the computation to save CPU time and memory resources.\n",
    "\n",
    "This example illustrates calling `sum()` on a Dask Array; it also includes a demonstration of lazy execution, as well as another Dask graph display:"
   ]
  },
  {
   "cell_type": "code",
   "execution_count": null,
   "id": "cf14f2f0-a66e-4578-8a8d-f0c7701beb9c",
   "metadata": {},
   "outputs": [],
   "source": [
    "total = darr.sum()\n",
    "total"
   ]
  },
  {
   "cell_type": "code",
   "execution_count": null,
   "id": "36724be4-63ec-4b1c-9a9e-1a605a12a5a5",
   "metadata": {},
   "outputs": [],
   "source": [
    "total.visualize()"
   ]
  },
  {
   "cell_type": "markdown",
   "id": "09186a60-51fc-49c1-91ac-3614af0202cc",
   "metadata": {},
   "source": [
    "#### Compute the result\n",
    "\n",
    "As described above, Dask Array objects make use of lazy execution. Therefore, operations performed on a Dask Array wait to execute until a compute method is called. As more operations are queued in this way, the Dask Array's Dask graph increases in complexity, reflecting the steps Dask will take to perform all of the queued operations. \n",
    "\n",
    "In this example, we call a compute method, simply called `.compute()`, to run on the Dask Array all of the stored computations:"
   ]
  },
  {
   "cell_type": "code",
   "execution_count": null,
   "id": "36aff31f-2f06-4703-a2a6-cf692ab5eed3",
   "metadata": {},
   "outputs": [],
   "source": [
    "%%time\n",
    "total.compute()"
   ]
  },
  {
   "cell_type": "markdown",
   "id": "af09c610-0e66-4ce8-a53a-fdd50471271d",
   "metadata": {},
   "source": [
    "### Exercise with `dask.arrays`\n",
    "\n",
    "In this section of the page, the examples are hands-on exercises pertaining to Dask Arrays. If these exercises are not interesting to you, this section can be used strictly as examples regardless of how the page is viewed. However, if you wish to participate in the exercises, make sure that you are viewing this page as a Jupyter Notebook.\n",
    "\n",
    "For the first exercise, modify the chunk size or shape of the Dask Array created earlier. Call `.sum()` on the modified Dask Array, and visualize the Dask graph to view the changes."
   ]
  },
  {
   "cell_type": "code",
   "execution_count": null,
   "id": "11922e84-f13e-4db6-a8a0-cf75a5727cfb",
   "metadata": {},
   "outputs": [],
   "source": [
    "da.random.random(shape, chunks=(50, 200, 400)).sum().visualize()"
   ]
  },
  {
   "cell_type": "markdown",
   "id": "b275b5cc-51a6-48ff-a0a4-62bdc43e6530",
   "metadata": {},
   "source": [
    "As is obvious from the above exercise, Dask quickly and easily determines a strategy for performing the operations, in this case a sum. This illustrates the appeal of Dask: automatic algorithm generation that scales from simple arithmetic problems to highly complex scientific equations with large datasets and multiple operations."
   ]
  },
  {
   "cell_type": "markdown",
   "id": "7a7dcaaa-6a6e-4f58-aa80-2890136158fd",
   "metadata": {},
   "source": [
    "In this next set of examples, we demonstrate that increasing the complexity of the operations performed also increases the complexity of the Dask graph.\n",
    "\n",
    "In this example, we use randomly selected functions, arguments and Python slices to create a complex set of operations. We then visualize the Dask graph to illustrate the increased complexity:"
   ]
  },
  {
   "cell_type": "code",
   "execution_count": null,
   "id": "e74a6817-8d06-4dd1-afec-98c53a8ae52a",
   "metadata": {},
   "outputs": [],
   "source": [
    "z = darr.dot(darr.T).mean(axis=0)[::2, :].std(axis=1)\n",
    "z"
   ]
  },
  {
   "cell_type": "code",
   "execution_count": null,
   "id": "a4ccffad-5bda-4108-a6c8-6628510f8363",
   "metadata": {},
   "outputs": [],
   "source": [
    "z.visualize()"
   ]
  },
  {
   "cell_type": "markdown",
   "id": "35c59c2f-3e5c-443b-908f-4f14535d2802",
   "metadata": {},
   "source": [
    "### Testing a bigger calculation\n",
    "\n",
    "While the earlier examples in this tutorial described well the basics of Dask, the size of the data in those examples, about 180 MB, is far too small for an actual use of Dask.\n",
    "\n",
    "In this example, we create a much larger array, more indicative of data actually used in Dask:"
   ]
  },
  {
   "cell_type": "code",
   "execution_count": null,
   "id": "482fb0fe-87d4-46fa-bb9d-ed38cc71d834",
   "metadata": {},
   "outputs": [],
   "source": [
    "darr = da.random.random((4000, 100, 4000), chunks=(1000, 100, 500)).astype('float32')\n",
    "darr"
   ]
  },
  {
   "cell_type": "markdown",
   "id": "6c0f8b73-41c1-49fb-9fa4-97cb10ae6f4d",
   "metadata": {},
   "source": [
    "The dataset created in the previous example is much larger, approximately 6 GB. Depending on how many programs are running on your computer, this may be greater than the amount of free RAM on your computer. However, as Dask is larger-than-memory, the amount of free RAM does not impede Dask's ability to work on this dataset.\n",
    "\n",
    "In this example, we again perform randomly selected operations, but this time on the much larger dataset. We also visualize the Dask graph, and then run the compute method. However, as computing complex functions on large datasets is inherently time-consuming, we show a progress bar to track the progress of the computation."
   ]
  },
  {
   "cell_type": "code",
   "execution_count": null,
   "id": "51e9addb-cc13-46f5-b542-827f8bdd94b5",
   "metadata": {},
   "outputs": [],
   "source": [
    "z = (darr + darr.T)[::2, :].mean(axis=2)"
   ]
  },
  {
   "cell_type": "code",
   "execution_count": null,
   "id": "c44ed57c-2a31-4df1-897b-02b614279755",
   "metadata": {},
   "outputs": [],
   "source": [
    "z.visualize()"
   ]
  },
  {
   "cell_type": "code",
   "execution_count": null,
   "id": "f5bf25c1-7384-4953-bbb8-be0c3c4e02e9",
   "metadata": {},
   "outputs": [],
   "source": [
    "with ProgressBar():\n",
    "    computed_ds = z.compute()"
   ]
  },
  {
   "cell_type": "markdown",
   "id": "116996d8-cc8a-4201-94d9-8152f4b6aa42",
   "metadata": {},
   "source": [
    "## Dask Arrays with Xarray\n",
    "\n",
    "While directly interacting with Dask Arrays can be useful on occasion, more often than not Dask Arrays are interacted with through [Xarray](http://xarray.pydata.org/en/stable/\n",
    "). Since Xarray wraps NumPy arrays, and Dask Arrays contain most of the functionality of NumPy arrays, Xarray can also wrap Dask Arrays, allowing anyone with knowledge of Xarray to easily start using the Dask interface."
   ]
  },
  {
   "cell_type": "markdown",
   "id": "57d12474-e71a-400f-b103-824f0de7288b",
   "metadata": {},
   "source": [
    "### Reading data with `Dask` and `Xarray`\n",
    "\n",
    "As demonstrated in previous examples, a Dask Array consists of many smaller arrays, called chunks:"
   ]
  },
  {
   "cell_type": "code",
   "execution_count": null,
   "id": "d6e932e0-ff01-412b-9629-1fb5590ffb0a",
   "metadata": {},
   "outputs": [],
   "source": [
    "darr"
   ]
  },
  {
   "cell_type": "markdown",
   "id": "4d7e0c25-3baa-45aa-bb4d-940480b2fbe9",
   "metadata": {},
   "source": [
    "As shown in the following example, to read data into Xarray as Dask Arrays, simply specify the `chunks` keyword argument when calling the `open_dataset()` function:"
   ]
  },
  {
   "cell_type": "code",
   "execution_count": null,
   "id": "3396e4e6-911b-4c40-a3f8-cdccf034a4ee",
   "metadata": {},
   "outputs": [],
   "source": [
    "ds = xr.open_dataset(DATASETS.fetch('CESM2_sst_data.nc'), chunks={})\n",
    "ds.tos"
   ]
  },
  {
   "cell_type": "markdown",
   "id": "f7333413-63ba-41f6-bf6c-8f2046402931",
   "metadata": {},
   "source": [
    "While it is a valid operation to pass an empty list to the `chunks` keyword argument, this technique does not specify how to chunk the data, and therefore the resulting Dask Array contains only one chunk.\n",
    "\n",
    "Correct usage of the `chunks` keyword argument specifies how many values in each dimension are contained in a single chunk. In this example, specifying the chunks keyword argument as `chunks={'time':90}` indicates to Xarray and Dask that 90 time slices are allocated to each chunk on the temporal axis.\n",
    "\n",
    "Since this dataset contains 180 total time slices, the data variable `tos` (holding the sea surface temperature data) is now split into two chunks in the temporal dimension."
   ]
  },
  {
   "cell_type": "code",
   "execution_count": null,
   "id": "4e7ac6b2-500f-4371-98ca-dc28dfe27648",
   "metadata": {},
   "outputs": [],
   "source": [
    "ds = xr.open_dataset(\n",
    "    DATASETS.fetch('CESM2_sst_data.nc'),\n",
    "    engine=\"netcdf4\",\n",
    "    chunks={\"time\": 90, \"lat\": 180, \"lon\": 360},\n",
    ")\n",
    "ds.tos"
   ]
  },
  {
   "cell_type": "markdown",
   "id": "8e175e4d-9950-48fb-b81c-4e67fa00b106",
   "metadata": {},
   "source": [
    "It is fairly straightforward to retrieve a list of the chunks and their sizes for each dimension; simply call the `.chunks` method on an Xarray `DataArray`. In this example, we show that the `tos` `DataArray` now contains two chunks on the `time` dimension, with each chunk containing 90 time slices."
   ]
  },
  {
   "cell_type": "code",
   "execution_count": null,
   "id": "4265a298-275c-4f93-992f-6fe8de9a311a",
   "metadata": {},
   "outputs": [],
   "source": [
    "ds.tos.chunks"
   ]
  },
  {
   "cell_type": "markdown",
   "id": "54853249-beec-4d74-8881-82d9d253c3b7",
   "metadata": {},
   "source": [
    "### Xarray data structures are first-class dask collections\n",
    "\n",
    "If an Xarray `Dataset` or `DataArray` object uses a Dask Array, rather than a NumPy array, it counts as a first-class Dask collection. This means that you can pass such an object to `dask.visualize()` and `dask.compute()`, in the same way as an individual Dask Array.\n",
    "\n",
    "In this example, we call `dask.visualize` on our Xarray `DataArray`, displaying a Dask graph for the `DataArray` object:"
   ]
  },
  {
   "cell_type": "code",
   "execution_count": null,
   "id": "333de4bb-db42-42e8-95f9-5db108962ae7",
   "metadata": {},
   "outputs": [],
   "source": [
    "dask.visualize(ds)"
   ]
  },
  {
   "cell_type": "markdown",
   "id": "d827f1b1-7d13-4707-93c2-45c2f99a7e60",
   "metadata": {},
   "source": [
    "### Parallel and lazy computation using `dask.array` with Xarray\n",
    "\n",
    "\n",
    "As described above, Xarray `Datasets` and `DataArrays` containing Dask Arrays are first-class Dask collections. Therefore, computations performed on such objects are deferred until a compute method is called. (This is the definition of lazy computation.)"
   ]
  },
  {
   "cell_type": "code",
   "execution_count": null,
   "id": "a6cc7961-d43e-4dca-84f2-d3f82631e1f0",
   "metadata": {},
   "outputs": [],
   "source": [
    "z = ds.tos.mean(['lat', 'lon']).dot(ds.tos.T)\n",
    "z"
   ]
  },
  {
   "cell_type": "markdown",
   "id": "764537d7-b8e2-4f92-9b5e-cf81a1d8baa7",
   "metadata": {},
   "source": [
    "As shown in the above example, the result of the applied operations is an Xarray `DataArray` that contains a Dask Array, an identical object type to the object that the operations were performed on. This is true for any operations that can be applied to Xarray `DataArrays`, including subsetting operations; this next example illustrates this:"
   ]
  },
  {
   "cell_type": "code",
   "execution_count": null,
   "id": "631fb768-f900-448a-a605-a93bea26bdc8",
   "metadata": {},
   "outputs": [],
   "source": [
    "z.isel(lat=0)"
   ]
  },
  {
   "cell_type": "markdown",
   "id": "34679cf2-4907-44d7-b386-0c3cbc7ce6d2",
   "metadata": {},
   "source": [
    "Because the data subset created above is also a first-class Dask collection, we can view its Dask graph using the `dask.visualize()` function, as shown in this example:"
   ]
  },
  {
   "cell_type": "code",
   "execution_count": null,
   "id": "7ebf0c9e-ac35-4841-9294-2d9e1b6dbc24",
   "metadata": {},
   "outputs": [],
   "source": [
    "dask.visualize(z)"
   ]
  },
  {
   "cell_type": "markdown",
   "id": "56bf9674-57f2-4b49-a5d5-95a4eafac587",
   "metadata": {},
   "source": [
    "Since this object is a first-class Dask collection, the computations performed on it have been deferred. To run these computations, we must call a compute method, in this case `.compute()`. This example also uses a progress bar to track the computation progress."
   ]
  },
  {
   "cell_type": "code",
   "execution_count": null,
   "id": "30082ac8-694a-4a48-bf03-840720aaa9b7",
   "metadata": {},
   "outputs": [],
   "source": [
    "with ProgressBar():\n",
    "    computed_ds = z.compute()"
   ]
  },
  {
   "cell_type": "markdown",
   "id": "7cf5002f-ed03-4318-935a-b5ce6e57434e",
   "metadata": {},
   "source": [
    "---"
   ]
  },
  {
   "cell_type": "markdown",
   "id": "f58e6da5-1492-4778-8821-aa03721e3db4",
   "metadata": {},
   "source": [
    "## Summary\n",
    "\n",
    "This tutorial covered the use of Xarray to access Dask Arrays, and the use of the `chunks` keyword argument to open datasets with Dask data instead of NumPy data. Another important concept introduced in this tutorial is the usage of Xarray `Datasets` and `DataArrays` as Dask collections, allowing Xarray objects to be manipulated in a similar manner to Dask Arrays. Finally, the concepts of larger-than-memory datasets, lazy computation, and parallel computation, and how they relate to Xarray and Dask, were covered.\n",
    "\n",
    "### Dask Shortcomings\n",
    "\n",
    "Although Dask Arrays and NumPy arrays are generally interchangeable, NumPy offers some functionality that is lacking in Dask Arrays. The usage of Dask Array comes with the following relevant issues:\n",
    "\n",
    "1.  Operations where the resulting shape depends on the array values can produce erratic behavior, or fail altogether, when used on a Dask Array. If the operation succeeds, the resulting Dask Array will have unknown chunk sizes, which can cause other sections of code to fail.\n",
    "2.  Operations that are by nature difficult to parallelize or less useful on very large datasets, such as `sort`, are not included in the Dask Array interface. Some of these operations have supported versions that are inherently more intuitive to parallelize, such as [`topk`](https://pytorch.org/docs/stable/generated/torch.topk.html).\n",
    "3.  Development of new Dask functionality is only initiated when such functionality is required; therefore, some lesser-used NumPy functions, such as `np.sometrue`, are not yet implemented in Dask. However, many of these functions can be added as community contributions, or have already been added in this manner.\n",
    "\n",
    "## Learn More\n",
    "\n",
    "For more in-depth information on Dask Arrays, visit the [official documentation page](https://docs.dask.org/en/latest/array.html). In addition, [this screencast](https://youtu.be/9h_61hXCDuI) reinforces the concepts covered in this tutorial. (If you are viewing this page as a Jupyter Notebook, the screencast will appear below as an embedded YouTube video.)\n"
   ]
  },
  {
   "cell_type": "code",
   "execution_count": null,
   "id": "21fbe02b-6bee-447b-bbc8-2ba8a0b96c87",
   "metadata": {},
   "outputs": [],
   "source": [
    "from IPython.display import YouTubeVideo\n",
    "\n",
    "YouTubeVideo(id=\"9h_61hXCDuI\", width=600, height=300)"
   ]
  },
  {
   "cell_type": "markdown",
   "id": "c282d878-a11f-41a2-9737-caee406ad5c3",
   "metadata": {},
   "source": [
    "## Resources and references\n",
    "\n",
    "* To find specific reference information about Dask and Xarray, see the official documentation pages listed below:\n",
    "    *  [Dask Docs](https://dask.org/)\n",
    "    *  [Dask Examples](https://examples.dask.org/)\n",
    "    *  [Dask Code](https://github.com/dask/dask/)\n",
    "    *  [Dask Blog](https://blog.dask.org/)\n",
    "    \n",
    "    *  [Xarray Docs](https://xarray.pydata.org/)\n",
    "  \n",
    "*  If you require assistance with a specific issue involving Xarray or Dask, the following links may be of use:\n",
    "    *   [`dask`](http://stackoverflow.com/questions/tagged/dask) tag on Stack Overflow, for usage questions\n",
    "    *   [github discussions: dask](https://github.com/dask/dask/discussions) for general, non-bug, discussion, and usage questions\n",
    "    *   [github issues: dask](https://github.com/dask/dask/issues/new) for bug reports and feature requests\n",
    "     *   [github discussions: xarray](https://github.com/pydata/xarray/discussions) for general, non-bug, discussion, and usage questions\n",
    "    *   [github issues: xarray](https://github.com/pydata/xarray/issues/new) for bug reports and feature requests\n",
    "    \n",
    "* Certain sections of this tutorial are adapted from the following existing tutorials:\n",
    "  * [Dask Array Tutorial](https://tutorial.dask.org/02_array.html)\n",
    "  * [Parallel Computing with Xarray and Dask](https://tutorial.xarray.dev/intermediate/xarray_and_dask.html)"
   ]
  },
  {
   "cell_type": "code",
   "execution_count": null,
   "id": "d7013ef8-33c4-4bd8-8acc-63cce238acb2",
   "metadata": {},
   "outputs": [],
   "source": []
  }
 ],
 "metadata": {
  "kernelspec": {
   "display_name": "Python 3 (ipykernel)",
   "language": "python",
   "name": "python3"
  },
  "language_info": {
   "codemirror_mode": {
    "name": "ipython",
    "version": 3
   },
   "file_extension": ".py",
   "mimetype": "text/x-python",
   "name": "python",
   "nbconvert_exporter": "python",
   "pygments_lexer": "ipython3",
   "version": "3.10.9"
  },
  "vscode": {
   "interpreter": {
    "hash": "b0fa6594d8f4cbf19f97940f81e996739fb7646882a419484c72d19e05852a7e"
   }
  }
 },
 "nbformat": 4,
 "nbformat_minor": 5
}
