{
 "cells": [
  {
   "cell_type": "markdown",
   "id": "f97468c3-b57e-428b-97ec-72a62b8c66e6",
   "metadata": {},
   "source": [
    "# Introduction to Climate and Forecasting Metadata Conventions"
   ]
  },
  {
   "cell_type": "markdown",
   "id": "9cdf6f4b-63e5-4dc1-9308-9972b96e1982",
   "metadata": {},
   "source": [
    "In order to better enable reproducible data and research, the Climate and Forecasting (CF) metadata convention was created to have proper metadata in atmospheric data files. In the remainder of this notebook, we will introduce the CF data model and discuss some netCDF implementation details to consider when deciding how to write data with CF and netCDF. We will cover gridded data in this notebook, with more in depth examples provided in the full [CF notebook](https://github.com/Unidata/python-workshop/blob/master/notebooks/CF%20Conventions/NetCDF%20and%20CF%20-%20The%20Basics.ipynb). Xarray makes the creation of netCDFs with proper metadata simple and straightforward, so we will use that, instead of the netCDF-Python library.\n",
    "\n",
    "This assumes a basic understanding of netCDF."
   ]
  },
  {
   "cell_type": "markdown",
   "id": "4b2c17b9-eb79-4a71-8608-2486dd4d6a26",
   "metadata": {},
   "source": [
    "<a name=\"gridded\"></a>\n",
    "## Gridded Data\n",
    "Let's say we're working with some numerical weather forecast model output. Let's walk through the steps necessary to store this data in netCDF, using the Climate and Forecasting metadata conventions to ensure that our data are available to as many tools as possible.\n",
    "\n",
    "To start, let's assume the following about our data:\n",
    "* It corresponds to forecast three dimensional temperature at several times\n",
    "* The native coordinate system of the model is on a regular grid that represents the Earth on a Lambert conformal projection.\n",
    "\n",
    "We'll also go ahead and generate some arrays of data below to get started:"
   ]
  },
  {
   "cell_type": "code",
   "execution_count": null,
   "id": "8771f5b0-5d88-402d-b22b-85fad2ef9d8e",
   "metadata": {},
   "outputs": [],
   "source": [
    "# Import some useful Python tools\n",
    "from datetime import datetime\n",
    "\n",
    "# Twelve hours of hourly output starting at 22Z today\n",
    "start = datetime.utcnow().replace(hour=22, minute=0, second=0, microsecond=0)\n",
    "times = np.array([start + timedelta(hours=h) for h in range(13)])\n",
    "\n",
    "# 3km spacing in x and y\n",
    "x = np.arange(-150, 153, 3)\n",
    "y = np.arange(-100, 100, 3)\n",
    "\n",
    "# Standard pressure levels in hPa\n",
    "press = np.array([1000, 925, 850, 700, 500, 300, 250])\n",
    "\n",
    "temps = np.random.randn(times.size, press.size, y.size, x.size)"
   ]
  },
  {
   "cell_type": "markdown",
   "id": "3bcb6d54-94b0-406b-b91a-318f396f7dbb",
   "metadata": {},
   "source": [
    "Time coordinates must contain a `units` attribute with a string value with a form similar to `'seconds since 2019-01-06 12:00:00.00'`. 'seconds', 'minutes', 'hours', and 'days' are the most commonly used units for time. Due to the variable length of months and years, they are not recommended.\n",
    "\n",
    "Before we can write data, we need to first need to convert our list of Python `datetime` instances to numeric values. We can use the `cftime` library to make this easy to convert using the unit string as defined above."
   ]
  },
  {
   "cell_type": "code",
   "execution_count": null,
   "id": "4b497941-206f-48e0-b97d-1ae011f831d2",
   "metadata": {},
   "outputs": [],
   "source": [
    "from cftime import date2num\n",
    "\n",
    "time_units = 'hours since {:%Y-%m-%d 00:00}'.format(times[0])\n",
    "time_vals = date2num(times, time_units)\n",
    "time_vals"
   ]
  },
  {
   "cell_type": "markdown",
   "id": "387019b8-08ed-4c20-b95c-322a232d63f9",
   "metadata": {},
   "source": [
    "Now we can create the `forecast_time` variable just as we did before for the other coordinate variables:"
   ]
  },
  {
   "cell_type": "markdown",
   "id": "f7670c04-9937-486a-9afe-543cfc750f40",
   "metadata": {},
   "source": [
    "### Convert arrays into Xarray Dataset"
   ]
  },
  {
   "cell_type": "code",
   "execution_count": null,
   "id": "ebbbfe6b-4dd0-4542-bacb-08c05169c1ba",
   "metadata": {},
   "outputs": [],
   "source": [
    "ds = xr.Dataset(\n",
    "    {'temperature': (['time', 'z', 'y', 'x'], temps, {'units': 'Kelvin'})},\n",
    "    coords={\n",
    "        'x_dist': (['x'], x, {'units': 'km'}),\n",
    "        'y_dist': (['y'], y, {'units': 'km'}),\n",
    "        'pressure': (['z'], press, {'units': 'hPa'}),\n",
    "        'forecast_time': (['time'], times),\n",
    "    },\n",
    ")\n",
    "ds"
   ]
  },
  {
   "cell_type": "markdown",
   "id": "2bd41835-ab7e-4631-9001-8d0b9ea64845",
   "metadata": {},
   "source": [
    "Due to how xarray handles time units, we need to encode the units in the `forecast_time` coordinate."
   ]
  },
  {
   "cell_type": "code",
   "execution_count": null,
   "id": "779e1a25-ff73-4de2-aecc-cde68f4e743d",
   "metadata": {},
   "outputs": [],
   "source": [
    "ds.forecast_time.encoding['units'] = time_units"
   ]
  },
  {
   "cell_type": "markdown",
   "id": "88601434-6aca-44e0-b8a0-b214b3ed6f96",
   "metadata": {},
   "source": [
    "If we look at our data variable, we can see the units printed out, so they were attached properly!"
   ]
  },
  {
   "cell_type": "code",
   "execution_count": null,
   "id": "9e6d4ed1-3633-45d6-a31e-f1ac8c4184ea",
   "metadata": {},
   "outputs": [],
   "source": [
    "ds.temperature"
   ]
  },
  {
   "cell_type": "markdown",
   "id": "d64fc7cc-5d06-4830-bb37-554a6c4cdfd9",
   "metadata": {},
   "source": [
    "We're going to start by adding some global attribute metadata. These are recommendations from the standard (not required), but they're easy to add and help users keep the data straight, so let's go ahead and do it."
   ]
  },
  {
   "cell_type": "code",
   "execution_count": null,
   "id": "193c43fa-8988-4e7a-90ac-f91240c23dd2",
   "metadata": {},
   "outputs": [],
   "source": [
    "ds.attrs['Conventions'] = 'CF-1.7'\n",
    "ds.attrs['title'] = 'Forecast model run'\n",
    "ds.attrs['nc.institution'] = 'Unidata'\n",
    "ds.attrs['source'] = 'WRF-1.5'\n",
    "ds.attrs['history'] = str(datetime.utcnow()) + ' Python'\n",
    "ds.attrs['references'] = ''\n",
    "ds.attrs['comment'] = ''\n",
    "ds"
   ]
  },
  {
   "cell_type": "markdown",
   "id": "ffe50ca8-1fd7-472d-9a4d-1e4c0ed8d0a8",
   "metadata": {},
   "source": [
    "We can also add attributes to this variable to define metadata. The CF conventions require a `units` attribute to be set for all variables that represent a dimensional quantity. The value of this attribute needs to be parsable by the UDUNITS library. Here we have already set it to a value of `'Kelvin'`. We also set the standard (optional) attributes of `long_name` and `standard_name`. The former contains a longer description of the variable, while the latter comes from a controlled vocabulary in the CF conventions. This allows users of data to understand, in a standard fashion, what a variable represents. If we had missing values, we could also set the `missing_value` attribute to an appropriate value."
   ]
  },
  {
   "cell_type": "markdown",
   "id": "a60e0ef0-c9a5-411b-a459-4ecf9e32f62d",
   "metadata": {},
   "source": [
    "> **NASA Dataset Interoperability Recommendations:**\n",
    ">\n",
    "> Section 2.2 - Include Basic CF Attributes\n",
    ">\n",
    "> Include where applicable: `units`, `long_name`, `standard_name`, `valid_min` / `valid_max`, `scale_factor` / `add_offset` and others."
   ]
  },
  {
   "cell_type": "code",
   "execution_count": null,
   "id": "d9ee88a8-5364-41aa-b68b-f01c252afa48",
   "metadata": {},
   "outputs": [],
   "source": [
    "ds.temperature.attrs['standard_name'] = 'air_temperature'\n",
    "ds.temperature.attrs['long_name'] = 'Forecast air temperature'\n",
    "ds.temperature.attrs['missing_value'] = -9999\n",
    "ds.temperature"
   ]
  },
  {
   "cell_type": "markdown",
   "id": "9cd79d24-906b-4a37-83ca-410b6f4ca0b3",
   "metadata": {},
   "source": [
    "### Coordinate variables"
   ]
  },
  {
   "cell_type": "markdown",
   "id": "b9974ccc-6005-4ef0-804a-5a8a532fcaf2",
   "metadata": {},
   "source": [
    "To properly orient our data in time and space, we need to go beyond dimensions (which define common sizes and alignment) and include values along these dimensions, which are called \"Coordinate Variables\". Generally, these are defined by creating a one dimensional variable with the same name as the respective dimension.\n",
    "\n",
    "To start, we define variables which define our `x` and `y` coordinate values. These variables include `standard_name`s which allow associating them with projections (more on this later) as well as an optional `axis` attribute to make clear what standard direction this coordinate refers to."
   ]
  },
  {
   "cell_type": "code",
   "execution_count": null,
   "id": "24618344-93da-4034-9855-f62270440b65",
   "metadata": {},
   "outputs": [],
   "source": [
    "ds.x.attrs['axis'] = 'X'  # Optional\n",
    "ds.x.attrs['standard_name'] = 'projection_x_coordinate'\n",
    "ds.x.attrs['long_name'] = 'x-coordinate in projected coordinate system'\n",
    "\n",
    "ds.y.attrs['axis'] = 'Y'  # Optional\n",
    "ds.y.attrs['standard_name'] = 'projection_y_coordinate'\n",
    "ds.y.attrs['long_name'] = 'y-coordinate in projected coordinate system'"
   ]
  },
  {
   "cell_type": "markdown",
   "id": "bce45e18-54dc-4704-b043-41979846866f",
   "metadata": {},
   "source": [
    "We also define a coordinate variable `pressure` to reference our data in the vertical dimension. The `standard_name` of `'air_pressure'` is sufficient to identify this coordinate variable as the vertical axis, but let's go ahead and specify the `axis` as well. We also specify the attribute `positive` to indicate whether the variable increases when going up or down. In the case of pressure, this is technically optional."
   ]
  },
  {
   "cell_type": "code",
   "execution_count": null,
   "id": "4e7ebe77-00df-463a-a927-4db5ddb9c278",
   "metadata": {},
   "outputs": [],
   "source": [
    "ds.pressure.attrs['axis'] = 'Z'  # Optional\n",
    "ds.pressure.attrs['standard_name'] = 'air_pressure'\n",
    "ds.pressure.attrs['positive'] = 'down'  # Optional"
   ]
  },
  {
   "cell_type": "code",
   "execution_count": null,
   "id": "062cb0b6-1f7d-46da-adf4-18cf151728ec",
   "metadata": {},
   "outputs": [],
   "source": [
    "ds.forecast_time['axis'] = 'T'  # Optional\n",
    "ds.forecast_time['standard_name'] = 'time'  # Optional\n",
    "ds.forecast_time['long_name'] = 'time'"
   ]
  },
  {
   "cell_type": "markdown",
   "id": "405e0e5e-1e76-4331-ab34-26a17af2edd7",
   "metadata": {},
   "source": [
    "### Auxilliary Coordinates"
   ]
  },
  {
   "cell_type": "markdown",
   "id": "473b4ea3-1754-4d5d-bc9f-3ce11cc41a4b",
   "metadata": {},
   "source": [
    "Our data are still not CF-compliant because they do not contain latitude and longitude information, which is needed to properly locate the data. To solve this, we need to add variables with latitude and longitude. These are called \"auxillary coordinate variables\", not because they are extra, but because they are not simple one dimensional variables.\n",
    "\n",
    "Below, we first generate longitude and latitude values from our projected coordinates using the `pyproj` library."
   ]
  },
  {
   "cell_type": "code",
   "execution_count": null,
   "id": "8e4ae6fe-e1d5-467f-bdca-f2becf562a12",
   "metadata": {},
   "outputs": [],
   "source": [
    "from pyproj import Proj\n",
    "\n",
    "X, Y = np.meshgrid(x, y)\n",
    "lcc = Proj({'proj': 'lcc', 'lon_0': -105, 'lat_0': 40, 'a': 6371000.0, 'lat_1': 25})\n",
    "lon, lat = lcc(X * 1000, Y * 1000, inverse=True)"
   ]
  },
  {
   "cell_type": "markdown",
   "id": "13a22c15-34e8-4dd3-8c15-bc7aa6b71f6d",
   "metadata": {},
   "source": [
    "Now we can create the needed variables. Both are dimensioned on `y` and `x` and are two-dimensional. The longitude variable is identified as actually containing such information by its required units of `'degrees_east'`, as well as the optional `'longitude'` `standard_name` attribute. The case is the same for latitude, except the units are `'degrees_north'` and the `standard_name` is `'latitude'`."
   ]
  },
  {
   "cell_type": "code",
   "execution_count": null,
   "id": "c1789009-cc63-4ae0-9ec7-445fe2c76afb",
   "metadata": {},
   "outputs": [],
   "source": [
    "ds = ds.assign_coords(lon=(['y', 'x'], lon))\n",
    "ds = ds.assign_coords(lat=(['y', 'x'], lat))\n",
    "ds"
   ]
  },
  {
   "cell_type": "code",
   "execution_count": null,
   "id": "09403fc0-9dfa-49de-85e1-ea282dadf85d",
   "metadata": {},
   "outputs": [],
   "source": [
    "ds.lon.attrs['units'] = 'degrees_east'\n",
    "ds.lon.attrs['standard_name'] = 'longitude'  # Optional\n",
    "ds.lon.attrs['long_name'] = 'longitude'\n",
    "\n",
    "ds.lat.attrs['units'] = 'degrees_north'\n",
    "ds.lat.attrs['standard_name'] = 'latitude'  # Optional\n",
    "ds.lat.attrs['long_name'] = 'latitude'"
   ]
  },
  {
   "cell_type": "markdown",
   "id": "dc13dd93-53e0-4f25-81df-8d9d2fbbd67d",
   "metadata": {},
   "source": [
    "With the variables created, we identify these variables as containing coordinates for the `Temperature` variable by setting the `coordinates` value to a space-separated list of the names of the auxilliary coordinate variables:"
   ]
  },
  {
   "cell_type": "code",
   "execution_count": null,
   "id": "3ae0ebf1-84d3-48ac-a6e5-fdbe90b3de07",
   "metadata": {},
   "outputs": [],
   "source": [
    "ds"
   ]
  },
  {
   "cell_type": "markdown",
   "id": "707029ae-c3a3-4112-8a37-3081c334764b",
   "metadata": {},
   "source": [
    "### Coordinate System Information"
   ]
  },
  {
   "cell_type": "markdown",
   "id": "e3cc5520-ff49-47b9-9225-f59b34199d13",
   "metadata": {},
   "source": [
    "With our data specified on a Lambert conformal projected grid, it would be good to include this information in our metadata. We can do this using a \"grid mapping\" variable. This uses a dummy scalar variable as a namespace for holding all of the required information. Relevant variables then reference the dummy variable with their `grid_mapping` attribute.\n",
    "\n",
    "Below we create a variable and set it up for a Lambert conformal conic projection on a spherical earth. The `grid_mapping_name` attribute describes which of the CF-supported grid mappings we are specifying. The names of additional attributes vary between the mappings."
   ]
  },
  {
   "cell_type": "code",
   "execution_count": null,
   "id": "99f3a5fb-9eb1-44ef-a3ce-9fdc2426e392",
   "metadata": {},
   "outputs": [],
   "source": [
    "ds['lambert_projection'] = int()\n",
    "ds.lambert_projection.attrs['grid_mapping_name'] = 'lambert_conformal_conic'\n",
    "ds.lambert_projection.attrs['standard_parallel'] = 25.0\n",
    "ds.lambert_projection.attrs['latitude_of_projection_origin'] = 40.0\n",
    "ds.lambert_projection.attrs['longitude_of_central_meridian'] = -105.0\n",
    "ds.lambert_projection.attrs['semi_major_axis'] = 6371000.0\n",
    "ds.lambert_projection"
   ]
  },
  {
   "cell_type": "markdown",
   "id": "31e6165d-7ee0-41cb-87bc-3538b4847fe6",
   "metadata": {},
   "source": [
    "Now that we created the variable, all that's left is to set the `grid_mapping` attribute on our `Temperature` variable to the name of our dummy variable:"
   ]
  },
  {
   "cell_type": "code",
   "execution_count": null,
   "id": "11c0ba6e-e21b-4ba1-ac4b-8ecf380803d9",
   "metadata": {},
   "outputs": [],
   "source": [
    "ds.temperature.attrs['grid_mapping'] = 'lambert_projection'  # or proj_var.name\n",
    "ds"
   ]
  },
  {
   "cell_type": "markdown",
   "id": "4358f871-3e77-4786-b6d1-b4173af0a35e",
   "metadata": {},
   "source": [
    "### Write to NetCDF"
   ]
  },
  {
   "cell_type": "markdown",
   "id": "263e3978-d8f5-409c-8d12-2273bbba4df1",
   "metadata": {},
   "source": [
    "Xarray has built-in support for a few flavors of netCDF. Here we'll write a netCDF4 file from our Dataset."
   ]
  },
  {
   "cell_type": "code",
   "execution_count": null,
   "id": "a37d473a-2ae0-42e8-9707-30fc64c8d794",
   "metadata": {},
   "outputs": [],
   "source": [
    "ds.to_netcdf('test_netcdf.nc', format='NETCDF4')"
   ]
  },
  {
   "cell_type": "code",
   "execution_count": null,
   "id": "5ab005c8-9297-4fee-8571-dcfc9c90bd2d",
   "metadata": {
    "jupyter": {
     "source_hidden": true
    },
    "tags": []
   },
   "outputs": [],
   "source": [
    "!ncdump -h test_netcdf.nc"
   ]
  }
 ],
 "metadata": {
  "kernelspec": {
   "display_name": "Python 3",
   "language": "python",
   "name": "python3"
  },
  "language_info": {
   "codemirror_mode": {
    "name": "ipython",
    "version": 3
   },
   "file_extension": ".py",
   "mimetype": "text/x-python",
   "name": "python",
   "nbconvert_exporter": "python",
   "pygments_lexer": "ipython3",
   "version": "3.8.10"
  }
 },
 "nbformat": 4,
 "nbformat_minor": 5
}
