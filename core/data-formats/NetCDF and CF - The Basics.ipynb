{
 "cells": [
  {
   "cell_type": "markdown",
   "metadata": {},
   "source": [
    "<div style=\"width:1000 px\">\n",
    "\n",
    "<div style=\"float:left; width:98 px; height:98px;\">\n",
    "<img src=\"https://www.unidata.ucar.edu/images/logos/netcdf-150x150.png\" alt=\"netCDF Logo\" style=\"height: 98px;\">\n",
    "</div>\n",
    "\n",
    "<div style=\"float:right; width:98 px; height:98px;\">\n",
    "<img src=\"https://raw.githubusercontent.com/Unidata/MetPy/master/src/metpy/plots/_static/unidata_150x150.png\" alt=\"Unidata Logo\" style=\"height: 98px;\">\n",
    "</div>\n",
    "\n",
    "<div style=\"text-align:center;\">\n",
    "<h1>NetCDF and CF: The Basics</h1>\n",
    "</div>\n",
    "\n",
    "<div style=\"clear:both\"></div>\n",
    "</div>\n",
    "\n",
    "<hr style=\"height:2px;\">\n",
    "\n",
    "### Overview\n",
    "\n",
    "This workshop will teach some of the basics of Climate and Forecasting metadata for netCDF data files with some hands-on work available in Jupyter Notebooks using Python. Along with introduction to netCDF and CF, we will introduce the CF data model and discuss some netCDF implementation details to consider when deciding how to write data with CF and netCDF. We will cover gridded data as well as in situ data (stations, soundings, etc.) and touch on storing geometries data in CF.\n",
    "\n",
    "This assumes a basic understanding of netCDF.\n",
    "\n",
    "### Outline\n",
    "1. <a href=\"#gridded\">Gridded Data</a>\n",
    "1. <a href=\"#obs\">Observation Data</a>\n",
    "1. <a href=\"#exercises\">Exercises</a>\n",
    "1. <a href=\"#references\">References</a>"
   ]
  },
  {
   "cell_type": "markdown",
   "metadata": {},
   "source": [
    "<a name=\"gridded\"></a>\n",
    "## Gridded Data\n",
    "Let's say we're working with some numerical weather forecast model output. Let's walk through the steps necessary to store this data in netCDF, using the Climate and Forecasting metadata conventions to ensure that our data are available to as many tools as possible.\n",
    "\n",
    "To start, let's assume the following about our data:\n",
    "* It corresponds to forecast three dimensional temperature at several times\n",
    "* The native coordinate system of the model is on a regular grid that represents the Earth on a Lambert conformal projection.\n",
    "\n",
    "We'll also go ahead and generate some arrays of data below to get started:"
   ]
  },
  {
   "cell_type": "code",
   "execution_count": null,
   "metadata": {},
   "outputs": [],
   "source": [
    "# Import some useful Python tools\n",
    "from datetime import datetime, timedelta\n",
    "\n",
    "import numpy as np\n",
    "\n",
    "# Twelve hours of hourly output starting at 22Z today\n",
    "start = datetime.utcnow().replace(hour=22, minute=0, second=0, microsecond=0)\n",
    "times = np.array([start + timedelta(hours=h) for h in range(13)])\n",
    "\n",
    "# 3km spacing in x and y\n",
    "x = np.arange(-150, 153, 3)\n",
    "y = np.arange(-100, 100, 3)\n",
    "\n",
    "# Standard pressure levels in hPa\n",
    "press = np.array([1000, 925, 850, 700, 500, 300, 250])\n",
    "\n",
    "temps = np.random.randn(times.size, press.size, y.size, x.size)"
   ]
  },
  {
   "cell_type": "markdown",
   "metadata": {},
   "source": [
    "### Creating the file and dimensions\n",
    "\n",
    "The first step is to create a new file and set up the shared dimensions we'll be using in the file. We'll be using the netCDF4-python library to do all of the requisite netCDF API calls."
   ]
  },
  {
   "cell_type": "code",
   "execution_count": null,
   "metadata": {},
   "outputs": [],
   "source": [
    "from netCDF4 import Dataset\n",
    "nc = Dataset('forecast_model.nc', 'w', format='NETCDF4_CLASSIC', diskless=True)"
   ]
  },
  {
   "cell_type": "markdown",
   "metadata": {},
   "source": [
    "We're going to start by adding some global attribute metadata. These are recommendations from the standard (not required), but they're easy to add and help users keep the data straight, so let's go ahead and do it."
   ]
  },
  {
   "cell_type": "code",
   "execution_count": null,
   "metadata": {},
   "outputs": [],
   "source": [
    "nc.Conventions = 'CF-1.7'\n",
    "nc.title = 'Forecast model run'\n",
    "nc.institution = 'Unidata'\n",
    "nc.source = 'WRF-1.5'\n",
    "nc.history = str(datetime.utcnow()) + ' Python'\n",
    "nc.references = ''\n",
    "nc.comment = ''"
   ]
  },
  {
   "cell_type": "markdown",
   "metadata": {},
   "source": [
    "At this point, this is the CDL representation of this dataset:\n",
    "```\n",
    "netcdf forecast_model {\n",
    "  attributes:\n",
    "    :Conventions = \"CF-1.7\" ;\n",
    "    :title = \"Forecast model run\" ;\n",
    "    :institution = \"Unidata\" ;\n",
    "    :source = \"WRF-1.5\" ;\n",
    "    :history = \"2019-07-16 02:21:52.005718 Python\" ;\n",
    "    :references = \"\" ;\n",
    "    :comment = \"\" ;\n",
    "}\n",
    "```"
   ]
  },
  {
   "cell_type": "markdown",
   "metadata": {},
   "source": [
    "Next, before adding variables to the file to define each of the data fields in this file, we need to define the dimensions that exist in this data set. We set each of `x`, `y`, and `pressure` to the size of the corresponding array. We set `forecast_time` to be an \"unlimited\" dimension, which allows the dataset to grow along that dimension if we write additional data to it later."
   ]
  },
  {
   "cell_type": "code",
   "execution_count": null,
   "metadata": {},
   "outputs": [],
   "source": [
    "nc.createDimension('forecast_time', None)\n",
    "nc.createDimension('x', x.size)\n",
    "nc.createDimension('y', y.size)\n",
    "nc.createDimension('pressure', press.size)\n",
    "nc"
   ]
  },
  {
   "cell_type": "markdown",
   "metadata": {},
   "source": [
    "The CDL representation now shows our dimensions:\n",
    "```\n",
    "netcdf forecast_model {\n",
    "  dimensions:\n",
    "    forecast_time = UNLIMITED (currently 13) ;\n",
    "    x = 101 ;\n",
    "    y = 67 ;\n",
    "    pressure = 7 ;\n",
    "  attributes:\n",
    "    :Conventions = \"CF-1.7\" ;\n",
    "    :title = \"Forecast model run\" ;\n",
    "    :institution = \"Unidata\" ;\n",
    "    :source = \"WRF-1.5\" ;\n",
    "    :history = \"2019-07-16 02:21:52.005718 Python\" ;\n",
    "    :references = \"\" ;\n",
    "    :comment = \"\" ;\n",
    "}\n",
    "```"
   ]
  },
  {
   "cell_type": "markdown",
   "metadata": {},
   "source": [
    "### Creating and filling a variable"
   ]
  },
  {
   "cell_type": "markdown",
   "metadata": {},
   "source": [
    "So far, all we've done is outlined basic information about our dataset: broad metadata and the dimensions of our dataset. Now we create a variable to hold one particular data field for our dataset, in this case the forecast air temperature. When defining this variable, we specify the datatype for the values being stored, the relevant dimensions, as well as enable optional compression."
   ]
  },
  {
   "cell_type": "code",
   "execution_count": null,
   "metadata": {},
   "outputs": [],
   "source": [
    "temps_var = nc.createVariable('Temperature', datatype=np.float32,\n",
    "                              dimensions=('forecast_time', 'pressure', 'y', 'x'),\n",
    "                              zlib=True)"
   ]
  },
  {
   "cell_type": "markdown",
   "metadata": {},
   "source": [
    "Now that we have the variable, we tell python to write our array of data to it."
   ]
  },
  {
   "cell_type": "code",
   "execution_count": null,
   "metadata": {},
   "outputs": [],
   "source": [
    "temps_var[:] = temps\n",
    "temps_var"
   ]
  },
  {
   "cell_type": "markdown",
   "metadata": {},
   "source": [
    "If instead we wanted to write data sporadically, like once per time step, we could do that instead (though the for loop below might actually be at a higher level in the program:"
   ]
  },
  {
   "cell_type": "code",
   "execution_count": null,
   "metadata": {},
   "outputs": [],
   "source": [
    "next_slice = 0\n",
    "for temp_slice in temps:\n",
    "    temps_var[next_slice] = temp_slice\n",
    "    next_slice += 1"
   ]
  },
  {
   "cell_type": "markdown",
   "metadata": {},
   "source": [
    "At this point, this is the CDL representation of our dataset:\n",
    "```\n",
    "netcdf forecast_model {\n",
    "  dimensions:\n",
    "    forecast_time = UNLIMITED (currently 13) ;\n",
    "    x = 101 ;\n",
    "    y = 67 ;\n",
    "    pressure = 7 ;\n",
    "  variables:\n",
    "    float Temperature(forecast_time, pressure, y, x) ;\n",
    "  attributes:\n",
    "    :Conventions = \"CF-1.7\" ;\n",
    "    :title = \"Forecast model run\" ;\n",
    "    :institution = \"Unidata\" ;\n",
    "    :source = \"WRF-1.5\" ;\n",
    "    :history = \"2019-07-16 02:21:52.005718 Python\" ;\n",
    "    :references = \"\" ;\n",
    "    :comment = \"\" ;\n",
    "}\n",
    "```\n",
    "We can also add attributes to this variable to define metadata. The CF conventions require a `units` attribute to be set for all variables that represent a dimensional quantity. The value of this attribute needs to be parsable by the UDUNITS library. Here we set it to a value of `'Kelvin'`. We also set the standard (optional) attributes of `long_name` and `standard_name`. The former contains a longer description of the variable, while the latter comes from a controlled vocabulary in the CF conventions. This allows users of data to understand, in a standard fashion, what a variable represents. If we had missing values, we could also set the `missing_value` attribute to an appropriate value."
   ]
  },
  {
   "cell_type": "markdown",
   "metadata": {},
   "source": [
    "> **NASA Dataset Interoperability Recommendations:**\n",
    ">\n",
    "> Section 2.2 - Include Basic CF Attributes\n",
    ">\n",
    "> Include where applicable: `units`, `long_name`, `standard_name`, `valid_min` / `valid_max`, `scale_factor` / `add_offset` and others."
   ]
  },
  {
   "cell_type": "code",
   "execution_count": null,
   "metadata": {},
   "outputs": [],
   "source": [
    "temps_var.units = 'Kelvin'\n",
    "temps_var.standard_name = 'air_temperature'\n",
    "temps_var.long_name = 'Forecast air temperature'\n",
    "temps_var.missing_value = -9999\n",
    "temps_var"
   ]
  },
  {
   "cell_type": "markdown",
   "metadata": {},
   "source": [
    "The resulting CDL (truncated to the variables only) looks like:\n",
    "```\n",
    "  variables:\n",
    "    float Temperature(forecast_time, pressure, y, x) ;\n",
    "      Temperature:units = \"Kelvin\" ;\n",
    "      Temperature:standard_name = \"air_temperature\" ;\n",
    "      Temperature:long_name = \"Forecast air temperature\" ;\n",
    "      Temperature:missing_value = -9999.0 ;\n",
    "```"
   ]
  },
  {
   "cell_type": "markdown",
   "metadata": {},
   "source": [
    "### Coordinate variables"
   ]
  },
  {
   "cell_type": "markdown",
   "metadata": {},
   "source": [
    "To properly orient our data in time and space, we need to go beyond dimensions (which define common sizes and alignment) and include values along these dimensions, which are called \"Coordinate Variables\". Generally, these are defined by creating a one dimensional variable with the same name as the respective dimension.\n",
    "\n",
    "To start, we define variables which define our `x` and `y` coordinate values. These variables include `standard_name`s which allow associating them with projections (more on this later) as well as an optional `axis` attribute to make clear what standard direction this coordinate refers to."
   ]
  },
  {
   "cell_type": "code",
   "execution_count": null,
   "metadata": {},
   "outputs": [],
   "source": [
    "x_var = nc.createVariable('x', np.float32, ('x',))\n",
    "x_var[:] = x\n",
    "x_var.units = 'km'\n",
    "x_var.axis = 'X' # Optional\n",
    "x_var.standard_name = 'projection_x_coordinate'\n",
    "x_var.long_name = 'x-coordinate in projected coordinate system'\n",
    "\n",
    "y_var = nc.createVariable('y', np.float32, ('y',))\n",
    "y_var[:] = y\n",
    "y_var.units = 'km'\n",
    "y_var.axis = 'Y' # Optional\n",
    "y_var.standard_name = 'projection_y_coordinate'\n",
    "y_var.long_name = 'y-coordinate in projected coordinate system'"
   ]
  },
  {
   "cell_type": "markdown",
   "metadata": {},
   "source": [
    "We also define a coordinate variable `pressure` to reference our data in the vertical dimension. The `standard_name` of `'air_pressure'` is sufficient to identify this coordinate variable as the vertical axis, but let's go ahead and specify the `axis` as well. We also specify the attribute `positive` to indicate whether the variable increases when going up or down. In the case of pressure, this is technically optional."
   ]
  },
  {
   "cell_type": "code",
   "execution_count": null,
   "metadata": {},
   "outputs": [],
   "source": [
    "press_var = nc.createVariable('pressure', np.float32, ('pressure',))\n",
    "press_var[:] = press\n",
    "press_var.units = 'hPa'\n",
    "press_var.axis = 'Z'  # Optional\n",
    "press_var.standard_name = 'air_pressure'\n",
    "press_var.positive = 'down'  # Optional"
   ]
  },
  {
   "cell_type": "markdown",
   "metadata": {},
   "source": [
    "Time coordinates must contain a `units` attribute with a string value with a form similar to `'seconds since 2019-01-06 12:00:00.00'`. 'seconds', 'minutes', 'hours', and 'days' are the most commonly used units for time. Due to the variable length of months and years, they are not recommended.\n",
    "\n",
    "Before we can write data, we need to first need to convert our list of Python `datetime` instances to numeric values. We can use the `cftime` library to make this easy to convert using the unit string as defined above."
   ]
  },
  {
   "cell_type": "code",
   "execution_count": null,
   "metadata": {},
   "outputs": [],
   "source": [
    "from cftime import date2num\n",
    "time_units = 'hours since {:%Y-%m-%d 00:00}'.format(times[0])\n",
    "time_vals = date2num(times, time_units)\n",
    "time_vals"
   ]
  },
  {
   "cell_type": "markdown",
   "metadata": {},
   "source": [
    "Now we can create the `forecast_time` variable just as we did before for the other coordinate variables:"
   ]
  },
  {
   "cell_type": "code",
   "execution_count": null,
   "metadata": {},
   "outputs": [],
   "source": [
    "time_var = nc.createVariable('forecast_time', np.int32, ('forecast_time',))\n",
    "time_var[:] = time_vals\n",
    "time_var.units = time_units\n",
    "time_var.axis = 'T'  # Optional\n",
    "time_var.standard_name = 'time'  # Optional\n",
    "time_var.long_name = 'time'"
   ]
  },
  {
   "cell_type": "markdown",
   "metadata": {},
   "source": [
    "The CDL representation of the variables now contains much more information:\n",
    "```\n",
    "  dimensions:\n",
    "    forecast_time = UNLIMITED (currently 13) ;\n",
    "    x = 101 ;\n",
    "    y = 67 ;\n",
    "    pressure = 7 ;\n",
    "  variables:\n",
    "    float x(x) ;\n",
    "      x:units = \"km\" ;\n",
    "      x:axis = \"X\" ;\n",
    "      x:standard_name = \"projection_x_coordinate\" ;\n",
    "      x:long_name = \"x-coordinate in projected coordinate system\" ;\n",
    "    float y(y) ;\n",
    "      y:units = \"km\" ;\n",
    "      y:axis = \"Y\" ;\n",
    "      y:standard_name = \"projection_y_coordinate\" ;\n",
    "      y:long_name = \"y-coordinate in projected coordinate system\" ;\n",
    "    float pressure(pressure) ;\n",
    "      pressure:units = \"hPa\" ;\n",
    "      pressure:axis = \"Z\" ;\n",
    "      pressure:standard_name = \"air_pressure\" ;\n",
    "      pressure:positive = \"down\" ;\n",
    "    float forecast_time(forecast_time) ;\n",
    "      forecast_time:units = \"hours since 2019-07-16 00:00\" ;\n",
    "      forecast_time:axis = \"T\" ;\n",
    "      forecast_time:standard_name = \"time\" ;\n",
    "      forecast_time:long_name = \"time\" ;\n",
    "    float Temperature(forecast_time, pressure, y, x) ;\n",
    "      Temperature:units = \"Kelvin\" ;\n",
    "      Temperature:standard_name = \"air_temperature\" ;\n",
    "      Temperature:long_name = \"Forecast air temperature\" ;\n",
    "      Temperature:missing_value = -9999.0 ;\n",
    "```"
   ]
  },
  {
   "cell_type": "markdown",
   "metadata": {},
   "source": [
    "### Auxilliary Coordinates"
   ]
  },
  {
   "cell_type": "markdown",
   "metadata": {},
   "source": [
    "Our data are still not CF-compliant because they do not contain latitude and longitude information, which is needed to properly locate the data. To solve this, we need to add variables with latitude and longitude. These are called \"auxillary coordinate variables\", not because they are extra, but because they are not simple one dimensional variables.\n",
    "\n",
    "Below, we first generate longitude and latitude values from our projected coordinates using the `pyproj` library."
   ]
  },
  {
   "cell_type": "code",
   "execution_count": null,
   "metadata": {},
   "outputs": [],
   "source": [
    "from pyproj import Proj\n",
    "X, Y = np.meshgrid(x, y)\n",
    "lcc = Proj({'proj':'lcc', 'lon_0':-105, 'lat_0':40, 'a':6371000.,\n",
    "            'lat_1':25})\n",
    "lon, lat = lcc(X * 1000, Y * 1000, inverse=True)"
   ]
  },
  {
   "cell_type": "markdown",
   "metadata": {},
   "source": [
    "Now we can create the needed variables. Both are dimensioned on `y` and `x` and are two-dimensional. The longitude variable is identified as actually containing such information by its required units of `'degrees_east'`, as well as the optional `'longitude'` `standard_name` attribute. The case is the same for latitude, except the units are `'degrees_north'` and the `standard_name` is `'latitude'`."
   ]
  },
  {
   "cell_type": "code",
   "execution_count": null,
   "metadata": {},
   "outputs": [],
   "source": [
    "lon_var = nc.createVariable('lon', np.float64, ('y', 'x'))\n",
    "lon_var[:] = lon\n",
    "lon_var.units = 'degrees_east'\n",
    "lon_var.standard_name = 'longitude'  # Optional\n",
    "lon_var.long_name = 'longitude'\n",
    "\n",
    "lat_var = nc.createVariable('lat', np.float64, ('y', 'x'))\n",
    "lat_var[:] = lat\n",
    "lat_var.units = 'degrees_north'\n",
    "lat_var.standard_name = 'latitude'  # Optional\n",
    "lat_var.long_name = 'latitude'"
   ]
  },
  {
   "cell_type": "markdown",
   "metadata": {},
   "source": [
    "With the variables created, we identify these variables as containing coordinates for the `Temperature` variable by setting the `coordinates` value to a space-separated list of the names of the auxilliary coordinate variables:"
   ]
  },
  {
   "cell_type": "code",
   "execution_count": null,
   "metadata": {},
   "outputs": [],
   "source": [
    "temps_var.coordinates = 'lon lat'"
   ]
  },
  {
   "cell_type": "markdown",
   "metadata": {},
   "source": [
    "This yields the following CDL:\n",
    "```\n",
    "  double lon(y, x);\n",
    "    lon:units = \"degrees_east\";\n",
    "    lon:long_name = \"longitude coordinate\";\n",
    "    lon:standard_name = \"longitude\";\n",
    "  double lat(y, x);\n",
    "    lat:units = \"degrees_north\";\n",
    "    lat:long_name = \"latitude coordinate\";\n",
    "    lat:standard_name = \"latitude\";\n",
    "  float Temperature(time, y, x);\n",
    "    Temperature:units = \"Kelvin\" ;\n",
    "    Temperature:standard_name = \"air_temperature\" ;\n",
    "    Temperature:long_name = \"Forecast air temperature\" ;\n",
    "    Temperature:missing_value = -9999.0 ;\n",
    "    Temperature:coordinates = \"lon lat\";\n",
    "```"
   ]
  },
  {
   "cell_type": "markdown",
   "metadata": {},
   "source": [
    "### Coordinate System Information"
   ]
  },
  {
   "cell_type": "markdown",
   "metadata": {},
   "source": [
    "With our data specified on a Lambert conformal projected grid, it would be good to include this information in our metadata. We can do this using a \"grid mapping\" variable. This uses a dummy scalar variable as a namespace for holding all of the required information. Relevant variables then reference the dummy variable with their `grid_mapping` attribute.\n",
    "\n",
    "Below we create a variable and set it up for a Lambert conformal conic projection on a spherical earth. The `grid_mapping_name` attribute describes which of the CF-supported grid mappings we are specifying. The names of additional attributes vary between the mappings."
   ]
  },
  {
   "cell_type": "code",
   "execution_count": null,
   "metadata": {},
   "outputs": [],
   "source": [
    "proj_var = nc.createVariable('lambert_projection', np.int32, ())\n",
    "proj_var.grid_mapping_name = 'lambert_conformal_conic'\n",
    "proj_var.standard_parallel = 25.\n",
    "proj_var.latitude_of_projection_origin = 40.\n",
    "proj_var.longitude_of_central_meridian = -105.\n",
    "proj_var.semi_major_axis = 6371000.0\n",
    "proj_var"
   ]
  },
  {
   "cell_type": "markdown",
   "metadata": {},
   "source": [
    "Now that we created the variable, all that's left is to set the `grid_mapping` attribute on our `Temperature` variable to the name of our dummy variable:"
   ]
  },
  {
   "cell_type": "code",
   "execution_count": null,
   "metadata": {},
   "outputs": [],
   "source": [
    "temps_var.grid_mapping = 'lambert_projection'  # or proj_var.name"
   ]
  },
  {
   "cell_type": "markdown",
   "metadata": {},
   "source": [
    "This yields the CDL:\n",
    "```\n",
    "  variables:\n",
    "    int lambert_projection ;\n",
    "      lambert_projection:grid_mapping_name = \"lambert_conformal_conic ;\n",
    "      lambert_projection:standard_parallel = 25.0 ;\n",
    "      lambert_projection:latitude_of_projection_origin = 40.0 ;\n",
    "      lambert_projection:longitude_of_central_meridian = -105.0 ;\n",
    "      lambert_projection:semi_major_axis = 6371000.0 ;\n",
    "    float Temperature(forecast_time, pressure, y, x) ;\n",
    "      Temperature:units = \"Kelvin\" ;\n",
    "      Temperature:standard_name = \"air_temperature\" ;\n",
    "      Temperature:long_name = \"Forecast air temperature\" ;\n",
    "      Temperature:missing_value = -9999.0 ;\n",
    "      Temperature:coordinates = \"lon lat\" ;\n",
    "      Temperature:grid_mapping = \"lambert_projection\" ;\n",
    "```"
   ]
  },
  {
   "cell_type": "markdown",
   "metadata": {},
   "source": [
    "### Cell Bounds\n",
    "\n",
    "> **NASA Dataset Interoperability Recommendations:**\n",
    ">\n",
    "> Section 2.3 - Use CF “bounds” attributes\n",
    ">\n",
    "> CF conventions state: “When gridded data does not represent the point values of a field but instead represents some characteristic of the field within cells of finite ‘volume,’ a complete description of the variable should include metadata that describes the domain or extent of each cell, and the characteristic of the field that the cell values represent.”\n",
    "\n",
    "For example, if a rain guage is read every 3 hours but only dumped every six hours, it might look like this\n",
    "  \n",
    "```\n",
    "netcdf precip_bucket_bounds {\n",
    "  dimensions:\n",
    "      lat = 12 ;\n",
    "      lon = 19 ;\n",
    "      time = 8 ;\n",
    "      tbv = 2;\n",
    "  variables:\n",
    "      float lat(lat) ;\n",
    "      float lon(lon) ;\n",
    "      float time(time) ;\n",
    "        time:units = \"hours since 2019-07-12 00:00:00.00\";\n",
    "        time:bounds = \"time_bounds\" ;\n",
    "      float time_bounds(time,tbv)\n",
    "      float precip(time, lat, lon) ;\n",
    "        precip:units = \"inches\" ;\n",
    "  data:\n",
    "    time = 3, 6, 9, 12, 15, 18, 21, 24;\n",
    "    time_bounds = 0, 3, 0, 6, 6, 9, 6, 12, 12, 15, 12, 18, 18, 21, 18, 24;\n",
    "}\n",
    "```\n",
    "\n",
    "So the time coordinate looks like\n",
    "```\n",
    "|---X\n",
    "|-------X\n",
    "        |---X\n",
    "        |-------X\n",
    "                |---X\n",
    "                |-------X\n",
    "                        |---X\n",
    "                        |-------X\n",
    "0   3   6   9  12  15  18  21  24\n",
    "```"
   ]
  },
  {
   "cell_type": "markdown",
   "metadata": {},
   "source": [
    "<a name=\"obs\"></a>\n",
    "## Observational Data\n",
    "\n",
    "So far we've focused on how to handle storing data that are arranged in a grid. What about observation data? The CF conventions describe this as conventions for Discrete Sampling Geometeries (DSG).\n",
    "\n",
    "For data that are regularly sampled (say, all at the same heights) this is straightforward. First, let's define some sample profile data, all at a few heights less than 1000m:"
   ]
  },
  {
   "cell_type": "code",
   "execution_count": null,
   "metadata": {},
   "outputs": [],
   "source": [
    "lons = np.array([-97.1, -105, -80])\n",
    "lats = np.array([35.25, 40, 27])\n",
    "heights = np.linspace(10, 1000, 10)\n",
    "temps = np.random.randn(lats.size, heights.size)\n",
    "stids = ['KBOU', 'KOUN', 'KJUP']"
   ]
  },
  {
   "cell_type": "markdown",
   "metadata": {},
   "source": [
    "### Creation and basic setup\n",
    "First we create a new file and define some dimensions. Since this is profile data, heights will be one dimension. We use station as our other dimension. We also set the global `featureType` attribute to `'profile'` to indicate that this file holds \"an ordered set of data points along a vertical line at a fixed horizontal position and fixed time\". We also add a dimension to assist in storing our string station ids."
   ]
  },
  {
   "cell_type": "code",
   "execution_count": null,
   "metadata": {},
   "outputs": [],
   "source": [
    "nc.close()\n",
    "nc = Dataset('obs_data.nc', 'w', format='NETCDF4_CLASSIC', diskless=True)\n",
    "nc.createDimension('station', lats.size)\n",
    "nc.createDimension('heights', heights.size)\n",
    "nc.createDimension('str_len', 4)\n",
    "nc.Conventions = 'CF-1.7'\n",
    "nc.featureType = 'profile'\n",
    "nc"
   ]
  },
  {
   "cell_type": "markdown",
   "metadata": {},
   "source": [
    "Which gives this CDL:\n",
    "```\n",
    "netcdf obs_data {\n",
    "  dimensions:\n",
    "    station = 3 ;\n",
    "    heights = 10 ;\n",
    "    str_len = 4 ;\n",
    "  attributes:\n",
    "    :Conventions = \"CF-1.7\" ;\n",
    "    :featureType = \"profile\" ;\n",
    "}\n",
    "```\n",
    "We can create our coordinates with:"
   ]
  },
  {
   "cell_type": "code",
   "execution_count": null,
   "metadata": {},
   "outputs": [],
   "source": [
    "lon_var = nc.createVariable('lon', np.float64, ('station',))\n",
    "lon_var.units = 'degrees_east'\n",
    "lon_var.standard_name = 'longitude'\n",
    "\n",
    "lat_var = nc.createVariable('lat', np.float64, ('station',))\n",
    "lat_var.units = 'degrees_north'\n",
    "lat_var.standard_name = 'latitude'"
   ]
  },
  {
   "cell_type": "markdown",
   "metadata": {},
   "source": [
    "The standard refers to these as \"instance variables\" because each one refers to an instance of a feature. From here we can create our `height` coordinate variable:"
   ]
  },
  {
   "cell_type": "code",
   "execution_count": null,
   "metadata": {},
   "outputs": [],
   "source": [
    "heights_var = nc.createVariable('heights', np.float32, ('heights',))\n",
    "heights_var.units = 'meters'\n",
    "heights_var.standard_name = 'altitude'\n",
    "heights_var.positive = 'up'\n",
    "heights_var[:] = heights"
   ]
  },
  {
   "cell_type": "markdown",
   "metadata": {},
   "source": [
    "### Station IDs\n",
    "Now we can also write our station IDs to a variable. This is a 2D variable, but one of the dimensions is simply there to facilitate treating strings as character arrays. We also assign this an attribute `cf_role` with a value of `'profile_id'` to facilitate software to identify individual profiles:"
   ]
  },
  {
   "cell_type": "code",
   "execution_count": null,
   "metadata": {},
   "outputs": [],
   "source": [
    "stid_var = nc.createVariable('stid', 'c', ('station', 'str_len'))\n",
    "stid_var.cf_role = 'profile_id'\n",
    "stid_var.long_name = 'Station identifier'\n",
    "stid_var[:] = stids"
   ]
  },
  {
   "cell_type": "markdown",
   "metadata": {},
   "source": [
    "Now our CDL looks like:\n",
    "```\n",
    "netcdf obs_data {\n",
    "  dimensions:\n",
    "    station = 3 ;\n",
    "    heights = 10 ;\n",
    "    str_len = 4 ;\n",
    "  variables:\n",
    "    double lon(station) ;\n",
    "      lon:units = \"degrees_east\" ;\n",
    "      lon:standard_name = \"longitude\" ;\n",
    "    double lat(station) ;\n",
    "      lat:units = \"degrees_north\" ;\n",
    "      lat:standard_name = \"latitude\" ;\n",
    "    float heights(heights) ;\n",
    "      heights:units = \"meters\" ;\n",
    "      heights:standard_name = \"altitude\";\n",
    "      heights:positive = \"up\" ;\n",
    "    char stid(station, str_len) ;\n",
    "      stid:cf_role = \"profile_id\" ;\n",
    "      stid:long_name = \"Station identifier\" ;\n",
    "  attributes:\n",
    "    :Conventions = \"CF-1.7\" ;\n",
    "    :featureType = \"profile\" ;\n",
    "}\n",
    "```"
   ]
  },
  {
   "cell_type": "markdown",
   "metadata": {},
   "source": [
    "### Writing the field\n",
    "Now all that's left is to write our profile data, which looks fairly standard. We also add a scalar variable for the time at which these profiles were captured:"
   ]
  },
  {
   "cell_type": "code",
   "execution_count": null,
   "metadata": {},
   "outputs": [],
   "source": [
    "time_var = nc.createVariable('time', np.float32, ())\n",
    "time_var.units = 'minutes since 2019-07-16 17:00'\n",
    "time_var.standard_name = 'time'\n",
    "time_var[:] = [5.]\n",
    "\n",
    "temp_var = nc.createVariable('temperature', np.float32, ('station', 'heights'))\n",
    "temp_var.units = 'celsius'\n",
    "temp_var.standard_name = 'air_temperature'\n",
    "temp_var.coordinates = 'lon lat heights time'"
   ]
  },
  {
   "cell_type": "markdown",
   "metadata": {},
   "source": [
    "Note the use of the `coordinates` attribute to store the names of the auxilliary coordinate variables since they're all dimensioned on `station` and not proper coordinate variables. This yields the CDL for the variables:\n",
    "```\n",
    "  variables:\n",
    "    double lon(station) ;\n",
    "      lon:units = \"degrees_east\" ;\n",
    "      lon:standard_name = \"longitude\" ;\n",
    "    double lat(station) ;\n",
    "      lat:units = \"degrees_north\" ;\n",
    "      lat:standard_name = \"latitude\" ;\n",
    "    float heights(heights) ;\n",
    "      heights:units = \"meters\" ;\n",
    "      heights:standard_name = \"altitude\";\n",
    "      heights:positive = \"up\" ;\n",
    "    char stid(station, str_len) ;\n",
    "      stid:cf_role = \"profile_id\" ;\n",
    "      stid:long_name = \"Station identifier\" ;\n",
    "    float time ;\n",
    "      time:units = \"minutes since 2019-07-16 17:00\" ;\n",
    "      time:standard_name = \"time\" ;\n",
    "    float temperature(station, heights) ;\n",
    "      temperature:units = \"celsius\" ;\n",
    "      temperature:standard_name = \"air_temperature\" ;\n",
    "      temperature:coordinates = \"lon lat heights time\" ;\n",
    "```\n",
    "\n",
    "These standards for storing DSG extend to time series, trajectories, and combinations of them. They also can extend for differing amounts of data  per feature using ragged arrays. For more information see the [main document](http://cfconventions.org/Data/cf-conventions/cf-conventions-1.7/cf-conventions.html#discrete-sampling-geometries) or the [annotated DSG examples](http://cfconventions.org/Data/cf-conventions/cf-conventions-1.7/cf-conventions.html#appendix-examples-discrete-geometries)."
   ]
  },
  {
   "cell_type": "markdown",
   "metadata": {},
   "source": [
    "<a name=\"exercises\"></a>\n",
    "<div class=\"alert alert-success\">\n",
    "    <b>EXERCISE</b>:\n",
    "     <ul>\n",
    "         <li>Create another 3D variable representing relative humidity.</li>\n",
    "         <li>Create another variable for surface precipitation.</li>\n",
    "    </ul>\n",
    "</div>"
   ]
  },
  {
   "cell_type": "code",
   "execution_count": null,
   "metadata": {},
   "outputs": [],
   "source": [
    "# YOUR CODE GOES HERE"
   ]
  },
  {
   "cell_type": "markdown",
   "metadata": {},
   "source": [
    "<a name=\"references\"></a>\n",
    "## References\n",
    "\n",
    "- See CF Conventions doc ([1.7](http://cfconventions.org/Data/cf-conventions/cf-conventions-1.7/cf-conventions.html))\n",
    "- See Jonathan Gregory's old [CF presentation](http://cfconventions.org/Data/cf-documents/overview/viewgraphs.pdf)\n",
    "- See [CF presentation](https://docs.google.com/presentation/d/1OImxWBNxyj-zdreIarH5GSIuDyREGB62rDah19g6M94/edit#) I gave at Oct 2018 nc training workshop\n",
    "- See  NASA ESDS “Dataset Interoperability Recommendations for Earth Science” ([web page](https://earthdata.nasa.gov/user-resources/standards-and-references/dataset-interoperability-recommendations-for-earth-science))\n",
    "- See CF Data Model (cfdm) python package [tutorial](https://ncas-cms.github.io/cfdm/tutorial.html)\n",
    "- See Tim Whiteaker's cfgeom python package (GitHub [repo](https://github.com/twhiteaker/CFGeom))([tutorial]( https://twhiteaker.github.io/CFGeom/tutorial.html))"
   ]
  }
 ],
 "metadata": {
  "kernelspec": {
   "display_name": "Python 3",
   "language": "python",
   "name": "python3"
  },
  "language_info": {
   "codemirror_mode": {
    "name": "ipython",
    "version": 3
   },
   "file_extension": ".py",
   "mimetype": "text/x-python",
   "name": "python",
   "nbconvert_exporter": "python",
   "pygments_lexer": "ipython3",
   "version": "3.7.6"
  }
 },
 "nbformat": 4,
 "nbformat_minor": 4
}
