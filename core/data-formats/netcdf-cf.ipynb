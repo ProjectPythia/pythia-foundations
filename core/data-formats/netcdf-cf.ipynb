{
 "cells": [
  {
   "cell_type": "markdown",
   "metadata": {},
   "source": [
    "![NetCDF Logo](https://www.unidata.ucar.edu/images/logos/netcdf-400x400.png \"NetCDF Logo\")"
   ]
  },
  {
   "cell_type": "markdown",
   "metadata": {},
   "source": [
    "# NetCDF and CF: The Basics\n",
    "---"
   ]
  },
  {
   "cell_type": "markdown",
   "metadata": {},
   "source": [
    "## Overview\n",
    "This tutorial will begin with an introduction to netCDF. The CF data model will then be covered, and finally, important implementation details for netCDF.  The structure of the tutorial is as follows:\n",
    "\n",
    "1. Demonstrating gridded data\n",
    "1. Demonstrating observational data"
   ]
  },
  {
   "cell_type": "markdown",
   "metadata": {
    "tags": []
   },
   "source": [
    "## Prerequisites\n",
    "\n",
    "| Concepts | Importance | Notes |\n",
    "| --- | --- | --- |\n",
    "| [Numpy Basics](../numpy/numpy-basics) | Necessary | |\n",
    "| [Datetime](../datetime) | Necessary | |\n",
    "\n",
    "- **Time to learn**: 50 minutes"
   ]
  },
  {
   "cell_type": "markdown",
   "metadata": {},
   "source": [
    "---"
   ]
  },
  {
   "cell_type": "markdown",
   "metadata": {},
   "source": [
    "## Imports\n",
    "\n",
    "Some of these imports will be familiar from previous tutorials.  However, some of them likely look foreign; these will be covered in detail later in this tutorial."
   ]
  },
  {
   "cell_type": "code",
   "execution_count": null,
   "metadata": {},
   "outputs": [],
   "source": [
    "from datetime import datetime, timedelta\n",
    "\n",
    "import numpy as np\n",
    "from cftime import date2num\n",
    "from netCDF4 import Dataset\n",
    "from pyproj import Proj"
   ]
  },
  {
   "cell_type": "markdown",
   "metadata": {},
   "source": [
    "<a name=\"gridded\"></a>\n",
    "## Gridded Data"
   ]
  },
  {
   "cell_type": "markdown",
   "metadata": {},
   "source": [
    "Let's say we're working with some numerical weather forecast model output. First, we need to store the data in the netCDF format. Second, we need to ensure that the metadata follows the Climate and Forecasting conventions.  These steps ensure that a dataset is available to as many scientific data tools as is possible. The examples in this section illustrate these steps in detail.\n",
    "\n",
    "To start, let's assume the following about our data:\n",
    "* There are three spatial dimensions (`x`, `y`, and `press`) and one temporal dimension (`times`).\n",
    "* The native coordinate system of the model is on a regular 3km x 3km grid (`x` and `y`) that represents the Earth on a Lambert conformal projection.\n",
    "* The vertical dimension (`press`) consists of several discrete pressure levels in units of hPa.\n",
    "* The time dimension consists of twelve consecutive hours (`times`), beginning at 2200 UTC on the current day.\n",
    "\n",
    "The following code generates the dimensional arrays just discussed:"
   ]
  },
  {
   "cell_type": "code",
   "execution_count": null,
   "metadata": {},
   "outputs": [],
   "source": [
    "start = datetime.utcnow().replace(hour=22, minute=0, second=0, microsecond=0)\n",
    "times = np.array([start + timedelta(hours=h) for h in range(13)])\n",
    "\n",
    "x = np.arange(-150, 153, 3)\n",
    "y = np.arange(-100, 100, 3)\n",
    "\n",
    "press = np.array([1000, 925, 850, 700, 500, 300, 250])"
   ]
  },
  {
   "cell_type": "markdown",
   "metadata": {},
   "source": [
    "In addition to dimensional arrays, we also need a variable of interest, which holds the data values at each unique dimensional index. In these examples, this variable is called `temps`, and holds temperature data. Note that the dimensions correspond to the ones we just created above."
   ]
  },
  {
   "cell_type": "code",
   "execution_count": null,
   "metadata": {},
   "outputs": [],
   "source": [
    "temps = np.random.randn(times.size, press.size, y.size, x.size)"
   ]
  },
  {
   "cell_type": "markdown",
   "metadata": {},
   "source": [
    "### Creating the file and dimensions\n",
    "\n",
    "The first step in setting up a new netCDF file is to create a new file in netCDF format and set up the shared dimensions we'll be using in the file. We'll be using the `netCDF4` library to do all of the requisite netCDF API calls."
   ]
  },
  {
   "cell_type": "code",
   "execution_count": null,
   "metadata": {},
   "outputs": [],
   "source": [
    "nc = Dataset('forecast_model.nc', 'w', format='NETCDF4_CLASSIC', diskless=True)"
   ]
  },
  {
   "cell_type": "markdown",
   "metadata": {},
   "source": [
    "<div class='admonition alert alert-info'>\n",
    "    <p class='admonition-title' style='font-weight:bold;'>Info</p>\n",
    "    <p>The netCDF file created in the above example resides in memory, not disk, due to the <code>diskless=True</code> argument. In order to create this file on disk, you must either remove this argument, or add the <code>persist=True</code> argument.</p>\n",
    "</div>"
   ]
  },
  {
   "cell_type": "markdown",
   "metadata": {},
   "source": [
    "<div class='admonition alert alert-danger'>\n",
    "    <p class='admonition-title' style='font-weight:bold;'>Danger</p>\n",
    "    <p>If you open an existing file with <code>'w'</code> as the second argument, any data already in the file will be overwritten. If you would like to edit the file, or add to it, open it using <code>'a'</code> as the second argument.</p>\n",
    "</div>"
   ]
  },
  {
   "cell_type": "markdown",
   "metadata": {},
   "source": [
    "We start the setup of this new netCDF file by creating and adding global attribute metadata.  These particular metadata elements are not required, but are recommended by the CF standard.  In addition, adding these elements to the file is simple, and helps users keep track of the data. Therefore, it is helpful to add these metadata elements, as shown below:"
   ]
  },
  {
   "cell_type": "code",
   "execution_count": null,
   "metadata": {},
   "outputs": [],
   "source": [
    "nc.Conventions = 'CF-1.7'\n",
    "nc.title = 'Forecast model run'\n",
    "nc.institution = 'Unidata'\n",
    "nc.source = 'WRF-1.5'\n",
    "nc.history = str(datetime.utcnow()) + ' Python'\n",
    "nc.references = ''\n",
    "nc.comment = ''"
   ]
  },
  {
   "cell_type": "markdown",
   "metadata": {},
   "source": [
    "This next example shows a plain-text representation of our netCDF file as it exists currently:\n",
    "```\n",
    "netcdf forecast_model {\n",
    "  attributes:\n",
    "    :Conventions = \"CF-1.7\" ;\n",
    "    :title = \"Forecast model run\" ;\n",
    "    :institution = \"Unidata\" ;\n",
    "    :source = \"WRF-1.5\" ;\n",
    "    :history = \"2019-07-16 02:21:52.005718 Python\" ;\n",
    "    :references = \"\" ;\n",
    "    :comment = \"\" ;\n",
    "}\n",
    "```"
   ]
  },
  {
   "cell_type": "markdown",
   "metadata": {},
   "source": [
    "<div class=\"admonition alert alert-info\">\n",
    "    <p class=\"admonition-title\" style=\"font-weight:bold\">Info</p>\n",
    "    This plain-text representation is known as netCDF Common Data Format Language, or <strong>CDL</strong>.\n",
    "</div>\n",
    "\n"
   ]
  },
  {
   "cell_type": "markdown",
   "metadata": {},
   "source": [
    "Variables are an important part of every netCDF file; they are used to define data fields. However, before we can add any variables to our file, we must first define the dimensions of the data. In this example, we create dimensions called `x`, `y`, and `pressure`, and set the size of each dimension to the size of the corresponding data array. We then create an additional dimension, `forecast_time`, and set the size as None.  This defines the dimension as \"unlimited\", meaning that if additional data values are added later, the netCDF file grows along this dimension."
   ]
  },
  {
   "cell_type": "code",
   "execution_count": null,
   "metadata": {},
   "outputs": [],
   "source": [
    "nc.createDimension('forecast_time', None)\n",
    "nc.createDimension('x', x.size)\n",
    "nc.createDimension('y', y.size)\n",
    "nc.createDimension('pressure', press.size)\n",
    "nc"
   ]
  },
  {
   "cell_type": "markdown",
   "metadata": {},
   "source": [
    "When we view our file's CDL representation now, we can verify that the dimensions were successfully added to the netCDF file:\n",
    "```\n",
    "netcdf forecast_model {\n",
    "  dimensions:\n",
    "    forecast_time = UNLIMITED (currently 13) ;\n",
    "    x = 101 ;\n",
    "    y = 67 ;\n",
    "    pressure = 7 ;\n",
    "  attributes:\n",
    "    :Conventions = \"CF-1.7\" ;\n",
    "    :title = \"Forecast model run\" ;\n",
    "    :institution = \"Unidata\" ;\n",
    "    :source = \"WRF-1.5\" ;\n",
    "    :history = \"2019-07-16 02:21:52.005718 Python\" ;\n",
    "    :references = \"\" ;\n",
    "    :comment = \"\" ;\n",
    "}\n",
    "```"
   ]
  },
  {
   "cell_type": "markdown",
   "metadata": {},
   "source": [
    "### Creating and filling a variable"
   ]
  },
  {
   "cell_type": "markdown",
   "metadata": {},
   "source": [
    "Thus far, we have only added basic information to this netCDF dataset; namely, the dataset dimensions and some broad metadata. As described briefly above, variables are used to define data fields in netCDF files. Here, we create a `netCDF4 variable` to hold a data field; in this case, the forecast air temperature. In order to create this netCDF4 variable, we must specify the data type of the values in the data field. We also must specify which dimensions contained in the netCDF file are relevant to this data field. Finally, we can specify whether or not to compress the data using a form of `zlib`."
   ]
  },
  {
   "cell_type": "code",
   "execution_count": null,
   "metadata": {},
   "outputs": [],
   "source": [
    "temps_var = nc.createVariable(\n",
    "    'Temperature',\n",
    "    datatype=np.float32,\n",
    "    dimensions=('forecast_time', 'pressure', 'y', 'x'),\n",
    "    zlib=True,\n",
    ")"
   ]
  },
  {
   "cell_type": "markdown",
   "metadata": {},
   "source": [
    "We have now created a netCDF4 variable, but it does not yet define a data field. In this example, we use Python to associate our temperature data with the new variable:"
   ]
  },
  {
   "cell_type": "code",
   "execution_count": null,
   "metadata": {},
   "outputs": [],
   "source": [
    "temps_var[:] = temps\n",
    "temps_var"
   ]
  },
  {
   "cell_type": "markdown",
   "metadata": {},
   "source": [
    "You can also associate data with a variable sporadically. This example illustrates how to only associate one value per time step with the variable created earlier:"
   ]
  },
  {
   "cell_type": "code",
   "execution_count": null,
   "metadata": {},
   "outputs": [],
   "source": [
    "next_slice = 0\n",
    "for temp_slice in temps:\n",
    "    temps_var[next_slice] = temp_slice\n",
    "    next_slice += 1"
   ]
  },
  {
   "cell_type": "markdown",
   "metadata": {},
   "source": [
    "At this point, this is the CDL representation of our dataset:\n",
    "```\n",
    "netcdf forecast_model {\n",
    "  dimensions:\n",
    "    forecast_time = UNLIMITED (currently 13) ;\n",
    "    x = 101 ;\n",
    "    y = 67 ;\n",
    "    pressure = 7 ;\n",
    "  variables:\n",
    "    float Temperature(forecast_time, pressure, y, x) ;\n",
    "  attributes:\n",
    "    :Conventions = \"CF-1.7\" ;\n",
    "    :title = \"Forecast model run\" ;\n",
    "    :institution = \"Unidata\" ;\n",
    "    :source = \"WRF-1.5\" ;\n",
    "    :history = \"2019-07-16 02:21:52.005718 Python\" ;\n",
    "    :references = \"\" ;\n",
    "    :comment = \"\" ;\n",
    "}\n",
    "```\n",
    "We can also define metadata for this variable in the form of attributes; some specific attributes are required by the CF conventions. For example, the CF conventions require a `units` attribute to be set for all variables that represent a dimensional quantity. In addition, the value of this attribute must be parsable by the [UDUNITS](https://www.unidata.ucar.edu/software/udunits/) library. In this example, the temperatures are in Kelvin, so we set the units attribute to `'Kelvin'`. Next, we set the `long_name` and `standard_name` attributes, which are recommended for most datasets, but optional. The `long_name` attribute contains a longer and more detailed description of a variable. On the other hand, the `standard_name` attribute names a variable using descriptive words from a predefined word list contained in the CF conventions. Defining these attributes allows users of your datasets to understand what each variable in a dataset represents. Sometimes, data fields do not have valid data values at every dimension point. In this case, the standard is to use a filler value for these missing data values, and to set the `missing_value` attribute to this filler value. In this case, however, there are no missing values, so the `missing_value` attribute can be set to any unused value, or not set at all.\n",
    "\n",
    "There are many different sets of recommendations for attributes on netCDF variables. For example, here is NASA's set of recommended attributes:"
   ]
  },
  {
   "cell_type": "markdown",
   "metadata": {},
   "source": [
    "> **NASA Dataset Interoperability Recommendations:**\n",
    ">\n",
    "> Section 2.2 - Include Basic CF Attributes\n",
    ">\n",
    "> Include where applicable: `units`, `long_name`, `standard_name`, `valid_min` / `valid_max`, `scale_factor` / `add_offset` and others."
   ]
  },
  {
   "cell_type": "code",
   "execution_count": null,
   "metadata": {},
   "outputs": [],
   "source": [
    "temps_var.units = 'Kelvin'\n",
    "temps_var.standard_name = 'air_temperature'\n",
    "temps_var.long_name = 'Forecast air temperature'\n",
    "temps_var.missing_value = -9999\n",
    "temps_var"
   ]
  },
  {
   "cell_type": "markdown",
   "metadata": {},
   "source": [
    "Here is the variable section of our dataset's CDL, with the new attributes added:\n",
    "```\n",
    "  variables:\n",
    "    float Temperature(forecast_time, pressure, y, x) ;\n",
    "      Temperature:units = \"Kelvin\" ;\n",
    "      Temperature:standard_name = \"air_temperature\" ;\n",
    "      Temperature:long_name = \"Forecast air temperature\" ;\n",
    "      Temperature:missing_value = -9999.0 ;\n",
    "```"
   ]
  },
  {
   "cell_type": "markdown",
   "metadata": {},
   "source": [
    "### Coordinate variables"
   ]
  },
  {
   "cell_type": "markdown",
   "metadata": {},
   "source": [
    "Dimensions in a netCDF file only define size and alignment metadata. In order to properly orient data in time and space, it is necessary to create \"coordinate variables\", which define data values along each dimension. A coordinate variable is typically created as a one-dimensional variable, and has the same name as the corresponding dimension.\n",
    "\n",
    "To start, we define variables which define our `x` and `y` coordinate values. It is recommended to include certain attributes for each coordinate variable. First, you should include a `standard_name`, which allows for associating the variable with projections, among other things. (Projections will be covered in detail later in this page.) Second, you can include an `axis` attribute, which clearly defines the spatial or temporal direction referred to by the coordinate variable. This next example demonstrates how to set up these attributes:"
   ]
  },
  {
   "cell_type": "code",
   "execution_count": null,
   "metadata": {},
   "outputs": [],
   "source": [
    "x_var = nc.createVariable('x', np.float32, ('x',))\n",
    "x_var[:] = x\n",
    "x_var.units = 'km'\n",
    "x_var.axis = 'X'  # Optional\n",
    "x_var.standard_name = 'projection_x_coordinate'\n",
    "x_var.long_name = 'x-coordinate in projected coordinate system'\n",
    "\n",
    "y_var = nc.createVariable('y', np.float32, ('y',))\n",
    "y_var[:] = y\n",
    "y_var.units = 'km'\n",
    "y_var.axis = 'Y'  # Optional\n",
    "y_var.standard_name = 'projection_y_coordinate'\n",
    "y_var.long_name = 'y-coordinate in projected coordinate system'"
   ]
  },
  {
   "cell_type": "markdown",
   "metadata": {},
   "source": [
    "Our dataset contains vertical data of air pressure as well, so we must define a coordinate variable for this axis; we can simply call this new variable `pressure`. Since this axis represents air pressure data, we can set a `standard_name` of `'air_pressure'`.  With this `standard_name` attribute set, it should be obvious to users of this dataset that this variable represents a vertical axis, but for extra clarification, we also set the `axis` attribute as `'Z'`. We can also specify one more attribute, called `positive`.  This attribute indicates whether the variable values increase or decrease as the dimension values increase.  Setting this attribute is optional for some data; air pressure is one example.  However, we still set the attribute here, for the sake of completeness."
   ]
  },
  {
   "cell_type": "code",
   "execution_count": null,
   "metadata": {},
   "outputs": [],
   "source": [
    "press_var = nc.createVariable('pressure', np.float32, ('pressure',))\n",
    "press_var[:] = press\n",
    "press_var.units = 'hPa'\n",
    "press_var.axis = 'Z'  # Optional\n",
    "press_var.standard_name = 'air_pressure'\n",
    "press_var.positive = 'down'  # Optional"
   ]
  },
  {
   "cell_type": "markdown",
   "metadata": {},
   "source": [
    "Time coordinates must contain a `units` attribute; this attribute is a string value, and must have a form similar to the string`'seconds since 2019-01-06 12:00:00.00'`. 'seconds', 'minutes', 'hours', and 'days' are the most commonly used time intervals in these strings. It is not recommended to use 'months' or 'years' in time strings, as the length of these time intervals can vary.\n",
    "\n",
    "Before we can write data, we need to first convert our list of Python `datetime` objects to numeric values usable in time strings. We can perform this conversion by setting a time string in the format described above, then using the `date2num` method from the `cftime` library.  An example of this is shown below:"
   ]
  },
  {
   "cell_type": "code",
   "execution_count": null,
   "metadata": {},
   "outputs": [],
   "source": [
    "time_units = f'hours since {times[0]:%Y-%m-%d 00:00}'\n",
    "time_vals = date2num(times, time_units)\n",
    "time_vals"
   ]
  },
  {
   "cell_type": "markdown",
   "metadata": {},
   "source": [
    "Now that the time string is set up, we have all of the necessary information to set up the attributes for a `forecast_time` coordinate variable.  The creation of this variable is shown in the following example:"
   ]
  },
  {
   "cell_type": "code",
   "execution_count": null,
   "metadata": {},
   "outputs": [],
   "source": [
    "time_var = nc.createVariable('forecast_time', np.int32, ('forecast_time',))\n",
    "time_var[:] = time_vals\n",
    "time_var.units = time_units\n",
    "time_var.axis = 'T'  # Optional\n",
    "time_var.standard_name = 'time'  # Optional\n",
    "time_var.long_name = 'time'"
   ]
  },
  {
   "cell_type": "markdown",
   "metadata": {},
   "source": [
    "This next example shows the CDL representation of the netCDF file's variables at this point. It is clear that much more information is now contained in this representation:\n",
    "```\n",
    "  dimensions:\n",
    "    forecast_time = UNLIMITED (currently 13) ;\n",
    "    x = 101 ;\n",
    "    y = 67 ;\n",
    "    pressure = 7 ;\n",
    "  variables:\n",
    "    float x(x) ;\n",
    "      x:units = \"km\" ;\n",
    "      x:axis = \"X\" ;\n",
    "      x:standard_name = \"projection_x_coordinate\" ;\n",
    "      x:long_name = \"x-coordinate in projected coordinate system\" ;\n",
    "    float y(y) ;\n",
    "      y:units = \"km\" ;\n",
    "      y:axis = \"Y\" ;\n",
    "      y:standard_name = \"projection_y_coordinate\" ;\n",
    "      y:long_name = \"y-coordinate in projected coordinate system\" ;\n",
    "    float pressure(pressure) ;\n",
    "      pressure:units = \"hPa\" ;\n",
    "      pressure:axis = \"Z\" ;\n",
    "      pressure:standard_name = \"air_pressure\" ;\n",
    "      pressure:positive = \"down\" ;\n",
    "    float forecast_time(forecast_time) ;\n",
    "      forecast_time:units = \"hours since 2019-07-16 00:00\" ;\n",
    "      forecast_time:axis = \"T\" ;\n",
    "      forecast_time:standard_name = \"time\" ;\n",
    "      forecast_time:long_name = \"time\" ;\n",
    "    float Temperature(forecast_time, pressure, y, x) ;\n",
    "      Temperature:units = \"Kelvin\" ;\n",
    "      Temperature:standard_name = \"air_temperature\" ;\n",
    "      Temperature:long_name = \"Forecast air temperature\" ;\n",
    "      Temperature:missing_value = -9999.0 ;\n",
    "```"
   ]
  },
  {
   "cell_type": "markdown",
   "metadata": {},
   "source": [
    "### Auxiliary Coordinates"
   ]
  },
  {
   "cell_type": "markdown",
   "metadata": {},
   "source": [
    "Our data are still not CF-compliant, because they do not contain latitude and longitude information, which is needed to properly locate the data. In order to add location data to a netCDF file, we must create so-called \"auxiliary coordinate variables\" for latitude and longitude. (In this case, the word \"auxiliary\" means that the variables are not simple one-dimensional variables.)\n",
    "\n",
    "In this next example, we use the `Proj` function, found in the `pyproj` library, to create projections of our coordinates. We can then use these projections to generate latitude and longitude values for our data."
   ]
  },
  {
   "cell_type": "code",
   "execution_count": null,
   "metadata": {},
   "outputs": [],
   "source": [
    "X, Y = np.meshgrid(x, y)\n",
    "lcc = Proj({'proj': 'lcc', 'lon_0': -105, 'lat_0': 40, 'a': 6371000.0, 'lat_1': 25})\n",
    "lon, lat = lcc(X * 1000, Y * 1000, inverse=True)"
   ]
  },
  {
   "cell_type": "markdown",
   "metadata": {},
   "source": [
    "Now that we have latitude and longitude values, we can create variables for those values. Both of these variables are two-dimensional; the dimensions in question are `y` and `x`. In order to convey that it contains the longitude information, we must set up the longitude variable with a `units` attribute of `'degrees_east'`. In addition, we can provide further clarity by setting a `standard_name` attribute of `'longitude'`. The case is the same for latitude, except the units are `'degrees_north'` and the `standard_name` is `'latitude'`."
   ]
  },
  {
   "cell_type": "code",
   "execution_count": null,
   "metadata": {},
   "outputs": [],
   "source": [
    "lon_var = nc.createVariable('lon', np.float64, ('y', 'x'))\n",
    "lon_var[:] = lon\n",
    "lon_var.units = 'degrees_east'\n",
    "lon_var.standard_name = 'longitude'  # Optional\n",
    "lon_var.long_name = 'longitude coordinate'\n",
    "\n",
    "lat_var = nc.createVariable('lat', np.float64, ('y', 'x'))\n",
    "lat_var[:] = lat\n",
    "lat_var.units = 'degrees_north'\n",
    "lat_var.standard_name = 'latitude'  # Optional\n",
    "lat_var.long_name = 'latitude coordinate'"
   ]
  },
  {
   "cell_type": "markdown",
   "metadata": {},
   "source": [
    "Now that the auxiliary coordinate variables are created, we must identify them as coordinates for the `Temperature` variable. In order to identify the variables in this way, we set the `coordinates` attribute of the `Temperature` variable to a space-separated list of variables to identify, as shown below:"
   ]
  },
  {
   "cell_type": "code",
   "execution_count": null,
   "metadata": {},
   "outputs": [],
   "source": [
    "temps_var.coordinates = 'lon lat'"
   ]
  },
  {
   "cell_type": "markdown",
   "metadata": {},
   "source": [
    "The portion of the CDL showing the new latitude and longitude variables, as well as the updated `Temperature` variable, is listed below:\n",
    "```\n",
    "  double lon(y, x);\n",
    "    lon:units = \"degrees_east\";\n",
    "    lon:long_name = \"longitude coordinate\";\n",
    "    lon:standard_name = \"longitude\";\n",
    "  double lat(y, x);\n",
    "    lat:units = \"degrees_north\";\n",
    "    lat:long_name = \"latitude coordinate\";\n",
    "    lat:standard_name = \"latitude\";\n",
    "  float Temperature(time, y, x);\n",
    "    Temperature:units = \"Kelvin\" ;\n",
    "    Temperature:standard_name = \"air_temperature\" ;\n",
    "    Temperature:long_name = \"Forecast air temperature\" ;\n",
    "    Temperature:missing_value = -9999.0 ;\n",
    "    Temperature:coordinates = \"lon lat\";\n",
    "```"
   ]
  },
  {
   "cell_type": "markdown",
   "metadata": {},
   "source": [
    "### Coordinate System Information"
   ]
  },
  {
   "cell_type": "markdown",
   "metadata": {},
   "source": [
    "Since the grid containing our data uses a Lambert conformal projection, adding this information to the dataset's metadata can clear up some possible confusion. We can most easily add this metadata information by making use of a \"grid mapping\" variable. A grid mapping variable is a \"placeholder\" variable containing all required grid-mapping information. Other variables that need to access this information can then reference this placeholder variable in their `grid_mapping` attribute.\n",
    "\n",
    "In this example, we create a grid-mapping variable; this new variable is then set up for a Lambert-conformal conic projection on a spherical globe. By setting this variable's `grid_mapping_name` attribute, we can indicate which CF-supported grid mapping this variable refers to. There are additional attributes that can also be set; however, the available options depend on the specific mapping."
   ]
  },
  {
   "cell_type": "code",
   "execution_count": null,
   "metadata": {},
   "outputs": [],
   "source": [
    "proj_var = nc.createVariable('lambert_projection', np.int32, ())\n",
    "proj_var.grid_mapping_name = 'lambert_conformal_conic'\n",
    "proj_var.standard_parallel = 25.0\n",
    "proj_var.latitude_of_projection_origin = 40.0\n",
    "proj_var.longitude_of_central_meridian = -105.0\n",
    "proj_var.semi_major_axis = 6371000.0\n",
    "proj_var"
   ]
  },
  {
   "cell_type": "markdown",
   "metadata": {},
   "source": [
    "Now that we have created a grid-mapping variable, we can specify the grid mapping by setting the `grid_mapping attribute` to the variable name. In this example, we set the `grid_mapping` attribute on the `Temperature` variable:"
   ]
  },
  {
   "cell_type": "code",
   "execution_count": null,
   "metadata": {},
   "outputs": [],
   "source": [
    "temps_var.grid_mapping = 'lambert_projection'  # or proj_var.name"
   ]
  },
  {
   "cell_type": "markdown",
   "metadata": {},
   "source": [
    "Here is the portion of the CDL containing the modified `Temperature` variable, as well as the new grid-mapping `lambert_projection` variable:\n",
    "```\n",
    "  variables:\n",
    "    int lambert_projection ;\n",
    "      lambert_projection:grid_mapping_name = \"lambert_conformal_conic ;\n",
    "      lambert_projection:standard_parallel = 25.0 ;\n",
    "      lambert_projection:latitude_of_projection_origin = 40.0 ;\n",
    "      lambert_projection:longitude_of_central_meridian = -105.0 ;\n",
    "      lambert_projection:semi_major_axis = 6371000.0 ;\n",
    "    float Temperature(forecast_time, pressure, y, x) ;\n",
    "      Temperature:units = \"Kelvin\" ;\n",
    "      Temperature:standard_name = \"air_temperature\" ;\n",
    "      Temperature:long_name = \"Forecast air temperature\" ;\n",
    "      Temperature:missing_value = -9999.0 ;\n",
    "      Temperature:coordinates = \"lon lat\" ;\n",
    "      Temperature:grid_mapping = \"lambert_projection\" ;\n",
    "```"
   ]
  },
  {
   "cell_type": "markdown",
   "metadata": {},
   "source": [
    "### Cell Bounds\n",
    "\n",
    "The use of \"bounds\" attributes is not required, but highly recommended. Here is a relevant excerpt from the NASA Dataset Interoperability Recommendations:\n",
    "> **NASA Dataset Interoperability Recommendations:**\n",
    ">\n",
    "> Section 2.3 - Use CF \"bounds\" attributes\n",
    ">\n",
    "> CF conventions state: \"When gridded data does not represent the point values of a field but instead represents some characteristic of the field within cells of finite 'volume,' a complete description of the variable should include metadata that describes the domain or extent of each cell, and the characteristic of the field that the cell values represent.\"\n",
    "\n",
    "In this set of examples, consider a rain gauge which is read every three hours, but only dumped every six hours. The netCDF file for this gauge's data readings might look like this:\n",
    "  \n",
    "```\n",
    "netcdf precip_bucket_bounds {\n",
    "  dimensions:\n",
    "      lat = 12 ;\n",
    "      lon = 19 ;\n",
    "      time = 8 ;\n",
    "      tbv = 2;\n",
    "  variables:\n",
    "      float lat(lat) ;\n",
    "      float lon(lon) ;\n",
    "      float time(time) ;\n",
    "        time:units = \"hours since 2019-07-12 00:00:00.00\";\n",
    "        time:bounds = \"time_bounds\" ;\n",
    "      float time_bounds(time,tbv)\n",
    "      float precip(time, lat, lon) ;\n",
    "        precip:units = \"inches\" ;\n",
    "  data:\n",
    "    time = 3, 6, 9, 12, 15, 18, 21, 24;\n",
    "    time_bounds = 0, 3, 0, 6, 6, 9, 6, 12, 12, 15, 12, 18, 18, 21, 18, 24;\n",
    "}\n",
    "```\n",
    "\n",
    "Considering the coordinate variable for time, and the `bounds` attribute set for this variable, the below graph illustrates the times of the gauge's data readings:\n",
    "```\n",
    "|---X\n",
    "|-------X\n",
    "        |---X\n",
    "        |-------X\n",
    "                |---X\n",
    "                |-------X\n",
    "                        |---X\n",
    "                        |-------X\n",
    "0   3   6   9  12  15  18  21  24\n",
    "```"
   ]
  },
  {
   "cell_type": "markdown",
   "metadata": {},
   "source": [
    "<a name=\"obs\"></a>\n",
    "## Observational Data\n",
    "\n",
    "Thus far, we have only worked with data arranged on grids. One common type of data, called \"in-situ\" or \"observational\" data, is usually arranged in other ways. The CF conventions for this type of data are called *Conventions for DSG (Discrete Sampling Geometries)*.\n",
    "\n",
    "For data that are regularly sampled (e.g., from a vertical profiler site), this is straightforward. For these examples, we will be using vertical profile data from three hypothetical profilers, located in Boulder, Norman, and Albany. These hypothetical profilers report data for every 10 m of altitude, from altitudes of 10 m up to (but not including) 1000 m. This first example illustrates how to set up latitude, longitude, altitude, and other necessary data for these profilers:"
   ]
  },
  {
   "cell_type": "code",
   "execution_count": null,
   "metadata": {},
   "outputs": [],
   "source": [
    "lons = np.array([-97.1, -105, -73.8])\n",
    "lats = np.array([35.25, 40, 42.75])\n",
    "heights = np.linspace(10, 1000, 10)\n",
    "temps = np.random.randn(lats.size, heights.size)\n",
    "stids = ['KBOU', 'KOUN', 'KALB']"
   ]
  },
  {
   "cell_type": "markdown",
   "metadata": {},
   "source": [
    "### Creation and basic setup\n",
    "First, we create a new netCDF file, and define dimensions for it, corresponding to altitude and latitude. Since we are working with observational profile data, we define these dimensions as `heights` and `station`. We then set the global `featureType` attribute to `'profile'`, which defines the file as holding profile data. In these examples, the term \"profile data\" is defined as \"an ordered set of data points along a vertical line at a fixed horizontal position and fixed time\". In addition, we define a placeholder dimension called str_len, which helps with storing station IDs as strings."
   ]
  },
  {
   "cell_type": "code",
   "execution_count": null,
   "metadata": {},
   "outputs": [],
   "source": [
    "nc.close()\n",
    "nc = Dataset('obs_data.nc', 'w', format='NETCDF4_CLASSIC', diskless=True)\n",
    "nc.createDimension('station', lats.size)\n",
    "nc.createDimension('heights', heights.size)\n",
    "nc.createDimension('str_len', 4)\n",
    "nc.Conventions = 'CF-1.7'\n",
    "nc.featureType = 'profile'\n",
    "nc"
   ]
  },
  {
   "cell_type": "markdown",
   "metadata": {},
   "source": [
    "After this initial setup, the current state of our netCDF file is described in the following CDL:\n",
    "```\n",
    "netcdf obs_data {\n",
    "  dimensions:\n",
    "    station = 3 ;\n",
    "    heights = 10 ;\n",
    "    str_len = 4 ;\n",
    "  attributes:\n",
    "    :Conventions = \"CF-1.7\" ;\n",
    "    :featureType = \"profile\" ;\n",
    "}\n",
    "```\n",
    "This example illustrates the setup of coordinate variables for latitude and longitude:"
   ]
  },
  {
   "cell_type": "code",
   "execution_count": null,
   "metadata": {},
   "outputs": [],
   "source": [
    "lon_var = nc.createVariable('lon', np.float64, ('station',))\n",
    "lon_var.units = 'degrees_east'\n",
    "lon_var.standard_name = 'longitude'\n",
    "\n",
    "lat_var = nc.createVariable('lat', np.float64, ('station',))\n",
    "lat_var.units = 'degrees_north'\n",
    "lat_var.standard_name = 'latitude'"
   ]
  },
  {
   "cell_type": "markdown",
   "metadata": {},
   "source": [
    "When a coordinate variable refers to an instance of a feature, netCDF standards refer to it as an \"instance variable\". The latitude and longitude coordinate variables declared above are examples of instance variables. In this next example, we create an instance variable for altitude, referred to here as `heights`:"
   ]
  },
  {
   "cell_type": "code",
   "execution_count": null,
   "metadata": {},
   "outputs": [],
   "source": [
    "heights_var = nc.createVariable('heights', np.float32, ('heights',))\n",
    "heights_var.units = 'meters'\n",
    "heights_var.standard_name = 'altitude'\n",
    "heights_var.positive = 'up'\n",
    "heights_var[:] = heights"
   ]
  },
  {
   "cell_type": "markdown",
   "metadata": {},
   "source": [
    "### Station IDs\n",
    "Using the placeholder dimension defined earlier, we can write the station IDs of our profilers to a variable as well. The variable used to store these station IDs is two-dimensional; however, one of these dimensions only holds metadata designed to aid in converting strings to character arrays. We can also assign the attribute `cf_role` to this variable, with a value of `'profile_id'`.  If certain software programs read this netCDF file, this attribute assists in identifying individual profiles."
   ]
  },
  {
   "cell_type": "code",
   "execution_count": null,
   "metadata": {},
   "outputs": [],
   "source": [
    "stid_var = nc.createVariable('stid', 'c', ('station', 'str_len'))\n",
    "stid_var.cf_role = 'profile_id'\n",
    "stid_var.long_name = 'Station identifier'\n",
    "stid_var[:] = stids"
   ]
  },
  {
   "cell_type": "markdown",
   "metadata": {},
   "source": [
    "After adding station ID information, our file's updated CDL should resemble this example:\n",
    "```\n",
    "netcdf obs_data {\n",
    "  dimensions:\n",
    "    station = 3 ;\n",
    "    heights = 10 ;\n",
    "    str_len = 4 ;\n",
    "  variables:\n",
    "    double lon(station) ;\n",
    "      lon:units = \"degrees_east\" ;\n",
    "      lon:standard_name = \"longitude\" ;\n",
    "    double lat(station) ;\n",
    "      lat:units = \"degrees_north\" ;\n",
    "      lat:standard_name = \"latitude\" ;\n",
    "    float heights(heights) ;\n",
    "      heights:units = \"meters\" ;\n",
    "      heights:standard_name = \"altitude\";\n",
    "      heights:positive = \"up\" ;\n",
    "    char stid(station, str_len) ;\n",
    "      stid:cf_role = \"profile_id\" ;\n",
    "      stid:long_name = \"Station identifier\" ;\n",
    "  attributes:\n",
    "    :Conventions = \"CF-1.7\" ;\n",
    "    :featureType = \"profile\" ;\n",
    "}\n",
    "```"
   ]
  },
  {
   "cell_type": "markdown",
   "metadata": {},
   "source": [
    "### Writing the field\n",
    "The final setup step for this netCDF file is to write our actual profile data to the file. In addition, we add an additional scalar variable, which holds the time of data capture for each profile:"
   ]
  },
  {
   "cell_type": "code",
   "execution_count": null,
   "metadata": {},
   "outputs": [],
   "source": [
    "time_var = nc.createVariable('time', np.float32, ())\n",
    "time_var.units = 'minutes since 2019-07-16 17:00'\n",
    "time_var.standard_name = 'time'\n",
    "time_var[:] = [5.0]\n",
    "\n",
    "temp_var = nc.createVariable('temperature', np.float32, ('station', 'heights'))\n",
    "temp_var.units = 'celsius'\n",
    "temp_var.standard_name = 'air_temperature'\n",
    "temp_var.coordinates = 'lon lat heights time'"
   ]
  },
  {
   "cell_type": "markdown",
   "metadata": {},
   "source": [
    "The auxiliary coordinate variables in this netCDF file are not proper coordinate variables, and are all associated with the `station` dimension. Therefore, the names of these variables must be listed in an attribute called `coordinates`. The final CDL of the variables, including the `coordinates` attribute, is shown below:\n",
    "```\n",
    "  variables:\n",
    "    double lon(station) ;\n",
    "      lon:units = \"degrees_east\" ;\n",
    "      lon:standard_name = \"longitude\" ;\n",
    "    double lat(station) ;\n",
    "      lat:units = \"degrees_north\" ;\n",
    "      lat:standard_name = \"latitude\" ;\n",
    "    float heights(heights) ;\n",
    "      heights:units = \"meters\" ;\n",
    "      heights:standard_name = \"altitude\";\n",
    "      heights:positive = \"up\" ;\n",
    "    char stid(station, str_len) ;\n",
    "      stid:cf_role = \"profile_id\" ;\n",
    "      stid:long_name = \"Station identifier\" ;\n",
    "    float time ;\n",
    "      time:units = \"minutes since 2019-07-16 17:00\" ;\n",
    "      time:standard_name = \"time\" ;\n",
    "    float temperature(station, heights) ;\n",
    "      temperature:units = \"celsius\" ;\n",
    "      temperature:standard_name = \"air_temperature\" ;\n",
    "      temperature:coordinates = \"lon lat heights time\" ;\n",
    "```\n",
    "\n",
    "These standards for storing DSG data in netCDF files can be used for profiler data, as shown in these examples, as well as timeseries and trajectory data, and any combination of these types of data models. You can also use these standards for datasets with differing amounts of data in each feature, using so-called \"ragged\" arrays. For more information on ragged arrays, or other elements of the CF DSG standards, see the [main documentation page](http://cfconventions.org/Data/cf-conventions/cf-conventions-1.7/cf-conventions.html#discrete-sampling-geometries), or try some of the [annotated DSG examples](http://cfconventions.org/Data/cf-conventions/cf-conventions-1.7/cf-conventions.html#appendix-examples-discrete-geometries)."
   ]
  },
  {
   "cell_type": "markdown",
   "metadata": {},
   "source": [
    "---"
   ]
  },
  {
   "cell_type": "markdown",
   "metadata": {},
   "source": [
    "## Summary\n",
    "We have created examples of and discussed the structure of **netCDF** `Datasets`, both gridded and in-situ. In addition, we covered the Climate and Forecasting (**CF**) Conventions, and the setup of netCDF files that follow these conventions. netCDF `Datasets` are self-describing; in other words, their attributes, or *metadata*, are included. Other libraries in the Python scientific software ecosystem, such as `xarray` and `MetPy`, are therefore easily able to read in, write to, and analyze these `Datasets`.\n",
    "\n",
    "### What's Next?\n",
    "In subsequent notebooks, we will work with netCDF `Datasets` built from actual, non-example data sources, both model and in-situ."
   ]
  },
  {
   "cell_type": "markdown",
   "metadata": {},
   "source": [
    "<a name=\"references\"></a>\n",
    "## Resources and References\n",
    "\n",
    "- [CF Conventions doc (1.7)](http://cfconventions.org/Data/cf-conventions/cf-conventions-1.7/cf-conventions.html)\n",
    "- [Jonathan Gregory's old CF presentation](http://cfconventions.org/Data/cf-documents/overview/viewgraphs.pdf)\n",
    "- [NASA ESDS \"Dataset Interoperability Recommendations for Earth Science\"](https://earthdata.nasa.gov/user-resources/standards-and-references/dataset-interoperability-recommendations-for-earth-science)\n",
    "- [CF Data Model (cfdm) python package tutorial](https://ncas-cms.github.io/cfdm/tutorial.html)\n",
    "- [Tim Whiteaker's cfgeom python package (GitHub repo)](https://github.com/twhiteaker/CFGeom) and [(tutorial)]( https://twhiteaker.github.io/CFGeom/tutorial.html)\n",
    "- [netCDF4 Documentation](https://unidata.github.io/netcdf4-python/)"
   ]
  },
  {
   "cell_type": "code",
   "execution_count": null,
   "metadata": {},
   "outputs": [],
   "source": []
  }
 ],
 "metadata": {
  "kernelspec": {
   "display_name": "Python 3 (ipykernel)",
   "language": "python",
   "name": "python3"
  },
  "language_info": {
   "codemirror_mode": {
    "name": "ipython",
    "version": 3
   },
   "file_extension": ".py",
   "mimetype": "text/x-python",
   "name": "python",
   "nbconvert_exporter": "python",
   "pygments_lexer": "ipython3",
   "version": "3.10.9"
  }
 },
 "nbformat": 4,
 "nbformat_minor": 4
}
