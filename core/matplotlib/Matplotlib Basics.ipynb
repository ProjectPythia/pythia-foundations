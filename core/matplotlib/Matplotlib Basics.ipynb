{
 "cells": [
  {
   "cell_type": "markdown",
   "metadata": {},
   "source": [
    "<div style=\"width:1000 px\">\n",
    "\n",
    "<div style=\"float:right; width:98 px; height:98px;\">\n",
    "<img src=\"https://raw.githubusercontent.com/Unidata/MetPy/master/src/metpy/plots/_static/unidata_150x150.png\" alt=\"Unidata Logo\" style=\"height: 98px;\">\n",
    "</div>\n",
    "\n",
    "<h1>Matplotlib Basics</h1>\n",
    "<h3>Unidata Python Workshop</h3>\n",
    "\n",
    "<div style=\"clear:both\"></div>\n",
    "</div>\n",
    "\n",
    "<hr style=\"height:2px;\">\n",
    "\n",
    "<div style=\"float:right; width:250 px\"><img src=\"https://matplotlib.org/_static/logo2.png\" alt=\"NumPy Logo\" style=\"height: 150px;\"></div>\n",
    "\n",
    "### Questions\n",
    "1. How are line plots created using Matplotlib?\n",
    "1. What methods exist to customize the look of these plots?\n",
    "\n",
    "### Objectives\n",
    "1. Create a basic line plot.\n",
    "1. Add labels and grid lines to the plot.\n",
    "1. Plot multiple series of data.\n",
    "1. Plot imshow, contour, and filled contour plots."
   ]
  },
  {
   "cell_type": "markdown",
   "metadata": {},
   "source": [
    "## Plotting with Matplotlib"
   ]
  },
  {
   "cell_type": "markdown",
   "metadata": {},
   "source": [
    "Matplotlib is a python 2D plotting library which produces publication quality figures in a variety of hardcopy formats and interactive environments across platforms."
   ]
  },
  {
   "cell_type": "markdown",
   "metadata": {},
   "source": [
    "The first step is to set up our notebook environment so that matplotlib plots appear inline as images:"
   ]
  },
  {
   "cell_type": "code",
   "execution_count": null,
   "metadata": {},
   "outputs": [],
   "source": [
    "%matplotlib inline"
   ]
  },
  {
   "cell_type": "markdown",
   "metadata": {},
   "source": [
    "Next we import the matplotlib library's `pyplot` interface; this interface is the simplest way to create new Matplotlib figures. To shorten this long name, we import it as `plt` to keep things short but clear."
   ]
  },
  {
   "cell_type": "code",
   "execution_count": null,
   "metadata": {},
   "outputs": [],
   "source": [
    "import matplotlib.pyplot as plt\n",
    "import numpy as np"
   ]
  },
  {
   "cell_type": "markdown",
   "metadata": {},
   "source": [
    "Now we generate some data to use while experimenting with plotting:"
   ]
  },
  {
   "cell_type": "code",
   "execution_count": null,
   "metadata": {},
   "outputs": [],
   "source": [
    "times = np.array([ 93.,  96.,  99., 102., 105., 108., 111., 114., 117.,\n",
    "                  120., 123., 126., 129., 132., 135., 138., 141., 144.,\n",
    "                  147., 150., 153., 156., 159., 162.])\n",
    "temps = np.array([310.7, 308.0, 296.4, 289.5, 288.5, 287.1, 301.1, 308.3,\n",
    "                  311.5, 305.1, 295.6, 292.4, 290.4, 289.1, 299.4, 307.9,\n",
    "                  316.6, 293.9, 291.2, 289.8, 287.1, 285.8, 303.3, 310.])"
   ]
  },
  {
   "cell_type": "markdown",
   "metadata": {},
   "source": [
    "Now we come to two quick lines to create a plot. Matplotlib has two core objects: the `Figure` and the `Axes`. The `Axes` is an individual plot with an x-axis, a y-axis, labels, etc; it has all of the various plotting methods we use. A `Figure` holds one or more `Axes` on which we draw; think of the `Figure` as the level at which things are saved to files (e.g. PNG, SVG)\n",
    "\n",
    "![anatomy of a figure](anatomy-of-a-figure.png)\n",
    "\n",
    "Below the first line asks for a `Figure` 10 inches by 6 inches. We then ask for an `Axes` or subplot on the `Figure`. After that, we call `plot`, with `times` as the data along the x-axis (independant values) and `temps` as the data along the y-axis (the dependant values)."
   ]
  },
  {
   "cell_type": "code",
   "execution_count": null,
   "metadata": {},
   "outputs": [],
   "source": [
    "# Create a figure\n",
    "fig = plt.figure(figsize=(10, 6))\n",
    "\n",
    "# Ask, out of a 1x1 grid, the first axes.\n",
    "ax = fig.add_subplot(1, 1, 1)\n",
    "\n",
    "# Plot times as x-variable and temperatures as y-variable\n",
    "ax.plot(times, temps)"
   ]
  },
  {
   "cell_type": "markdown",
   "metadata": {},
   "source": [
    "From there, we can do things like ask the axis to add labels for x and y:"
   ]
  },
  {
   "cell_type": "code",
   "execution_count": null,
   "metadata": {},
   "outputs": [],
   "source": [
    "# Add some labels to the plot\n",
    "ax.set_xlabel('Time')\n",
    "ax.set_ylabel('Temperature')\n",
    "\n",
    "# Prompt the notebook to re-display the figure after we modify it\n",
    "fig"
   ]
  },
  {
   "cell_type": "markdown",
   "metadata": {},
   "source": [
    "We can also add a title to the plot:"
   ]
  },
  {
   "cell_type": "code",
   "execution_count": null,
   "metadata": {},
   "outputs": [],
   "source": [
    "ax.set_title('GFS Temperature Forecast', fontdict={'size':16})\n",
    "\n",
    "fig"
   ]
  },
  {
   "cell_type": "markdown",
   "metadata": {},
   "source": [
    "Of course, we can do so much more..."
   ]
  },
  {
   "cell_type": "code",
   "execution_count": null,
   "metadata": {},
   "outputs": [],
   "source": [
    "# Set up more temperature data\n",
    "temps_1000 = np.array([316.0, 316.3, 308.9, 304.0, 302.0, 300.8, 306.2, 309.8,\n",
    "                       313.5, 313.3, 308.3, 304.9, 301.0, 299.2, 302.6, 309.0,\n",
    "                       311.8, 304.7, 304.6, 301.8, 300.6, 299.9, 306.3, 311.3])"
   ]
  },
  {
   "cell_type": "markdown",
   "metadata": {},
   "source": [
    "Here we call `plot` more than once to plot multiple series of temperature on the same plot; when plotting we pass `label` to `plot` to facilitate automatic creation. This is added with the `legend` call. We also add gridlines to the plot using the `grid()` call."
   ]
  },
  {
   "cell_type": "code",
   "execution_count": null,
   "metadata": {},
   "outputs": [],
   "source": [
    "fig = plt.figure(figsize=(10, 6))\n",
    "ax = fig.add_subplot(1, 1, 1)\n",
    "\n",
    "# Plot two series of data\n",
    "# The label argument is used when generating a legend.\n",
    "ax.plot(times, temps, label='Temperature (surface)')\n",
    "ax.plot(times, temps_1000, label='Temperature (1000 mb)')\n",
    "\n",
    "# Add labels and title\n",
    "ax.set_xlabel('Time')\n",
    "ax.set_ylabel('Temperature')\n",
    "ax.set_title('Temperature Forecast')\n",
    "\n",
    "# Add gridlines\n",
    "ax.grid(True)\n",
    "\n",
    "# Add a legend to the upper left corner of the plot\n",
    "ax.legend(loc='upper left')"
   ]
  },
  {
   "cell_type": "markdown",
   "metadata": {},
   "source": [
    "We're not restricted to the default look of the plots, but rather we can override style attributes, such as `linestyle` and `color`. `color` can accept a wide array of options for color, such as `red` or `blue` or HTML color codes. Here we use some different shades of red taken from the Tableau color set in matplotlib, by using `tab:red` for color."
   ]
  },
  {
   "cell_type": "code",
   "execution_count": null,
   "metadata": {},
   "outputs": [],
   "source": [
    "fig = plt.figure(figsize=(10, 6))\n",
    "ax = fig.add_subplot(1, 1, 1)\n",
    "\n",
    "# Specify how our lines should look\n",
    "ax.plot(times, temps, color='tab:red', label='Temperature (surface)')\n",
    "ax.plot(times, temps_1000, color='tab:red', linestyle='--',\n",
    "        label='Temperature (isobaric level)')\n",
    "\n",
    "# Same as above\n",
    "ax.set_xlabel('Time')\n",
    "ax.set_ylabel('Temperature')\n",
    "ax.set_title('Temperature Forecast')\n",
    "ax.grid(True)\n",
    "ax.legend(loc='upper left')"
   ]
  },
  {
   "cell_type": "markdown",
   "metadata": {},
   "source": [
    "<div class=\"alert alert-success\">\n",
    "    <b>EXERCISE</b>:\n",
    "     <ul>\n",
    "         <li>Use add_subplot to create two different subplots on the figure.</li>\n",
    "         <li>Create one subplot for temperature, and one for dewpoint.</li>\n",
    "         <li>Set the title of each subplot as appropriate.</li>\n",
    "         <li>Use ax.set_xlim and ax.set_ylim to control the plot boundaries.</li>\n",
    "         <li><b>BONUS:</b> Experiment with passing sharex and sharey to add_subplot to <a href=\"https://matplotlib.org/gallery/subplots_axes_and_figures/shared_axis_demo.html#sphx-glr-gallery-subplots-axes-and-figures-shared-axis-demo-py\">share plot limits</a></li>\n",
    "    </ul>\n",
    "</div>"
   ]
  },
  {
   "cell_type": "code",
   "execution_count": null,
   "metadata": {},
   "outputs": [],
   "source": [
    "# Fake dewpoint data to plot\n",
    "dewpoint = 0.9 * temps\n",
    "dewpoint_1000 = 0.9 * temps_1000\n",
    "\n",
    "# Create the figure\n",
    "fig = plt.figure(figsize=(10, 6))\n",
    "\n",
    "# YOUR CODE GOES HERE"
   ]
  },
  {
   "cell_type": "markdown",
   "metadata": {},
   "source": [
    "<div class=\"alert alert-info\">\n",
    "    <b>SOLUTION</b>\n",
    "</div>"
   ]
  },
  {
   "cell_type": "code",
   "execution_count": null,
   "metadata": {},
   "outputs": [],
   "source": [
    "# %load solutions/subplots.py\n"
   ]
  },
  {
   "cell_type": "markdown",
   "metadata": {},
   "source": [
    "## Scatter Plots\n",
    "Maybe it doesn't make sense to plot your data as a line plot, but with markers (a scatter plot). We can do this by setting the `linestyle` to none and specifying a marker type, size, color, etc."
   ]
  },
  {
   "cell_type": "code",
   "execution_count": null,
   "metadata": {},
   "outputs": [],
   "source": [
    "fig = plt.figure(figsize=(10, 6))\n",
    "ax = fig.add_subplot(1, 1, 1)\n",
    "\n",
    "# Specify no line with circle markers\n",
    "ax.plot(temps, temps_1000, linestyle='None', marker='o', markersize=5)\n",
    "\n",
    "ax.set_xlabel('Temperature (surface)')\n",
    "ax.set_ylabel('Temperature (1000 hPa)')\n",
    "ax.set_title('Temperature Cross Plot')\n",
    "ax.grid(True)"
   ]
  },
  {
   "cell_type": "markdown",
   "metadata": {},
   "source": [
    "You can also use the `scatter` methods, which is slower, but will give you more control, such as being able to color the points individually based upon a third variable."
   ]
  },
  {
   "cell_type": "code",
   "execution_count": null,
   "metadata": {},
   "outputs": [],
   "source": [
    "fig = plt.figure(figsize=(10, 6))\n",
    "ax = fig.add_subplot(1, 1, 1)\n",
    "\n",
    "# Specify no line with circle markers\n",
    "ax.scatter(temps, temps_1000)\n",
    "\n",
    "ax.set_xlabel('Temperature (surface)')\n",
    "ax.set_ylabel('Temperature (1000 hPa)')\n",
    "ax.set_title('Temperature Cross Plot')\n",
    "ax.grid(True)"
   ]
  },
  {
   "cell_type": "markdown",
   "metadata": {},
   "source": [
    "<div class=\"alert alert-success\">\n",
    "    <b>EXERCISE</b>:\n",
    "     <ul>\n",
    "         <li>Beginning with our code above, add the `c` keyword argument to the `scatter` call and color the points by the difference between the surface and 1000 hPa temperature.</li>\n",
    "         <li>Add a 1:1 line to the plot (slope of 1, intercept of zero). Use a black dashed line.</li>\n",
    "         <li><b>BONUS:</b> Change the color map to be something more appropriate for this plot.</li>\n",
    "         <li><b>BONUS:</b> Try to add a colorbar to the plot (have a look at the matplotlib documentation for help).</li>\n",
    "    </ul>\n",
    "</div>"
   ]
  },
  {
   "cell_type": "code",
   "execution_count": null,
   "metadata": {},
   "outputs": [],
   "source": [
    "fig = plt.figure(figsize=(10, 6))\n",
    "ax = fig.add_subplot(1, 1, 1)\n",
    "\n",
    "# YOUR CODE GOES HERE\n",
    "\n",
    "ax.set_xlabel('Temperature (surface)')\n",
    "ax.set_ylabel('Temperature (1000 hPa)')\n",
    "ax.set_title('Temperature Cross Plot')\n",
    "ax.grid(True)"
   ]
  },
  {
   "cell_type": "markdown",
   "metadata": {},
   "source": [
    "<div class=\"alert alert-info\">\n",
    "    <b>SOLUTION</b>\n",
    "</div>"
   ]
  },
  {
   "cell_type": "code",
   "execution_count": null,
   "metadata": {},
   "outputs": [],
   "source": [
    "# %load solutions/color_scatter.py\n"
   ]
  },
  {
   "cell_type": "markdown",
   "metadata": {},
   "source": [
    "## imshow/contour\n",
    "- `imshow` displays the values in an array as colored pixels, similar to a heat map.\n",
    "- `contour` creates contours around data.\n",
    "- `contourf` creates filled contours around data.\n",
    "\n",
    "First let's create some fake data to work with - let's use a bivariate normal distribution."
   ]
  },
  {
   "cell_type": "code",
   "execution_count": null,
   "metadata": {},
   "outputs": [],
   "source": [
    "x = y = np.arange(-3.0, 3.0, 0.025)\n",
    "X, Y = np.meshgrid(x, y)\n",
    "Z1 = np.exp(-X**2 - Y**2)\n",
    "Z2 = np.exp(-(X - 1)**2 - (Y - 1)**2)\n",
    "Z = (Z1 - Z2) * 2"
   ]
  },
  {
   "cell_type": "markdown",
   "metadata": {},
   "source": [
    "Let's start with a simple imshow plot."
   ]
  },
  {
   "cell_type": "code",
   "execution_count": null,
   "metadata": {},
   "outputs": [],
   "source": [
    "fig, ax = plt.subplots()\n",
    "im = ax.imshow(Z, interpolation='bilinear', cmap='RdYlGn',\n",
    "               origin='lower', extent=[-3, 3, -3, 3])"
   ]
  },
  {
   "cell_type": "markdown",
   "metadata": {},
   "source": [
    "We can also create contours around the data."
   ]
  },
  {
   "cell_type": "code",
   "execution_count": null,
   "metadata": {},
   "outputs": [],
   "source": [
    "fig, ax = plt.subplots()\n",
    "ax.contour(X, Y, Z)"
   ]
  },
  {
   "cell_type": "code",
   "execution_count": null,
   "metadata": {},
   "outputs": [],
   "source": [
    "fig, ax = plt.subplots()\n",
    "c = ax.contour(X, Y, Z, levels=np.arange(-2, 2, 0.25))\n",
    "ax.clabel(c)"
   ]
  },
  {
   "cell_type": "code",
   "execution_count": null,
   "metadata": {},
   "outputs": [],
   "source": [
    "fig, ax = plt.subplots()\n",
    "c = ax.contourf(X, Y, Z)"
   ]
  },
  {
   "cell_type": "markdown",
   "metadata": {},
   "source": [
    "<div class=\"alert alert-success\">\n",
    "    <b>EXERCISE</b>:\n",
    "     <ul>\n",
    "         <li>Create a figure using imshow and contour that is a heatmap in the colormap of your choice. Overlay black contours with a 0.5 contour interval.</li>\n",
    "    </ul>\n",
    "</div>\n"
   ]
  },
  {
   "cell_type": "code",
   "execution_count": null,
   "metadata": {},
   "outputs": [],
   "source": [
    "# YOUR CODE GOES HERE"
   ]
  },
  {
   "cell_type": "markdown",
   "metadata": {},
   "source": [
    "<div class=\"alert alert-info\">\n",
    "    <b>SOLUTION</b>\n",
    "</div>"
   ]
  },
  {
   "cell_type": "code",
   "execution_count": null,
   "metadata": {},
   "outputs": [],
   "source": [
    "# %load solutions/imshow_contour.py"
   ]
  },
  {
   "cell_type": "markdown",
   "metadata": {},
   "source": [
    "## Resources\n",
    "\n",
    "The goal of this tutorial is to provide an overview of the use of the Matplotlib library. It covers creating simple line plots, but it is by no means comprehensive. For more information, try looking at the:\n",
    "- [Matplotlib Documentation](http://matplotlib.org)\n",
    "- [Matplotlib `plot` documentation](http://matplotlib.org/api/pyplot_api.html#matplotlib.pyplot.plot)"
   ]
  }
 ],
 "metadata": {
  "kernelspec": {
   "display_name": "Python 3",
   "language": "python",
   "name": "python3"
  },
  "language_info": {
   "codemirror_mode": {
    "name": "ipython",
    "version": 3
   },
   "file_extension": ".py",
   "mimetype": "text/x-python",
   "name": "python",
   "nbconvert_exporter": "python",
   "pygments_lexer": "ipython3",
   "version": "3.7.6"
  }
 },
 "nbformat": 4,
 "nbformat_minor": 4
}
