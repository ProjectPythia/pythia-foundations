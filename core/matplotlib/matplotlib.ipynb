{
 "cells": [
  {
   "cell_type": "markdown",
   "metadata": {},
   "source": [
    "<center><img src=\"https://matplotlib.org/_static/logo2.png\" width=600 alt=\"Matplotlib Logo\"></img></center>"
   ]
  },
  {
   "cell_type": "markdown",
   "metadata": {},
   "source": [
    "# Matplotlib Basics"
   ]
  },
  {
   "cell_type": "markdown",
   "metadata": {},
   "source": [
    "---\n",
    "## Overview\n",
    "We will cover the basics of plotting within Python, using the Matplotlib library, including a few different plots available within the library.\n",
    "\n",
    "1. Create a basic line plot.\n",
    "1. Add labels and grid lines to the plot.\n",
    "1. Plot multiple series of data.\n",
    "1. Plot image, contour, and filled contour plots."
   ]
  },
  {
   "cell_type": "markdown",
   "metadata": {},
   "source": [
    "## Prerequisites\n",
    "| Concepts | Importance | Notes |\n",
    "| --- | --- | --- |\n",
    "| [NumPy basics](../numpy/numpy-basics) | Necessary | |\n",
    "| MATLAB plotting experience | Helpful | |\n",
    "\n",
    "* **Experience level**: beginner\n",
    "* **Time to Learn**: 30 minutes"
   ]
  },
  {
   "cell_type": "markdown",
   "metadata": {},
   "source": [
    "---"
   ]
  },
  {
   "cell_type": "markdown",
   "metadata": {},
   "source": [
    "## Imports"
   ]
  },
  {
   "cell_type": "markdown",
   "metadata": {},
   "source": [
    "Let's import the matplotlib library's `pyplot` interface; this interface is the simplest way to create new Matplotlib figures. To shorten this long name, we import it as `plt` to keep things short but clear."
   ]
  },
  {
   "cell_type": "code",
   "execution_count": null,
   "metadata": {},
   "outputs": [],
   "source": [
    "import matplotlib.pyplot as plt\n",
    "import numpy as np"
   ]
  },
  {
   "cell_type": "markdown",
   "metadata": {},
   "source": [
    "<div class=\"admonition alert alert-info\">\n",
    "    <p class=\"admonition-title\" style=\"font-weight:bold\">Info</p>\n",
    "    Matplotlib is a python 2D plotting library which produces publication quality figures in a variety of hard-copy formats and interactive environments across platforms.\n",
    "</div>"
   ]
  },
  {
   "cell_type": "markdown",
   "metadata": {},
   "source": [
    "## Generate test data using `NumPy`"
   ]
  },
  {
   "cell_type": "markdown",
   "metadata": {},
   "source": [
    "Now we generate some data to use while experimenting with plotting:"
   ]
  },
  {
   "cell_type": "code",
   "execution_count": null,
   "metadata": {},
   "outputs": [],
   "source": [
    "times = np.array(\n",
    "    [\n",
    "        93.0,\n",
    "        96.0,\n",
    "        99.0,\n",
    "        102.0,\n",
    "        105.0,\n",
    "        108.0,\n",
    "        111.0,\n",
    "        114.0,\n",
    "        117.0,\n",
    "        120.0,\n",
    "        123.0,\n",
    "        126.0,\n",
    "        129.0,\n",
    "        132.0,\n",
    "        135.0,\n",
    "        138.0,\n",
    "        141.0,\n",
    "        144.0,\n",
    "        147.0,\n",
    "        150.0,\n",
    "        153.0,\n",
    "        156.0,\n",
    "        159.0,\n",
    "        162.0,\n",
    "    ]\n",
    ")\n",
    "temps = np.array(\n",
    "    [\n",
    "        310.7,\n",
    "        308.0,\n",
    "        296.4,\n",
    "        289.5,\n",
    "        288.5,\n",
    "        287.1,\n",
    "        301.1,\n",
    "        308.3,\n",
    "        311.5,\n",
    "        305.1,\n",
    "        295.6,\n",
    "        292.4,\n",
    "        290.4,\n",
    "        289.1,\n",
    "        299.4,\n",
    "        307.9,\n",
    "        316.6,\n",
    "        293.9,\n",
    "        291.2,\n",
    "        289.8,\n",
    "        287.1,\n",
    "        285.8,\n",
    "        303.3,\n",
    "        310.0,\n",
    "    ]\n",
    ")"
   ]
  },
  {
   "cell_type": "markdown",
   "metadata": {},
   "source": [
    "## Figure and Axes"
   ]
  },
  {
   "cell_type": "markdown",
   "metadata": {},
   "source": [
    "Now let's make our first plot with Matplotlib. Matplotlib has two core objects: the `Figure` and the `Axes`. The `Axes` is an individual plot with an x-axis, a y-axis, labels, etc; it has all of the various plotting methods we use. A `Figure` holds one or more `Axes` on which we draw; think of the `Figure` as the level at which things are saved to files (e.g. PNG, SVG)\n",
    "\n",
    "![anatomy of a figure](https://matplotlib.org/stable/_images/sphx_glr_anatomy_001.png \"anatomy of a figure\")"
   ]
  },
  {
   "cell_type": "markdown",
   "metadata": {},
   "source": [
    "## Line plots\n",
    "\n",
    "Let's create a `Figure` whose dimensions, if printed out on hardcopy, would be 10 inches wide and 6 inches long (assuming a landscape orientation). We then create an `Axes`, consisting of a single subplot, on the `Figure`. After that, we call `plot`, with `times` as the data along the x-axis (independent values) and `temps` as the data along the y-axis (the dependent values).\n",
    "\n",
    "<div class=\"admonition alert alert-info\">\n",
    "    <p class=\"admonition-title\" style=\"font-weight:bold\">Info</p>\n",
    "    By default, <code>ax.plot</code> will create a line plot, as seen below \n",
    "</div>\n",
    "\n"
   ]
  },
  {
   "cell_type": "code",
   "execution_count": null,
   "metadata": {},
   "outputs": [],
   "source": [
    "# Create a figure\n",
    "fig = plt.figure(figsize=(10, 6))\n",
    "\n",
    "# Ask, out of a 1x1 grid of plots, the first axes.\n",
    "ax = fig.add_subplot(1, 1, 1)\n",
    "\n",
    "# Plot times as x-variable and temperatures as y-variable\n",
    "ax.plot(times, temps)"
   ]
  },
  {
   "cell_type": "markdown",
   "metadata": {},
   "source": [
    "### Adding axes labels"
   ]
  },
  {
   "cell_type": "markdown",
   "metadata": {},
   "source": [
    "Next, add x- and y-axis labels to our `Axes` object."
   ]
  },
  {
   "cell_type": "code",
   "execution_count": null,
   "metadata": {},
   "outputs": [],
   "source": [
    "# Add some labels to the plot\n",
    "ax.set_xlabel('Time')\n",
    "ax.set_ylabel('Temperature')\n",
    "\n",
    "# Prompt the notebook to re-display the figure after we modify it\n",
    "fig"
   ]
  },
  {
   "cell_type": "markdown",
   "metadata": {},
   "source": [
    "We can also add a title to the plot and increase the fontsize:"
   ]
  },
  {
   "cell_type": "code",
   "execution_count": null,
   "metadata": {},
   "outputs": [],
   "source": [
    "ax.set_title('GFS Temperature Forecast', size=16)\n",
    "\n",
    "fig"
   ]
  },
  {
   "cell_type": "markdown",
   "metadata": {},
   "source": [
    "Of course, we can do so much more...\n",
    "\n",
    "We start by setting up another temperature array"
   ]
  },
  {
   "cell_type": "code",
   "execution_count": null,
   "metadata": {},
   "outputs": [],
   "source": [
    "temps_1000 = np.array(\n",
    "    [\n",
    "        316.0,\n",
    "        316.3,\n",
    "        308.9,\n",
    "        304.0,\n",
    "        302.0,\n",
    "        300.8,\n",
    "        306.2,\n",
    "        309.8,\n",
    "        313.5,\n",
    "        313.3,\n",
    "        308.3,\n",
    "        304.9,\n",
    "        301.0,\n",
    "        299.2,\n",
    "        302.6,\n",
    "        309.0,\n",
    "        311.8,\n",
    "        304.7,\n",
    "        304.6,\n",
    "        301.8,\n",
    "        300.6,\n",
    "        299.9,\n",
    "        306.3,\n",
    "        311.3,\n",
    "    ]\n",
    ")"
   ]
  },
  {
   "cell_type": "markdown",
   "metadata": {},
   "source": [
    "### Adding labels and a grid"
   ]
  },
  {
   "cell_type": "markdown",
   "metadata": {},
   "source": [
    "Here we call `plot` more than once to plot multiple series of temperature on the same plot; when plotting we pass `label` to `plot` to facilitate automatic creation of legend labels. This is added with the `legend` call. We also add gridlines to the plot using the `grid()` call."
   ]
  },
  {
   "cell_type": "code",
   "execution_count": null,
   "metadata": {},
   "outputs": [],
   "source": [
    "fig = plt.figure(figsize=(10, 6))\n",
    "ax = fig.add_subplot(1, 1, 1)\n",
    "\n",
    "# Plot two series of data\n",
    "# The label argument is used when generating a legend.\n",
    "ax.plot(times, temps, label='Temperature (surface)')\n",
    "ax.plot(times, temps_1000, label='Temperature (1000 mb)')\n",
    "\n",
    "# Add labels and title\n",
    "ax.set_xlabel('Time')\n",
    "ax.set_ylabel('Temperature')\n",
    "ax.set_title('Temperature Forecast')\n",
    "\n",
    "# Add gridlines\n",
    "ax.grid(True)\n",
    "\n",
    "# Add a legend to the upper left corner of the plot\n",
    "ax.legend(loc='upper left')"
   ]
  },
  {
   "cell_type": "markdown",
   "metadata": {},
   "source": [
    "### Customizing colors"
   ]
  },
  {
   "cell_type": "markdown",
   "metadata": {},
   "source": [
    "We're not restricted to the default look of the plots, but rather we can override style attributes, such as `linestyle` and `color`. `color` can accept a wide array of options for color, such as `red` or `blue` or HTML color codes. Here we use some different shades of red taken from the Tableau color set in matplotlib, by using `tab:red` for color."
   ]
  },
  {
   "cell_type": "code",
   "execution_count": null,
   "metadata": {},
   "outputs": [],
   "source": [
    "fig = plt.figure(figsize=(10, 6))\n",
    "ax = fig.add_subplot(1, 1, 1)\n",
    "\n",
    "# Specify how our lines should look\n",
    "ax.plot(times, temps, color='tab:red', label='Temperature (surface)')\n",
    "ax.plot(\n",
    "    times,\n",
    "    temps_1000,\n",
    "    color='tab:red',\n",
    "    linestyle='--',\n",
    "    label='Temperature (isobaric level)',\n",
    ")\n",
    "\n",
    "# Set the labels and title\n",
    "ax.set_xlabel('Time')\n",
    "ax.set_ylabel('Temperature')\n",
    "ax.set_title('Temperature Forecast')\n",
    "\n",
    "# Add the grid\n",
    "ax.grid(True)\n",
    "\n",
    "# Add a legend to the upper left corner of the plot\n",
    "ax.legend(loc='upper left')"
   ]
  },
  {
   "cell_type": "markdown",
   "metadata": {},
   "source": [
    "## Working with multiple panels in a figure"
   ]
  },
  {
   "cell_type": "markdown",
   "metadata": {},
   "source": [
    "Start first with some more fake data - in this case, we add dewpoint data!"
   ]
  },
  {
   "cell_type": "code",
   "execution_count": null,
   "metadata": {},
   "outputs": [],
   "source": [
    "dewpoint = 0.9 * temps\n",
    "dewpoint_1000 = 0.9 * temps_1000"
   ]
  },
  {
   "cell_type": "markdown",
   "metadata": {},
   "source": [
    "Now, let's plot it up, with the other temperature data!"
   ]
  },
  {
   "cell_type": "markdown",
   "metadata": {},
   "source": [
    "### Using add_subplot to create two different subplots within the figure\n",
    "We can use the `.add_subplot()` method to add subplots to our figure! The subplot arguements are formatted as follows:\n",
    "`(rows, columns, subplot_number)`\n",
    "\n",
    "For example, if we want a single row, with two columns, we use the following code block"
   ]
  },
  {
   "cell_type": "code",
   "execution_count": null,
   "metadata": {},
   "outputs": [],
   "source": [
    "fig = plt.figure(figsize=(10, 6))\n",
    "\n",
    "# Create a plot for temperature\n",
    "ax = fig.add_subplot(1, 2, 1)\n",
    "ax.plot(times, temps, color='tab:red')\n",
    "\n",
    "# Create a plot for dewpoint\n",
    "ax2 = fig.add_subplot(1, 2, 2)\n",
    "ax2.plot(times, dewpoint, color='tab:green')"
   ]
  },
  {
   "cell_type": "markdown",
   "metadata": {},
   "source": [
    "### Adding titles to each subplot\n",
    "We can add titles to these plots too - notice how these subplots are titled separately, each using `ax.set_title` after each subplot"
   ]
  },
  {
   "cell_type": "code",
   "execution_count": null,
   "metadata": {},
   "outputs": [],
   "source": [
    "fig = plt.figure(figsize=(10, 6))\n",
    "\n",
    "# Create a plot for temperature\n",
    "ax = fig.add_subplot(1, 2, 1)\n",
    "ax.plot(times, temps, color='tab:red')\n",
    "ax.set_title('Temperature')\n",
    "\n",
    "# Create a plot for dewpoint\n",
    "ax2 = fig.add_subplot(1, 2, 2)\n",
    "ax2.plot(times, dewpoint, color='tab:green')\n",
    "ax2.set_title('Dewpoint')"
   ]
  },
  {
   "cell_type": "markdown",
   "metadata": {},
   "source": [
    "### Using `ax.set_xlim` and `ax.set_ylim` to control the plot boundaries\n",
    "\n",
    "You may want to limit the extent of each plot, which you can do by using `.set_xlim` and `set_ylim` on the axes you are editing"
   ]
  },
  {
   "cell_type": "code",
   "execution_count": null,
   "metadata": {},
   "outputs": [],
   "source": [
    "fig = plt.figure(figsize=(10, 6))\n",
    "\n",
    "# Create a plot for temperature\n",
    "ax = fig.add_subplot(1, 2, 1)\n",
    "ax.plot(times, temps, color='tab:red')\n",
    "ax.set_title('Temperature')\n",
    "ax.set_xlim(110, 130)\n",
    "ax.set_ylim(290, 315)\n",
    "\n",
    "# Create a plot for dewpoint\n",
    "ax2 = fig.add_subplot(1, 2, 2)\n",
    "ax2.plot(times, dewpoint, color='tab:green')\n",
    "ax2.set_title('Dewpoint')\n",
    "ax2.set_xlim(110, 130)"
   ]
  },
  {
   "cell_type": "markdown",
   "metadata": {},
   "source": [
    "### Using `sharex` and `sharey` to share plot limits\n",
    "\n",
    "You may want to have both subplots share the same x/y axis limits - you can do this by adding `sharex=ax` and `sharey=ax` as arguments when adding a new axis (ex. `ax2 = fig.add_subplot()`) where `ax` is the axis you want your new axis to share limits with\n",
    "\n",
    "Let's take a look at an example"
   ]
  },
  {
   "cell_type": "code",
   "execution_count": null,
   "metadata": {},
   "outputs": [],
   "source": [
    "fig = plt.figure(figsize=(10, 6))\n",
    "\n",
    "# Create a plot for temperature\n",
    "ax = fig.add_subplot(1, 2, 1)\n",
    "ax.plot(times, temps, color='tab:red')\n",
    "ax.set_title('Temperature')\n",
    "ax.set_ylim(260, 320)\n",
    "\n",
    "# Create a plot for dewpoint\n",
    "ax2 = fig.add_subplot(1, 2, 2, sharex=ax, sharey=ax)\n",
    "ax2.plot(times, dewpoint, color='tab:green')\n",
    "ax2.set_title('Dewpoint')"
   ]
  },
  {
   "cell_type": "markdown",
   "metadata": {},
   "source": [
    "### Putting this all together"
   ]
  },
  {
   "cell_type": "markdown",
   "metadata": {},
   "source": [
    "<div class=\"admonition alert alert-info\">\n",
    "    <p class=\"admonition-title\" style=\"font-weight:bold\">Info</p>\n",
    "    You may wish to move around the location of your legend - you can do this by changing the <code>loc</code> argument in <code>ax.legend()</code>\n",
    "</div>"
   ]
  },
  {
   "cell_type": "code",
   "execution_count": null,
   "metadata": {},
   "outputs": [],
   "source": [
    "fig = plt.figure(figsize=(10, 6))\n",
    "ax = fig.add_subplot(1, 2, 1)\n",
    "\n",
    "# Specify how our lines should look\n",
    "ax.plot(times, temps, color='tab:red', label='Temperature (surface)')\n",
    "ax.plot(\n",
    "    times,\n",
    "    temps_1000,\n",
    "    color='tab:red',\n",
    "    linestyle=':',\n",
    "    label='Temperature (isobaric level)',\n",
    ")\n",
    "\n",
    "# Add labels, grid, and legend\n",
    "ax.set_xlabel('Time')\n",
    "ax.set_ylabel('Temperature')\n",
    "ax.set_title('Temperature Forecast')\n",
    "ax.grid(True)\n",
    "ax.legend(loc='upper left')\n",
    "\n",
    "\n",
    "# Add our second plot - for dewpoint, changing the colors and labels\n",
    "ax2 = fig.add_subplot(1, 2, 2, sharex=ax, sharey=ax)\n",
    "ax2.plot(times, dewpoint, color='tab:green', label='Dewpoint (surface)')\n",
    "ax2.plot(\n",
    "    times,\n",
    "    dewpoint_1000,\n",
    "    color='tab:green',\n",
    "    linestyle=':',\n",
    "    marker='o',\n",
    "    label='Dewpoint (isobaric level)',\n",
    ")\n",
    "\n",
    "ax2.set_xlabel('Time')\n",
    "ax2.set_ylabel('Dewpoint')\n",
    "ax2.set_title('Dewpoint Forecast')\n",
    "ax2.grid(True)\n",
    "ax2.legend(loc='upper left')\n",
    "ax2.set_ylim(257, 312)\n",
    "ax2.set_xlim(95, 162)"
   ]
  },
  {
   "cell_type": "markdown",
   "metadata": {},
   "source": [
    "## Scatterplot\n",
    "Maybe it doesn't make sense to plot your data as a line plot, but with markers (aka scatter plot). We can do this by setting the `linestyle` to `None` and specifying a marker type, size, color, etc."
   ]
  },
  {
   "cell_type": "code",
   "execution_count": null,
   "metadata": {},
   "outputs": [],
   "source": [
    "fig = plt.figure(figsize=(10, 6))\n",
    "ax = fig.add_subplot(1, 1, 1)\n",
    "\n",
    "# Specify no line with circle markers\n",
    "ax.plot(temps, temps_1000, linestyle='None', marker='o', markersize=5)\n",
    "\n",
    "ax.set_xlabel('Temperature (surface)')\n",
    "ax.set_ylabel('Temperature (1000 hPa)')\n",
    "ax.set_title('Temperature Cross Plot')\n",
    "ax.grid(True)"
   ]
  },
  {
   "cell_type": "markdown",
   "metadata": {},
   "source": [
    "<div class=\"admonition alert alert-info\">\n",
    "    <p class=\"admonition-title\" style=\"font-weight:bold\">Info</p>\n",
    "    You can also use the <code>scatter</code> method, which is slower, but will give you more control, such as being able to color the points individually based upon a third variable.\n",
    "</div>\n"
   ]
  },
  {
   "cell_type": "code",
   "execution_count": null,
   "metadata": {},
   "outputs": [],
   "source": [
    "fig = plt.figure(figsize=(10, 6))\n",
    "ax = fig.add_subplot(1, 1, 1)\n",
    "\n",
    "# Specify no line with circle markers\n",
    "ax.scatter(temps, temps_1000)\n",
    "\n",
    "ax.set_xlabel('Temperature (surface)')\n",
    "ax.set_ylabel('Temperature (1000 hPa)')\n",
    "ax.set_title('Temperature Cross Plot')\n",
    "ax.grid(True)"
   ]
  },
  {
   "cell_type": "markdown",
   "metadata": {},
   "source": [
    "Let's put together the following:\n",
    " * Beginning with our code above, add the `c` keyword argument to the `scatter` call and color the points by the difference between the surface and 1000 hPa temperature.\n",
    " * Add a 1:1 line to the plot (slope of 1, intercept of zero). Use a black dashed line.\n",
    " * Change the color map to be something more appropriate for this plot.\n",
    " * Add a colorbar to the plot (have a look at the matplotlib documentation for help)."
   ]
  },
  {
   "cell_type": "code",
   "execution_count": null,
   "metadata": {},
   "outputs": [],
   "source": [
    "fig = plt.figure(figsize=(10, 6))\n",
    "ax = fig.add_subplot(1, 1, 1)\n",
    "\n",
    "ax.plot([285, 320], [285, 320], color='black', linestyle='--')\n",
    "s = ax.scatter(temps, temps_1000, c=(temps - temps_1000), cmap='bwr', vmin=-5, vmax=5)\n",
    "fig.colorbar(s)\n",
    "\n",
    "ax.set_xlabel('Temperature (surface)')\n",
    "ax.set_ylabel('Temperature (1000 hPa)')\n",
    "ax.set_title('Temperature Cross Plot')\n",
    "ax.grid(True)"
   ]
  },
  {
   "cell_type": "markdown",
   "metadata": {},
   "source": [
    "## imshow\n",
    "`imshow` displays the values in an array as colored pixels, similar to a heat map.\n",
    "\n",
    "Here is some fake data to work with - let's use a bivariate normal distribution."
   ]
  },
  {
   "cell_type": "code",
   "execution_count": null,
   "metadata": {},
   "outputs": [],
   "source": [
    "x = y = np.arange(-3.0, 3.0, 0.025)\n",
    "X, Y = np.meshgrid(x, y)\n",
    "Z1 = np.exp(-(X ** 2) - Y ** 2)\n",
    "Z2 = np.exp(-((X - 1) ** 2) - (Y - 1) ** 2)\n",
    "Z = (Z1 - Z2) * 2"
   ]
  },
  {
   "cell_type": "markdown",
   "metadata": {},
   "source": [
    "Let's start with a simple imshow plot."
   ]
  },
  {
   "cell_type": "code",
   "execution_count": null,
   "metadata": {},
   "outputs": [],
   "source": [
    "fig, ax = plt.subplots()\n",
    "im = ax.imshow(\n",
    "    Z, interpolation='bilinear', cmap='RdYlGn', origin='lower', extent=[-3, 3, -3, 3]\n",
    ")"
   ]
  },
  {
   "cell_type": "markdown",
   "metadata": {},
   "source": [
    "## contour/contourf\n",
    "- `contour` creates contours around data.\n",
    "- `contourf` creates filled contours around data."
   ]
  },
  {
   "cell_type": "markdown",
   "metadata": {},
   "source": [
    "We can also create contours around the data."
   ]
  },
  {
   "cell_type": "code",
   "execution_count": null,
   "metadata": {},
   "outputs": [],
   "source": [
    "fig, ax = plt.subplots()\n",
    "ax.contour(X, Y, Z)"
   ]
  },
  {
   "cell_type": "markdown",
   "metadata": {},
   "source": [
    "Now let's label our contour lines"
   ]
  },
  {
   "cell_type": "code",
   "execution_count": null,
   "metadata": {},
   "outputs": [],
   "source": [
    "fig, ax = plt.subplots()\n",
    "c = ax.contour(X, Y, Z, levels=np.arange(-2, 2, 0.25))\n",
    "ax.clabel(c)"
   ]
  },
  {
   "cell_type": "markdown",
   "metadata": {},
   "source": [
    "The `contourf` method stands for contour fill, which fills in the contours!"
   ]
  },
  {
   "cell_type": "code",
   "execution_count": null,
   "metadata": {},
   "outputs": [],
   "source": [
    "fig, ax = plt.subplots()\n",
    "c = ax.contourf(X, Y, Z)"
   ]
  },
  {
   "cell_type": "markdown",
   "metadata": {},
   "source": [
    "Finally, let's create a figure using `imshow` and `contour` that is a heatmap in the colormap of our choice, then overlay black contours with a 0.5 contour interval."
   ]
  },
  {
   "cell_type": "code",
   "execution_count": null,
   "metadata": {},
   "outputs": [],
   "source": [
    "fig, ax = plt.subplots()\n",
    "im = ax.imshow(\n",
    "    Z, interpolation='bilinear', cmap='PiYG', origin='lower', extent=[-3, 3, -3, 3]\n",
    ")\n",
    "c = ax.contour(X, Y, Z, levels=np.arange(-2, 2, 0.5), colors='black')\n",
    "ax.clabel(c)"
   ]
  },
  {
   "cell_type": "markdown",
   "metadata": {},
   "source": [
    "---"
   ]
  },
  {
   "cell_type": "markdown",
   "metadata": {},
   "source": [
    "## Summary\n",
    "* `Matplotlib` can be used to visualize datasets you are working with\n",
    "* You can customize various features such as labels and styles\n",
    "* There are a wide variety of plotting options available, including (but not limited to)\n",
    "    * Line plots (`plot`)\n",
    "    * Scatter plots (`scatter`)\n",
    "    * Imshow (`imshow`)\n",
    "    * Contour line and contour fill plots (`contour`, `contourf`)"
   ]
  },
  {
   "cell_type": "markdown",
   "metadata": {},
   "source": [
    "## What's Next?\n",
    "In the next notebook, we will cover more plotting functionality such as histograms, pie charts, and animation"
   ]
  },
  {
   "cell_type": "markdown",
   "metadata": {},
   "source": [
    "## Resources and References\n",
    "\n",
    "The goal of this tutorial is to provide an overview of the use of the Matplotlib library. It covers creating simple line plots, but it is by no means comprehensive. For more information, try looking at the:\n",
    "- [Matplotlib Documentation](http://matplotlib.org)\n",
    "- [Matplotlib `plot` documentation](https://matplotlib.org/stable/index.html)\n",
    "- [GeoCAT examples gallery](https://geocat-examples.readthedocs.io/en/latest/gallery/index.html)"
   ]
  }
 ],
 "metadata": {
  "kernelspec": {
   "display_name": "Python 3",
   "language": "python",
   "name": "python3"
  },
  "language_info": {
   "codemirror_mode": {
    "name": "ipython",
    "version": 3
   },
   "file_extension": ".py",
   "mimetype": "text/x-python",
   "name": "python",
   "nbconvert_exporter": "python",
   "pygments_lexer": "ipython3",
   "version": "3.8.10"
  }
 },
 "nbformat": 4,
 "nbformat_minor": 4
}
