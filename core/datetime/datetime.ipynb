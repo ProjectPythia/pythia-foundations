{
 "cells": [
  {
   "cell_type": "markdown",
   "metadata": {},
   "source": [
    "# Times and dates in Python"
   ]
  },
  {
   "cell_type": "markdown",
   "metadata": {},
   "source": [
    "---"
   ]
  },
  {
   "cell_type": "markdown",
   "metadata": {},
   "source": [
    "## Overview\n",
    "\n",
    "Time is an essential component of nearly all geoscience data. Timescales span orders of magnitude from microseconds for lightning, hours for a supercell thunderstorm, days for a global weather model, millenia and beyond for the earth's climate. To properly analyze geoscience data, you must have a firm understanding of how to handle time in Python. \n",
    "\n",
    "In this notebook, we will:\n",
    "\n",
    "1. Introduce the [time](https://docs.python.org/3/library/time.html) and [datetime](https://docs.python.org/3/library/datetime.html) modules from the Python Standard Library\n",
    "1. Look at formatted input and output of dates and times\n",
    "1. See how we can do simple arithmetic on date/time data, making use of the `timedelta` object\n",
    "1. Briefly make use of the [pytz](https://pypi.org/project/pytz/) module to handle some thorny time zone issues in Python."
   ]
  },
  {
   "cell_type": "markdown",
   "metadata": {},
   "source": [
    "## Prerequisites\n",
    "\n",
    "| Concepts | Importance | Notes |\n",
    "| --- | --- | --- |\n",
    "| [Python Quickstart](../../foundations/quickstart) | Necessary | Understanding strings |\n",
    "| Basic Python string formatting | Helpful | Try this [Real Python string formatting tutorial](https://realpython.com/python-string-formatting/) |\n",
    "\n",
    "- **Experience level**: beginner\n",
    "- **Time to learn**: medium"
   ]
  },
  {
   "cell_type": "markdown",
   "metadata": {},
   "source": [
    "---"
   ]
  },
  {
   "cell_type": "markdown",
   "metadata": {},
   "source": [
    "## Imports"
   ]
  },
  {
   "cell_type": "code",
   "execution_count": null,
   "metadata": {},
   "outputs": [],
   "source": [
    "# Python Standard Library packages\n",
    "# We'll discuss below WHY we alias the packages this way\n",
    "import datetime as dt\n",
    "import math\n",
    "import time as tm\n",
    "\n",
    "# Third-party package for time zone handling, we'll discuss below!\n",
    "import pytz"
   ]
  },
  {
   "cell_type": "markdown",
   "metadata": {},
   "source": [
    "## `Time` Versus `Datetime` modules \n",
    "\n",
    "### Some core terminology\n",
    "\n",
    "Python comes with [time](https://docs.python.org/3/library/time.html) and [datetime](https://docs.python.org/3/library/datetime.html) modules as part of the Standard Library included with every Python installation. Unfortunately, Python can be initially disorienting because of the heavily overlapping terminology concerning dates and times:\n",
    "\n",
    "-   `datetime` **module** has a `datetime` **class**\n",
    "-   `datetime` **module** has a `time` **class**\n",
    "-   `datetime` **module** has a `date` **class**\n",
    "-   `time` **module** has a `time` function which returns (almost always) [Unix time](#What-is-Unix-Time?)\n",
    "-   `datetime` **class** has a `date` method which returns a `date` object\n",
    "-   `datetime` **class** has a `time` method which returns a `time` object\n",
    "\n",
    "This confusion can be partially alleviated by aliasing our imported modules, we did above:\n",
    "\n",
    "```\n",
    "import datetime as dt\n",
    "import time as tm\n",
    "```\n",
    "\n",
    "We can now reference the `datetime` module (aliased to `dt`) and `datetime` object unambiguously."
   ]
  },
  {
   "cell_type": "code",
   "execution_count": null,
   "metadata": {},
   "outputs": [],
   "source": [
    "pisecond = dt.datetime(2021, 3, 14, 15, 9, 26)\n",
    "print(pisecond)"
   ]
  },
  {
   "cell_type": "markdown",
   "metadata": {},
   "source": [
    "Our variable `pisecond` now stores a particular date and time, which just happens to be $\\pi$-day 2021 down to the nearest second (3.1415926...)"
   ]
  },
  {
   "cell_type": "code",
   "execution_count": null,
   "metadata": {},
   "outputs": [],
   "source": [
    "now = tm.time()\n",
    "print(now)"
   ]
  },
  {
   "cell_type": "markdown",
   "metadata": {},
   "source": [
    "The variable `now` holds the current time in seconds since January 1, 1970 00:00 [UTC](#What-is-UTC?) (see [What is Unix Time](#What-is-Unix-Time?) below)."
   ]
  },
  {
   "cell_type": "markdown",
   "metadata": {},
   "source": [
    "### `time` module\n",
    "\n",
    "The `time` module is well-suited for measuring [Unix time](#What-is-Unix-Time?). For example, when you are calculating how long it takes a Python function to run (so-called \"benchmarking\"), you can employ the `time()` function from the `time` module to obtain Unix time before and after the function completes and take the difference of those two times."
   ]
  },
  {
   "cell_type": "code",
   "execution_count": null,
   "metadata": {},
   "outputs": [],
   "source": [
    "start = tm.time()\n",
    "tm.sleep(1)  # The sleep function will stop the program for n seconds\n",
    "end = tm.time()\n",
    "diff = end - start\n",
    "print(f\"The benchmark took {diff} seconds\")"
   ]
  },
  {
   "cell_type": "markdown",
   "metadata": {},
   "source": [
    "<div class=\"admonition alert alert-info\">\n",
    "    <p class=\"admonition-title\" style=\"font-weight:bold\">Info</p>\n",
    "    For more accurate benchmarking, see the <a href=\"https://docs.python.org/3/library/timeit.html\">timeit</a> module.\n",
    "</div>"
   ]
  },
  {
   "cell_type": "markdown",
   "metadata": {},
   "source": [
    "### What is Unix Time?\n",
    "\n",
    "Unix time is an example of system time which is the computer's notion of passing time. It is measured in seconds from the the start of the epoch which is January 1, 1970 00:00 [UTC](#What-is-UTC?). It is represented \"under the hood\" as a [floating point number](https://en.wikipedia.org/wiki/Floating_point) which is how computers represent real (ℝ) numbers ."
   ]
  },
  {
   "cell_type": "markdown",
   "metadata": {},
   "source": [
    "### `datetime` module\n",
    "\n",
    "The `datetime` module handles time with the Gregorian calendar (the calendar we are all familiar with) and is independent of Unix time. The `datetime` module has an [object-oriented](#Thirty-second-introduction-to-Object-Oriented-programming) approach with the `date`, `time`, `datetime`, `timedelta`, and `tzinfo` classes.\n",
    "\n",
    "-   `date` class represents the day, month and year\n",
    "-   `time` class represents the time of day\n",
    "-   `datetime` class is a combination of the `date` and `time` classes\n",
    "-   `timedelta` class represents a time duration\n",
    "-   `tzinfo` (abstract) class represents time zones\n",
    "\n",
    "The `datetime` module is effective for:\n",
    "\n",
    "-   performing date and time arithmetic and calculating time duration\n",
    "-   reading and writing date and time strings with various formats\n",
    "-   handling time zones (with the help of third-party libraries)\n",
    "\n",
    "The `time` and `datetime` modules overlap in functionality, but in your geoscientific work, you will probably be using the `datetime` module more than the `time` module."
   ]
  },
  {
   "cell_type": "markdown",
   "metadata": {},
   "source": [
    "We'll delve into more details below, but here's a quick example of writing out our `pisecond` datetime object as a formatted string. Suppose we wanted to write out just the date, and write it in the _month/day/year_ format typically used in the US. We can use the `strftime()` method with a format specifier:"
   ]
  },
  {
   "cell_type": "code",
   "execution_count": null,
   "metadata": {},
   "outputs": [],
   "source": [
    "print('Pi day occurred on:', pisecond.strftime(format='%m/%d/%Y'))"
   ]
  },
  {
   "cell_type": "markdown",
   "metadata": {},
   "source": [
    "## Reading and writing dates and times\n",
    "\n",
    "### Parsing lightning data timestamps with the `datetime.strptime` method\n",
    "\n",
    "Suppose you want to analyze [US NLDN lightning data](https://ghrc.nsstc.nasa.gov/uso/ds_docs/vaiconus/vaiconus_dataset.html). Here is a sample row of data:\n",
    "\n",
    "    06/27/07 16:18:21.898 18.739 -88.184 0.0 kA 0 1.0 0.4 2.5 8 1.2 13 G\n",
    "\n",
    "Part of the task involves parsing the `06/27/07 16:18:21.898` time string into a `datetime` object. (The full description of the data is [here](https://ghrc.nsstc.nasa.gov/uso/ds_docs/vaiconus/vaiconus_dataset.html#a6).) In order to parse this string or others that follow the same format, you will employ the [datetime.strptime()](https://docs.python.org/3/library/datetime.html#datetime.datetime.strptime) method from the `datetime` module. This method takes two arguments: \n",
    "1. the date time string you wish to parse\n",
    "2. the format which describes exactly how the date and time are arranged. \n",
    "\n",
    "[The full range of format options is described in the Python documentation](https://docs.python.org/3/library/datetime.html#strftime-and-strptime-behavior). In reality, the format will take some degree of experimentation to get right. This is a situation where Python shines as you can quickly try out different solutions in the IPython interpreter (or in a notebook). Beyond the official documentation, Google and [Stack Overflow](https://stackoverflow.com/) are your friends in this process. \n",
    "\n",
    "Eventually, after some trial and error, you will find the `'%m/%d/%y %H:%M:%S.%f'` format will properly parse the date and time."
   ]
  },
  {
   "cell_type": "code",
   "execution_count": null,
   "metadata": {},
   "outputs": [],
   "source": [
    "strike_time = dt.datetime.strptime('06/27/07 16:18:21.898', '%m/%d/%y %H:%M:%S.%f')\n",
    "# print strike_time to see if we have properly parsed our time\n",
    "print(strike_time)"
   ]
  },
  {
   "cell_type": "markdown",
   "metadata": {},
   "source": [
    "### Example usage of the `datetime` object\n",
    "\n",
    "Why did we bother doing this? It might look like all we've done here is take the string `06/27/07 16:18:21.898` and reformatted it to `2007-06-27 16:18:21.898000`.\n",
    "\n",
    "But in fact our variable `strike_time` is a `datetime` object that we can manipulate in many useful ways. \n",
    "\n",
    "A few quick examples:"
   ]
  },
  {
   "cell_type": "markdown",
   "metadata": {},
   "source": [
    "#### Controlling the output format with `strftime()`\n",
    "\n",
    "Suppose we want to write out just the time (not date) in particular format like this:\n",
    "```\n",
    "16h 18m 21s\n",
    "```\n",
    "\n",
    "We can do this with the [datetime.strftime()](https://docs.python.org/2/library/datetime.html#datetime.date.strftime) method, which takes a format identical to the one we employed for `strptime()`. After some trial and error from the IPython interpreter, we arrive at `'%Hh %Mm %Ss'`:"
   ]
  },
  {
   "cell_type": "code",
   "execution_count": null,
   "metadata": {},
   "outputs": [],
   "source": [
    "print(strike_time.strftime(format='%Hh %Mm %Ss'))"
   ]
  },
  {
   "cell_type": "markdown",
   "metadata": {},
   "source": [
    "#### A simple query of just the year:\n",
    "\n",
    "Here's a useful shortcut that doesn't even need a format specifier:"
   ]
  },
  {
   "cell_type": "code",
   "execution_count": null,
   "metadata": {},
   "outputs": [],
   "source": [
    "strike_time.year"
   ]
  },
  {
   "cell_type": "markdown",
   "metadata": {},
   "source": [
    "This works because the `datetime` object stores the data as individual attributes: \n",
    "`year`, `month`, `day`, `hour`, `minute`, `second`, `microsecond`."
   ]
  },
  {
   "cell_type": "markdown",
   "metadata": {},
   "source": [
    "#### See how many days have elapsed since the strike:"
   ]
  },
  {
   "cell_type": "code",
   "execution_count": null,
   "metadata": {},
   "outputs": [],
   "source": [
    "(dt.datetime.now() - strike_time).days"
   ]
  },
  {
   "cell_type": "markdown",
   "metadata": {},
   "source": [
    "This last example actually shows how we can do simple arithmetic with `datetime` objects! We'll see more of this in the next section."
   ]
  },
  {
   "cell_type": "markdown",
   "metadata": {},
   "source": [
    "## Calculating coastal tides with the `timedelta` class\n",
    "\n",
    "Let's suppose we are looking at coastal tide and current data perhaps in a [tropical cyclone storm surge scenario](http://www.nhc.noaa.gov/surge/). \n",
    "\n",
    "The [lunar day](http://oceanservice.noaa.gov/education/kits/tides/media/supp_tide05.html) is 24 hours, 50 minutes with two low tides and two high tides in that time duration. If we know the time of the current high tide, we can easily calculate the occurrence of the next low and high tides with the [timedelta class](https://docs.python.org/3/library/datetime.html#timedelta-objects). (In reality, the *exact time* of tides is influenced by local coastal effects, in addition to the laws of celestial mechanics, but we will ignore that fact for this exercise.)\n",
    "\n",
    "The `timedelta` class is initialized by supplying time duration usually supplied with [keyword arguments](https://docs.python.org/3/glossary.html#term-argument) to clearly express the length of time. Significantly, you can use the `timedelta` class with arithmetic operators (i.e., `+`, `-`, `*`, `/`) to obtain new dates and times as the next code sample illustrates. \n",
    "\n",
    "This convenient language feature is known as [operator overloading](https://en.wikipedia.org/wiki/Operator_overloading) and again illustrates Python's batteries-included philosophy of making life easier for the programmer. (In another language such as Java, you would have to call a method significantly obfuscating the code.) \n",
    "\n",
    "Another great feature is that the difference of two times (like we did above with the [lightning strike data](#See-how-many-days-have-elapsed-since-the-strike:)) will yield a `timedelta` object. Let's examine all these features in the following code block."
   ]
  },
  {
   "cell_type": "code",
   "execution_count": null,
   "metadata": {},
   "outputs": [],
   "source": [
    "high_tide = dt.datetime(2016, 6, 1, 4, 38, 0)\n",
    "lunar_day = dt.timedelta(hours=24, minutes=50)\n",
    "tide_duration = lunar_day / 4  # Here we do some arithmetic on the timedelta object!\n",
    "next_low_tide = (\n",
    "    high_tide + tide_duration\n",
    ")  # Here we add a timedelta object to a datetime object\n",
    "next_high_tide = high_tide + (2 * tide_duration)  # and so on\n",
    "tide_length = next_high_tide - high_tide\n",
    "print(f\"The time between high and low tide is {tide_duration}.\")\n",
    "print(f\"The current high tide is {high_tide}.\")\n",
    "print(f\"The next low tide is {next_low_tide}.\")\n",
    "print(f\"The next high tide {next_high_tide}.\")\n",
    "print(f\"The tide length is {tide_length}.\")\n",
    "print(\"The type of the 'tide_length' variable is {}.\".format(type(tide_length)))"
   ]
  },
  {
   "cell_type": "markdown",
   "metadata": {},
   "source": [
    "In the last `print` statement, we use the [type()](https://docs.python.org/3/library/functions.html#type) built-in Python function to show that the difference between two times yields a `timedelta` object."
   ]
  },
  {
   "cell_type": "markdown",
   "metadata": {},
   "source": [
    "## Dealing with Time Zones\n",
    "\n",
    "Time zones can be a source of confusion and frustration in geoscientific data and in computer programming in general. Core date and time libraries in various programming languages inevitably have design flaws (Python is no different) leading to third-party libraries that attempt to fix the core library limitations. To avoid these issues, it is best to handle data in UTC, or at the very least operate in a consistent time zone, but that is not always possible. Users will expect their tornado alerts in local time.\n",
    "\n",
    "### What is UTC?\n",
    "\n",
    "[UTC](https://en.wikipedia.org/wiki/Coordinated_Universal_Time) is an abbreviation of Coordinated Universal Time and is equivalent to Greenwich Mean Time (GMT), in practice. (Greenwich at 0 degrees longitude, is a district of London, England.) In geoscientific data, times are often in UTC though you should always verify this assumption is actually true!\n",
    "\n",
    "### Time Zone Naive Versus Time Zone Aware `datetime` Objects\n",
    "\n",
    "When you create `datetime` objects in Python, they are so-called \"naive\" which means they are time zone unaware. In many situations, you can happily go forward without this detail getting in the way of your work. As the [Python documentation states](https://docs.python.org/3/library/datetime.html#aware-and-naive-objects):\n",
    ">Naive objects are easy to understand and to work with, at the cost of ignoring some aspects of reality. \n",
    "\n",
    "However, if you wish to convey time zone information, you will have to make your `datetime` objects time zone aware. The `datetime` library is able to handle conversions to UTC:"
   ]
  },
  {
   "cell_type": "code",
   "execution_count": null,
   "metadata": {},
   "outputs": [],
   "source": [
    "naive = dt.datetime.now()\n",
    "aware = dt.datetime.now(dt.timezone.utc)\n",
    "print(f\"I am time zone naive {naive}.\")\n",
    "print(f\"I am time zone aware {aware}.\")"
   ]
  },
  {
   "cell_type": "markdown",
   "metadata": {},
   "source": [
    "Notice that `aware` has `+00:00` appended at the end, indicating zero hours offset from UTC.\n",
    "\n",
    "Our `naive` object shows the local time on whatever computer was used to run this code. If you're reading this online, then chances are it was executed on a cloud server that already uses UTC, so `naive` and `aware` will differ only at the microsecond level!\n",
    "\n",
    "In the code above, we used `dt.timezone.utc` to initialize the UTC timezone for our `aware` object. Unfortunately at this time the Python Standard Library does not fully support initializing `datetime` objects with arbitrary time zones, or conversions between different time zones. "
   ]
  },
  {
   "cell_type": "markdown",
   "metadata": {},
   "source": [
    "### Full time zone support with the `pytz` module\n",
    "\n",
    "For improved handling of time zones in Python, you will need the third-party [pytz](https://pypi.org/project/pytz/) module whose classes build upon, or \"inherit\" in OO terminology, from `datetime` classes. \n",
    "\n",
    "Here, we repeat the above exercise but initialize our `aware` object in a different time zone:"
   ]
  },
  {
   "cell_type": "code",
   "execution_count": null,
   "metadata": {},
   "outputs": [],
   "source": [
    "naive = dt.datetime.now()\n",
    "aware = dt.datetime.now(pytz.timezone('US/Mountain'))\n",
    "print(f\"I am time zone naive: {naive}.\")\n",
    "print(f\"I am time zone aware: {aware}.\")"
   ]
  },
  {
   "cell_type": "markdown",
   "metadata": {},
   "source": [
    "The `pytz.timezone()` method takes a time zone string and returns a `tzinfo` object which can be used to initialize the time zone. The `-06:00` denotes we are operating in a time zone six hours behind UTC.\n",
    "\n",
    "### Print Time with a Different Time Zone\n",
    "\n",
    "If you have data that are in UTC, and wish to convert them to another time zone, Mountain Time Zone for example, you will again make use of the `pytz` module. \n",
    "\n",
    "First, we will create a UTC time with the [utcnow()](https://docs.python.org/3/library/datetime.html#datetime.datetime.utcnow) method which inexplicably returns a time zone naive object so you must still specify the UTC time zone with the [replace()](https://docs.python.org/3/library/datetime.html#datetime.datetime.replace) method. We then create a \"US/Mountain\" `tzinfo` object as before, but this time we will use the [astimzone()](https://docs.python.org/3/library/datetime.html#datetime.datetime.astimezone) method to adjust the time to the specified time zone."
   ]
  },
  {
   "cell_type": "code",
   "execution_count": null,
   "metadata": {},
   "outputs": [],
   "source": [
    "utc = dt.datetime.utcnow().replace(tzinfo=pytz.utc)\n",
    "print(\"The UTC time is {}.\".format(utc.strftime('%B %d, %Y, %-I:%M%p')))\n",
    "mountaintz = pytz.timezone(\"US/Mountain\")\n",
    "ny = utc.astimezone(mountaintz)\n",
    "print(\"The 'US/Mountain' time is {}.\".format(ny.strftime('%B %d, %Y, %-I:%M%p')))"
   ]
  },
  {
   "cell_type": "markdown",
   "metadata": {},
   "source": [
    "Here we've also used the `strftime()` method to format a human-friendly date and time string."
   ]
  },
  {
   "cell_type": "markdown",
   "metadata": {},
   "source": [
    "---"
   ]
  },
  {
   "cell_type": "markdown",
   "metadata": {},
   "source": [
    "## Summary\n",
    "\n",
    "The Python Standard Library contains several modules for dealing with date and time data. We saw how we can avoid some name ambiguities by aliasing the module names with `import datetime as dt` and `import time as tm`. The `tm.time()` method just returns the current [Unix time](#What-is-Unix-Time?) in seconds -- which can be useful for measuring elapsed time, but not all that useful for working with geophysical data.\n",
    "\n",
    "The `datetime` module contains various classes for storing, converting, comparing, and formatting date and time data on the Gregorian calendar. We saw how we can parse data files with date and time strings into `dt.datetime` objects using the `dt.datetime.strptime()` method. We also saw how we can do arithmetic on time and date data, making use of the `dt.timedelta` class to represent intervals of time.\n",
    "\n",
    "Finally, we looked at using the third-party [pytz](https://pypi.org/project/pytz/) module to handle timezone awareness and conversions.\n",
    "\n",
    "### What's Next?\n",
    "\n",
    "In subsequent tutorials, we will dig deeper into different time and date formats, and how they are handled by important Python modules such as Numpy, Pandas, and Xarray."
   ]
  },
  {
   "cell_type": "markdown",
   "metadata": {},
   "source": [
    "## Resources and References\n",
    "\n",
    "This notebook was adapted from material in [Unidata's Python Training](https://unidata.github.io/python-training/python/times_and_dates/).\n",
    "\n",
    "For further reading on these modules, take a look at the official documentation for:\n",
    "- [time](https://docs.python.org/3/library/time.html)\n",
    "- [datetime](https://docs.python.org/3/library/datetime.html)\n",
    "- [pytz](https://pypi.org/project/pytz/)\n",
    "\n",
    "For more information on Python string formatting, try:\n",
    "- [Python string documentation](https://docs.python.org/3/library/string.html)\n",
    "- A nice tutorial from [RealPython](https://realpython.com/python-string-formatting/)"
   ]
  }
 ],
 "metadata": {
  "kernelspec": {
   "display_name": "Python 3",
   "language": "python",
   "name": "python3"
  },
  "language_info": {
   "codemirror_mode": {
    "name": "ipython",
    "version": 3
   },
   "file_extension": ".py",
   "mimetype": "text/x-python",
   "name": "python",
   "nbconvert_exporter": "python",
   "pygments_lexer": "ipython3",
   "version": "3.8.10"
  }
 },
 "nbformat": 4,
 "nbformat_minor": 4
}
