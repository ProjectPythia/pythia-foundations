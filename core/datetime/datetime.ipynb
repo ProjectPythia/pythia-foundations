{
 "cells": [
  {
   "cell_type": "markdown",
   "metadata": {},
   "source": [
    "# Times and dates in Python"
   ]
  },
  {
   "cell_type": "markdown",
   "metadata": {},
   "source": [
    "---"
   ]
  },
  {
   "cell_type": "markdown",
   "metadata": {},
   "source": [
    "## Overview\n",
    "\n",
    "Time is an essential component of nearly all geoscience data. Timescales span orders of magnitude from microseconds for lightning, hours for a supercell thunderstorm, days for a global weather model, millenia and beyond for the earth's climate. To properly analyze geoscience data, you must have a firm understanding of how to handle time in Python. \n",
    "\n",
    "In this notebook, we will:\n",
    "\n",
    "1. Introduce the [time](https://docs.python.org/3/library/time.html) and [datetime](https://docs.python.org/3/library/datetime.html) modules from the Python Standard Library\n",
    "1. Take a brief aside into Object-Oriented programming and Python classes\n",
    "1. Look at formatted input and output of dates and times\n",
    "1. See how we can do simple arithmetic on date/time data, making use of the `timedelta` object\n",
    "1. Briefly make use of the [pytz](https://pypi.python.org/pypi/pytz) module to handle some thorny time zone issues in Python."
   ]
  },
  {
   "cell_type": "markdown",
   "metadata": {},
   "source": [
    "## Prerequisites\n",
    "\n",
    "Label the importance of each concept explicitly as **helpful/necessary**.\n",
    "\n",
    "| Concepts | Importance | Notes |\n",
    "| --- | --- | --- |\n",
    "| Basic Python string formatting | Helpful | |\n",
    "\n",
    "- **Experience level**: **beginner**\n",
    "- **Time to learn**: **medium**"
   ]
  },
  {
   "cell_type": "markdown",
   "metadata": {},
   "source": [
    "---"
   ]
  },
  {
   "cell_type": "markdown",
   "metadata": {},
   "source": [
    "## Imports"
   ]
  },
  {
   "cell_type": "code",
   "execution_count": null,
   "metadata": {},
   "outputs": [],
   "source": [
    "import datetime as dt\n",
    "import json\n",
    "import math\n",
    "import time as tm\n",
    "import urllib.request\n",
    "\n",
    "import pytz"
   ]
  },
  {
   "cell_type": "markdown",
   "metadata": {},
   "source": [
    "## `Time` Versus `Datetime` modules \n",
    "\n",
    "### Some core terminology\n",
    "\n",
    "Python comes with [time](https://docs.python.org/3/library/time.html) and [datetime](https://docs.python.org/3/library/datetime.html) modules. Unfortunately, Python can be initially disorienting because of the heavily overlapping terminology concerning dates and times:\n",
    "\n",
    "-   `datetime` **module** has a `datetime` **class**\n",
    "-   `datetime` **module** has a `time` **class**\n",
    "-   `datetime` **module** has a `date` **class**\n",
    "-   `time` **module** has a `time` function which returns (almost always) [Unix time](#What-is-Unix-Time?)\n",
    "-   `datetime` **class** has a `date` method which returns a `date` object\n",
    "-   `datetime` **class** has a `time` method which returns a `time` object\n",
    "\n",
    "This confusion can be partially alleviated by aliasing our imported modules, we did above:\n",
    "\n",
    "```\n",
    "import datetime as dt\n",
    "import time as tm\n",
    "```\n",
    "\n",
    "We can now reference the `datetime` module (alaised to `dt`) and `datetime` object unambiguously"
   ]
  },
  {
   "cell_type": "code",
   "execution_count": null,
   "metadata": {},
   "outputs": [],
   "source": [
    "pisecond = dt.datetime(2016, 3, 14, 15, 9, 26)\n",
    "print(pisecond)"
   ]
  },
  {
   "cell_type": "code",
   "execution_count": null,
   "metadata": {},
   "outputs": [],
   "source": [
    "now = tm.time()\n",
    "print(now)"
   ]
  },
  {
   "cell_type": "markdown",
   "metadata": {},
   "source": [
    "### `time` module\n",
    "\n",
    "The `time` module is well-suited for measuring [Unix time](#What-is-Unix-Time?). For example, when you are calculating how long it takes a Python function to run (so-called \"benchmarking\"), you can employ the `time()` function from the `time` module to obtain Unix time before and after the function completes and take the difference of those two times."
   ]
  },
  {
   "cell_type": "code",
   "execution_count": null,
   "metadata": {},
   "outputs": [],
   "source": [
    "start = tm.time()\n",
    "tm.sleep(1)  # The sleep function will stop the program for n seconds\n",
    "end = tm.time()\n",
    "diff = end - start\n",
    "print(f\"The benchmark took {diff} seconds\")"
   ]
  },
  {
   "cell_type": "markdown",
   "metadata": {},
   "source": [
    "<div class=\"admonition alert alert-info\">\n",
    "    <p class=\"title\" style=\"font-weight:bold\">Info</p>\n",
    "    For more accurate benchmarking, see the <a href=\"https://docs.python.org/3/library/timeit.html\">timeit</a> module.\n",
    "</div>"
   ]
  },
  {
   "cell_type": "markdown",
   "metadata": {},
   "source": [
    "### `datetime` module\n",
    "\n",
    "The `datetime` module handles time with the Gregorian calendar (the calendar we are all familiar with) and is independent of Unix time. The `datetime` module has an [object-oriented](#Thirty-second-introduction-to-Object-Oriented-programming) approach with the `date`, `time`, `datetime`, `timedelta`, and `tzinfo` classes.\n",
    "\n",
    "-   `date` class represents the day, month and year\n",
    "-   `time` class represents the time of day\n",
    "-   `datetime` class is a combination of the `date` and `time` classes\n",
    "-   `timedelta` class represents a time duration\n",
    "-   `tzinfo` (abstract) class represents time zones\n",
    "\n",
    "The `datetime` module is effective for:\n",
    "\n",
    "-   performing date and time arithmetic and calculating time duration\n",
    "-   reading and writing date and time strings in a particular format\n",
    "-   handling time zones (with the help of third-party libraries)\n",
    "\n",
    "The `time` and `datetime` modules overlap in functionality, but in your geoscientific work, you will probably be using the `datetime` module more than the `time` module.\n",
    "\n",
    "### What is Unix Time?\n",
    "\n",
    "Unix time is an example of system time which is the computer's notion of passing time. It is measured in seconds from the the start of the epoch which is January 1, 1970 00:00 [UTC](#What-is-UTC?). It is represented \"under the hood\" as a [floating point number](https://en.wikipedia.org/wiki/Floating_point) which is how computers represent real (ℝ) numbers ."
   ]
  },
  {
   "cell_type": "markdown",
   "metadata": {},
   "source": [
    "## Thirty second introduction to Object-Oriented programming\n",
    "\n",
    "We have been talking about object-oriented (OO) programming by mentioning terms like \"class\", \"object\", and \"method\", but never really explaining what they mean. A class is a collection of related variables, similar to a [struct](https://en.wikipedia.org/wiki/Struct_&#40;C_programming_language&#41;), in the C programming language or even a tuple in Python) coupled with functions, or \"methods\" in OO parlance, that can act on those variables. An object is a concrete example of a class.\n",
    "\n",
    "For example, you might have a `Coord` class that represents an earth location with latitude, and longitude, and along with those data you could have a method that returns the distance between two locations. \n",
    "\n",
    "In our example, we name our method `distancekm()`, and it implements the formula for the [great-circle distance](https://en.wikipedia.org/wiki/Great-circle_distance) between two points on the sphere:\n",
    "\n",
    "$$ d = R~\\arccos\\Big(  \\sin(\\phi_1)\\sin(\\phi_2) + \\cos(\\phi_1)\\cos(\\phi_2)\\cos(\\lambda_1-\\lambda_2) \\Big) $$\n",
    "\n",
    "where $\\phi_1, \\lambda_1$ and $\\phi_2, \\lambda_2$ are the *latitude* and *longitude* of points 1 and 2 in *radians*, and $R$ is the radius of the Earth."
   ]
  },
  {
   "cell_type": "code",
   "execution_count": null,
   "metadata": {},
   "outputs": [],
   "source": [
    "class Coord:\n",
    "    \"\"\"Earth location identified by (latitude, longitude) coordinates.\n",
    "    distancekm  -- distance between two points in kilometers\n",
    "    \"\"\"\n",
    "\n",
    "    def __init__(self, latitude=0.0, longitude=0.0):\n",
    "        self.lat = latitude\n",
    "        self.lon = longitude\n",
    "\n",
    "    def distancekm(self, p):\n",
    "        \"\"\"Distance between two points in kilometers.\"\"\"\n",
    "        DEGREES_TO_RADIANS = math.pi / 180.0\n",
    "        EARTH_RADIUS = 6373  # in KMs\n",
    "        phi1 = self.lat * DEGREES_TO_RADIANS\n",
    "        phi2 = p.lat * DEGREES_TO_RADIANS\n",
    "        lambda1 = self.lon * DEGREES_TO_RADIANS\n",
    "        lambda2 = p.lon * DEGREES_TO_RADIANS\n",
    "        cosarc = math.sin(phi1) * math.sin(phi2) + math.cos(phi1) * math.cos(\n",
    "            phi2\n",
    "        ) * math.cos(lambda1 - lambda2)\n",
    "        arc = math.acos(cosarc)\n",
    "        return arc * EARTH_RADIUS"
   ]
  },
  {
   "cell_type": "markdown",
   "metadata": {},
   "source": [
    "To create a concrete example of a **class**, also known as an **object**, initialize the object with some data:"
   ]
  },
  {
   "cell_type": "code",
   "execution_count": null,
   "metadata": {},
   "outputs": [],
   "source": [
    "timbuktu = Coord(latitude=16.77, longitude=3.00)"
   ]
  },
  {
   "cell_type": "markdown",
   "metadata": {},
   "source": [
    "Here, `timbuktu` is an **object** of the **class** `Coord` initialized with a latitude of `16.77` and a longitude of `3.00`. Great!\n",
    "\n",
    "Next, we create two `Coord` objects: `ny` and `paris`. We will invoke the `distancekm()` method on the `ny` object and pass the `paris` object as an argument to determine the distance between New York and Paris in kilometers.\n"
   ]
  },
  {
   "cell_type": "code",
   "execution_count": null,
   "metadata": {},
   "outputs": [],
   "source": [
    "ny = Coord(\n",
    "    40.71, 74.01\n",
    ")  # note that using the keywords for latitude and longitude is optional\n",
    "paris = Coord(\n",
    "    latitude=48.86, longitude=2.35\n",
    ")  # but tends to make the code more readable!\n",
    "distance = ny.distancekm(paris)\n",
    "print(f\"The distance from New York to Paris is {distance:.1f} kilometers.\")"
   ]
  },
  {
   "cell_type": "markdown",
   "metadata": {},
   "source": [
    "The old joke about OO programming is that they simply moved the struct that the function takes as an argument and put it first because it is special. So instead of having `distancekm(ny, paris)`, you have `ny.distancekm(paris)`. We have not talked about inheritance or polymorphism but that is OO in a nutshell: packaging together the data and the methods that operate on the data."
   ]
  },
  {
   "cell_type": "markdown",
   "metadata": {},
   "source": [
    "## Reading and Writing Dates and Times\n",
    "\n",
    "### Parsing Lightning Data Timestamps with the `datetime.strptime` Method\n",
    "\n",
    "Suppose you want to analyze [US NLDN lightning data](https://ghrc.nsstc.nasa.gov/uso/ds_docs/vaiconus/vaiconus_dataset.html). Here is a sample row of data:\n",
    "\n",
    "    06/27/07 16:18:21.898 18.739 -88.184 0.0 kA 0 1.0 0.4 2.5 8 1.2 13 G\n",
    "\n",
    "Part of the task involves parsing the `06/27/07 16:18:21.898` time string into a `datetime` object. (The full description of the data is [here](https://ghrc.nsstc.nasa.gov/uso/ds_docs/vaiconus/vaiconus_dataset.html#a6).) In order to parse this string or others that follow the same format, you will employ the [datetime.strptime()](https://docs.python.org/3/library/datetime.html#datetime.datetime.strptime) method from the `datetime` module. This method takes two arguments: \n",
    "1. the date time string you wish to parse\n",
    "2. the format which describes exactly how the date and time are arranged. \n",
    "\n",
    "[The full range of format options is described in the Python documentation](https://docs.python.org/3/library/datetime.html#strftime-and-strptime-behavior). In reality, the format will take some degree of experimentation to get right. This is a situation where Python shines as you can quickly try out different solutions in the IPython interpreter (or in a notebook). Beyond the official documentation, Google and [Stack Overflow](https://stackoverflow.com/) are your friends in this process. \n",
    "\n",
    "Eventually, after some trial and error, you will find the `'%m/%d/%y %H:%M:%S.%f'` format will properly parse the date and time."
   ]
  },
  {
   "cell_type": "code",
   "execution_count": null,
   "metadata": {},
   "outputs": [],
   "source": [
    "strike_time = dt.datetime.strptime('06/27/07 16:18:21.898', '%m/%d/%y %H:%M:%S.%f')\n",
    "# print strike_time to see if we have properly parsed our time\n",
    "print(strike_time)"
   ]
  },
  {
   "cell_type": "markdown",
   "metadata": {},
   "source": [
    "### Retrieving METAR from the MesoWest API with Help from the `datetime.strftime` Method\n",
    "\n",
    "Let's say you are interested in obtaining [METAR](https://en.wikipedia.org/wiki/METAR) data from the Aleutian Islands with the [MesoWest API](http://mesowest.org/api). In order to retrieve these data, you will have to assemble a URL that abides by the [MesoWest API reference](https://developers.synopticdata.com/mesonet/), and specifically create [date time strings that the API understands](https://developers.synopticdata.com/mesonet/v2/stations/nearesttime/) (e.g., `201606010000` for the year, month, date, hour and minute). \n",
    "\n",
    "For example, typing the following URL in a web browser will return a human-readable nested data structure called a [JSON object](https://en.wikipedia.org/wiki/JSON) which will contain the data along with additional \"metadata\" to help you interpret the data (e.g., units etc.). Here, we are asking for air temperature information from the METAR station at [Eareckson air force base](https://en.wikipedia.org/wiki/Eareckson_Air_Station) (ICAO identifier \"PASY\") in the Aleutians from June 1, 2016, 00:00 UTC to June 1, 2016, 06:00 UTC.\n",
    "\n",
    "[http://api.mesowest.net/v2/stations/timeseries?stid=pasy&start=201606010000&end=201606010600&vars=air_temp&token=demotoken](http://api.mesowest.net/v2/stations/timeseries?stid=pasy&start=201606010000&end=201606010600&vars=air_temp&token=demotoken)"
   ]
  },
  {
   "cell_type": "markdown",
   "metadata": {},
   "source": [
    "    {\n",
    "      \"SUMMARY\": {\n",
    "        \"FUNCTION_USED\": \"time_data_parser\",\n",
    "        \"NUMBER_OF_OBJECTS\": 1,\n",
    "        \"TOTAL_DATA_TIME\": \"5.50103187561 ms\",\n",
    "        \"DATA_PARSING_TIME\": \"0.313997268677 ms\",\n",
    "        \"METADATA_RESPONSE_TIME\": \"97.2690582275 ms\",\n",
    "        \"RESPONSE_MESSAGE\": \"OK\",\n",
    "        \"RESPONSE_CODE\": 1,\n",
    "        \"DATA_QUERY_TIME\": \"5.18608093262 ms\"\n",
    "      },\n",
    "      \"STATION\": [\n",
    "        {\n",
    "          \"ID\": \"12638\",\n",
    "          \"TIMEZONE\": \"America/Adak\",\n",
    "          \"LATITUDE\": \"52.71667\",\n",
    "          \"OBSERVATIONS\": {\n",
    "            \"air_temp_set_1\": [\n",
    "              8.3,\n",
    "              8.0,\n",
    "              8.3,\n",
    "              8.0,\n",
    "              7.8,\n",
    "              7.8,\n",
    "              7.0,\n",
    "              7.2,\n",
    "              7.2\n",
    "            ],\n",
    "            \"date_time\": [\n",
    "              \"2016-06-01T00:56:00Z\",\n",
    "              \"2016-06-01T01:26:00Z\",\n",
    "              \"2016-06-01T01:56:00Z\",\n",
    "              \"2016-06-01T02:40:00Z\",\n",
    "              \"2016-06-01T02:56:00Z\",\n",
    "              \"2016-06-01T03:56:00Z\",\n",
    "              \"2016-06-01T04:45:00Z\",\n",
    "              \"2016-06-01T04:56:00Z\",\n",
    "              \"2016-06-01T05:56:00Z\"\n",
    "            ]\n",
    "          },\n",
    "          \"STATE\": \"AK\",\n",
    "          \"LONGITUDE\": \"174.11667\",\n",
    "          \"SENSOR_VARIABLES\": {\n",
    "            \"air_temp\": {\n",
    "              \"air_temp_set_1\": {\n",
    "                \"end\": \"\",\n",
    "                \"start\": \"\"\n",
    "              }\n",
    "            },\n",
    "            \"date_time\": {\n",
    "              \"date_time\": {}\n",
    "            }\n",
    "          },\n",
    "          \"STID\": \"PASY\",\n",
    "          \"NAME\": \"Shemya, Eareckson AFB\",\n",
    "          \"ELEVATION\": \"98\",\n",
    "          \"PERIOD_OF_RECORD\": {\n",
    "            \"end\": \"\",\n",
    "            \"start\": \"\"\n",
    "          },\n",
    "          \"MNET_ID\": \"1\",\n",
    "          \"STATUS\": \"ACTIVE\"\n",
    "        }\n",
    "      ],\n",
    "      \"UNITS\": {\n",
    "        \"air_temp\": \"Celsius\"\n",
    "      }\n",
    "    }\n",
    "    // GET http://api.mesowest.net/v2/stations/timeseries?stid=pasy&start=201606010000&end=201606010600&vars=air_temp&token=demotoken\n",
    "    // HTTP/1.1 200 OK\n",
    "    // Content-Type: application/json\n",
    "    // Date: Mon, 27 Jun 2016 18:17:08 GMT\n",
    "    // Server: nginx/1.4.6 (Ubuntu)\n",
    "    // Vary: Accept-Encoding\n",
    "    // Content-Length: 944\n",
    "    // Connection: keep-alive\n",
    "    // Request duration: 0.271790s"
   ]
  },
  {
   "cell_type": "markdown",
   "metadata": {},
   "source": [
    "Continuing with this example, let's **create a function** that take as input\n",
    "- a station identifier\n",
    "- start and end time\n",
    "- a meteorological field \n",
    "\n",
    "and returns the JSON object as a Python dictionary data structure. \n",
    "\n",
    "We will draw upon our knowledge of basic Python string formatting to properly construct the URL. In addition, we will employ the [urllib.request](https://docs.python.org/3/library/urllib.request.html) module for opening and reading URLs.\n",
    "\n",
    "But first, we must figure out how to properly format our date with the [datetime.strftime()](https://docs.python.org/2/library/datetime.html#datetime.date.strftime) method. This method takes a format identical to the one we employed for `strptime()`. After some trial and error from the IPython interpreter, we arrive at `'%Y%m%d%H%M'`:"
   ]
  },
  {
   "cell_type": "code",
   "execution_count": null,
   "metadata": {},
   "outputs": [],
   "source": [
    "print(dt.datetime(2016, 6, 1, 0, 0).strftime('%Y%m%d%H%M'))"
   ]
  },
  {
   "cell_type": "markdown",
   "metadata": {},
   "source": [
    "Armed with this knowledge of how to format the date and time according to the MesoWest API reference, we can write our `metar()` function:"
   ]
  },
  {
   "cell_type": "code",
   "execution_count": null,
   "metadata": {},
   "outputs": [],
   "source": [
    "def metar(icao, starttime, endtime, var):\n",
    "    \"\"\"\n",
    "    Retrieves METAR with the icao identifier, the starttime and endtime\n",
    "    datetime objects and the var atmospheric field (e.g., \"air_temp\".)\n",
    "    Returns a dictionary data structure that mirros the JSON object from\n",
    "    returned from the MesoWest API.\n",
    "    \"\"\"\n",
    "    fmt = '%Y%m%d%H%M'\n",
    "    st = starttime.strftime(fmt)\n",
    "    et = endtime.strftime(fmt)\n",
    "    url = (\n",
    "        \"http://api.mesowest.net/v2/stations/timeseries?\"\n",
    "        \"stid={}&start={}&end={}&vars={}&token=demotoken\"\n",
    "    )\n",
    "    reply = urllib.request.urlopen(url.format(icao, st, et, var))\n",
    "    return json.loads(reply.read().decode('utf8'))"
   ]
  },
  {
   "cell_type": "markdown",
   "metadata": {},
   "source": [
    "We can now try out our new `metar` function to fetch some air temperature data."
   ]
  },
  {
   "cell_type": "code",
   "execution_count": null,
   "metadata": {},
   "outputs": [],
   "source": [
    "pasy = metar(\n",
    "    \"pasy\", dt.datetime(2016, 6, 1, 0, 0), dt.datetime(2016, 6, 1, 6, 0), \"air_temp\"\n",
    ")\n",
    "print(pasy)"
   ]
  },
  {
   "cell_type": "markdown",
   "metadata": {},
   "source": [
    "The data are returned in a nested data structure composed of dictionaries and lists. We can pull that data structure apart to fetch our data. Also, observe that the times are returned in UTC according to the [ISO 8601 international time standard](https://en.wikipedia.org/wiki/ISO_8601)."
   ]
  },
  {
   "cell_type": "code",
   "execution_count": null,
   "metadata": {},
   "outputs": [],
   "source": [
    "print(pasy['STATION'][0]['OBSERVATIONS'])"
   ]
  },
  {
   "cell_type": "markdown",
   "metadata": {},
   "source": [
    "We could continue with this exercise by parsing the returned date time strings in to `datetime` objects, but we will leave that exercise to the reader."
   ]
  },
  {
   "cell_type": "markdown",
   "metadata": {},
   "source": [
    "## Calculating Coastal Tides with the `timedelta` Class\n",
    "\n",
    "Let's suppose we are looking at coastal tide and current data perhaps in a [tropical cyclone storm surge scenario](http://www.nhc.noaa.gov/surge/). \n",
    "\n",
    "The [lunar day](http://oceanservice.noaa.gov/education/kits/tides/media/supp_tide05.html) is 24 hours, 50 minutes with two low tides and two high tides in that time duration. If we know the time of the current high tide, we can easily calculate the occurrence of the next low and high tides with the `timedelta` class. (In reality, the *exact time* of tides is influenced by local coastal effects, in addition to the laws of celestial mechanics, but we will ignore that fact for this exercise.)\n",
    "\n",
    "The `timedelta` class is initialized by supplying time duration usually supplied with [keyword arguments](https://docs.python.org/3/glossary.html#term-argument) to clearly express the length of time. Significantly, you can use the `timedelta` class with arithmetic operators (i.e., `+`, `-`, `*`, `/`) to obtain new dates and times as the next code sample illustrates. \n",
    "\n",
    "This convenient language feature is known as [operator overloading](https://en.wikipedia.org/wiki/Operator_overloading) and again illustrates Python's batteries-included philosophy of making life easier for the programmer. (In another language such as Java, you would have to call a method significantly obfuscating the code.) \n",
    "\n",
    "Another great feature is that the difference of two times will yield a `datetime` object. Let's examine all these features in the following code block."
   ]
  },
  {
   "cell_type": "code",
   "execution_count": null,
   "metadata": {},
   "outputs": [],
   "source": [
    "high_tide = dt.datetime(2016, 6, 1, 4, 38, 0)\n",
    "lunar_day = dt.timedelta(hours=24, minutes=50)\n",
    "tide_duration = lunar_day / 4  # Here we do some arithmetic on the timedelta object!\n",
    "next_low_tide = (\n",
    "    high_tide + tide_duration\n",
    ")  # Here we add a timedelta object to a datetime object\n",
    "next_high_tide = high_tide + (2 * tide_duration)  # and so on\n",
    "tide_length = next_high_tide - high_tide\n",
    "print(f\"The time between high and low tide is {tide_duration}.\")\n",
    "print(f\"The current high tide is {high_tide}.\")\n",
    "print(f\"The next low tide is {next_low_tide}.\")\n",
    "print(f\"The next high tide  {next_high_tide}.\")\n",
    "print(f\"The tide length is  {tide_length}.\")\n",
    "print(\"The type of the 'tide_length' variable is {}.\".format(type(tide_length)))"
   ]
  },
  {
   "cell_type": "markdown",
   "metadata": {},
   "source": [
    "In the last `print` statement, we use the [type()](https://docs.python.org/3/library/functions.html#type) built-in Python function to simply illustrate the difference between two times yields a `timedelta` object."
   ]
  },
  {
   "cell_type": "markdown",
   "metadata": {},
   "source": [
    "## Dealing with Time Zones\n",
    "\n",
    "Time zones can be a source of confusion and frustration in geoscientific data and in computer programming in general. Core date and time libraries in various programming languages inevitably have design flaws (Python is no different) leading to third-party libraries that attempt to fix the core library limitations. To avoid these issues, it is best to handle data in UTC, or at the very least operate in a consistent time zone, but that is not always possible. Users will expect their tornado alerts in local time.\n",
    "\n",
    "### What is UTC?\n",
    "\n",
    "[UTC](https://en.wikipedia.org/wiki/Coordinated_Universal_Time) is an abbreviation of Coordinated Universal Time and is equivalent to Greenwich Mean Time (GMT), in practice. (Greenwich at 0 degrees longitude, is a district of London, England.) In geoscientific data, times are often in UTC though you should always verify this assumption is actually true!\n",
    "\n",
    "### Time Zone Naive Versus Time Zone Aware `datetime` Objects\n",
    "\n",
    "When you create `datetime` objects in Python, they are so-called \"naive\" which means they are time zone unaware. In many situations, you can happily go forward without this detail getting in the way of your work. As the [Python documentation states](https://docs.python.org/3/library/datetime.html): \"Naive objects are easy to understand and to work with, at the cost of ignoring some aspects of reality\". \n",
    "\n",
    "However, if you wish to convey time zone information, you will have to make your `datetime` objects time zone aware. In order to handle time zones in Python, you will need the third-party [pytz](https://pypi.python.org/pypi/pytz) module whose classes build upon, or \"inherit\" in OO terminology, from the `tzinfo` class. You cannot solely rely on the Python Standard Library unfortunately. \n",
    "\n",
    "Here, we create time zone naive and time zone aware `datetime` objects:"
   ]
  },
  {
   "cell_type": "code",
   "execution_count": null,
   "metadata": {},
   "outputs": [],
   "source": [
    "naive = dt.datetime.now()\n",
    "aware = dt.datetime.now(pytz.timezone('US/Mountain'))\n",
    "print(f\"I am time zone naive {naive}.\")\n",
    "print(f\"I am time zone aware {aware}.\")"
   ]
  },
  {
   "cell_type": "markdown",
   "metadata": {},
   "source": [
    "The `pytz.timezone()` method takes a time zone string and returns a `tzinfo` object which can be used to initialize the time zone. The `-06:00` denotes we are operating in a time zone six hours behind UTC.\n",
    "\n",
    "### Print Time with a Different Time Zone\n",
    "\n",
    "If you have data that are in UTC, and wish to convert them to another time zone, Mountain Time Zone for example, you will again make use of the `pytz` module. \n",
    "\n",
    "First, we will create a UTC time with the [utcnow()](https://docs.python.org/3/library/datetime.html#datetime.datetime.utcnow) method which inexplicably returns a time zone naive object so you must still specify the UTC time zone with the [replace()](https://docs.python.org/3/library/datetime.html#datetime.datetime.replace) method. We then create a \"US/Mountain\" `tzinfo` object as before, but this time we will use the [astimzone()](https://docs.python.org/3/library/datetime.html#datetime.datetime.astimezone) method to adjust the time to the specified time zone."
   ]
  },
  {
   "cell_type": "code",
   "execution_count": null,
   "metadata": {},
   "outputs": [],
   "source": [
    "utc = dt.datetime.utcnow().replace(tzinfo=pytz.utc)\n",
    "print(\"The UTC time is {}.\".format(utc.strftime('%B %d, %Y, %-I:%M%p')))\n",
    "mountaintz = pytz.timezone(\"US/Mountain\")\n",
    "ny = utc.astimezone(mountaintz)\n",
    "print(\"The 'US/Mountain' time is {}.\".format(ny.strftime('%B %d, %Y, %-I:%M%p')))"
   ]
  },
  {
   "cell_type": "markdown",
   "metadata": {},
   "source": [
    "We also draw upon our earlier knowledge of the `strftime()` method to format a human-friendly date and time string."
   ]
  },
  {
   "cell_type": "markdown",
   "metadata": {},
   "source": [
    "---"
   ]
  },
  {
   "cell_type": "markdown",
   "metadata": {},
   "source": [
    "## Summary\n",
    "\n",
    "The Python Standard Library (included with every Python distribution) contains several modules for dealing with date and time data. We saw how we can avoid some name ambiguities by aliasing the module names with `import datetime as dt, time as tm`. The `tm.time()` method just returns the current [Unix time](#What-is-Unix-Time?) in seconds -- which can be useful for measuring elapsed time, but not all that useful for working with geophysical data.\n",
    "\n",
    "The `datetime` module contains various classes for storing, converting, comparing, and formatting date and time data. Importantly, we saw how we can do arithmetic on time and date data, making use of the `dt.timedelta` class to represent intervals of time.\n",
    "\n",
    "Finally, we looked at using the third-party [pytz](https://pypi.python.org/pypi/pytz) module to handle timezone awareness and conversions.\n",
    "\n",
    "### What's Next?\n",
    "\n",
    "In subsequent tutorials, we will dig deeper into different time and date formats, and how they are handled by important Python modules such as Numpy, Pandas, and Xarray."
   ]
  },
  {
   "cell_type": "markdown",
   "metadata": {},
   "source": [
    "## Resources and References\n",
    "\n",
    "This notebook was adapted from material in [Unidata's Python Training](https://unidata.github.io/python-training/python/times_and_dates/).\n",
    "\n",
    "For further reading, take a look at the official documentation for:\n",
    "- [time module](https://docs.python.org/3/library/time.html)\n",
    "- [datetime module](https://docs.python.org/3/library/datetime.html)\n",
    "- [pytz module](https://pypi.org/project/pytz/)"
   ]
  },
  {
   "cell_type": "code",
   "execution_count": null,
   "metadata": {},
   "outputs": [],
   "source": []
  }
 ],
 "metadata": {
  "kernelspec": {
   "display_name": "Python 3",
   "language": "python",
   "name": "python3"
  },
  "language_info": {
   "codemirror_mode": {
    "name": "ipython",
    "version": 3
   },
   "file_extension": ".py",
   "mimetype": "text/x-python",
   "name": "python",
   "nbconvert_exporter": "python",
   "pygments_lexer": "ipython3",
   "version": "3.8.10"
  }
 },
 "nbformat": 4,
 "nbformat_minor": 4
}
