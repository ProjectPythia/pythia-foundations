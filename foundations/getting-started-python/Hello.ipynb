{
 "cells": [
  {
   "cell_type": "markdown",
   "id": "interracial-cheat",
   "metadata": {},
   "source": [
    "# Fun with Python\n",
    "\n",
    "A very minimal example for the Pythia Foundations collection."
   ]
  },
  {
   "cell_type": "markdown",
   "id": "documented-idaho",
   "metadata": {},
   "source": [
    "A Python program can be a single line:"
   ]
  },
  {
   "cell_type": "code",
   "execution_count": 1,
   "id": "after-jenny",
   "metadata": {},
   "outputs": [
    {
     "name": "stdout",
     "output_type": "stream",
     "text": [
      "Hello interweb\n"
     ]
    }
   ],
   "source": [
    "print('Hello interweb')"
   ]
  },
  {
   "cell_type": "markdown",
   "id": "accompanied-crash",
   "metadata": {},
   "source": [
    "Try it out in Binder and run it yourself!"
   ]
  },
  {
   "cell_type": "code",
   "execution_count": null,
   "id": "future-transcription",
   "metadata": {},
   "outputs": [],
   "source": []
  }
 ],
 "metadata": {
  "kernelspec": {
   "display_name": "Python 3",
   "language": "python",
   "name": "python3"
  },
  "language_info": {
   "codemirror_mode": {
    "name": "ipython",
    "version": 3
   },
   "file_extension": ".py",
   "mimetype": "text/x-python",
   "name": "python",
   "nbconvert_exporter": "python",
   "pygments_lexer": "ipython3",
   "version": "3.8.6"
  }
 },
 "nbformat": 4,
 "nbformat_minor": 5
}
