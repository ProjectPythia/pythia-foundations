{
 "cells": [
  {
   "cell_type": "markdown",
   "id": "5d45c2b9",
   "metadata": {},
   "source": [
    "# Quickstart: zero to Python"
   ]
  },
  {
   "cell_type": "markdown",
   "id": "a52c17ad",
   "metadata": {},
   "source": [
    "Brand new to Python? Here are some quick examples of what Python code looks like.\n",
    "\n",
    "This is **not** meant to be a comprehensive Python tutorial, just something to whet your appetite."
   ]
  },
  {
   "cell_type": "markdown",
   "id": "84eecdbd",
   "metadata": {},
   "source": [
    "## Run this code from your browser!\n",
    "\n",
    "Of course you can simply read through these examples, but it's more fun to ***run them yourself***:\n",
    "\n",
    "- Find the \"Rocket Ship\" icon at the top of the page\n",
    "- Click the `Binder` link\n",
    "- This page will open up as a [Jupyter notebook](jupyter.html) in a working Python environment in the cloud.\n",
    "- Press \"shift+Enter\" to execute each code cell\n",
    "- Feel free to make changes and play around!"
   ]
  },
  {
   "cell_type": "markdown",
   "id": "e02bc566",
   "metadata": {},
   "source": [
    "## A very first Python program\n",
    "\n",
    "A Python program can be a single line:"
   ]
  },
  {
   "cell_type": "code",
   "execution_count": 1,
   "id": "8137f81a",
   "metadata": {},
   "outputs": [
    {
     "name": "stdout",
     "output_type": "stream",
     "text": [
      "Hello interweb\n"
     ]
    }
   ],
   "source": [
    "print(\"Hello interweb\")"
   ]
  },
  {
   "cell_type": "markdown",
   "id": "54deab97",
   "metadata": {},
   "source": [
    "Or why not make a loop with some formatted output:"
   ]
  },
  {
   "cell_type": "code",
   "execution_count": 2,
   "id": "4d3fef29",
   "metadata": {},
   "outputs": [
    {
     "name": "stdout",
     "output_type": "stream",
     "text": [
      "Hello interweb, this is iteration number 0.\n",
      "Hello interweb, this is iteration number 1.\n",
      "Hello interweb, this is iteration number 2.\n"
     ]
    }
   ],
   "source": [
    "for n in range(3):\n",
    "    print(f\"Hello interweb, this is iteration number {n}.\")"
   ]
  },
  {
   "cell_type": "markdown",
   "id": "42e3baf4",
   "metadata": {},
   "source": [
    "A few things to note:\n",
    "\n",
    "- Python defaults to counting from 0 (like C) rather than from 1 (like Fortran).\n",
    "- Function calls in Python always use parentheses: `print()`\n",
    "- The colon `:` denotes the beginning of a definition (here of the repeated code under the `for` loop.\n",
    "- Code blocks are indentified through indentations.\n",
    "\n",
    "To emphasize this last point, here an example with a two-line repeated block:"
   ]
  },
  {
   "cell_type": "code",
   "execution_count": 3,
   "id": "787f8e09",
   "metadata": {},
   "outputs": [
    {
     "name": "stdout",
     "output_type": "stream",
     "text": [
      "Hello interweb!\n",
      "This is iteration number 0.\n",
      "Hello interweb!\n",
      "This is iteration number 1.\n",
      "Hello interweb!\n",
      "This is iteration number 2.\n",
      "And now we are done\n"
     ]
    }
   ],
   "source": [
    "for n in range(3):\n",
    "    print(\"Hello interweb!\")\n",
    "    print(f\"This is iteration number {n}.\")\n",
    "print('And now we are done')"
   ]
  },
  {
   "cell_type": "markdown",
   "id": "cd787438",
   "metadata": {},
   "source": [
    "## Basic flow control\n",
    "\n",
    "Like most languages, Python has an `if` statement for logical decisions:"
   ]
  },
  {
   "cell_type": "code",
   "execution_count": 4,
   "id": "682eb657",
   "metadata": {},
   "outputs": [
    {
     "name": "stdout",
     "output_type": "stream",
     "text": [
      "n is not greater than 2!\n"
     ]
    }
   ],
   "source": [
    "if n > 2:\n",
    "    print(\"n is greater than 2!\")\n",
    "else:\n",
    "    print(\"n is not greater than 2!\")"
   ]
  },
  {
   "cell_type": "markdown",
   "id": "3a6b8582",
   "metadata": {},
   "source": [
    "Python also defines the `True` and `False` logical constants, and includes a `while` statement for conditional looping:"
   ]
  },
  {
   "cell_type": "code",
   "execution_count": 5,
   "id": "12b978f3",
   "metadata": {},
   "outputs": [
    {
     "name": "stdout",
     "output_type": "stream",
     "text": [
      "This is iteration number 0.\n",
      "This is iteration number 1.\n",
      "This is iteration number 2.\n",
      "False\n"
     ]
    }
   ],
   "source": [
    "n = 0\n",
    "while n < 3:\n",
    "    print(f\"This is iteration number {n}.\")\n",
    "    n += 1\n",
    "print(n < 3)"
   ]
  },
  {
   "cell_type": "markdown",
   "id": "d5b066ae",
   "metadata": {},
   "source": [
    "## Basic Python data types\n",
    "\n",
    "Python is a very flexible language, and many advanced data types are introduced through packages (more on this below). But some of the basic types include: "
   ]
  },
  {
   "cell_type": "markdown",
   "id": "ef3921ed",
   "metadata": {},
   "source": [
    "### Integers (`int`)\n",
    "\n",
    "The number `n` above is a good example. We can use the built-in function `type()` to inspect what we've got in memory:"
   ]
  },
  {
   "cell_type": "code",
   "execution_count": 6,
   "id": "184f8c79",
   "metadata": {},
   "outputs": [
    {
     "data": {
      "text/plain": [
       "int"
      ]
     },
     "execution_count": 6,
     "metadata": {},
     "output_type": "execute_result"
    }
   ],
   "source": [
    "type(n)"
   ]
  },
  {
   "cell_type": "markdown",
   "id": "861da01b",
   "metadata": {},
   "source": [
    "### Floating point numbers (`float`)"
   ]
  },
  {
   "cell_type": "code",
   "execution_count": 7,
   "id": "7153a927",
   "metadata": {},
   "outputs": [
    {
     "data": {
      "text/plain": [
       "float"
      ]
     },
     "execution_count": 7,
     "metadata": {},
     "output_type": "execute_result"
    }
   ],
   "source": [
    "type(0.1)"
   ]
  },
  {
   "cell_type": "markdown",
   "id": "87da5d64",
   "metadata": {},
   "source": [
    "### Character strings (`str`)\n",
    "\n",
    "You can use either single quotes `''` or double quotes `\" \"` to denote a string:"
   ]
  },
  {
   "cell_type": "code",
   "execution_count": 8,
   "id": "d4cc9304",
   "metadata": {},
   "outputs": [
    {
     "data": {
      "text/plain": [
       "str"
      ]
     },
     "execution_count": 8,
     "metadata": {},
     "output_type": "execute_result"
    }
   ],
   "source": [
    "type(\"orange\")"
   ]
  },
  {
   "cell_type": "code",
   "execution_count": 9,
   "id": "ba603039",
   "metadata": {},
   "outputs": [
    {
     "data": {
      "text/plain": [
       "str"
      ]
     },
     "execution_count": 9,
     "metadata": {},
     "output_type": "execute_result"
    }
   ],
   "source": [
    "type('orange')"
   ]
  },
  {
   "cell_type": "markdown",
   "id": "597631d0",
   "metadata": {},
   "source": [
    "### Lists\n",
    "\n",
    "A list is an ordered container of objects denoted by **square brackets**:"
   ]
  },
  {
   "cell_type": "code",
   "execution_count": 10,
   "id": "be5d040f",
   "metadata": {},
   "outputs": [],
   "source": [
    "mylist = [0, 1, 1, 2, 3, 5, 8]"
   ]
  },
  {
   "cell_type": "markdown",
   "id": "271edb6e",
   "metadata": {},
   "source": [
    "Lists are useful for lots of reasons including iteration:"
   ]
  },
  {
   "cell_type": "code",
   "execution_count": 11,
   "id": "f6d0be16",
   "metadata": {},
   "outputs": [
    {
     "name": "stdout",
     "output_type": "stream",
     "text": [
      "0\n",
      "1\n",
      "1\n",
      "2\n",
      "3\n",
      "5\n",
      "8\n"
     ]
    }
   ],
   "source": [
    "for number in mylist:\n",
    "    print(number)"
   ]
  },
  {
   "cell_type": "markdown",
   "id": "f3f8a57e",
   "metadata": {},
   "source": [
    "Lists do **not** have to contain all identical types:"
   ]
  },
  {
   "cell_type": "code",
   "execution_count": 12,
   "id": "f1673dc5",
   "metadata": {},
   "outputs": [
    {
     "name": "stdout",
     "output_type": "stream",
     "text": [
      "<class 'int'>\n",
      "<class 'int'>\n",
      "<class 'int'>\n",
      "<class 'str'>\n",
      "<class 'float'>\n"
     ]
    }
   ],
   "source": [
    "myweirdlist = [0, 1, 1, \"apple\", 4e7]\n",
    "for item in myweirdlist:\n",
    "    print(type(item))"
   ]
  },
  {
   "cell_type": "markdown",
   "id": "c0f192ef",
   "metadata": {},
   "source": [
    "This list contains a mix of `int`, `float`, and `str` (character string).\n",
    "\n",
    "Note that `4E7` is how to denote floating point numbers in scientific notation, i.e. the number \n",
    "\n",
    "$$ 4 \\times 10^7 $$"
   ]
  },
  {
   "cell_type": "markdown",
   "id": "cb662954",
   "metadata": {},
   "source": [
    "Because a list is *ordered*, we can access items by integer index:"
   ]
  },
  {
   "cell_type": "code",
   "execution_count": 13,
   "id": "8178ee98",
   "metadata": {},
   "outputs": [
    {
     "data": {
      "text/plain": [
       "'apple'"
      ]
     },
     "execution_count": 13,
     "metadata": {},
     "output_type": "execute_result"
    }
   ],
   "source": [
    "myweirdlist[3]"
   ]
  },
  {
   "cell_type": "markdown",
   "id": "87e841a7",
   "metadata": {},
   "source": [
    "remembering that we start counting from zero!"
   ]
  },
  {
   "cell_type": "markdown",
   "id": "5c2663a4",
   "metadata": {},
   "source": [
    "### Dictionaries (`dict`)\n",
    "\n",
    "A dictionary is a collection of *labeled objects*. Python uses curly braces `{}` to create dictionaries:"
   ]
  },
  {
   "cell_type": "code",
   "execution_count": 14,
   "id": "f4dbacdd",
   "metadata": {},
   "outputs": [
    {
     "data": {
      "text/plain": [
       "dict"
      ]
     },
     "execution_count": 14,
     "metadata": {},
     "output_type": "execute_result"
    }
   ],
   "source": [
    "mypet = {\n",
    "    \"name\": \"Fluffy\",\n",
    "    \"species\": \"cat\",\n",
    "    \"age\": 4,\n",
    "}\n",
    "type(mypet)"
   ]
  },
  {
   "cell_type": "markdown",
   "id": "c8e869ca",
   "metadata": {},
   "source": [
    "We can then access items in the dictionary by label using square brackets:"
   ]
  },
  {
   "cell_type": "code",
   "execution_count": 15,
   "id": "05c66d6e",
   "metadata": {},
   "outputs": [
    {
     "data": {
      "text/plain": [
       "'cat'"
      ]
     },
     "execution_count": 15,
     "metadata": {},
     "output_type": "execute_result"
    }
   ],
   "source": [
    "mypet[\"species\"]"
   ]
  },
  {
   "cell_type": "markdown",
   "id": "b2027506",
   "metadata": {},
   "source": [
    "We can iterate through the keys (or labels) of a `dict`:"
   ]
  },
  {
   "cell_type": "code",
   "execution_count": 16,
   "id": "387dba3d",
   "metadata": {},
   "outputs": [
    {
     "name": "stdout",
     "output_type": "stream",
     "text": [
      "The key is: name\n",
      "The value is: Fluffy\n",
      "The key is: species\n",
      "The value is: cat\n",
      "The key is: age\n",
      "The value is: 4\n"
     ]
    }
   ],
   "source": [
    "for key in mypet:\n",
    "    print(\"The key is:\", key)\n",
    "    print(\"The value is:\", mypet[key])"
   ]
  },
  {
   "cell_type": "markdown",
   "id": "fb82a430",
   "metadata": {},
   "source": [
    "## Arrays of numbers with `numpy`\n",
    "\n",
    "The vast majority of scientific Python code makes use of *packages* that extend the base language in many useful ways.\n",
    "\n",
    "Almost all scientific computing requires ordered arrays of numbers, and fast methods for manipulating them. That's what numpy does in the Python world.\n",
    "\n",
    "Using any package requires an `import` statement, and (optionally) a nickname to be used locally:"
   ]
  },
  {
   "cell_type": "code",
   "execution_count": 17,
   "id": "53ba88cf",
   "metadata": {},
   "outputs": [],
   "source": [
    "import numpy as np"
   ]
  },
  {
   "cell_type": "markdown",
   "id": "fb237b33",
   "metadata": {},
   "source": [
    "Now all our calls to `numpy` functions will be preceeded by `np.`"
   ]
  },
  {
   "cell_type": "markdown",
   "id": "a3391f8d",
   "metadata": {},
   "source": [
    "Create a linearly space array of numbers:"
   ]
  },
  {
   "cell_type": "code",
   "execution_count": 18,
   "id": "ae024132",
   "metadata": {},
   "outputs": [
    {
     "data": {
      "text/plain": [
       "array([0. , 0.1, 0.2, 0.3, 0.4, 0.5, 0.6, 0.7, 0.8, 0.9, 1. ])"
      ]
     },
     "execution_count": 18,
     "metadata": {},
     "output_type": "execute_result"
    }
   ],
   "source": [
    "numbers = np.linspace(0.0, 1.0, 11)\n",
    "numbers"
   ]
  },
  {
   "cell_type": "markdown",
   "id": "cc1c2474",
   "metadata": {},
   "source": [
    "We've just created a new type of object defined by numpy:"
   ]
  },
  {
   "cell_type": "code",
   "execution_count": 19,
   "id": "c3f3642d",
   "metadata": {},
   "outputs": [
    {
     "data": {
      "text/plain": [
       "numpy.ndarray"
      ]
     },
     "execution_count": 19,
     "metadata": {},
     "output_type": "execute_result"
    }
   ],
   "source": [
    "type(numbers)"
   ]
  },
  {
   "cell_type": "markdown",
   "id": "83325c40",
   "metadata": {},
   "source": [
    "Do some arithmetic on that array:"
   ]
  },
  {
   "cell_type": "code",
   "execution_count": 20,
   "id": "12cc225d",
   "metadata": {},
   "outputs": [
    {
     "data": {
      "text/plain": [
       "array([1. , 1.1, 1.2, 1.3, 1.4, 1.5, 1.6, 1.7, 1.8, 1.9, 2. ])"
      ]
     },
     "execution_count": 20,
     "metadata": {},
     "output_type": "execute_result"
    }
   ],
   "source": [
    "numbers + 1"
   ]
  },
  {
   "cell_type": "markdown",
   "id": "fee4e53c",
   "metadata": {},
   "source": [
    "Sum up all the numbers:"
   ]
  },
  {
   "cell_type": "code",
   "execution_count": 21,
   "id": "3cef5412",
   "metadata": {},
   "outputs": [
    {
     "data": {
      "text/plain": [
       "5.500000000000001"
      ]
     },
     "execution_count": 21,
     "metadata": {},
     "output_type": "execute_result"
    }
   ],
   "source": [
    "np.sum(numbers)"
   ]
  },
  {
   "cell_type": "markdown",
   "id": "ebf2b669",
   "metadata": {},
   "source": [
    "## Some basic graphics with `matplotlib`\n",
    "\n",
    "matplotlib is the standard package for producing publication-quality graphics, and works hand-in-hand with numpy arrays.\n",
    "\n",
    "We usually use the `pyplot` module for day-to-day plotting commands:"
   ]
  },
  {
   "cell_type": "code",
   "execution_count": 22,
   "id": "76f3329e",
   "metadata": {},
   "outputs": [],
   "source": [
    "import matplotlib.pyplot as plt"
   ]
  },
  {
   "cell_type": "markdown",
   "id": "66033cbc",
   "metadata": {},
   "source": [
    "Define some data and make a line plot:"
   ]
  },
  {
   "cell_type": "code",
   "execution_count": 23,
   "id": "32ca697e",
   "metadata": {},
   "outputs": [
    {
     "data": {
      "text/plain": [
       "Text(0.5, 0, 'Degrees')"
      ]
     },
     "execution_count": 23,
     "metadata": {},
     "output_type": "execute_result"
    },
    {
     "data": {
      "image/png": "[encoded data removed]",
      "text/plain": [
       "<Figure size 432x288 with 1 Axes>"
      ]
     },
     "metadata": {
      "needs_background": "light"
     },
     "output_type": "display_data"
    }
   ],
   "source": [
    "theta = np.linspace(0.0, 360.0)\n",
    "sintheta = np.sin(np.deg2rad(theta))\n",
    "\n",
    "plt.plot(theta, sintheta, label='sine', color='orange')\n",
    "plt.grid()\n",
    "plt.legend()\n",
    "plt.xlabel('Degrees')"
   ]
  },
  {
   "cell_type": "markdown",
   "id": "04615882",
   "metadata": {},
   "source": [
    "## What now?\n",
    "\n",
    "That was a whirlwind tour of some basic Python usage. \n",
    "\n",
    "Read on for lots more details on how to install and run Python and necessary packages on your own laptop."
   ]
  },
  {
   "cell_type": "code",
   "execution_count": null,
   "id": "67c42944",
   "metadata": {},
   "outputs": [],
   "source": []
  }
 ],
 "metadata": {
  "kernelspec": {
   "display_name": "Python 3",
   "language": "python",
   "name": "python3"
  },
  "language_info": {
   "codemirror_mode": {
    "name": "ipython",
    "version": 3
   },
   "file_extension": ".py",
   "mimetype": "text/x-python",
   "name": "python",
   "nbconvert_exporter": "python",
   "pygments_lexer": "ipython3",
   "version": "3.8.10"
  }
 },
 "nbformat": 4,
 "nbformat_minor": 5
}
