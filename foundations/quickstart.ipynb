{
 "cells": [
  {
   "cell_type": "markdown",
   "id": "5d45c2b9",
   "metadata": {},
   "source": [
    "# Quickstart: zero to Python"
   ]
  },
  {
   "cell_type": "markdown",
   "id": "a52c17ad",
   "metadata": {},
   "source": [
    "Brand new to Python? Here are some quick examples of what Python code looks like.\n",
    "\n",
    "This is **not** meant to be a comprehensive Python tutorial, just something to whet your appetite."
   ]
  },
  {
   "cell_type": "markdown",
   "id": "84eecdbd",
   "metadata": {},
   "source": [
    "## Run this code from your browser!\n",
    "\n",
    "Of course you can simply read through these examples, but it's more fun to ***run them yourself***:\n",
    "\n",
    "- Find the \"Rocket Ship\" icon at the top of the page\n",
    "- Click the `Binder` link\n",
    "- This page will open up as a [Jupyter notebook](jupyter.html) in a working Python environment in the cloud.\n",
    "- Press \"shift+Enter\" to execute each code cell\n",
    "- Feel free to make changes and play around!"
   ]
  },
  {
   "cell_type": "markdown",
   "id": "e02bc566",
   "metadata": {},
   "source": [
    "## A very first Python program\n",
    "\n",
    "A Python program can be a single line:"
   ]
  },
  {
   "cell_type": "code",
   "execution_count": 1,
   "id": "8137f81a",
   "metadata": {},
   "outputs": [
    {
     "name": "stdout",
     "output_type": "stream",
     "text": [
      "Hello interweb\n"
     ]
    }
   ],
   "source": [
    "print(\"Hello interweb\")"
   ]
  },
  {
   "cell_type": "markdown",
   "id": "54deab97",
   "metadata": {},
   "source": [
    "Or why not make a loop with some formatted output:"
   ]
  },
  {
   "cell_type": "code",
   "execution_count": 12,
   "id": "4d3fef29",
   "metadata": {},
   "outputs": [
    {
     "name": "stdout",
     "output_type": "stream",
     "text": [
      "Hello interweb, this is iteration number 0.\n",
      "Hello interweb, this is iteration number 1.\n",
      "Hello interweb, this is iteration number 2.\n",
      "Hello interweb, this is iteration number 3.\n"
     ]
    }
   ],
   "source": [
    "for n in range(4):\n",
    "    print(f\"Hello interweb, this is iteration number {n}.\")"
   ]
  },
  {
   "cell_type": "markdown",
   "id": "42e3baf4",
   "metadata": {},
   "source": [
    "A few things to note:\n",
    "\n",
    "- Python defaults to counting from 0 (like C) rather than from 1 (like Fortran).\n",
    "- Function calls in Python always use parentheses: `print()`\n",
    "- The colon `:` denotes the beginning of a definition (here of the repeated code under the `for` loop.\n",
    "- Code blocks are indentified through indentations.\n",
    "\n",
    "To emphasize this last point, here an example with a two-line repeated block:"
   ]
  },
  {
   "cell_type": "code",
   "execution_count": 32,
   "id": "787f8e09",
   "metadata": {},
   "outputs": [
    {
     "name": "stdout",
     "output_type": "stream",
     "text": [
      "Hello interweb!\n",
      "This is iteration number 0.\n",
      "Hello interweb!\n",
      "This is iteration number 1.\n",
      "Hello interweb!\n",
      "This is iteration number 2.\n",
      "Hello interweb!\n",
      "This is iteration number 3.\n",
      "And now we are done\n"
     ]
    }
   ],
   "source": [
    "for n in range(4):\n",
    "    print(\"Hello interweb!\")\n",
    "    print(f\"This is iteration number {n}.\")\n",
    "print('And now we are done')"
   ]
  },
  {
   "cell_type": "markdown",
   "id": "cd787438",
   "metadata": {},
   "source": [
    "## Basic flow control\n",
    "\n",
    "Like most languages, Python has an `if` statement for logical decisions:"
   ]
  },
  {
   "cell_type": "code",
   "execution_count": 38,
   "id": "682eb657",
   "metadata": {},
   "outputs": [
    {
     "name": "stdout",
     "output_type": "stream",
     "text": [
      "n is greater than 2!\n"
     ]
    }
   ],
   "source": [
    "if n > 2:\n",
    "    print(\"n is greater than 2!\")\n",
    "else:\n",
    "    print(\"n is not greater than 2!\")"
   ]
  },
  {
   "cell_type": "markdown",
   "id": "3a6b8582",
   "metadata": {},
   "source": [
    "Python also defines the `True` and `False` logical constants, and includes a `while` statement for conditional looping:"
   ]
  },
  {
   "cell_type": "code",
   "execution_count": 41,
   "id": "12b978f3",
   "metadata": {},
   "outputs": [
    {
     "name": "stdout",
     "output_type": "stream",
     "text": [
      "This is iteration number 0.\n",
      "This is iteration number 1.\n",
      "This is iteration number 2.\n",
      "False\n"
     ]
    }
   ],
   "source": [
    "n = 0\n",
    "while n < 3:\n",
    "    print(f\"This is iteration number {n}.\")\n",
    "    n += 1\n",
    "print(n < 3)"
   ]
  },
  {
   "cell_type": "markdown",
   "id": "d5b066ae",
   "metadata": {},
   "source": [
    "## Basic Python data types\n",
    "\n",
    "Python is a very flexible language, and many advanced data types are introduced through packages (more on this below). But some of the basic types include: "
   ]
  },
  {
   "cell_type": "markdown",
   "id": "ef3921ed",
   "metadata": {},
   "source": [
    "### Integers (`int`)\n",
    "\n",
    "The number `n` above is a good example. We can use the built-in function `type()` to inspect what we've got in memory:"
   ]
  },
  {
   "cell_type": "code",
   "execution_count": 6,
   "id": "184f8c79",
   "metadata": {},
   "outputs": [
    {
     "data": {
      "text/plain": [
       "int"
      ]
     },
     "execution_count": 6,
     "metadata": {},
     "output_type": "execute_result"
    }
   ],
   "source": [
    "type(n)"
   ]
  },
  {
   "cell_type": "markdown",
   "id": "861da01b",
   "metadata": {},
   "source": [
    "### Floating point numbers (`float`)"
   ]
  },
  {
   "cell_type": "code",
   "execution_count": 7,
   "id": "7153a927",
   "metadata": {},
   "outputs": [
    {
     "data": {
      "text/plain": [
       "float"
      ]
     },
     "execution_count": 7,
     "metadata": {},
     "output_type": "execute_result"
    }
   ],
   "source": [
    "type(0.1)"
   ]
  },
  {
   "cell_type": "markdown",
   "id": "87da5d64",
   "metadata": {},
   "source": [
    "### Character strings (`str`)\n",
    "\n",
    "You can use either single quotes `''` or double quotes `\" \"` to denote a string:"
   ]
  },
  {
   "cell_type": "code",
   "execution_count": 24,
   "id": "d4cc9304",
   "metadata": {},
   "outputs": [
    {
     "data": {
      "text/plain": [
       "str"
      ]
     },
     "execution_count": 24,
     "metadata": {},
     "output_type": "execute_result"
    }
   ],
   "source": [
    "type(\"orange\")"
   ]
  },
  {
   "cell_type": "code",
   "execution_count": 25,
   "id": "ba603039",
   "metadata": {},
   "outputs": [
    {
     "data": {
      "text/plain": [
       "str"
      ]
     },
     "execution_count": 25,
     "metadata": {},
     "output_type": "execute_result"
    }
   ],
   "source": [
    "type('orange')"
   ]
  },
  {
   "cell_type": "markdown",
   "id": "597631d0",
   "metadata": {},
   "source": [
    "### Lists\n",
    "\n",
    "A list is an ordered container of objects denoted by **square brackets**:"
   ]
  },
  {
   "cell_type": "code",
   "execution_count": 14,
   "id": "be5d040f",
   "metadata": {},
   "outputs": [],
   "source": [
    "mylist = [0, 1, 1, 2, 3, 5, 8, 13]"
   ]
  },
  {
   "cell_type": "markdown",
   "id": "271edb6e",
   "metadata": {},
   "source": [
    "Lists are useful for lots of reasons including iteration:"
   ]
  },
  {
   "cell_type": "code",
   "execution_count": 15,
   "id": "f6d0be16",
   "metadata": {},
   "outputs": [
    {
     "name": "stdout",
     "output_type": "stream",
     "text": [
      "0\n",
      "1\n",
      "1\n",
      "2\n",
      "3\n",
      "5\n",
      "8\n",
      "13\n"
     ]
    }
   ],
   "source": [
    "for number in mylist:\n",
    "    print(number)"
   ]
  },
  {
   "cell_type": "markdown",
   "id": "f3f8a57e",
   "metadata": {},
   "source": [
    "Lists do **not** have to contain all identical types:"
   ]
  },
  {
   "cell_type": "code",
   "execution_count": 16,
   "id": "f1673dc5",
   "metadata": {},
   "outputs": [
    {
     "name": "stdout",
     "output_type": "stream",
     "text": [
      "<class 'int'>\n",
      "<class 'int'>\n",
      "<class 'int'>\n",
      "<class 'str'>\n",
      "<class 'float'>\n"
     ]
    }
   ],
   "source": [
    "myweirdlist = [0, 1, 1, \"apple\", 4e7]\n",
    "for item in myweirdlist:\n",
    "    print(type(item))"
   ]
  },
  {
   "cell_type": "markdown",
   "id": "c0f192ef",
   "metadata": {},
   "source": [
    "This list contains a mix of `int`, `float`, and `str` (character string).\n",
    "\n",
    "Note that `4E7` is how to denote floating point numbers in scientific notation, i.e. the number \n",
    "\n",
    "$$ 4 \\times 10^7 $$"
   ]
  },
  {
   "cell_type": "markdown",
   "id": "cb662954",
   "metadata": {},
   "source": [
    "Because a list is *ordered*, we can access items by integer index:"
   ]
  },
  {
   "cell_type": "code",
   "execution_count": 30,
   "id": "8178ee98",
   "metadata": {},
   "outputs": [
    {
     "data": {
      "text/plain": [
       "'apple'"
      ]
     },
     "execution_count": 30,
     "metadata": {},
     "output_type": "execute_result"
    }
   ],
   "source": [
    "myweirdlist[3]"
   ]
  },
  {
   "cell_type": "markdown",
   "id": "87e841a7",
   "metadata": {},
   "source": [
    "remembering that we start counting from zero!"
   ]
  },
  {
   "cell_type": "markdown",
   "id": "5c2663a4",
   "metadata": {},
   "source": [
    "### Dictionaries (`dict`)\n",
    "\n",
    "A dictionary is a collection of *labeled objects*. Python uses curly braces `{}` to create dictionaries:"
   ]
  },
  {
   "cell_type": "code",
   "execution_count": 23,
   "id": "f4dbacdd",
   "metadata": {},
   "outputs": [
    {
     "data": {
      "text/plain": [
       "dict"
      ]
     },
     "execution_count": 23,
     "metadata": {},
     "output_type": "execute_result"
    }
   ],
   "source": [
    "mypet = {\n",
    "    \"name\": \"Fluffy\",\n",
    "    \"species\": \"cat\",\n",
    "    \"age\": 4,\n",
    "}\n",
    "type(mypet)"
   ]
  },
  {
   "cell_type": "markdown",
   "id": "c8e869ca",
   "metadata": {},
   "source": [
    "We can then access items in the dictionary by label using square brackets:"
   ]
  },
  {
   "cell_type": "code",
   "execution_count": 21,
   "id": "05c66d6e",
   "metadata": {},
   "outputs": [
    {
     "data": {
      "text/plain": [
       "'cat'"
      ]
     },
     "execution_count": 21,
     "metadata": {},
     "output_type": "execute_result"
    }
   ],
   "source": [
    "mypet[\"species\"]"
   ]
  },
  {
   "cell_type": "markdown",
   "id": "b2027506",
   "metadata": {},
   "source": [
    "We can iterate through the keys (or labels) of a `dict`:"
   ]
  },
  {
   "cell_type": "code",
   "execution_count": 28,
   "id": "387dba3d",
   "metadata": {},
   "outputs": [
    {
     "name": "stdout",
     "output_type": "stream",
     "text": [
      "The key is: name\n",
      "The value is: Fluffy\n",
      "The key is: species\n",
      "The value is: cat\n",
      "The key is: age\n",
      "The value is: 4\n"
     ]
    }
   ],
   "source": [
    "for key in mypet:\n",
    "    print(\"The key is:\", key)\n",
    "    print(\"The value is:\", mypet[key])"
   ]
  },
  {
   "cell_type": "markdown",
   "id": "fb82a430",
   "metadata": {},
   "source": []
  }
 ],
 "metadata": {
  "kernelspec": {
   "display_name": "Python 3",
   "language": "python",
   "name": "python3"
  },
  "language_info": {
   "codemirror_mode": {
    "name": "ipython",
    "version": 3
   },
   "file_extension": ".py",
   "mimetype": "text/x-python",
   "name": "python",
   "nbconvert_exporter": "python",
   "pygments_lexer": "ipython3",
   "version": "3.8.10"
  }
 },
 "nbformat": 4,
 "nbformat_minor": 5
}
