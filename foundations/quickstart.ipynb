{
 "cells": [
  {
   "cell_type": "markdown",
   "id": "5d45c2b9",
   "metadata": {},
   "source": [
    "# Quickstart: Zero to Python"
   ]
  },
  {
   "cell_type": "markdown",
   "id": "a52c17ad",
   "metadata": {},
   "source": [
    "Brand new to Python? Here are some quick examples of what Python code looks like.\n",
    "\n",
    "This is **not** meant to be a comprehensive Python tutorial, just something to whet your appetite."
   ]
  },
  {
   "cell_type": "markdown",
   "id": "84eecdbd",
   "metadata": {},
   "source": [
    "## Run this code from your browser!\n",
    "\n",
    "Of course you can simply read through these examples, but it's more fun to ***run them yourself***:\n",
    "\n",
    "- Find the **\"Rocket Ship\"** icon, **located near the top-right of this page**. Hover over this icon to see the drop-down menu.\n",
    "- Click the `Binder` link from the drop-down menu.\n",
    "- This page will open up as a [Jupyter notebook](jupyter.html) in a working Python environment in the cloud.\n",
    "- Press <kbd>Shift</kbd>+<kbd>Enter</kbd> to execute each code cell\n",
    "- Feel free to make changes and play around!"
   ]
  },
  {
   "cell_type": "markdown",
   "id": "e02bc566",
   "metadata": {},
   "source": [
    "## A very first Python program\n",
    "\n",
    "A Python program can be a single line:"
   ]
  },
  {
   "cell_type": "code",
   "execution_count": null,
   "id": "8137f81a",
   "metadata": {},
   "outputs": [],
   "source": [
    "print(\"Hello interweb\")"
   ]
  },
  {
   "cell_type": "markdown",
   "id": "37e18e9b",
   "metadata": {},
   "source": [
    "## Variables in Python"
   ]
  },
  {
   "cell_type": "markdown",
   "id": "fc4470b6",
   "metadata": {},
   "source": [
    "Variables are the containers for storing data. Variables could be simple and complex. They can represent the primitive data types and point to the other more sophisticated container, e.g. lists, dicts. Later in this notebook you can read the information about these complex types. \n",
    "\n",
    "As an example you can see a code block with both primitive data value and a complex one"
   ]
  },
  {
   "cell_type": "code",
   "execution_count": null,
   "id": "6b61c89f",
   "metadata": {},
   "outputs": [],
   "source": [
    "primitive_data = 5  # PRIMITIVE DATA VALUE\n",
    "complex_data = [3, 4, 5]  # COMPLEX DATA VALUE"
   ]
  },
  {
   "cell_type": "markdown",
   "id": "4c7a126b",
   "metadata": {},
   "source": [
    "## Loops in Python"
   ]
  },
  {
   "cell_type": "markdown",
   "id": "54deab97",
   "metadata": {},
   "source": [
    "Let's start by making a `for` loop with some formatted output:"
   ]
  },
  {
   "cell_type": "code",
   "execution_count": null,
   "id": "ba931e6d",
   "metadata": {},
   "outputs": [],
   "source": [
    "for n in range(3):\n",
    "    print(f\"Hello interweb, this is iteration number {n}\")"
   ]
  },
  {
   "cell_type": "markdown",
   "id": "42e3baf4",
   "metadata": {},
   "source": [
    "A few things to note:\n",
    "\n",
    "- As the reader can see from the output, `n` starts from 0 (inclusively) to 3 (exclusively). This indicates that by default iteration starts from 0 (if not otherwise specified)\n",
    "- Function calls in Python use parentheses: `print()`\n",
    "- The colon `:` denotes the beginning of a new code block (here of the repeated code under the `for` loop).\n",
    "- Code blocks are identified through indentations.\n",
    "\n",
    "To emphasize this last point, here is an example with a two-line repeated block:"
   ]
  },
  {
   "cell_type": "code",
   "execution_count": null,
   "id": "787f8e09",
   "metadata": {},
   "outputs": [],
   "source": [
    "for n in range(3):\n",
    "    print(\"Hello interweb!\")\n",
    "    print(f\"This is iteration number {n}.\")\n",
    "print('And now we are done.')"
   ]
  },
  {
   "cell_type": "markdown",
   "id": "cd787438",
   "metadata": {},
   "source": [
    "## Basic flow control\n",
    "\n",
    "Like most languages, Python has an `if` statement for logical decisions:"
   ]
  },
  {
   "cell_type": "code",
   "execution_count": null,
   "id": "682eb657",
   "metadata": {},
   "outputs": [],
   "source": [
    "if n > 2:\n",
    "    print(\"n is greater than 2!\")\n",
    "else:\n",
    "    print(\"n is not greater than 2!\")"
   ]
  },
  {
   "cell_type": "markdown",
   "id": "3a6b8582",
   "metadata": {},
   "source": [
    "Python also defines the `True` and `False` logical constants:"
   ]
  },
  {
   "cell_type": "code",
   "execution_count": null,
   "id": "b9367b41",
   "metadata": {},
   "outputs": [],
   "source": [
    "n > 2"
   ]
  },
  {
   "cell_type": "markdown",
   "id": "a9164391",
   "metadata": {},
   "source": [
    "There's also a `while` statement for conditional looping:"
   ]
  },
  {
   "cell_type": "code",
   "execution_count": null,
   "id": "12b978f3",
   "metadata": {},
   "outputs": [],
   "source": [
    "m = 0\n",
    "while m < 3:\n",
    "    print(f\"This is iteration number {m}.\")\n",
    "    m += 1\n",
    "print(m < 3)"
   ]
  },
  {
   "cell_type": "markdown",
   "id": "d5b066ae",
   "metadata": {},
   "source": [
    "## Basic Python data types\n",
    "\n",
    "Python is a very flexible language, and many advanced data types are introduced through packages (more on this below). But some of the basic types include: "
   ]
  },
  {
   "cell_type": "markdown",
   "id": "ef3921ed",
   "metadata": {},
   "source": [
    "### Integers (`int`)\n",
    "\n",
    "The variable `m` above is a good example. We can use the function `type()` to examine the type of variable"
   ]
  },
  {
   "cell_type": "code",
   "execution_count": null,
   "id": "184f8c79",
   "metadata": {},
   "outputs": [],
   "source": [
    "print(type(m))"
   ]
  },
  {
   "cell_type": "markdown",
   "id": "861da01b",
   "metadata": {},
   "source": [
    "### Floating point numbers (`float`)\n",
    "\n",
    "Floats can be entered in decimal notation:"
   ]
  },
  {
   "cell_type": "code",
   "execution_count": null,
   "id": "7153a927",
   "metadata": {},
   "outputs": [],
   "source": [
    "print(type(0.1))"
   ]
  },
  {
   "cell_type": "markdown",
   "id": "8545d891",
   "metadata": {},
   "source": [
    "or in scientific notation:"
   ]
  },
  {
   "cell_type": "code",
   "execution_count": null,
   "id": "9bc33c68",
   "metadata": {},
   "outputs": [],
   "source": [
    "print(type(4e7))"
   ]
  },
  {
   "cell_type": "markdown",
   "id": "0a4ceb83",
   "metadata": {},
   "source": [
    "where `4e7` is the Pythonic representation of the number $ 4 \\times 10^7 $."
   ]
  },
  {
   "cell_type": "markdown",
   "id": "87da5d64",
   "metadata": {},
   "source": [
    "### Character strings (`str`)\n",
    "\n",
    "You can use either single quotes `''` or double quotes `\" \"` to denote a string:"
   ]
  },
  {
   "cell_type": "code",
   "execution_count": null,
   "id": "d4cc9304",
   "metadata": {},
   "outputs": [],
   "source": [
    "print(type(\"orange\"))"
   ]
  },
  {
   "cell_type": "code",
   "execution_count": null,
   "id": "ba603039",
   "metadata": {},
   "outputs": [],
   "source": [
    "print(type('orange'))"
   ]
  },
  {
   "cell_type": "markdown",
   "id": "597631d0",
   "metadata": {},
   "source": [
    "### Lists\n",
    "\n",
    "A list is an ordered container of objects denoted by **square brackets**:"
   ]
  },
  {
   "cell_type": "code",
   "execution_count": null,
   "id": "be5d040f",
   "metadata": {},
   "outputs": [],
   "source": [
    "mylist = [0, 1, 1, 2, 3, 5, 8]"
   ]
  },
  {
   "cell_type": "markdown",
   "id": "271edb6e",
   "metadata": {},
   "source": [
    "Lists are useful for lots of reasons. As an example, lists could be used for iteration"
   ]
  },
  {
   "cell_type": "code",
   "execution_count": null,
   "id": "f6d0be16",
   "metadata": {},
   "outputs": [],
   "source": [
    "for number in mylist:\n",
    "    print(number)"
   ]
  },
  {
   "cell_type": "markdown",
   "id": "f3f8a57e",
   "metadata": {},
   "source": [
    "Lists do **not** have to contain all identical types:"
   ]
  },
  {
   "cell_type": "code",
   "execution_count": null,
   "id": "f1673dc5",
   "metadata": {},
   "outputs": [],
   "source": [
    "myweirdlist = [0, 1, 1, \"apple\", 4e7]\n",
    "for item in myweirdlist:\n",
    "    print(type(item))"
   ]
  },
  {
   "cell_type": "markdown",
   "id": "c0f192ef",
   "metadata": {},
   "source": [
    "This list contains a mix of `int` (integer), `float` (floating point number), and `str` (character string)."
   ]
  },
  {
   "cell_type": "markdown",
   "id": "cb662954",
   "metadata": {},
   "source": [
    "Because a list is *ordered*, we can access items by integer index:"
   ]
  },
  {
   "cell_type": "code",
   "execution_count": null,
   "id": "8178ee98",
   "metadata": {},
   "outputs": [],
   "source": [
    "myweirdlist[3]"
   ]
  },
  {
   "cell_type": "markdown",
   "id": "87e841a7",
   "metadata": {},
   "source": [
    "Remember that every index in Python starts at 0."
   ]
  },
  {
   "cell_type": "markdown",
   "id": "2edf60e3",
   "metadata": {},
   "source": [
    "Python also allows lists to be created dynamically through *list comprehension* like this:"
   ]
  },
  {
   "cell_type": "code",
   "execution_count": null,
   "id": "2acae924",
   "metadata": {},
   "outputs": [],
   "source": [
    "squares = [i**2 for i in range(11)]\n",
    "squares"
   ]
  },
  {
   "cell_type": "markdown",
   "id": "5c2663a4",
   "metadata": {},
   "source": [
    "### Dictionaries (`dict`)\n",
    "\n",
    "A dictionary is a collection of *labeled objects*. While list is an *ordered* container, the dictionary is an *unordered* one. It means that the elements in the container do not presume the order. Python uses curly braces `{}` to create dictionaries:"
   ]
  },
  {
   "cell_type": "code",
   "execution_count": null,
   "id": "f4dbacdd",
   "metadata": {},
   "outputs": [],
   "source": [
    "mypet = {\n",
    "    \"name\": \"Fluffy\",\n",
    "    \"species\": \"cat\",\n",
    "    \"age\": 4,\n",
    "}\n",
    "type(mypet)"
   ]
  },
  {
   "cell_type": "markdown",
   "id": "c8e869ca",
   "metadata": {},
   "source": [
    "We can then access items in the dictionary by label using square brackets:"
   ]
  },
  {
   "cell_type": "code",
   "execution_count": null,
   "id": "05c66d6e",
   "metadata": {},
   "outputs": [],
   "source": [
    "mypet[\"species\"]"
   ]
  },
  {
   "cell_type": "markdown",
   "id": "b2027506",
   "metadata": {},
   "source": [
    "We can iterate through the keys (or labels) of a `dict`:"
   ]
  },
  {
   "cell_type": "code",
   "execution_count": null,
   "id": "387dba3d",
   "metadata": {},
   "outputs": [],
   "source": [
    "for key in mypet:\n",
    "    print(\"The key is:\", key)\n",
    "    print(\"The value is:\", mypet[key])"
   ]
  },
  {
   "cell_type": "markdown",
   "id": "04615882",
   "metadata": {},
   "source": [
    "## What now?\n",
    "\n",
    "That was a whirlwind tour of some basic Python usage. \n",
    "\n",
    "Read on for more details on how to install and run Python and necessary packages on your own laptop."
   ]
  },
  {
   "cell_type": "markdown",
   "id": "edbbb2ad-4544-4564-9750-6d738698fe2e",
   "metadata": {},
   "source": [
    "## Resources and references\n",
    "\n",
    "- [Official Python tutorial (Python Docs)](https://docs.python.org/3/tutorial/index.html)"
   ]
  }
 ],
 "metadata": {
  "kernelspec": {
   "display_name": "Python 3 (ipykernel)",
   "language": "python",
   "name": "python3"
  },
  "language_info": {
   "codemirror_mode": {
    "name": "ipython",
    "version": 3
   },
   "file_extension": ".py",
   "mimetype": "text/x-python",
   "name": "python",
   "nbconvert_exporter": "python",
   "pygments_lexer": "ipython3",
   "version": "3.10.4"
  }
 },
 "nbformat": 4,
 "nbformat_minor": 5
}
