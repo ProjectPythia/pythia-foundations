{
 "cells": [
  {
   "cell_type": "markdown",
   "metadata": {
    "id": "RYdHzMOHLr1U"
   },
   "source": [
    "<img src=\"https://jupyter.org/assets/homepage/main-logo.svg\" width=\"200px\"></img>"
   ]
  },
  {
   "cell_type": "markdown",
   "metadata": {
    "id": "382TcknGLr1V"
   },
   "source": [
    "# Getting Started with Jupyter"
   ]
  },
  {
   "cell_type": "markdown",
   "metadata": {
    "id": "FppyUssDLr1W"
   },
   "source": [
    "---"
   ]
  },
  {
   "cell_type": "markdown",
   "metadata": {
    "id": "R5NbthgvLr1W"
   },
   "source": [
    "## Overview\n",
    "Project Jupyter is a project and community whose goal is to \"develop open-source software, open-standards, and services for interactive computing across dozens of programming languages\". Jupyter consists of four main components: Jupyter Notebooks, Jupyter Kernels, Jupyter Lab, and Jupyter Hub. Jupyter can be executed locally and remotely.\n",
    "\n",
    "1. Jupyter Notebooks\n",
    "2. Jupyter Kernels\n",
    "3. Jupyter Lab\n",
    "4. Jupyter Hub\n",
    "5. Executing Jupyter"
   ]
  },
  {
   "cell_type": "markdown",
   "metadata": {
    "id": "ZZZEz-GrLr1X"
   },
   "source": [
    "## Prerequisites\n",
    "\n",
    "| Concepts | Importance | Notes |\n",
    "| --- | --- | --- |\n",
    "| [Installing and Running Python: Python in Jupyter](jupyter) | Helpful | |\n",
    "\n",
    "- **Time to learn**: 10 minutes"
   ]
  },
  {
   "cell_type": "markdown",
   "metadata": {
    "id": "MS5w7x7ELr1Y"
   },
   "source": [
    "---"
   ]
  },
  {
   "cell_type": "markdown",
   "metadata": {
    "id": "Sm5RbdhALr1b"
   },
   "source": [
    "## Jupyter Notebooks\n",
    "\n",
    "The Jupyter Notebook software is an open-source web application that allows you to create and share Jupyter Notebooks (*.ipynb files). Jupyter Notebooks contain executable code, LaTeX equations, visualizations (e.g., plots, pictures), and narrative text. The code does not have to just be Python, other languages such as Julia or R are supported as well. \n",
    "\n",
    "Jupyter Notebooks are celebrated for their interactive output that allows movement between code, code output, explanations, and more code - similar to how scientists think and solve problems. Jupyter Notebooks can be thought of as a living, runnable publication and make for a great presentation platform."
   ]
  },
  {
   "cell_type": "markdown",
   "metadata": {
    "id": "WlqwpUr4Lr1e"
   },
   "source": [
    "## Jupyter Kernels\n",
    "Software engines and their environments (e.g., conda environments) that execute the code contained in Jupyter Notebooks."
   ]
  },
  {
   "cell_type": "markdown",
   "metadata": {
    "id": "F-sZF8KGLr1f"
   },
   "source": [
    "## Jupyter Lab\n",
    "\n",
    "A popular web application on which users can create and write their Jupyter Notebooks, as well as explore data, install software, etc.\n",
    "\n",
    "You can find more information on running Jupyter Lab [here](jupyterlab)."
   ]
  },
  {
   "cell_type": "markdown",
   "metadata": {
    "id": "EnMNKdOVOSJI"
   },
   "source": [
    "## Jupyter Hub\n",
    "A web-based platform that authenticates users and launches Jupyter Lab applications for users on remote systems."
   ]
  },
  {
   "cell_type": "markdown",
   "metadata": {
    "id": "5kfhYv7yOVMh"
   },
   "source": [
    "## Executing Jupyter"
   ]
  },
  {
   "cell_type": "markdown",
   "metadata": {
    "id": "tQvmXjFtUSJa"
   },
   "source": [
    "### Local Execution Model\n",
    "\n",
    "You can launch JupyterLab from a terminal; it will open up in a web browser. The application will then be running in that web browser. When you open a notebook, Jupyter opens a kernel which can be tied to a specific coding language.\n",
    "\n",
    "To launch the JupyterLab interface in your browser, follow the instructions in [Installing and Running Python: Python in Jupyter](https://foundations.projectpythia.org/foundations/jupyter.html).\n",
    "\n",
    "![Local Execution Model](../images/local-execution-model.gif)"
   ]
  },
  {
   "cell_type": "markdown",
   "metadata": {
    "id": "1ymyUHsMUSlT"
   },
   "source": [
    "### Remote Execution Model\n",
    "\n",
    "In the remote execution model, you start out in the browser, then navigate to a specific URL that points to a JupyterHub. On JupyterHub, you authenticate on the remote system, and then JupyterLab is launched and redirected back to your browser. The interface appears the same as if you were running Jupyter locally.\n",
    "\n",
    "![Remote Execution Model](../images/remote-execution-model.gif)"
   ]
  },
  {
   "cell_type": "markdown",
   "metadata": {
    "id": "kXqWPdonLr1i"
   },
   "source": [
    "---"
   ]
  },
  {
   "cell_type": "markdown",
   "metadata": {
    "id": "cYUI27u_Lr1i"
   },
   "source": [
    "## Summary\n",
    "\n",
    "Jupyter consists of four main components:\n",
    "- Jupyter Notebooks (the \"*.ipynb\" files),\n",
    "- Jupyter Kernels (the work environment),\n",
    "- Jupyter Lab (a popular web application and interface for local execution),\n",
    "- and Jupyter Hub (an application and launcher for remote execution).\n",
    "\n",
    "### What's next?\n",
    "\n",
    "- [JupyterLab](jupyterlab)"
   ]
  },
  {
   "cell_type": "markdown",
   "metadata": {
    "id": "yndFhI9VLr1i"
   },
   "source": [
    "## Resources and references\n",
    "\n",
    "- [Jupyter Documentation](https://jupyter.org/)\n",
    "- [Xdev Python Tutorial Seminar Series - Jupyter Notebooks](https://youtu.be/xSzXvwzFsDU)"
   ]
  }
 ],
 "metadata": {
  "colab": {
   "collapsed_sections": [],
   "name": "jupyter.ipynb",
   "provenance": []
  },
  "kernelspec": {
   "display_name": "Python 3 (ipykernel)",
   "language": "python",
   "name": "python3"
  },
  "language_info": {
   "codemirror_mode": {
    "name": "ipython",
    "version": 3
   },
   "file_extension": ".py",
   "mimetype": "text/x-python",
   "name": "python",
   "nbconvert_exporter": "python",
   "pygments_lexer": "ipython3",
   "version": "3.10.8"
  },
  "nbdime-conflicts": {
   "local_diff": [
    {
     "diff": [
      {
       "diff": [
        {
         "key": 0,
         "op": "addrange",
         "valuelist": [
          "Python 3"
         ]
        },
        {
         "key": 0,
         "length": 1,
         "op": "removerange"
        }
       ],
       "key": "display_name",
       "op": "patch"
      }
     ],
     "key": "kernelspec",
     "op": "patch"
    }
   ],
   "remote_diff": [
    {
     "diff": [
      {
       "diff": [
        {
         "key": 0,
         "op": "addrange",
         "valuelist": [
          "Python3"
         ]
        },
        {
         "key": 0,
         "length": 1,
         "op": "removerange"
        }
       ],
       "key": "display_name",
       "op": "patch"
      }
     ],
     "key": "kernelspec",
     "op": "patch"
    }
   ]
  },
  "toc-autonumbering": false
 },
 "nbformat": 4,
 "nbformat_minor": 4
}
