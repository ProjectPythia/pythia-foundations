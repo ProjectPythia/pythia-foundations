{
 "cells": [
  {
   "cell_type": "markdown",
   "id": "3d9564ec",
   "metadata": {},
   "source": [
    "![Matplotlib logo](https://matplotlib.org/stable/_images/sphx_glr_logos2_003.png)"
   ]
  },
  {
   "cell_type": "markdown",
   "id": "e9eb4444",
   "metadata": {},
   "source": [
    "# Histograms, Pie Charts, and Animations"
   ]
  },
  {
   "cell_type": "markdown",
   "id": "cba92e3a",
   "metadata": {},
   "source": [
    "---\n",
    "## Overview\n",
    "\n",
    "In this section we'll explore some more specialized plot types, including:\n",
    "\n",
    "1. Histograms\n",
    "1. Pie Charts\n",
    "1. Animations"
   ]
  },
  {
   "cell_type": "markdown",
   "id": "56c73537",
   "metadata": {},
   "source": [
    "## Prerequisites\n",
    "| Concepts | Importance | Notes |\n",
    "| --- | --- | --- |\n",
    "| [NumPy Basics](../numpy/numpy-basics) | Necessary | |\n",
    "| [Matplotlib Basics](matplotlib-basics) | Necessary | |\n",
    "\n",
    "* **Time to Learn**: 30 minutes"
   ]
  },
  {
   "cell_type": "markdown",
   "id": "4440f2b1",
   "metadata": {},
   "source": [
    "---"
   ]
  },
  {
   "cell_type": "markdown",
   "id": "0702fe7b",
   "metadata": {},
   "source": [
    "## Imports"
   ]
  },
  {
   "cell_type": "markdown",
   "id": "148180d5",
   "metadata": {},
   "source": [
    "Just like in the previous tutorial, we are going to import Matplotlib's `pyplot` interface as `plt`. We must also import `numpy` for working with data arrays."
   ]
  },
  {
   "cell_type": "code",
   "execution_count": null,
   "id": "d16d139c",
   "metadata": {},
   "outputs": [],
   "source": [
    "import matplotlib.pyplot as plt\n",
    "import numpy as np"
   ]
  },
  {
   "cell_type": "markdown",
   "id": "7310773f",
   "metadata": {},
   "source": [
    "## Histograms\n"
   ]
  },
  {
   "cell_type": "markdown",
   "id": "a5ea8056",
   "metadata": {},
   "source": [
    "We can plot a 1-D histogram using most 1-D data arrays.\n",
    "\n",
    "To get the 1-D data array for this example, we generate example data using NumPy’s normal-distribution random-number generator. For demonstration purposes, we've specified the random seed for reproducibility. The code for this number generation is as follows:"
   ]
  },
  {
   "cell_type": "code",
   "execution_count": null,
   "id": "df424130",
   "metadata": {},
   "outputs": [],
   "source": [
    "npts = 2500\n",
    "nbins = 15\n",
    "\n",
    "np.random.seed(0)\n",
    "x = np.random.normal(size=npts)"
   ]
  },
  {
   "cell_type": "markdown",
   "id": "32b9f3bd",
   "metadata": {},
   "source": [
    "Now that we have our data array, we can make a histogram using `plt.hist`.  In this case, we change the y-axis to represent probability, instead of count; this is performed by setting `density=True`."
   ]
  },
  {
   "cell_type": "code",
   "execution_count": null,
   "id": "dfd7c0cc",
   "metadata": {},
   "outputs": [],
   "source": [
    "plt.hist(x, bins=nbins, density=True)\n",
    "plt.title('1D histogram')\n",
    "plt.xlabel('Data')\n",
    "plt.ylabel('Probability');"
   ]
  },
  {
   "cell_type": "markdown",
   "id": "84fb255f",
   "metadata": {},
   "source": [
    "Similarly, we can make a 2-D histogram, by first generating a second 1-D array, and then calling `plt.hist2d` with both 1-D arrays as arguments:"
   ]
  },
  {
   "cell_type": "code",
   "execution_count": null,
   "id": "4ed3325e",
   "metadata": {},
   "outputs": [],
   "source": [
    "y = np.random.normal(size=npts)\n",
    "\n",
    "plt.hist2d(x, y, bins=nbins);"
   ]
  },
  {
   "cell_type": "markdown",
   "id": "dd5a6bca",
   "metadata": {},
   "source": [
    "## Pie Charts"
   ]
  },
  {
   "cell_type": "markdown",
   "id": "35bc61ba",
   "metadata": {},
   "source": [
    "Matplotlib also has the capability to plot pie charts, by way of `plt.pie`. The most basic implementation uses a 1-D array of wedge 'sizes' (i.e., percent values), as shown below:"
   ]
  },
  {
   "cell_type": "code",
   "execution_count": null,
   "id": "9399feaa",
   "metadata": {},
   "outputs": [],
   "source": [
    "x = np.array([25, 15, 20, 40])\n",
    "plt.pie(x);"
   ]
  },
  {
   "cell_type": "markdown",
   "id": "1cec2e20",
   "metadata": {},
   "source": [
    "Typically, you'll see examples where all of the values in the array `x` will sum to 100, but the data values provided to `plt.pie` do not necessarily have to add up to 100.  The sum of the numbers provided will be normalized to 1, and the individual values will thereby be converted to percentages, regardless of the actual sum of the values.  If this behavior is unwanted or unneeded, you can set `normalize=False`.\n",
    "\n",
    "If you set `normalize=False`, and the sum of the values of x is less than 1, then a partial pie chart is plotted. If the values sum to larger than 1, a `ValueError` will be raised."
   ]
  },
  {
   "cell_type": "code",
   "execution_count": null,
   "id": "be883e4e",
   "metadata": {},
   "outputs": [],
   "source": [
    "x = np.array([0.25, 0.20, 0.40])\n",
    "plt.pie(x, normalize=False);"
   ]
  },
  {
   "cell_type": "markdown",
   "id": "e747e452",
   "metadata": {},
   "source": [
    "Let's do a more complicated example.\n",
    "\n",
    "Here we create a pie chart with various sizes associated with each color. Labels are derived by capitalizing each color in the array `colors`. Since colors can be specified by strings corresponding to named colors, this allows both the colors and the labels to be set from the same array, reducing code and effort.\n",
    "\n",
    "If you want to offset one or more wedges for effect, you can use the `explode` keyword argument.  The value for this argument must be a list of floating-point numbers with the same length as the number of wedges.  The numbers indicate the percentage of offset for each wedge. In this example, each wedge is not offset except for the pink (3rd index)."
   ]
  },
  {
   "cell_type": "code",
   "execution_count": null,
   "id": "fa9ecaec",
   "metadata": {},
   "outputs": [],
   "source": [
    "colors = ['red', 'blue', 'yellow', 'pink', 'green']\n",
    "labels = [c.capitalize() for c in colors]\n",
    "\n",
    "sizes = [1, 3, 5, 7, 9]\n",
    "explode = (0, 0, 0, 0.1, 0)\n",
    "\n",
    "\n",
    "plt.pie(sizes, labels=labels, explode=explode, colors=colors, autopct='%1.1f%%');"
   ]
  },
  {
   "cell_type": "markdown",
   "id": "c516ce4b",
   "metadata": {},
   "source": [
    "## Animations"
   ]
  },
  {
   "cell_type": "markdown",
   "id": "46c1acfc",
   "metadata": {},
   "source": [
    "Matplotlib offers a single commonly-used animation tool, `FuncAnimation`. This tool must be imported separately through Matplotlib’s animation package, as shown below. You can find more information on animation with Matplotlib at the [official documentation page](https://matplotlib.org/stable/api/animation_api.html)."
   ]
  },
  {
   "cell_type": "code",
   "execution_count": null,
   "id": "3879e346",
   "metadata": {},
   "outputs": [],
   "source": [
    "from matplotlib.animation import FuncAnimation"
   ]
  },
  {
   "cell_type": "markdown",
   "id": "a31e17ed",
   "metadata": {},
   "source": [
    "`FuncAnimation` creates animations by repeatedly calling a function. Using this method involves three main steps:\n",
    "\n",
    "1. Create an initial state of the plot\n",
    "1. Make a function that can \"progress\" the plot to the next frame of the animation\n",
    "1. Create the animation using FuncAnimation"
   ]
  },
  {
   "cell_type": "markdown",
   "id": "e1abc210",
   "metadata": {},
   "source": [
    "For this example, let's create an animated sine wave."
   ]
  },
  {
   "cell_type": "markdown",
   "id": "5455b9de",
   "metadata": {},
   "source": [
    "### Step 1: Initial State\n",
    "In the initial state step, we will define a function called `init`.  This function will then create the animation plot in its initial state.  However, please note that the successful use of `FuncAnimation` does not technically require such a function; in a later example, creating animations without an initial-state function is demonstrated."
   ]
  },
  {
   "cell_type": "markdown",
   "id": "1037bb3b",
   "metadata": {},
   "source": [
    "First, we’ll define `Figure` and `Axes` objects.  After that, we can create a line-plot object (referred to here as a line) with `plt.plot`. To create the initialization function, we set the line's data to be empty and then return the line.\n",
    "\n",
    "Please note, this code block will display a blank plot when run as a Jupyter notebook cell."
   ]
  },
  {
   "cell_type": "code",
   "execution_count": null,
   "id": "3feef13d",
   "metadata": {},
   "outputs": [],
   "source": [
    "fig, ax = plt.subplots()\n",
    "ax.set_xlim(0, 2 * np.pi)\n",
    "ax.set_ylim(-1.5, 1.5)\n",
    "\n",
    "(line,) = ax.plot([], [])\n",
    "\n",
    "\n",
    "def init():\n",
    "    line.set_data([], [])\n",
    "    return (line,)"
   ]
  },
  {
   "cell_type": "markdown",
   "id": "679981fb",
   "metadata": {},
   "source": [
    "### Step 2: Animation Progression Function\n",
    "For this step, we create a progression function, which takes an index (usually named `n` or `i`), and returns the corresponding (in other words, `n`-th or `i`-th) frame of the animation."
   ]
  },
  {
   "cell_type": "code",
   "execution_count": null,
   "id": "c5b606e2",
   "metadata": {},
   "outputs": [],
   "source": [
    "def animate(i):\n",
    "    x = np.linspace(0, 2 * np.pi, 250)\n",
    "\n",
    "    y = np.sin(2 * np.pi * (x - 0.1 * i))\n",
    "\n",
    "    line.set_data(x, y)\n",
    "\n",
    "    return (line,)"
   ]
  },
  {
   "cell_type": "markdown",
   "id": "6ef0f128",
   "metadata": {},
   "source": [
    "### Step 3: Using `FuncAnimation`\n",
    "The last step is to feed the parts we created to `FuncAnimation`. Please note, when using the `FuncAnimation` function, it is important to save the output in a variable, even if you do not intend to use this output later.  If you do not, Python’s garbage collector may attempt to save memory by deleting the animation data, and it will be unavailable for later use."
   ]
  },
  {
   "cell_type": "code",
   "execution_count": null,
   "id": "8ecb3760",
   "metadata": {},
   "outputs": [],
   "source": [
    "anim = FuncAnimation(fig, animate, init_func=init, frames=200, interval=20, blit=True)"
   ]
  },
  {
   "cell_type": "markdown",
   "id": "cbc69df4",
   "metadata": {},
   "source": [
    "In order to show the animation in a Jupyter notebook, we have to use the `rc` function. This function must be imported separately, and is used to set specific parameters in Matplotlib. In this case, we need to set the `html` parameter for animation plots to `html5`, instead of the default value of none.  The code for this is written as follows:"
   ]
  },
  {
   "cell_type": "code",
   "execution_count": null,
   "id": "b464c460",
   "metadata": {},
   "outputs": [],
   "source": [
    "from matplotlib import rc\n",
    "\n",
    "rc('animation', html='html5')\n",
    "\n",
    "anim"
   ]
  },
  {
   "cell_type": "markdown",
   "id": "8be86c41-2ac0-4385-8b3f-70cf0139b19e",
   "metadata": {},
   "source": [
    "### Saving an Animation\n",
    "\n",
    "To save an animation to a file, use the `save()` method of the animation variable, in this case `anim.save()`, as shown below. The arguments are the file name to save the animation to, in this case `animate.gif`, and the writer used to save the file. Here, the animation writer chosen is [Pillow](https://pillow.readthedocs.io/en/stable/index.html), a library for image processing in Python. There are many choices for an animation writer, which are described in detail in the Matplotlib writer documentation. The documentation for the Pillow writer is described on [this page](https://matplotlib.org/stable/api/_as_gen/matplotlib.animation.PillowWriter.html); links to other writer documentation pages are on the left side of the Pillow writer documentation."
   ]
  },
  {
   "cell_type": "code",
   "execution_count": null,
   "id": "6a1693bd",
   "metadata": {},
   "outputs": [],
   "source": [
    "anim.save('animate.gif', writer='pillow');"
   ]
  },
  {
   "cell_type": "markdown",
   "id": "85b884b1-4db7-4d9d-9563-79750dbcfc67",
   "metadata": {},
   "source": [
    "---"
   ]
  },
  {
   "cell_type": "markdown",
   "id": "076b1bf3",
   "metadata": {},
   "source": [
    "## Summary\n",
    "* Matplotlib supports many different plot types, including the less-commonly-used types described in this section. \n",
    "* Some of these lesser-used plot types include histograms and pie charts.\n",
    "* This section also covered animation of Matplotlib plots.\n",
    "\n",
    "\n",
    "## What's Next\n",
    "The next section introduces [more plotting functionality](annotations-colorbars-layouts), such as annotations, equation rendering, colormaps, and advanced layout.\n",
    "\n",
    "## Additional Resources\n",
    "- [Plot Types Cheat Sheet](https://lnkd.in/dD5fE8V)\n",
    "- [Matplotlib Documentation: Basic Pie Charts](https://matplotlib.org/stable/gallery/pie_and_polar_charts/pie_features.html)\n",
    "- [Matplotlib Documentation: Histograms](https://matplotlib.org/stable/gallery/statistics/hist.html)"
   ]
  },
  {
   "cell_type": "code",
   "execution_count": null,
   "id": "370d8045-216c-4150-9ce5-5128721b3962",
   "metadata": {},
   "outputs": [],
   "source": []
  }
 ],
 "metadata": {
  "kernelspec": {
   "display_name": "Python 3 (ipykernel)",
   "language": "python",
   "name": "python3"
  },
  "language_info": {
   "codemirror_mode": {
    "name": "ipython",
    "version": 3
   },
   "file_extension": ".py",
   "mimetype": "text/x-python",
   "name": "python",
   "nbconvert_exporter": "python",
   "pygments_lexer": "ipython3",
   "version": "3.10.9"
  }
 },
 "nbformat": 4,
 "nbformat_minor": 5
}
