{
 "cells": [
  {
   "cell_type": "markdown",
   "id": "5d45c2b9",
   "metadata": {},
   "source": [
    "# Quickstart: Zero to Python"
   ]
  },
  {
   "cell_type": "markdown",
   "id": "a52c17ad",
   "metadata": {},
   "source": [
    "Brand new to Python? Here are some quick examples of what Python code looks like.\n",
    "\n",
    "This is **not** meant to be a comprehensive Python tutorial, just something to whet your appetite."
   ]
  },
  {
   "cell_type": "markdown",
   "id": "84eecdbd",
   "metadata": {},
   "source": [
    "## Run this code from your browser!\n",
    "\n",
    "Of course you can simply read through these examples, but it's more fun to ***run them yourself***:\n",
    "\n",
    "- Find the **\"Rocket Ship\"** icon, **located near the top-right of this page**. Hover over this icon to see the drop-down menu.\n",
    "- Click the `Binder` link from the drop-down menu.\n",
    "- This page will open up as a [Jupyter notebook](jupyter.html) in a working Python environment in the cloud.\n",
    "- Press <kbd>Shift</kbd>+<kbd>Enter</kbd> to execute each code cell\n",
    "- Feel free to make changes and play around!"
   ]
  },
  {
   "cell_type": "markdown",
   "id": "e02bc566",
   "metadata": {},
   "source": [
    "## A very first Python program\n",
    "\n",
    "A Python program can be a single line:"
   ]
  },
  {
   "cell_type": "code",
   "execution_count": 1,
   "id": "8137f81a",
   "metadata": {
    "execution": {
     "iopub.execute_input": "2023-01-26T20:15:08.423075Z",
     "iopub.status.busy": "2023-01-26T20:15:08.422565Z",
     "iopub.status.idle": "2023-01-26T20:15:08.425841Z",
     "shell.execute_reply": "2023-01-26T20:15:08.425309Z"
    }
   },
   "outputs": [
    {
     "name": "stdout",
     "output_type": "stream",
     "text": [
      "Hello interweb\n"
     ]
    }
   ],
   "source": [
    "print(\"Hello interweb\")"
   ]
  },
  {
   "cell_type": "markdown",
   "id": "4c7a126b",
   "metadata": {},
   "source": [
    "## Loops in Python"
   ]
  },
  {
   "cell_type": "markdown",
   "id": "54deab97",
   "metadata": {},
   "source": [
    "Let's start by making a `for` loop with some formatted output:"
   ]
  },
  {
   "cell_type": "code",
   "execution_count": 2,
   "id": "ba931e6d",
   "metadata": {
    "execution": {
     "iopub.execute_input": "2023-01-26T20:15:08.429111Z",
     "iopub.status.busy": "2023-01-26T20:15:08.427823Z",
     "iopub.status.idle": "2023-01-26T20:15:08.431679Z",
     "shell.execute_reply": "2023-01-26T20:15:08.431163Z"
    }
   },
   "outputs": [
    {
     "name": "stdout",
     "output_type": "stream",
     "text": [
      "Hello interweb, this is iteration number 0\n",
      "Hello interweb, this is iteration number 1\n",
      "Hello interweb, this is iteration number 2\n"
     ]
    }
   ],
   "source": [
    "for n in range(3):\n",
    "    print(f\"Hello interweb, this is iteration number {n}\")"
   ]
  },
  {
   "cell_type": "markdown",
   "id": "42e3baf4",
   "metadata": {},
   "source": [
    "A few things to note:\n",
    "\n",
    "- Python defaults to counting from 0 (like C) rather than from 1 (like Fortran).\n",
    "- Function calls in Python always use parentheses: `print()`\n",
    "- The colon `:` denotes the beginning of a definition (here of the repeated code under the `for` loop).\n",
    "- Code blocks are identified through indentations.\n",
    "\n",
    "To emphasize this last point, here is an example with a two-line repeated block:"
   ]
  },
  {
   "cell_type": "code",
   "execution_count": 3,
   "id": "787f8e09",
   "metadata": {
    "execution": {
     "iopub.execute_input": "2023-01-26T20:15:08.435523Z",
     "iopub.status.busy": "2023-01-26T20:15:08.434932Z",
     "iopub.status.idle": "2023-01-26T20:15:08.437503Z",
     "shell.execute_reply": "2023-01-26T20:15:08.436946Z"
    }
   },
   "outputs": [
    {
     "name": "stdout",
     "output_type": "stream",
     "text": [
      "Hello interweb!\n",
      "This is iteration number 0.\n",
      "Hello interweb!\n",
      "This is iteration number 1.\n",
      "Hello interweb!\n",
      "This is iteration number 2.\n",
      "And now we are done.\n"
     ]
    }
   ],
   "source": [
    "for n in range(3):\n",
    "    print(\"Hello interweb!\")\n",
    "    print(f\"This is iteration number {n}.\")\n",
    "print('And now we are done.')"
   ]
  },
  {
   "cell_type": "markdown",
   "id": "cd787438",
   "metadata": {},
   "source": [
    "## Basic flow control\n",
    "\n",
    "Like most languages, Python has an `if` statement for logical decisions:"
   ]
  },
  {
   "cell_type": "code",
   "execution_count": 4,
   "id": "682eb657",
   "metadata": {
    "execution": {
     "iopub.execute_input": "2023-01-26T20:15:08.440978Z",
     "iopub.status.busy": "2023-01-26T20:15:08.440448Z",
     "iopub.status.idle": "2023-01-26T20:15:08.443218Z",
     "shell.execute_reply": "2023-01-26T20:15:08.442670Z"
    }
   },
   "outputs": [
    {
     "name": "stdout",
     "output_type": "stream",
     "text": [
      "n is not greater than 2!\n"
     ]
    }
   ],
   "source": [
    "if n > 2:\n",
    "    print(\"n is greater than 2!\")\n",
    "else:\n",
    "    print(\"n is not greater than 2!\")"
   ]
  },
  {
   "cell_type": "markdown",
   "id": "3a6b8582",
   "metadata": {},
   "source": [
    "Python also defines the `True` and `False` logical constants:"
   ]
  },
  {
   "cell_type": "code",
   "execution_count": 5,
   "id": "b9367b41",
   "metadata": {
    "execution": {
     "iopub.execute_input": "2023-01-26T20:15:08.449340Z",
     "iopub.status.busy": "2023-01-26T20:15:08.448773Z",
     "iopub.status.idle": "2023-01-26T20:15:08.451900Z",
     "shell.execute_reply": "2023-01-26T20:15:08.451376Z"
    }
   },
   "outputs": [
    {
     "data": {
      "text/plain": [
       "False"
      ]
     },
     "execution_count": 5,
     "metadata": {},
     "output_type": "execute_result"
    }
   ],
   "source": [
    "n > 2"
   ]
  },
  {
   "cell_type": "markdown",
   "id": "a9164391",
   "metadata": {},
   "source": [
    "There's also a `while` statement for conditional looping:"
   ]
  },
  {
   "cell_type": "code",
   "execution_count": 6,
   "id": "12b978f3",
   "metadata": {
    "execution": {
     "iopub.execute_input": "2023-01-26T20:15:08.455780Z",
     "iopub.status.busy": "2023-01-26T20:15:08.455243Z",
     "iopub.status.idle": "2023-01-26T20:15:08.458168Z",
     "shell.execute_reply": "2023-01-26T20:15:08.457715Z"
    }
   },
   "outputs": [
    {
     "name": "stdout",
     "output_type": "stream",
     "text": [
      "This is iteration number 0.\n",
      "This is iteration number 1.\n",
      "This is iteration number 2.\n",
      "False\n"
     ]
    }
   ],
   "source": [
    "m = 0\n",
    "while m < 3:\n",
    "    print(f\"This is iteration number {m}.\")\n",
    "    m += 1\n",
    "print(m < 3)"
   ]
  },
  {
   "cell_type": "markdown",
   "id": "d5b066ae",
   "metadata": {},
   "source": [
    "## Basic Python data types\n",
    "\n",
    "Python is a very flexible language, and many advanced data types are introduced through packages (more on this below). But some of the basic types include: "
   ]
  },
  {
   "cell_type": "markdown",
   "id": "ef3921ed",
   "metadata": {},
   "source": [
    "### Integers (`int`)\n",
    "\n",
    "The number `m` above is a good example. We can use the built-in function `type()` to inspect what we've got in memory:"
   ]
  },
  {
   "cell_type": "code",
   "execution_count": 7,
   "id": "184f8c79",
   "metadata": {
    "execution": {
     "iopub.execute_input": "2023-01-26T20:15:08.461807Z",
     "iopub.status.busy": "2023-01-26T20:15:08.461263Z",
     "iopub.status.idle": "2023-01-26T20:15:08.463739Z",
     "shell.execute_reply": "2023-01-26T20:15:08.463234Z"
    }
   },
   "outputs": [
    {
     "name": "stdout",
     "output_type": "stream",
     "text": [
      "<class 'int'>\n"
     ]
    }
   ],
   "source": [
    "print(type(m))"
   ]
  },
  {
   "cell_type": "markdown",
   "id": "861da01b",
   "metadata": {},
   "source": [
    "### Floating point numbers (`float`)\n",
    "\n",
    "Floats can be entered in decimal notation:"
   ]
  },
  {
   "cell_type": "code",
   "execution_count": 8,
   "id": "7153a927",
   "metadata": {
    "execution": {
     "iopub.execute_input": "2023-01-26T20:15:08.467627Z",
     "iopub.status.busy": "2023-01-26T20:15:08.467042Z",
     "iopub.status.idle": "2023-01-26T20:15:08.469548Z",
     "shell.execute_reply": "2023-01-26T20:15:08.469103Z"
    }
   },
   "outputs": [
    {
     "name": "stdout",
     "output_type": "stream",
     "text": [
      "<class 'float'>\n"
     ]
    }
   ],
   "source": [
    "print(type(0.1))"
   ]
  },
  {
   "cell_type": "markdown",
   "id": "8545d891",
   "metadata": {},
   "source": [
    "or in scientific notation:"
   ]
  },
  {
   "cell_type": "code",
   "execution_count": 9,
   "id": "9bc33c68",
   "metadata": {
    "execution": {
     "iopub.execute_input": "2023-01-26T20:15:08.473075Z",
     "iopub.status.busy": "2023-01-26T20:15:08.472524Z",
     "iopub.status.idle": "2023-01-26T20:15:08.475158Z",
     "shell.execute_reply": "2023-01-26T20:15:08.474641Z"
    }
   },
   "outputs": [
    {
     "name": "stdout",
     "output_type": "stream",
     "text": [
      "<class 'float'>\n"
     ]
    }
   ],
   "source": [
    "print(type(4e7))"
   ]
  },
  {
   "cell_type": "markdown",
   "id": "0a4ceb83",
   "metadata": {},
   "source": [
    "where `4e7` is the Pythonic representation of the number $ 4 \\times 10^7 $."
   ]
  },
  {
   "cell_type": "markdown",
   "id": "87da5d64",
   "metadata": {},
   "source": [
    "### Character strings (`str`)\n",
    "\n",
    "You can use either single quotes `''` or double quotes `\" \"` to denote a string:"
   ]
  },
  {
   "cell_type": "code",
   "execution_count": 10,
   "id": "d4cc9304",
   "metadata": {
    "execution": {
     "iopub.execute_input": "2023-01-26T20:15:08.478904Z",
     "iopub.status.busy": "2023-01-26T20:15:08.478379Z",
     "iopub.status.idle": "2023-01-26T20:15:08.480832Z",
     "shell.execute_reply": "2023-01-26T20:15:08.480305Z"
    }
   },
   "outputs": [
    {
     "name": "stdout",
     "output_type": "stream",
     "text": [
      "<class 'str'>\n"
     ]
    }
   ],
   "source": [
    "print(type(\"orange\"))"
   ]
  },
  {
   "cell_type": "code",
   "execution_count": 11,
   "id": "ba603039",
   "metadata": {
    "execution": {
     "iopub.execute_input": "2023-01-26T20:15:08.484167Z",
     "iopub.status.busy": "2023-01-26T20:15:08.483655Z",
     "iopub.status.idle": "2023-01-26T20:15:08.486289Z",
     "shell.execute_reply": "2023-01-26T20:15:08.485864Z"
    }
   },
   "outputs": [
    {
     "name": "stdout",
     "output_type": "stream",
     "text": [
      "<class 'str'>\n"
     ]
    }
   ],
   "source": [
    "print(type('orange'))"
   ]
  },
  {
   "cell_type": "markdown",
   "id": "597631d0",
   "metadata": {},
   "source": [
    "### Lists\n",
    "\n",
    "A list is an ordered container of objects denoted by **square brackets**:"
   ]
  },
  {
   "cell_type": "code",
   "execution_count": 12,
   "id": "be5d040f",
   "metadata": {
    "execution": {
     "iopub.execute_input": "2023-01-26T20:15:08.490108Z",
     "iopub.status.busy": "2023-01-26T20:15:08.489611Z",
     "iopub.status.idle": "2023-01-26T20:15:08.491639Z",
     "shell.execute_reply": "2023-01-26T20:15:08.491127Z"
    }
   },
   "outputs": [],
   "source": [
    "mylist = [0, 1, 1, 2, 3, 5, 8]"
   ]
  },
  {
   "cell_type": "markdown",
   "id": "271edb6e",
   "metadata": {},
   "source": [
    "Lists are useful for lots of reasons including iteration:"
   ]
  },
  {
   "cell_type": "code",
   "execution_count": 13,
   "id": "f6d0be16",
   "metadata": {
    "execution": {
     "iopub.execute_input": "2023-01-26T20:15:08.495092Z",
     "iopub.status.busy": "2023-01-26T20:15:08.494585Z",
     "iopub.status.idle": "2023-01-26T20:15:08.497307Z",
     "shell.execute_reply": "2023-01-26T20:15:08.496839Z"
    }
   },
   "outputs": [
    {
     "name": "stdout",
     "output_type": "stream",
     "text": [
      "0\n",
      "1\n",
      "1\n",
      "2\n",
      "3\n",
      "5\n",
      "8\n"
     ]
    }
   ],
   "source": [
    "for number in mylist:\n",
    "    print(number)"
   ]
  },
  {
   "cell_type": "markdown",
   "id": "f3f8a57e",
   "metadata": {},
   "source": [
    "Lists do **not** have to contain all identical types:"
   ]
  },
  {
   "cell_type": "code",
   "execution_count": 14,
   "id": "f1673dc5",
   "metadata": {
    "execution": {
     "iopub.execute_input": "2023-01-26T20:15:08.501207Z",
     "iopub.status.busy": "2023-01-26T20:15:08.500648Z",
     "iopub.status.idle": "2023-01-26T20:15:08.503226Z",
     "shell.execute_reply": "2023-01-26T20:15:08.502788Z"
    }
   },
   "outputs": [
    {
     "name": "stdout",
     "output_type": "stream",
     "text": [
      "<class 'int'>\n",
      "<class 'int'>\n",
      "<class 'int'>\n",
      "<class 'str'>\n",
      "<class 'float'>\n"
     ]
    }
   ],
   "source": [
    "myweirdlist = [0, 1, 1, \"apple\", 4e7]\n",
    "for item in myweirdlist:\n",
    "    print(type(item))"
   ]
  },
  {
   "cell_type": "markdown",
   "id": "c0f192ef",
   "metadata": {},
   "source": [
    "This list contains a mix of `int` (integer), `float` (floating point number), and `str` (character string)."
   ]
  },
  {
   "cell_type": "markdown",
   "id": "cb662954",
   "metadata": {},
   "source": [
    "Because a list is *ordered*, we can access items by integer index:"
   ]
  },
  {
   "cell_type": "code",
   "execution_count": 15,
   "id": "8178ee98",
   "metadata": {
    "execution": {
     "iopub.execute_input": "2023-01-26T20:15:08.506628Z",
     "iopub.status.busy": "2023-01-26T20:15:08.505261Z",
     "iopub.status.idle": "2023-01-26T20:15:08.509653Z",
     "shell.execute_reply": "2023-01-26T20:15:08.509134Z"
    }
   },
   "outputs": [
    {
     "data": {
      "text/plain": [
       "'apple'"
      ]
     },
     "execution_count": 15,
     "metadata": {},
     "output_type": "execute_result"
    }
   ],
   "source": [
    "myweirdlist[3]"
   ]
  },
  {
   "cell_type": "markdown",
   "id": "87e841a7",
   "metadata": {},
   "source": [
    "remembering that we start counting from zero!"
   ]
  },
  {
   "cell_type": "markdown",
   "id": "2edf60e3",
   "metadata": {},
   "source": [
    "Python also allows lists to be created dynamically through *list comprehension* like this:"
   ]
  },
  {
   "cell_type": "code",
   "execution_count": 16,
   "id": "2acae924",
   "metadata": {
    "execution": {
     "iopub.execute_input": "2023-01-26T20:15:08.514191Z",
     "iopub.status.busy": "2023-01-26T20:15:08.513616Z",
     "iopub.status.idle": "2023-01-26T20:15:08.516676Z",
     "shell.execute_reply": "2023-01-26T20:15:08.516155Z"
    }
   },
   "outputs": [
    {
     "data": {
      "text/plain": [
       "[0, 1, 4, 9, 16, 25, 36, 49, 64, 81, 100]"
      ]
     },
     "execution_count": 16,
     "metadata": {},
     "output_type": "execute_result"
    }
   ],
   "source": [
    "squares = [i**2 for i in range(11)]\n",
    "squares"
   ]
  },
  {
   "cell_type": "markdown",
   "id": "5c2663a4",
   "metadata": {},
   "source": [
    "### Dictionaries (`dict`)\n",
    "\n",
    "A dictionary is a collection of *labeled objects*. Python uses curly braces `{}` to create dictionaries:"
   ]
  },
  {
   "cell_type": "code",
   "execution_count": 17,
   "id": "f4dbacdd",
   "metadata": {
    "execution": {
     "iopub.execute_input": "2023-01-26T20:15:08.520651Z",
     "iopub.status.busy": "2023-01-26T20:15:08.518902Z",
     "iopub.status.idle": "2023-01-26T20:15:08.523275Z",
     "shell.execute_reply": "2023-01-26T20:15:08.523643Z"
    }
   },
   "outputs": [
    {
     "data": {
      "text/plain": [
       "dict"
      ]
     },
     "execution_count": 17,
     "metadata": {},
     "output_type": "execute_result"
    }
   ],
   "source": [
    "mypet = {\n",
    "    \"name\": \"Fluffy\",\n",
    "    \"species\": \"cat\",\n",
    "    \"age\": 4,\n",
    "}\n",
    "type(mypet)"
   ]
  },
  {
   "cell_type": "markdown",
   "id": "c8e869ca",
   "metadata": {},
   "source": [
    "We can then access items in the dictionary by label using square brackets:"
   ]
  },
  {
   "cell_type": "code",
   "execution_count": 18,
   "id": "05c66d6e",
   "metadata": {
    "execution": {
     "iopub.execute_input": "2023-01-26T20:15:08.527589Z",
     "iopub.status.busy": "2023-01-26T20:15:08.526895Z",
     "iopub.status.idle": "2023-01-26T20:15:08.529917Z",
     "shell.execute_reply": "2023-01-26T20:15:08.529394Z"
    }
   },
   "outputs": [
    {
     "data": {
      "text/plain": [
       "'cat'"
      ]
     },
     "execution_count": 18,
     "metadata": {},
     "output_type": "execute_result"
    }
   ],
   "source": [
    "mypet[\"species\"]"
   ]
  },
  {
   "cell_type": "markdown",
   "id": "b2027506",
   "metadata": {},
   "source": [
    "We can iterate through the keys (or labels) of a `dict`:"
   ]
  },
  {
   "cell_type": "code",
   "execution_count": 19,
   "id": "387dba3d",
   "metadata": {
    "execution": {
     "iopub.execute_input": "2023-01-26T20:15:08.534276Z",
     "iopub.status.busy": "2023-01-26T20:15:08.533759Z",
     "iopub.status.idle": "2023-01-26T20:15:08.536012Z",
     "shell.execute_reply": "2023-01-26T20:15:08.535571Z"
    }
   },
   "outputs": [
    {
     "name": "stdout",
     "output_type": "stream",
     "text": [
      "The key is: name\n",
      "The value is: Fluffy\n",
      "The key is: species\n",
      "The value is: cat\n",
      "The key is: age\n",
      "The value is: 4\n"
     ]
    }
   ],
   "source": [
    "for key in mypet:\n",
    "    print(\"The key is:\", key)\n",
    "    print(\"The value is:\", mypet[key])"
   ]
  },
  {
   "cell_type": "markdown",
   "id": "fb82a430",
   "metadata": {},
   "source": [
    "## Arrays of numbers with NumPy\n",
    "\n",
    "The vast majority of scientific Python code makes use of *packages* that extend the base language in many useful ways.\n",
    "\n",
    "Almost all scientific computing requires ordered arrays of numbers, and fast methods for manipulating them. That's what [NumPy](../core/numpy.md) does in the Python world.\n",
    "\n",
    "Using any package requires an `import` statement, and (optionally) a nickname to be used locally, denoted by the keyword `as`:"
   ]
  },
  {
   "cell_type": "code",
   "execution_count": 20,
   "id": "53ba88cf",
   "metadata": {
    "execution": {
     "iopub.execute_input": "2023-01-26T20:15:08.539945Z",
     "iopub.status.busy": "2023-01-26T20:15:08.539307Z",
     "iopub.status.idle": "2023-01-26T20:15:08.592408Z",
     "shell.execute_reply": "2023-01-26T20:15:08.591944Z"
    }
   },
   "outputs": [],
   "source": [
    "import numpy as np"
   ]
  },
  {
   "cell_type": "markdown",
   "id": "fb237b33",
   "metadata": {},
   "source": [
    "Now all our calls to `numpy` functions will be preceeded by `np.`"
   ]
  },
  {
   "cell_type": "markdown",
   "id": "a3391f8d",
   "metadata": {},
   "source": [
    "Create a linearly space array of numbers:"
   ]
  },
  {
   "cell_type": "code",
   "execution_count": 21,
   "id": "ae024132",
   "metadata": {
    "execution": {
     "iopub.execute_input": "2023-01-26T20:15:08.596989Z",
     "iopub.status.busy": "2023-01-26T20:15:08.596448Z",
     "iopub.status.idle": "2023-01-26T20:15:08.599387Z",
     "shell.execute_reply": "2023-01-26T20:15:08.598870Z"
    }
   },
   "outputs": [
    {
     "data": {
      "text/plain": [
       "array([0. , 0.1, 0.2, 0.3, 0.4, 0.5, 0.6, 0.7, 0.8, 0.9, 1. ])"
      ]
     },
     "execution_count": 21,
     "metadata": {},
     "output_type": "execute_result"
    }
   ],
   "source": [
    "# linspace() takes 3 arguments: start, end, total number of points\n",
    "numbers = np.linspace(0.0, 1.0, 11)\n",
    "numbers"
   ]
  },
  {
   "cell_type": "markdown",
   "id": "cc1c2474",
   "metadata": {},
   "source": [
    "We've just created a new type of object defined by [NumPy](../core/numpy.md):"
   ]
  },
  {
   "cell_type": "code",
   "execution_count": 22,
   "id": "c3f3642d",
   "metadata": {
    "execution": {
     "iopub.execute_input": "2023-01-26T20:15:08.603021Z",
     "iopub.status.busy": "2023-01-26T20:15:08.602509Z",
     "iopub.status.idle": "2023-01-26T20:15:08.605479Z",
     "shell.execute_reply": "2023-01-26T20:15:08.604940Z"
    }
   },
   "outputs": [
    {
     "data": {
      "text/plain": [
       "numpy.ndarray"
      ]
     },
     "execution_count": 22,
     "metadata": {},
     "output_type": "execute_result"
    }
   ],
   "source": [
    "type(numbers)"
   ]
  },
  {
   "cell_type": "markdown",
   "id": "83325c40",
   "metadata": {},
   "source": [
    "Do some arithmetic on that array:"
   ]
  },
  {
   "cell_type": "code",
   "execution_count": 23,
   "id": "12cc225d",
   "metadata": {
    "execution": {
     "iopub.execute_input": "2023-01-26T20:15:08.609218Z",
     "iopub.status.busy": "2023-01-26T20:15:08.608671Z",
     "iopub.status.idle": "2023-01-26T20:15:08.611613Z",
     "shell.execute_reply": "2023-01-26T20:15:08.611107Z"
    }
   },
   "outputs": [
    {
     "data": {
      "text/plain": [
       "array([1. , 1.1, 1.2, 1.3, 1.4, 1.5, 1.6, 1.7, 1.8, 1.9, 2. ])"
      ]
     },
     "execution_count": 23,
     "metadata": {},
     "output_type": "execute_result"
    }
   ],
   "source": [
    "numbers + 1"
   ]
  },
  {
   "cell_type": "markdown",
   "id": "fee4e53c",
   "metadata": {},
   "source": [
    "Sum up all the numbers:"
   ]
  },
  {
   "cell_type": "code",
   "execution_count": 24,
   "id": "3cef5412",
   "metadata": {
    "execution": {
     "iopub.execute_input": "2023-01-26T20:15:08.615288Z",
     "iopub.status.busy": "2023-01-26T20:15:08.614782Z",
     "iopub.status.idle": "2023-01-26T20:15:08.617733Z",
     "shell.execute_reply": "2023-01-26T20:15:08.617214Z"
    }
   },
   "outputs": [
    {
     "data": {
      "text/plain": [
       "5.500000000000001"
      ]
     },
     "execution_count": 24,
     "metadata": {},
     "output_type": "execute_result"
    }
   ],
   "source": [
    "np.sum(numbers)"
   ]
  },
  {
   "cell_type": "markdown",
   "id": "ebf2b669",
   "metadata": {},
   "source": [
    "## Some basic graphics with Matplotlib\n",
    "\n",
    "[Matplotlib](../core/matplotlib.md) is the standard package for producing publication-quality graphics, and works hand-in-hand with [NumPy](../core/numpy.md) arrays.\n",
    "\n",
    "We usually use the `pyplot` submodule for day-to-day plotting commands:"
   ]
  },
  {
   "cell_type": "code",
   "execution_count": 25,
   "id": "76f3329e",
   "metadata": {
    "execution": {
     "iopub.execute_input": "2023-01-26T20:15:08.620919Z",
     "iopub.status.busy": "2023-01-26T20:15:08.620396Z",
     "iopub.status.idle": "2023-01-26T20:15:09.228424Z",
     "shell.execute_reply": "2023-01-26T20:15:09.227917Z"
    }
   },
   "outputs": [],
   "source": [
    "import matplotlib.pyplot as plt"
   ]
  },
  {
   "cell_type": "markdown",
   "id": "66033cbc",
   "metadata": {},
   "source": [
    "Define some data and make a line plot:"
   ]
  },
  {
   "cell_type": "code",
   "execution_count": 26,
   "id": "32ca697e",
   "metadata": {
    "execution": {
     "iopub.execute_input": "2023-01-26T20:15:09.234084Z",
     "iopub.status.busy": "2023-01-26T20:15:09.233482Z",
     "iopub.status.idle": "2023-01-26T20:15:09.439098Z",
     "shell.execute_reply": "2023-01-26T20:15:09.438651Z"
    }
   },
   "outputs": [
    {
     "data": {
      "text/plain": [
       "Text(0.5, 1.0, 'Our first Pythonic plot')"
      ]
     },
     "execution_count": 26,
     "metadata": {},
     "output_type": "execute_result"
    },
    {
     "data": {
      "image/png": "[encoded data removed]",
      "text/plain": [
       "<Figure size 432x288 with 1 Axes>"
      ]
     },
     "metadata": {
      "needs_background": "light"
     },
     "output_type": "display_data"
    }
   ],
   "source": [
    "theta = np.linspace(0.0, 360.0)\n",
    "sintheta = np.sin(np.deg2rad(theta))\n",
    "\n",
    "plt.plot(theta, sintheta, label='y = sin(x)', color='purple')\n",
    "plt.grid()\n",
    "plt.legend()\n",
    "plt.xlabel('Degrees')\n",
    "plt.title('Our first Pythonic plot', fontsize=14)"
   ]
  },
  {
   "cell_type": "markdown",
   "id": "04615882",
   "metadata": {},
   "source": [
    "## What now?\n",
    "\n",
    "That was a whirlwind tour of some basic Python usage. \n",
    "\n",
    "Read on for more details on how to install and run Python and necessary packages on your own laptop."
   ]
  },
  {
   "cell_type": "markdown",
   "id": "edbbb2ad-4544-4564-9750-6d738698fe2e",
   "metadata": {},
   "source": [
    "## Resources and references\n",
    "\n",
    "- [Official Python tutorial (Python Docs)](https://docs.python.org/3/tutorial/index.html)"
   ]
  }
 ],
 "metadata": {
  "kernelspec": {
   "display_name": "Python 3 (ipykernel)",
   "language": "python",
   "name": "python3"
  },
  "language_info": {
   "codemirror_mode": {
    "name": "ipython",
    "version": 3
   },
   "file_extension": ".py",
   "mimetype": "text/x-python",
   "name": "python",
   "nbconvert_exporter": "python",
   "pygments_lexer": "ipython3",
   "version": "3.10.8"
  }
 },
 "nbformat": 4,
 "nbformat_minor": 5
}
