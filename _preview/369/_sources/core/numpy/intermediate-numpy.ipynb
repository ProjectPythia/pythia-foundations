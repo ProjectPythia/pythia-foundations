{
 "cells": [
  {
   "cell_type": "markdown",
   "metadata": {},
   "source": [
    "<img src=https://github.com/numpy/numpy/raw/main/branding/logo/primary/numpylogo.svg width=250 alt=\"NumPy Logo\"></img>\n",
    "# Intermediate NumPy\n",
    "---"
   ]
  },
  {
   "cell_type": "markdown",
   "metadata": {},
   "source": [
    "## Overview\n",
    "1. Working with multiple dimensions\n",
    "1. Subsetting of irregular arrays with booleans\n",
    "1. Sorting, or indexing with indices"
   ]
  },
  {
   "cell_type": "markdown",
   "metadata": {},
   "source": [
    "## Prerequisites\n",
    "\n",
    "| Concepts | Importance | Notes |\n",
    "| --- | --- | --- |\n",
    "| [NumPy Basics](numpy-basics) | Necessary | |\n",
    "\n",
    "* **Time to learn**: 20 minutes\n",
    "---"
   ]
  },
  {
   "cell_type": "markdown",
   "metadata": {},
   "source": [
    "## Imports\n",
    "We will be including [Matplotlib](../matplotlib) to illustrate some of our examples, but you don't need knowledge of it to complete this notebook."
   ]
  },
  {
   "cell_type": "code",
   "execution_count": 1,
   "metadata": {
    "execution": {
     "iopub.execute_input": "2023-01-26T20:15:54.453785Z",
     "iopub.status.busy": "2023-01-26T20:15:54.452601Z",
     "iopub.status.idle": "2023-01-26T20:15:54.909015Z",
     "shell.execute_reply": "2023-01-26T20:15:54.908443Z"
    }
   },
   "outputs": [],
   "source": [
    "import matplotlib.pyplot as plt\n",
    "import numpy as np"
   ]
  },
  {
   "cell_type": "markdown",
   "metadata": {},
   "source": [
    "## Using axes to slice arrays\n",
    "\n",
    "Here we introduce an important concept when working with NumPy: the axis. This indicates the particular dimension along which a function should operate (provided the function does something taking multiple values and converts to a single value). \n",
    "\n",
    "Let's look at a concrete example with `sum`:"
   ]
  },
  {
   "cell_type": "code",
   "execution_count": 2,
   "metadata": {
    "execution": {
     "iopub.execute_input": "2023-01-26T20:15:54.916774Z",
     "iopub.status.busy": "2023-01-26T20:15:54.916260Z",
     "iopub.status.idle": "2023-01-26T20:15:54.919281Z",
     "shell.execute_reply": "2023-01-26T20:15:54.918773Z"
    }
   },
   "outputs": [
    {
     "data": {
      "text/plain": [
       "array([[ 0,  1,  2,  3],\n",
       "       [ 4,  5,  6,  7],\n",
       "       [ 8,  9, 10, 11]])"
      ]
     },
     "execution_count": 2,
     "metadata": {},
     "output_type": "execute_result"
    }
   ],
   "source": [
    "a = np.arange(12).reshape(3, 4)\n",
    "a"
   ]
  },
  {
   "cell_type": "markdown",
   "metadata": {},
   "source": [
    "This calculates the total of all values in the array."
   ]
  },
  {
   "cell_type": "code",
   "execution_count": 3,
   "metadata": {
    "execution": {
     "iopub.execute_input": "2023-01-26T20:15:54.923593Z",
     "iopub.status.busy": "2023-01-26T20:15:54.923083Z",
     "iopub.status.idle": "2023-01-26T20:15:54.926105Z",
     "shell.execute_reply": "2023-01-26T20:15:54.925596Z"
    }
   },
   "outputs": [
    {
     "data": {
      "text/plain": [
       "66"
      ]
     },
     "execution_count": 3,
     "metadata": {},
     "output_type": "execute_result"
    }
   ],
   "source": [
    "np.sum(a)"
   ]
  },
  {
   "cell_type": "markdown",
   "metadata": {},
   "source": [
    "<div class=\"admonition alert alert-info\">\n",
    "    <p class=\"title\" style=\"font-weight:bold\">Info</p>\n",
    "    Some of NumPy's functions can be accessed as `ndarray` methods!\n",
    "</div>"
   ]
  },
  {
   "cell_type": "code",
   "execution_count": 4,
   "metadata": {
    "execution": {
     "iopub.execute_input": "2023-01-26T20:15:54.929948Z",
     "iopub.status.busy": "2023-01-26T20:15:54.929445Z",
     "iopub.status.idle": "2023-01-26T20:15:54.932392Z",
     "shell.execute_reply": "2023-01-26T20:15:54.931897Z"
    }
   },
   "outputs": [
    {
     "data": {
      "text/plain": [
       "66"
      ]
     },
     "execution_count": 4,
     "metadata": {},
     "output_type": "execute_result"
    }
   ],
   "source": [
    "a.sum()"
   ]
  },
  {
   "cell_type": "markdown",
   "metadata": {},
   "source": [
    "Now, with a reminder about how our array is shaped,"
   ]
  },
  {
   "cell_type": "code",
   "execution_count": 5,
   "metadata": {
    "execution": {
     "iopub.execute_input": "2023-01-26T20:15:54.936130Z",
     "iopub.status.busy": "2023-01-26T20:15:54.935629Z",
     "iopub.status.idle": "2023-01-26T20:15:54.938706Z",
     "shell.execute_reply": "2023-01-26T20:15:54.938278Z"
    }
   },
   "outputs": [
    {
     "data": {
      "text/plain": [
       "(3, 4)"
      ]
     },
     "execution_count": 5,
     "metadata": {},
     "output_type": "execute_result"
    }
   ],
   "source": [
    "a.shape"
   ]
  },
  {
   "cell_type": "markdown",
   "metadata": {},
   "source": [
    "we can specify `axis` to get _just_ the sum across each of our rows."
   ]
  },
  {
   "cell_type": "code",
   "execution_count": 6,
   "metadata": {
    "execution": {
     "iopub.execute_input": "2023-01-26T20:15:54.942803Z",
     "iopub.status.busy": "2023-01-26T20:15:54.942297Z",
     "iopub.status.idle": "2023-01-26T20:15:54.945502Z",
     "shell.execute_reply": "2023-01-26T20:15:54.944985Z"
    }
   },
   "outputs": [
    {
     "data": {
      "text/plain": [
       "array([12, 15, 18, 21])"
      ]
     },
     "execution_count": 6,
     "metadata": {},
     "output_type": "execute_result"
    }
   ],
   "source": [
    "np.sum(a, axis=0)"
   ]
  },
  {
   "cell_type": "markdown",
   "metadata": {},
   "source": [
    "Or do the same and take the sum across columns:"
   ]
  },
  {
   "cell_type": "code",
   "execution_count": 7,
   "metadata": {
    "execution": {
     "iopub.execute_input": "2023-01-26T20:15:54.949676Z",
     "iopub.status.busy": "2023-01-26T20:15:54.949159Z",
     "iopub.status.idle": "2023-01-26T20:15:54.952298Z",
     "shell.execute_reply": "2023-01-26T20:15:54.951835Z"
    }
   },
   "outputs": [
    {
     "data": {
      "text/plain": [
       "array([ 6, 22, 38])"
      ]
     },
     "execution_count": 7,
     "metadata": {},
     "output_type": "execute_result"
    }
   ],
   "source": [
    "np.sum(a, axis=1)"
   ]
  },
  {
   "cell_type": "markdown",
   "metadata": {},
   "source": [
    "After putting together some data and introducing some more advanced calculations, let's demonstrate a multi-layered example: calculating temperature advection. If you're not familiar with this (don't worry!), we'll be looking to calculate\n",
    "\n",
    "\\begin{equation*}\n",
    "\\text{advection} = -\\vec{v} \\cdot \\nabla T\n",
    "\\end{equation*}\n",
    "\n",
    "and to do so we'll start with some random $T$ and $\\vec{v}$ values,"
   ]
  },
  {
   "cell_type": "code",
   "execution_count": 8,
   "metadata": {
    "execution": {
     "iopub.execute_input": "2023-01-26T20:15:54.955934Z",
     "iopub.status.busy": "2023-01-26T20:15:54.955430Z",
     "iopub.status.idle": "2023-01-26T20:15:54.958351Z",
     "shell.execute_reply": "2023-01-26T20:15:54.957904Z"
    }
   },
   "outputs": [],
   "source": [
    "temp = np.random.randn(100, 50)\n",
    "u = np.random.randn(100, 50)\n",
    "v = np.random.randn(100, 50)"
   ]
  },
  {
   "cell_type": "markdown",
   "metadata": {},
   "source": [
    "We can calculate the `np.gradient` of our new $T(100x50)$ field as two separate component gradients,"
   ]
  },
  {
   "cell_type": "code",
   "execution_count": 9,
   "metadata": {
    "execution": {
     "iopub.execute_input": "2023-01-26T20:15:54.962221Z",
     "iopub.status.busy": "2023-01-26T20:15:54.961717Z",
     "iopub.status.idle": "2023-01-26T20:15:54.964507Z",
     "shell.execute_reply": "2023-01-26T20:15:54.964006Z"
    }
   },
   "outputs": [],
   "source": [
    "gradient_x, gradient_y = np.gradient(temp)"
   ]
  },
  {
   "cell_type": "markdown",
   "metadata": {},
   "source": [
    "In order to calculate $-\\vec{v} \\cdot \\nabla T$, we will use `np.dstack` to turn our two separate component gradient fields into one multidimensional field containing $x$ and $y$ gradients at each of our $100x50$ points,"
   ]
  },
  {
   "cell_type": "code",
   "execution_count": 10,
   "metadata": {
    "execution": {
     "iopub.execute_input": "2023-01-26T20:15:54.968135Z",
     "iopub.status.busy": "2023-01-26T20:15:54.967623Z",
     "iopub.status.idle": "2023-01-26T20:15:54.970693Z",
     "shell.execute_reply": "2023-01-26T20:15:54.970187Z"
    }
   },
   "outputs": [
    {
     "name": "stdout",
     "output_type": "stream",
     "text": [
      "(100, 50, 2)\n"
     ]
    }
   ],
   "source": [
    "grad_vectors = np.dstack([gradient_x, gradient_y])\n",
    "print(grad_vectors.shape)"
   ]
  },
  {
   "cell_type": "markdown",
   "metadata": {},
   "source": [
    "and then do the same for our separate $u$ and $v$ wind components,"
   ]
  },
  {
   "cell_type": "code",
   "execution_count": 11,
   "metadata": {
    "execution": {
     "iopub.execute_input": "2023-01-26T20:15:54.974452Z",
     "iopub.status.busy": "2023-01-26T20:15:54.973945Z",
     "iopub.status.idle": "2023-01-26T20:15:54.976703Z",
     "shell.execute_reply": "2023-01-26T20:15:54.976202Z"
    }
   },
   "outputs": [
    {
     "name": "stdout",
     "output_type": "stream",
     "text": [
      "(100, 50, 2)\n"
     ]
    }
   ],
   "source": [
    "wind_vectors = np.dstack([u, v])\n",
    "print(wind_vectors.shape)"
   ]
  },
  {
   "cell_type": "markdown",
   "metadata": {},
   "source": [
    "Finally, we can calculate the dot product of these two multidimensional fields of wind and temperature gradient components by hand as an element-wise multiplication, `*`, and then a `sum` of our separate components at each point (i.e., along the last `axis`),"
   ]
  },
  {
   "cell_type": "code",
   "execution_count": 12,
   "metadata": {
    "execution": {
     "iopub.execute_input": "2023-01-26T20:15:54.980252Z",
     "iopub.status.busy": "2023-01-26T20:15:54.979744Z",
     "iopub.status.idle": "2023-01-26T20:15:54.982906Z",
     "shell.execute_reply": "2023-01-26T20:15:54.982413Z"
    }
   },
   "outputs": [
    {
     "name": "stdout",
     "output_type": "stream",
     "text": [
      "(100, 50)\n"
     ]
    }
   ],
   "source": [
    "advection = (wind_vectors * -grad_vectors).sum(axis=-1)\n",
    "print(advection.shape)"
   ]
  },
  {
   "cell_type": "markdown",
   "metadata": {},
   "source": [
    "## Indexing arrays with boolean values\n",
    "\n",
    "### Array comparisons\n",
    "NumPy can easily create arrays of boolean values and use those to select certain values to extract from an array"
   ]
  },
  {
   "cell_type": "code",
   "execution_count": 13,
   "metadata": {
    "execution": {
     "iopub.execute_input": "2023-01-26T20:15:54.987709Z",
     "iopub.status.busy": "2023-01-26T20:15:54.987195Z",
     "iopub.status.idle": "2023-01-26T20:15:54.989535Z",
     "shell.execute_reply": "2023-01-26T20:15:54.989001Z"
    }
   },
   "outputs": [],
   "source": [
    "# Create some synthetic data representing temperature and wind speed data\n",
    "np.random.seed(19990503)  # Make sure we all have the same data\n",
    "temp = 20 * np.cos(np.linspace(0, 2 * np.pi, 100)) + 50 + 2 * np.random.randn(100)\n",
    "speed = np.abs(\n",
    "    10 * np.sin(np.linspace(0, 2 * np.pi, 100)) + 10 + 5 * np.random.randn(100)\n",
    ")"
   ]
  },
  {
   "cell_type": "code",
   "execution_count": 14,
   "metadata": {
    "execution": {
     "iopub.execute_input": "2023-01-26T20:15:54.993089Z",
     "iopub.status.busy": "2023-01-26T20:15:54.992530Z",
     "iopub.status.idle": "2023-01-26T20:15:55.127193Z",
     "shell.execute_reply": "2023-01-26T20:15:55.126686Z"
    }
   },
   "outputs": [
    {
     "data": {
      "image/png": "[encoded data removed]",
      "text/plain": [
       "<Figure size 432x288 with 1 Axes>"
      ]
     },
     "metadata": {
      "needs_background": "light"
     },
     "output_type": "display_data"
    }
   ],
   "source": [
    "plt.plot(temp, 'tab:red')\n",
    "plt.plot(speed, 'tab:blue');"
   ]
  },
  {
   "cell_type": "markdown",
   "metadata": {},
   "source": [
    "By doing a comparison between a NumPy array and a value, we get an\n",
    "array of values representing the results of the comparison between\n",
    "each element and the value"
   ]
  },
  {
   "cell_type": "code",
   "execution_count": 15,
   "metadata": {
    "execution": {
     "iopub.execute_input": "2023-01-26T20:15:55.131490Z",
     "iopub.status.busy": "2023-01-26T20:15:55.130951Z",
     "iopub.status.idle": "2023-01-26T20:15:55.134112Z",
     "shell.execute_reply": "2023-01-26T20:15:55.133603Z"
    }
   },
   "outputs": [
    {
     "data": {
      "text/plain": [
       "array([ True,  True,  True,  True,  True,  True,  True,  True,  True,\n",
       "        True,  True,  True,  True,  True,  True,  True,  True,  True,\n",
       "        True,  True,  True,  True,  True,  True,  True,  True,  True,\n",
       "        True, False, False,  True, False, False, False, False, False,\n",
       "       False, False, False, False, False, False, False, False, False,\n",
       "       False, False, False, False, False, False, False, False, False,\n",
       "       False, False, False, False, False, False, False, False, False,\n",
       "       False, False,  True, False, False, False, False,  True,  True,\n",
       "        True,  True,  True,  True,  True,  True,  True,  True,  True,\n",
       "        True,  True,  True,  True,  True,  True,  True,  True,  True,\n",
       "        True,  True,  True,  True,  True,  True,  True,  True,  True,\n",
       "        True])"
      ]
     },
     "execution_count": 15,
     "metadata": {},
     "output_type": "execute_result"
    }
   ],
   "source": [
    "temp > 45"
   ]
  },
  {
   "cell_type": "markdown",
   "metadata": {},
   "source": [
    "This, which is its own NumPy array of `boolean` values, can be used as an index to another array of the same size. We can even use it as an index within the original `temp` array we used to compare,"
   ]
  },
  {
   "cell_type": "code",
   "execution_count": 16,
   "metadata": {
    "execution": {
     "iopub.execute_input": "2023-01-26T20:15:55.138536Z",
     "iopub.status.busy": "2023-01-26T20:15:55.138031Z",
     "iopub.status.idle": "2023-01-26T20:15:55.141329Z",
     "shell.execute_reply": "2023-01-26T20:15:55.140786Z"
    }
   },
   "outputs": [
    {
     "data": {
      "text/plain": [
       "array([69.89825854, 71.52313905, 69.90028363, 66.73828667, 66.77980233,\n",
       "       72.91468564, 69.34603239, 69.09533591, 68.27350814, 64.33916721,\n",
       "       67.49497791, 67.05282372, 63.51829518, 63.54034678, 65.46576463,\n",
       "       62.99683836, 59.27662304, 61.29361272, 60.51641586, 57.46048995,\n",
       "       55.19793004, 53.07572989, 54.47998158, 53.09552107, 54.59037269,\n",
       "       47.84272747, 49.1435589 , 45.87151534, 45.11976794, 45.009292  ,\n",
       "       46.36021141, 46.87557425, 47.25668992, 50.09599544, 53.77789358,\n",
       "       50.24073197, 54.07629059, 51.95065202, 55.84827794, 57.56967086,\n",
       "       57.19572063, 61.67658285, 56.51474577, 59.72166924, 62.99403256,\n",
       "       63.57569453, 64.05984232, 60.88258643, 65.37759899, 63.94115754,\n",
       "       65.53070256, 67.15175649, 66.26468701, 67.03811793, 69.17773618,\n",
       "       69.83571708, 70.99586742, 66.34971928, 67.49905207, 69.83593609])"
      ]
     },
     "execution_count": 16,
     "metadata": {},
     "output_type": "execute_result"
    }
   ],
   "source": [
    "temp[temp > 45]"
   ]
  },
  {
   "cell_type": "markdown",
   "metadata": {},
   "source": [
    "<div class=\"admonition alert alert-info\">\n",
    "    <p class=\"admonition-title\" style=\"font-weight:bold\">Info</p>\n",
    "    This only returns the values from our original array meeting the indexing conditions, nothing more! Note the size,\n",
    "</div>"
   ]
  },
  {
   "cell_type": "code",
   "execution_count": 17,
   "metadata": {
    "execution": {
     "iopub.execute_input": "2023-01-26T20:15:55.145249Z",
     "iopub.status.busy": "2023-01-26T20:15:55.144696Z",
     "iopub.status.idle": "2023-01-26T20:15:55.147774Z",
     "shell.execute_reply": "2023-01-26T20:15:55.147318Z"
    }
   },
   "outputs": [
    {
     "data": {
      "text/plain": [
       "(60,)"
      ]
     },
     "execution_count": 17,
     "metadata": {},
     "output_type": "execute_result"
    }
   ],
   "source": [
    "temp[temp > 45].shape"
   ]
  },
  {
   "cell_type": "markdown",
   "metadata": {},
   "source": [
    "<div class=\"admonition alert alert-warning\">\n",
    "    <p class=\"admonition-title\" style=\"font-weight:bold\">Warning</p>\n",
    "    Indexing arrays with arrays requires them to be the same size!\n",
    "</div>"
   ]
  },
  {
   "cell_type": "markdown",
   "metadata": {},
   "source": [
    "If we store this array somewhere new,"
   ]
  },
  {
   "cell_type": "code",
   "execution_count": 18,
   "metadata": {
    "execution": {
     "iopub.execute_input": "2023-01-26T20:15:55.151314Z",
     "iopub.status.busy": "2023-01-26T20:15:55.150809Z",
     "iopub.status.idle": "2023-01-26T20:15:55.153212Z",
     "shell.execute_reply": "2023-01-26T20:15:55.152672Z"
    }
   },
   "outputs": [],
   "source": [
    "temp_45 = temp[temp > 45]"
   ]
  },
  {
   "cell_type": "code",
   "execution_count": 19,
   "metadata": {
    "execution": {
     "iopub.execute_input": "2023-01-26T20:15:55.156731Z",
     "iopub.status.busy": "2023-01-26T20:15:55.156230Z",
     "iopub.status.idle": "2023-01-26T20:15:55.358239Z",
     "shell.execute_reply": "2023-01-26T20:15:55.357730Z"
    },
    "tags": [
     "raises-exception"
    ]
   },
   "outputs": [
    {
     "ename": "IndexError",
     "evalue": "boolean index did not match indexed array along dimension 0; dimension is 60 but corresponding boolean dimension is 100",
     "output_type": "error",
     "traceback": [
      "\u001b[0;31m---------------------------------------------------------------------------\u001b[0m",
      "\u001b[0;31mIndexError\u001b[0m                                Traceback (most recent call last)",
      "Cell \u001b[0;32mIn[19], line 1\u001b[0m\n\u001b[0;32m----> 1\u001b[0m \u001b[43mtemp_45\u001b[49m\u001b[43m[\u001b[49m\u001b[43mtemp\u001b[49m\u001b[43m \u001b[49m\u001b[38;5;241;43m<\u001b[39;49m\u001b[43m \u001b[49m\u001b[38;5;241;43m45\u001b[39;49m\u001b[43m]\u001b[49m\n",
      "\u001b[0;31mIndexError\u001b[0m: boolean index did not match indexed array along dimension 0; dimension is 60 but corresponding boolean dimension is 100"
     ]
    }
   ],
   "source": [
    "temp_45[temp < 45]"
   ]
  },
  {
   "cell_type": "markdown",
   "metadata": {},
   "source": [
    "We find that our original `(100,)` shape array is too large to subset our new `(60,)` array."
   ]
  },
  {
   "cell_type": "markdown",
   "metadata": {},
   "source": [
    "If their sizes _do_ match, the boolean array can come from a totally different array!"
   ]
  },
  {
   "cell_type": "code",
   "execution_count": 20,
   "metadata": {
    "execution": {
     "iopub.execute_input": "2023-01-26T20:15:55.362896Z",
     "iopub.status.busy": "2023-01-26T20:15:55.362394Z",
     "iopub.status.idle": "2023-01-26T20:15:55.365606Z",
     "shell.execute_reply": "2023-01-26T20:15:55.365187Z"
    }
   },
   "outputs": [
    {
     "data": {
      "text/plain": [
       "array([False, False, False,  True,  True, False,  True,  True,  True,\n",
       "        True,  True,  True,  True,  True,  True,  True,  True,  True,\n",
       "        True,  True,  True,  True,  True,  True,  True,  True,  True,\n",
       "        True,  True,  True, False,  True,  True,  True,  True, False,\n",
       "        True,  True,  True,  True, False,  True,  True,  True,  True,\n",
       "        True,  True, False,  True,  True, False,  True, False, False,\n",
       "       False, False, False, False, False, False, False, False, False,\n",
       "       False,  True, False, False, False, False, False, False, False,\n",
       "       False, False, False, False, False, False, False, False, False,\n",
       "       False, False, False, False, False, False, False, False, False,\n",
       "       False, False, False, False,  True,  True, False, False, False,\n",
       "        True])"
      ]
     },
     "execution_count": 20,
     "metadata": {},
     "output_type": "execute_result"
    }
   ],
   "source": [
    "speed > 10"
   ]
  },
  {
   "cell_type": "code",
   "execution_count": 21,
   "metadata": {
    "execution": {
     "iopub.execute_input": "2023-01-26T20:15:55.374191Z",
     "iopub.status.busy": "2023-01-26T20:15:55.373659Z",
     "iopub.status.idle": "2023-01-26T20:15:55.377091Z",
     "shell.execute_reply": "2023-01-26T20:15:55.376599Z"
    }
   },
   "outputs": [
    {
     "data": {
      "text/plain": [
       "array([66.73828667, 66.77980233, 69.34603239, 69.09533591, 68.27350814,\n",
       "       64.33916721, 67.49497791, 67.05282372, 63.51829518, 63.54034678,\n",
       "       65.46576463, 62.99683836, 59.27662304, 61.29361272, 60.51641586,\n",
       "       57.46048995, 55.19793004, 53.07572989, 54.47998158, 53.09552107,\n",
       "       54.59037269, 47.84272747, 49.1435589 , 45.87151534, 43.95971516,\n",
       "       42.72814762, 42.45316175, 39.2797517 , 40.23351938, 36.77179678,\n",
       "       34.43329229, 31.42277612, 38.97505745, 34.10549575, 35.70826448,\n",
       "       29.01276068, 30.31180935, 29.31602671, 32.84580454, 30.76695309,\n",
       "       29.11344716, 30.16652571, 29.91513049, 39.51784389, 69.17773618,\n",
       "       69.83571708, 69.83593609])"
      ]
     },
     "execution_count": 21,
     "metadata": {},
     "output_type": "execute_result"
    }
   ],
   "source": [
    "temp[speed > 10]"
   ]
  },
  {
   "cell_type": "markdown",
   "metadata": {},
   "source": [
    "### Replacing values\n",
    "To extend this, we can use this conditional indexing to _assign_ new values to certain positions within our array, somewhat like a masking operation."
   ]
  },
  {
   "cell_type": "code",
   "execution_count": 22,
   "metadata": {
    "execution": {
     "iopub.execute_input": "2023-01-26T20:15:55.381440Z",
     "iopub.status.busy": "2023-01-26T20:15:55.380887Z",
     "iopub.status.idle": "2023-01-26T20:15:55.383074Z",
     "shell.execute_reply": "2023-01-26T20:15:55.382580Z"
    }
   },
   "outputs": [],
   "source": [
    "# Make a copy so we don't modify the original data\n",
    "temp2 = temp.copy()\n",
    "speed2 = speed.copy()\n",
    "\n",
    "# Replace all places where speed is <10 with NaN (not a number)\n",
    "temp2[speed < 10] = np.nan\n",
    "speed2[speed < 10] = np.nan"
   ]
  },
  {
   "cell_type": "code",
   "execution_count": 23,
   "metadata": {
    "execution": {
     "iopub.execute_input": "2023-01-26T20:15:55.397949Z",
     "iopub.status.busy": "2023-01-26T20:15:55.396609Z",
     "iopub.status.idle": "2023-01-26T20:15:55.513069Z",
     "shell.execute_reply": "2023-01-26T20:15:55.513488Z"
    }
   },
   "outputs": [
    {
     "data": {
      "image/png": "[encoded data removed]",
      "text/plain": [
       "<Figure size 432x288 with 1 Axes>"
      ]
     },
     "metadata": {
      "needs_background": "light"
     },
     "output_type": "display_data"
    }
   ],
   "source": [
    "plt.plot(temp2, 'tab:red');"
   ]
  },
  {
   "cell_type": "markdown",
   "metadata": {},
   "source": [
    "and to put this in context,"
   ]
  },
  {
   "cell_type": "code",
   "execution_count": 24,
   "metadata": {
    "execution": {
     "iopub.execute_input": "2023-01-26T20:15:55.535429Z",
     "iopub.status.busy": "2023-01-26T20:15:55.515672Z",
     "iopub.status.idle": "2023-01-26T20:15:55.644131Z",
     "shell.execute_reply": "2023-01-26T20:15:55.643627Z"
    }
   },
   "outputs": [
    {
     "data": {
      "image/png": "[encoded data removed]",
      "text/plain": [
       "<Figure size 432x288 with 1 Axes>"
      ]
     },
     "metadata": {
      "needs_background": "light"
     },
     "output_type": "display_data"
    }
   ],
   "source": [
    "plt.plot(temp, 'r:')\n",
    "plt.plot(temp2, 'r')\n",
    "plt.plot(speed, 'b:')\n",
    "plt.plot(speed2, 'b');"
   ]
  },
  {
   "cell_type": "markdown",
   "metadata": {},
   "source": [
    "If we use parentheses to preserve the order of operations, we can combine these conditions with other bitwise operators like the `&` for `bitwise_and`,"
   ]
  },
  {
   "cell_type": "code",
   "execution_count": 25,
   "metadata": {
    "execution": {
     "iopub.execute_input": "2023-01-26T20:15:55.648492Z",
     "iopub.status.busy": "2023-01-26T20:15:55.647992Z",
     "iopub.status.idle": "2023-01-26T20:15:55.651078Z",
     "shell.execute_reply": "2023-01-26T20:15:55.650582Z"
    }
   },
   "outputs": [
    {
     "data": {
      "text/plain": [
       "array([False, False, False, False, False, False, False, False, False,\n",
       "       False, False, False, False, False, False, False, False, False,\n",
       "       False, False, False, False, False, False, False, False, False,\n",
       "       False,  True,  True, False,  True,  True,  True,  True, False,\n",
       "        True,  True,  True,  True, False,  True,  True,  True,  True,\n",
       "        True,  True, False,  True,  True, False,  True, False, False,\n",
       "       False, False, False, False, False, False, False, False, False,\n",
       "       False,  True, False, False, False, False, False, False, False,\n",
       "       False, False, False, False, False, False, False, False, False,\n",
       "       False, False, False, False, False, False, False, False, False,\n",
       "       False, False, False, False, False, False, False, False, False,\n",
       "       False])"
      ]
     },
     "execution_count": 25,
     "metadata": {},
     "output_type": "execute_result"
    }
   ],
   "source": [
    "multi_mask = (temp < 45) & (speed > 10)\n",
    "multi_mask"
   ]
  },
  {
   "cell_type": "code",
   "execution_count": 26,
   "metadata": {
    "execution": {
     "iopub.execute_input": "2023-01-26T20:15:55.655084Z",
     "iopub.status.busy": "2023-01-26T20:15:55.654583Z",
     "iopub.status.idle": "2023-01-26T20:15:55.657745Z",
     "shell.execute_reply": "2023-01-26T20:15:55.657238Z"
    }
   },
   "outputs": [
    {
     "data": {
      "text/plain": [
       "array([43.95971516, 42.72814762, 42.45316175, 39.2797517 , 40.23351938,\n",
       "       36.77179678, 34.43329229, 31.42277612, 38.97505745, 34.10549575,\n",
       "       35.70826448, 29.01276068, 30.31180935, 29.31602671, 32.84580454,\n",
       "       30.76695309, 29.11344716, 30.16652571, 29.91513049, 39.51784389])"
      ]
     },
     "execution_count": 26,
     "metadata": {},
     "output_type": "execute_result"
    }
   ],
   "source": [
    "temp[multi_mask]"
   ]
  },
  {
   "cell_type": "markdown",
   "metadata": {},
   "source": [
    "Heat index is only defined for temperatures >= 80F and relative humidity values >= 40%. Using the data generated below, we can use boolean indexing to extract the data where heat index has a valid value."
   ]
  },
  {
   "cell_type": "code",
   "execution_count": 27,
   "metadata": {
    "execution": {
     "iopub.execute_input": "2023-01-26T20:15:55.663368Z",
     "iopub.status.busy": "2023-01-26T20:15:55.662861Z",
     "iopub.status.idle": "2023-01-26T20:15:55.665658Z",
     "shell.execute_reply": "2023-01-26T20:15:55.665157Z"
    }
   },
   "outputs": [
    {
     "name": "stdout",
     "output_type": "stream",
     "text": [
      "[ 99.89825854 101.52313905  99.90028363  96.73828667  96.77980233\n",
      " 102.91468564  99.34603239  99.09533591  98.27350814  94.33916721\n",
      "  97.49497791  97.05282372  93.51829518  93.54034678  95.46576463\n",
      "  92.99683836  89.27662304  91.29361272  90.51641586  87.46048995\n",
      "  85.19793004  83.07572989  84.47998158  83.09552107  84.59037269\n",
      "  80.09599544  83.77789358  80.24073197  84.07629059  81.95065202\n",
      "  85.84827794  87.56967086  87.19572063  91.67658285  86.51474577\n",
      "  89.72166924  92.99403256  93.57569453  94.05984232  90.88258643\n",
      "  95.37759899  93.94115754  95.53070256  97.15175649  96.26468701\n",
      "  97.03811793  99.17773618  99.83571708 100.99586742  96.34971928\n",
      "  97.49905207  99.83593609]\n"
     ]
    }
   ],
   "source": [
    "# Here's the \"data\"\n",
    "np.random.seed(19990503)\n",
    "temp = 20 * np.cos(np.linspace(0, 2 * np.pi, 100)) + 80 + 2 * np.random.randn(100)\n",
    "relative_humidity = np.abs(\n",
    "    20 * np.cos(np.linspace(0, 4 * np.pi, 100)) + 50 + 5 * np.random.randn(100)\n",
    ")\n",
    "\n",
    "# Create a mask for the two conditions described above\n",
    "good_heat_index = (temp >= 80) & (relative_humidity >= 0.4)\n",
    "\n",
    "# Use this mask to grab the temperature and relative humidity values that together\n",
    "# will give good heat index values\n",
    "print(temp[good_heat_index])"
   ]
  },
  {
   "cell_type": "markdown",
   "metadata": {},
   "source": [
    "Another bitwise operator we can find helpful is Python's `~` complement operator, which can give us the **inverse** of our specific mask to let us assign `np.nan` to every value _not_ satisfied in `good_heat_index`."
   ]
  },
  {
   "cell_type": "code",
   "execution_count": 28,
   "metadata": {
    "execution": {
     "iopub.execute_input": "2023-01-26T20:15:55.689937Z",
     "iopub.status.busy": "2023-01-26T20:15:55.682823Z",
     "iopub.status.idle": "2023-01-26T20:15:55.778261Z",
     "shell.execute_reply": "2023-01-26T20:15:55.777837Z"
    }
   },
   "outputs": [
    {
     "data": {
      "image/png": "[encoded data removed]",
      "text/plain": [
       "<Figure size 432x288 with 1 Axes>"
      ]
     },
     "metadata": {
      "needs_background": "light"
     },
     "output_type": "display_data"
    }
   ],
   "source": [
    "plot_temp = temp.copy()\n",
    "plot_temp[~good_heat_index] = np.nan\n",
    "plt.plot(plot_temp, 'tab:red');"
   ]
  },
  {
   "cell_type": "markdown",
   "metadata": {},
   "source": [
    "## Indexing using arrays of indices\n",
    "\n",
    "You can also use a list or array of indices to extract particular values--this is a natural extension of the regular indexing. For instance, just as we can select the first element:"
   ]
  },
  {
   "cell_type": "code",
   "execution_count": 29,
   "metadata": {
    "execution": {
     "iopub.execute_input": "2023-01-26T20:15:55.782198Z",
     "iopub.status.busy": "2023-01-26T20:15:55.781690Z",
     "iopub.status.idle": "2023-01-26T20:15:55.784835Z",
     "shell.execute_reply": "2023-01-26T20:15:55.784320Z"
    }
   },
   "outputs": [
    {
     "data": {
      "text/plain": [
       "99.89825854468695"
      ]
     },
     "execution_count": 29,
     "metadata": {},
     "output_type": "execute_result"
    }
   ],
   "source": [
    "temp[0]"
   ]
  },
  {
   "cell_type": "markdown",
   "metadata": {},
   "source": [
    "We can also extract the first, fifth, and tenth elements as a list:"
   ]
  },
  {
   "cell_type": "code",
   "execution_count": 30,
   "metadata": {
    "execution": {
     "iopub.execute_input": "2023-01-26T20:15:55.789104Z",
     "iopub.status.busy": "2023-01-26T20:15:55.788524Z",
     "iopub.status.idle": "2023-01-26T20:15:55.791588Z",
     "shell.execute_reply": "2023-01-26T20:15:55.791096Z"
    }
   },
   "outputs": [
    {
     "data": {
      "text/plain": [
       "array([99.89825854, 96.77980233, 94.33916721])"
      ]
     },
     "execution_count": 30,
     "metadata": {},
     "output_type": "execute_result"
    }
   ],
   "source": [
    "temp[[0, 4, 9]]"
   ]
  },
  {
   "cell_type": "markdown",
   "metadata": {},
   "source": [
    "One of the ways this comes into play is trying to sort NumPy arrays using `argsort`. This function returns the indices of the array that give the items in sorted order. So for our `temp`,"
   ]
  },
  {
   "cell_type": "code",
   "execution_count": 31,
   "metadata": {
    "execution": {
     "iopub.execute_input": "2023-01-26T20:15:55.795813Z",
     "iopub.status.busy": "2023-01-26T20:15:55.795307Z",
     "iopub.status.idle": "2023-01-26T20:15:55.798455Z",
     "shell.execute_reply": "2023-01-26T20:15:55.797951Z"
    }
   },
   "outputs": [
    {
     "data": {
      "text/plain": [
       "array([52, 57, 42, 48, 54, 44, 56, 51, 49, 43, 50, 46, 58, 55, 53, 40, 37,\n",
       "       61, 47, 45, 59, 39, 36, 60, 41, 34, 66, 63, 35, 38, 32, 62, 64, 33,\n",
       "       31, 67, 29, 28, 68, 69, 65, 30, 27, 70, 71, 72, 25, 26, 73, 75, 77,\n",
       "       21, 23, 74, 76, 22, 24, 20, 78, 82, 80, 19, 79, 16, 83, 18, 87, 17,\n",
       "       81, 84, 15, 12, 13, 85, 89, 86,  9, 88, 14, 90, 92, 97,  3,  4, 93,\n",
       "       11, 91, 10, 98,  8,  7, 94,  6, 95, 99,  0,  2, 96,  1,  5])"
      ]
     },
     "execution_count": 31,
     "metadata": {},
     "output_type": "execute_result"
    }
   ],
   "source": [
    "inds = np.argsort(temp)\n",
    "inds"
   ]
  },
  {
   "cell_type": "markdown",
   "metadata": {},
   "source": [
    "i.e., our lowest value is at index `52`, next `57`, and so on. We can use this array of indices as an index for `temp`,"
   ]
  },
  {
   "cell_type": "code",
   "execution_count": 32,
   "metadata": {
    "execution": {
     "iopub.execute_input": "2023-01-26T20:15:55.803352Z",
     "iopub.status.busy": "2023-01-26T20:15:55.802847Z",
     "iopub.status.idle": "2023-01-26T20:15:55.805648Z",
     "shell.execute_reply": "2023-01-26T20:15:55.805194Z"
    }
   },
   "outputs": [
    {
     "data": {
      "text/plain": [
       "array([ 58.71828204,  58.85269149,  59.01276068,  59.11344716,\n",
       "        59.25186164,  59.31602671,  59.42796381,  59.91513049,\n",
       "        60.16652571,  60.31180935,  60.48608715,  60.76695309,\n",
       "        60.93380275,  60.95814392,  61.07199963,  61.1341411 ,\n",
       "        61.42277612,  62.27369636,  62.44927684,  62.84580454,\n",
       "        63.37573713,  64.10549575,  64.43329229,  64.95696914,\n",
       "        65.70826448,  66.77179678,  67.06954335,  67.39853293,\n",
       "        67.7453367 ,  68.97505745,  69.2797517 ,  69.34620461,\n",
       "        69.51784389,  70.23351938,  72.45316175,  72.69583703,\n",
       "        72.72814762,  73.95971516,  74.03576453,  74.45775806,\n",
       "        75.009292  ,  75.11976794,  75.87151534,  76.36021141,\n",
       "        76.87557425,  77.25668992,  77.84272747,  79.1435589 ,\n",
       "        80.09599544,  80.24073197,  81.95065202,  83.07572989,\n",
       "        83.09552107,  83.77789358,  84.07629059,  84.47998158,\n",
       "        84.59037269,  85.19793004,  85.84827794,  86.51474577,\n",
       "        87.19572063,  87.46048995,  87.56967086,  89.27662304,\n",
       "        89.72166924,  90.51641586,  90.88258643,  91.29361272,\n",
       "        91.67658285,  92.99403256,  92.99683836,  93.51829518,\n",
       "        93.54034678,  93.57569453,  93.94115754,  94.05984232,\n",
       "        94.33916721,  95.37759899,  95.46576463,  95.53070256,\n",
       "        96.26468701,  96.34971928,  96.73828667,  96.77980233,\n",
       "        97.03811793,  97.05282372,  97.15175649,  97.49497791,\n",
       "        97.49905207,  98.27350814,  99.09533591,  99.17773618,\n",
       "        99.34603239,  99.83571708,  99.83593609,  99.89825854,\n",
       "        99.90028363, 100.99586742, 101.52313905, 102.91468564])"
      ]
     },
     "execution_count": 32,
     "metadata": {},
     "output_type": "execute_result"
    }
   ],
   "source": [
    "temp[inds]"
   ]
  },
  {
   "cell_type": "markdown",
   "metadata": {},
   "source": [
    "to get a sorted array back!"
   ]
  },
  {
   "cell_type": "markdown",
   "metadata": {},
   "source": [
    "With some clever slicing, we can pull out the last 10, or 10 highest, values of `temp`,"
   ]
  },
  {
   "cell_type": "code",
   "execution_count": 33,
   "metadata": {
    "execution": {
     "iopub.execute_input": "2023-01-26T20:15:55.809494Z",
     "iopub.status.busy": "2023-01-26T20:15:55.808959Z",
     "iopub.status.idle": "2023-01-26T20:15:55.811752Z",
     "shell.execute_reply": "2023-01-26T20:15:55.811254Z"
    }
   },
   "outputs": [
    {
     "name": "stdout",
     "output_type": "stream",
     "text": [
      "[ 99.09533591  99.17773618  99.34603239  99.83571708  99.83593609\n",
      "  99.89825854  99.90028363 100.99586742 101.52313905 102.91468564]\n"
     ]
    }
   ],
   "source": [
    "ten_highest = inds[-10:]\n",
    "print(temp[ten_highest])"
   ]
  },
  {
   "cell_type": "markdown",
   "metadata": {},
   "source": [
    "There are other NumPy `arg` functions that return indices for operating; check out the [NumPy docs](https://numpy.org/doc/stable/reference/routines.sort.html) on sorting your arrays!"
   ]
  },
  {
   "cell_type": "markdown",
   "metadata": {},
   "source": [
    "---"
   ]
  },
  {
   "cell_type": "markdown",
   "metadata": {},
   "source": [
    "## Summary\n",
    "In this notebook we introduced the power of understanding the dimensions of our data by specifying math along `axis`, used `True` and `False` values to subset our data according to conditions, and used lists of positions within our array to sort our data.\n",
    "\n",
    "### What's Next\n",
    "Taking some time to practice this is valuable to be able to quickly manipulate arrays of information in useful or scientific ways."
   ]
  },
  {
   "cell_type": "markdown",
   "metadata": {},
   "source": [
    "## Resources and references\n",
    "The [NumPy Users Guide](https://numpy.org/devdocs/user/quickstart.html#less-basic) expands further on some of these topics, as well as suggests various [Tutorials](https://numpy.org/learn/), lectures, and more at this stage."
   ]
  }
 ],
 "metadata": {
  "kernelspec": {
   "display_name": "Python 3 (ipykernel)",
   "language": "python",
   "name": "python3"
  },
  "language_info": {
   "codemirror_mode": {
    "name": "ipython",
    "version": 3
   },
   "file_extension": ".py",
   "mimetype": "text/x-python",
   "name": "python",
   "nbconvert_exporter": "python",
   "pygments_lexer": "ipython3",
   "version": "3.10.8"
  }
 },
 "nbformat": 4,
 "nbformat_minor": 4
}
