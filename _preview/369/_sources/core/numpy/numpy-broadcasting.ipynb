{
 "cells": [
  {
   "cell_type": "markdown",
   "metadata": {},
   "source": [
    "<img src=https://github.com/numpy/numpy/raw/main/branding/logo/primary/numpylogo.svg width=250 alt=\"NumPy Logo\"></img>\n",
    "# NumPy Broadcasting\n",
    "---"
   ]
  },
  {
   "cell_type": "markdown",
   "metadata": {},
   "source": [
    "## Overview\n",
    "Before we begin, broadcasting is a valuable part of the power that NumPy provides. However, there's no looking past the fact that broadcasting can be conceptually difficult to digest. This information can be helpful and very powerful, but we also suggest moving on to take a look at some of the label-based corners of the Python ecosystem, namely [Pandas](../pandas) and [Xarray](../xarray) for the ways that they make some of these concepts simpler or easier to use for real-world data.\n",
    "\n",
    "1. An introduction to broadcasting\n",
    "1. Avoiding loops with vectorization"
   ]
  },
  {
   "cell_type": "markdown",
   "metadata": {},
   "source": [
    "## Prerequisites\n",
    "\n",
    "| Concepts | Importance | Notes |\n",
    "| --- | --- | --- |\n",
    "| [NumPy Basics](numpy-basics) | Necessary | |\n",
    "| [Intermediate NumPy](intermediate-numpy) | Helpful | |\n",
    "| [Conceptual guide to broadcasting](https://numpy.org/doc/stable/user/theory.broadcasting.html#array-broadcasting-in-numpy) | Helpful | |\n",
    "\n",
    "* **Time to learn**: 30 minutes\n",
    "---"
   ]
  },
  {
   "cell_type": "markdown",
   "metadata": {},
   "source": [
    "## Imports"
   ]
  },
  {
   "cell_type": "code",
   "execution_count": 1,
   "metadata": {
    "execution": {
     "iopub.execute_input": "2023-01-26T20:15:57.765561Z",
     "iopub.status.busy": "2023-01-26T20:15:57.764932Z",
     "iopub.status.idle": "2023-01-26T20:15:57.815940Z",
     "shell.execute_reply": "2023-01-26T20:15:57.815386Z"
    }
   },
   "outputs": [],
   "source": [
    "import numpy as np"
   ]
  },
  {
   "cell_type": "markdown",
   "metadata": {},
   "source": [
    "## Using broadcasting to implicitly loop over data"
   ]
  },
  {
   "cell_type": "markdown",
   "metadata": {},
   "source": [
    "### What is broadcasting?\n",
    "Broadcasting is a useful NumPy tool that allows us to perform operations between arrays with different shapes, provided that they are compatible with each other in certain ways. To start, we can create an array below and add 5 to it:"
   ]
  },
  {
   "cell_type": "code",
   "execution_count": 2,
   "metadata": {
    "execution": {
     "iopub.execute_input": "2023-01-26T20:15:57.822851Z",
     "iopub.status.busy": "2023-01-26T20:15:57.822345Z",
     "iopub.status.idle": "2023-01-26T20:15:57.825414Z",
     "shell.execute_reply": "2023-01-26T20:15:57.824968Z"
    }
   },
   "outputs": [
    {
     "data": {
      "text/plain": [
       "array([15, 25, 35, 45])"
      ]
     },
     "execution_count": 2,
     "metadata": {},
     "output_type": "execute_result"
    }
   ],
   "source": [
    "import numpy as np\n",
    "\n",
    "a = np.array([10, 20, 30, 40])\n",
    "a + 5"
   ]
  },
  {
   "cell_type": "markdown",
   "metadata": {},
   "source": [
    "This works even though 5 is not an array; it works like we would expect, adding 5 to each of the elements in `a`. This also works if 5 is an array:"
   ]
  },
  {
   "cell_type": "code",
   "execution_count": 3,
   "metadata": {
    "execution": {
     "iopub.execute_input": "2023-01-26T20:15:57.829284Z",
     "iopub.status.busy": "2023-01-26T20:15:57.828744Z",
     "iopub.status.idle": "2023-01-26T20:15:57.831741Z",
     "shell.execute_reply": "2023-01-26T20:15:57.831237Z"
    }
   },
   "outputs": [
    {
     "data": {
      "text/plain": [
       "array([15, 25, 35, 45])"
      ]
     },
     "execution_count": 3,
     "metadata": {},
     "output_type": "execute_result"
    }
   ],
   "source": [
    "b = np.array([5])\n",
    "a + b"
   ]
  },
  {
   "cell_type": "markdown",
   "metadata": {},
   "source": [
    "This takes the single element in `b` and adds it to each of the elements in `a`. This won't work for just any `b`, though; for instance, the following:"
   ]
  },
  {
   "cell_type": "code",
   "execution_count": 4,
   "metadata": {
    "execution": {
     "iopub.execute_input": "2023-01-26T20:15:57.835151Z",
     "iopub.status.busy": "2023-01-26T20:15:57.834662Z",
     "iopub.status.idle": "2023-01-26T20:15:58.021913Z",
     "shell.execute_reply": "2023-01-26T20:15:58.022314Z"
    },
    "tags": [
     "raises-exception"
    ]
   },
   "outputs": [
    {
     "ename": "ValueError",
     "evalue": "operands could not be broadcast together with shapes (4,) (3,) ",
     "output_type": "error",
     "traceback": [
      "\u001b[0;31m---------------------------------------------------------------------------\u001b[0m",
      "\u001b[0;31mValueError\u001b[0m                                Traceback (most recent call last)",
      "Cell \u001b[0;32mIn[4], line 2\u001b[0m\n\u001b[1;32m      1\u001b[0m b \u001b[38;5;241m=\u001b[39m np\u001b[38;5;241m.\u001b[39marray([\u001b[38;5;241m5\u001b[39m, \u001b[38;5;241m6\u001b[39m, \u001b[38;5;241m7\u001b[39m])\n\u001b[0;32m----> 2\u001b[0m \u001b[43ma\u001b[49m\u001b[43m \u001b[49m\u001b[38;5;241;43m+\u001b[39;49m\u001b[43m \u001b[49m\u001b[43mb\u001b[49m\n",
      "\u001b[0;31mValueError\u001b[0m: operands could not be broadcast together with shapes (4,) (3,) "
     ]
    }
   ],
   "source": [
    "b = np.array([5, 6, 7])\n",
    "a + b"
   ]
  },
  {
   "cell_type": "markdown",
   "metadata": {},
   "source": [
    "won't work. It does work if `a` and `b` are the same shape:"
   ]
  },
  {
   "cell_type": "code",
   "execution_count": 5,
   "metadata": {
    "execution": {
     "iopub.execute_input": "2023-01-26T20:15:58.027098Z",
     "iopub.status.busy": "2023-01-26T20:15:58.026517Z",
     "iopub.status.idle": "2023-01-26T20:15:58.029469Z",
     "shell.execute_reply": "2023-01-26T20:15:58.028928Z"
    }
   },
   "outputs": [
    {
     "data": {
      "text/plain": [
       "array([15, 25, 40, 50])"
      ]
     },
     "execution_count": 5,
     "metadata": {},
     "output_type": "execute_result"
    }
   ],
   "source": [
    "b = np.array([5, 5, 10, 10])\n",
    "a + b"
   ]
  },
  {
   "cell_type": "markdown",
   "metadata": {},
   "source": [
    "What if what we really want is pairwise addition of a, b? Without broadcasting, we could accomplish this by looping:"
   ]
  },
  {
   "cell_type": "code",
   "execution_count": 6,
   "metadata": {
    "execution": {
     "iopub.execute_input": "2023-01-26T20:15:58.033140Z",
     "iopub.status.busy": "2023-01-26T20:15:58.032514Z",
     "iopub.status.idle": "2023-01-26T20:15:58.034803Z",
     "shell.execute_reply": "2023-01-26T20:15:58.034307Z"
    }
   },
   "outputs": [],
   "source": [
    "b = np.array([1, 2, 3, 4, 5])"
   ]
  },
  {
   "cell_type": "code",
   "execution_count": 7,
   "metadata": {
    "execution": {
     "iopub.execute_input": "2023-01-26T20:15:58.039966Z",
     "iopub.status.busy": "2023-01-26T20:15:58.039348Z",
     "iopub.status.idle": "2023-01-26T20:15:58.042456Z",
     "shell.execute_reply": "2023-01-26T20:15:58.041952Z"
    }
   },
   "outputs": [
    {
     "data": {
      "text/plain": [
       "array([[11, 21, 31, 41],\n",
       "       [12, 22, 32, 42],\n",
       "       [13, 23, 33, 43],\n",
       "       [14, 24, 34, 44],\n",
       "       [15, 25, 35, 45]], dtype=int32)"
      ]
     },
     "execution_count": 7,
     "metadata": {},
     "output_type": "execute_result"
    }
   ],
   "source": [
    "result = np.empty((5, 4), dtype=np.int32)\n",
    "for row, valb in enumerate(b):\n",
    "    for col, vala in enumerate(a):\n",
    "        result[row, col] = vala + valb\n",
    "result"
   ]
  },
  {
   "cell_type": "markdown",
   "metadata": {},
   "source": [
    "We can also do this by manually repeating the arrays to the proper shape for the result, using `np.tile`. This avoids the need to manually loop:"
   ]
  },
  {
   "cell_type": "code",
   "execution_count": 8,
   "metadata": {
    "execution": {
     "iopub.execute_input": "2023-01-26T20:15:58.046555Z",
     "iopub.status.busy": "2023-01-26T20:15:58.046065Z",
     "iopub.status.idle": "2023-01-26T20:15:58.048690Z",
     "shell.execute_reply": "2023-01-26T20:15:58.049109Z"
    }
   },
   "outputs": [
    {
     "data": {
      "text/plain": [
       "array([[10, 20, 30, 40],\n",
       "       [10, 20, 30, 40],\n",
       "       [10, 20, 30, 40],\n",
       "       [10, 20, 30, 40],\n",
       "       [10, 20, 30, 40]])"
      ]
     },
     "execution_count": 8,
     "metadata": {},
     "output_type": "execute_result"
    }
   ],
   "source": [
    "aa = np.tile(a, (5, 1))\n",
    "aa"
   ]
  },
  {
   "cell_type": "code",
   "execution_count": 9,
   "metadata": {
    "execution": {
     "iopub.execute_input": "2023-01-26T20:15:58.053454Z",
     "iopub.status.busy": "2023-01-26T20:15:58.052901Z",
     "iopub.status.idle": "2023-01-26T20:15:58.056067Z",
     "shell.execute_reply": "2023-01-26T20:15:58.055563Z"
    }
   },
   "outputs": [
    {
     "data": {
      "text/plain": [
       "array([[1, 1, 1, 1],\n",
       "       [2, 2, 2, 2],\n",
       "       [3, 3, 3, 3],\n",
       "       [4, 4, 4, 4],\n",
       "       [5, 5, 5, 5]])"
      ]
     },
     "execution_count": 9,
     "metadata": {},
     "output_type": "execute_result"
    }
   ],
   "source": [
    "# Turn b into a column array, then tile it\n",
    "bb = np.tile(b.reshape(5, 1), (1, 4))\n",
    "bb"
   ]
  },
  {
   "cell_type": "code",
   "execution_count": 10,
   "metadata": {
    "execution": {
     "iopub.execute_input": "2023-01-26T20:15:58.060012Z",
     "iopub.status.busy": "2023-01-26T20:15:58.059409Z",
     "iopub.status.idle": "2023-01-26T20:15:58.062414Z",
     "shell.execute_reply": "2023-01-26T20:15:58.061917Z"
    }
   },
   "outputs": [
    {
     "data": {
      "text/plain": [
       "array([[11, 21, 31, 41],\n",
       "       [12, 22, 32, 42],\n",
       "       [13, 23, 33, 43],\n",
       "       [14, 24, 34, 44],\n",
       "       [15, 25, 35, 45]])"
      ]
     },
     "execution_count": 10,
     "metadata": {},
     "output_type": "execute_result"
    }
   ],
   "source": [
    "aa + bb"
   ]
  },
  {
   "cell_type": "markdown",
   "metadata": {},
   "source": [
    "### Giving NumPy room for broadcasting\n",
    "We can also do this using broadcasting, which is where NumPy implicitly repeats the array without using additional memory. With broadcasting, NumPy takes care of repeating for you, provided dimensions are \"compatible\". This works as:\n",
    "1. Check the number of dimensions of the arrays. If they are different, *prepend* size one dimensions\n",
    "2. Check if each of the dimensions are compatible: either the same size, or one of them is 1."
   ]
  },
  {
   "cell_type": "code",
   "execution_count": 11,
   "metadata": {
    "execution": {
     "iopub.execute_input": "2023-01-26T20:15:58.066198Z",
     "iopub.status.busy": "2023-01-26T20:15:58.065639Z",
     "iopub.status.idle": "2023-01-26T20:15:58.068725Z",
     "shell.execute_reply": "2023-01-26T20:15:58.068223Z"
    }
   },
   "outputs": [
    {
     "data": {
      "text/plain": [
       "(4,)"
      ]
     },
     "execution_count": 11,
     "metadata": {},
     "output_type": "execute_result"
    }
   ],
   "source": [
    "a.shape"
   ]
  },
  {
   "cell_type": "code",
   "execution_count": 12,
   "metadata": {
    "execution": {
     "iopub.execute_input": "2023-01-26T20:15:58.077701Z",
     "iopub.status.busy": "2023-01-26T20:15:58.077159Z",
     "iopub.status.idle": "2023-01-26T20:15:58.080183Z",
     "shell.execute_reply": "2023-01-26T20:15:58.079738Z"
    }
   },
   "outputs": [
    {
     "data": {
      "text/plain": [
       "(5,)"
      ]
     },
     "execution_count": 12,
     "metadata": {},
     "output_type": "execute_result"
    }
   ],
   "source": [
    "b.shape"
   ]
  },
  {
   "cell_type": "markdown",
   "metadata": {},
   "source": [
    "Right now, they have the same number of dimensions, 1, but that dimension is incompatible.  We can solve this by appending a dimension using `np.newaxis` when indexing:"
   ]
  },
  {
   "cell_type": "code",
   "execution_count": 13,
   "metadata": {
    "execution": {
     "iopub.execute_input": "2023-01-26T20:15:58.084416Z",
     "iopub.status.busy": "2023-01-26T20:15:58.083878Z",
     "iopub.status.idle": "2023-01-26T20:15:58.087131Z",
     "shell.execute_reply": "2023-01-26T20:15:58.086689Z"
    }
   },
   "outputs": [
    {
     "data": {
      "text/plain": [
       "(5, 1)"
      ]
     },
     "execution_count": 13,
     "metadata": {},
     "output_type": "execute_result"
    }
   ],
   "source": [
    "bb = b[:, np.newaxis]\n",
    "bb.shape"
   ]
  },
  {
   "cell_type": "code",
   "execution_count": 14,
   "metadata": {
    "execution": {
     "iopub.execute_input": "2023-01-26T20:15:58.091171Z",
     "iopub.status.busy": "2023-01-26T20:15:58.090585Z",
     "iopub.status.idle": "2023-01-26T20:15:58.093524Z",
     "shell.execute_reply": "2023-01-26T20:15:58.093055Z"
    }
   },
   "outputs": [
    {
     "data": {
      "text/plain": [
       "array([[11, 21, 31, 41],\n",
       "       [12, 22, 32, 42],\n",
       "       [13, 23, 33, 43],\n",
       "       [14, 24, 34, 44],\n",
       "       [15, 25, 35, 45]])"
      ]
     },
     "execution_count": 14,
     "metadata": {},
     "output_type": "execute_result"
    }
   ],
   "source": [
    "a + bb"
   ]
  },
  {
   "cell_type": "code",
   "execution_count": 15,
   "metadata": {
    "execution": {
     "iopub.execute_input": "2023-01-26T20:15:58.097320Z",
     "iopub.status.busy": "2023-01-26T20:15:58.096755Z",
     "iopub.status.idle": "2023-01-26T20:15:58.099815Z",
     "shell.execute_reply": "2023-01-26T20:15:58.099313Z"
    }
   },
   "outputs": [
    {
     "data": {
      "text/plain": [
       "(5, 4)"
      ]
     },
     "execution_count": 15,
     "metadata": {},
     "output_type": "execute_result"
    }
   ],
   "source": [
    "(a + bb).shape"
   ]
  },
  {
   "cell_type": "markdown",
   "metadata": {},
   "source": [
    "This can be written more directly in one line:"
   ]
  },
  {
   "cell_type": "code",
   "execution_count": 16,
   "metadata": {
    "execution": {
     "iopub.execute_input": "2023-01-26T20:15:58.104036Z",
     "iopub.status.busy": "2023-01-26T20:15:58.103424Z",
     "iopub.status.idle": "2023-01-26T20:15:58.106181Z",
     "shell.execute_reply": "2023-01-26T20:15:58.106571Z"
    }
   },
   "outputs": [
    {
     "data": {
      "text/plain": [
       "array([[11, 21, 31, 41],\n",
       "       [12, 22, 32, 42],\n",
       "       [13, 23, 33, 43],\n",
       "       [14, 24, 34, 44],\n",
       "       [15, 25, 35, 45]])"
      ]
     },
     "execution_count": 16,
     "metadata": {},
     "output_type": "execute_result"
    }
   ],
   "source": [
    "a + b[:, np.newaxis]"
   ]
  },
  {
   "cell_type": "markdown",
   "metadata": {},
   "source": [
    "### Extending to higher dimensions\n",
    "This also works for higher dimensions. `x`, `y`, and `z` are here different dimensions, and we can broadcast to perform $x^2 + y^2 + z^2$,"
   ]
  },
  {
   "cell_type": "code",
   "execution_count": 17,
   "metadata": {
    "execution": {
     "iopub.execute_input": "2023-01-26T20:15:58.110522Z",
     "iopub.status.busy": "2023-01-26T20:15:58.110011Z",
     "iopub.status.idle": "2023-01-26T20:15:58.112377Z",
     "shell.execute_reply": "2023-01-26T20:15:58.111939Z"
    }
   },
   "outputs": [],
   "source": [
    "x = np.array([1, 2])\n",
    "y = np.array([3, 4, 5])\n",
    "z = np.array([6, 7, 8, 9])"
   ]
  },
  {
   "cell_type": "markdown",
   "metadata": {},
   "source": [
    "First, let's extend `x` (and square it) by one dimension, onto which we can broadcast the vector `y ** 2`,"
   ]
  },
  {
   "cell_type": "code",
   "execution_count": 18,
   "metadata": {
    "execution": {
     "iopub.execute_input": "2023-01-26T20:15:58.116212Z",
     "iopub.status.busy": "2023-01-26T20:15:58.115623Z",
     "iopub.status.idle": "2023-01-26T20:15:58.117942Z",
     "shell.execute_reply": "2023-01-26T20:15:58.117437Z"
    }
   },
   "outputs": [],
   "source": [
    "d_2d = x[:, np.newaxis] ** 2 + y**2"
   ]
  },
  {
   "cell_type": "code",
   "execution_count": 19,
   "metadata": {
    "execution": {
     "iopub.execute_input": "2023-01-26T20:15:58.121695Z",
     "iopub.status.busy": "2023-01-26T20:15:58.121191Z",
     "iopub.status.idle": "2023-01-26T20:15:58.124180Z",
     "shell.execute_reply": "2023-01-26T20:15:58.123676Z"
    }
   },
   "outputs": [
    {
     "data": {
      "text/plain": [
       "(2, 3)"
      ]
     },
     "execution_count": 19,
     "metadata": {},
     "output_type": "execute_result"
    }
   ],
   "source": [
    "d_2d.shape"
   ]
  },
  {
   "cell_type": "markdown",
   "metadata": {},
   "source": [
    "and then further extend this new 2-D array by one more dimension before using broadcasting to add `z ** 2` across all other dimensions."
   ]
  },
  {
   "cell_type": "code",
   "execution_count": 20,
   "metadata": {
    "execution": {
     "iopub.execute_input": "2023-01-26T20:15:58.127663Z",
     "iopub.status.busy": "2023-01-26T20:15:58.127168Z",
     "iopub.status.idle": "2023-01-26T20:15:58.129676Z",
     "shell.execute_reply": "2023-01-26T20:15:58.129248Z"
    }
   },
   "outputs": [],
   "source": [
    "d_3d = d_2d[..., np.newaxis] + z**2"
   ]
  },
  {
   "cell_type": "code",
   "execution_count": 21,
   "metadata": {
    "execution": {
     "iopub.execute_input": "2023-01-26T20:15:58.133527Z",
     "iopub.status.busy": "2023-01-26T20:15:58.132909Z",
     "iopub.status.idle": "2023-01-26T20:15:58.135998Z",
     "shell.execute_reply": "2023-01-26T20:15:58.135577Z"
    }
   },
   "outputs": [
    {
     "data": {
      "text/plain": [
       "(2, 3, 4)"
      ]
     },
     "execution_count": 21,
     "metadata": {},
     "output_type": "execute_result"
    }
   ],
   "source": [
    "d_3d.shape"
   ]
  },
  {
   "cell_type": "markdown",
   "metadata": {},
   "source": [
    "Or in one line:"
   ]
  },
  {
   "cell_type": "code",
   "execution_count": 22,
   "metadata": {
    "execution": {
     "iopub.execute_input": "2023-01-26T20:15:58.139817Z",
     "iopub.status.busy": "2023-01-26T20:15:58.139320Z",
     "iopub.status.idle": "2023-01-26T20:15:58.141857Z",
     "shell.execute_reply": "2023-01-26T20:15:58.141311Z"
    }
   },
   "outputs": [],
   "source": [
    "h = x[:, np.newaxis, np.newaxis] ** 2 + y[np.newaxis, :, np.newaxis] ** 2 + z**2"
   ]
  },
  {
   "cell_type": "markdown",
   "metadata": {},
   "source": [
    "We can see this one-line result has the same shape and same values as the other multi-step calculation."
   ]
  },
  {
   "cell_type": "code",
   "execution_count": 23,
   "metadata": {
    "execution": {
     "iopub.execute_input": "2023-01-26T20:15:58.146001Z",
     "iopub.status.busy": "2023-01-26T20:15:58.145480Z",
     "iopub.status.idle": "2023-01-26T20:15:58.148542Z",
     "shell.execute_reply": "2023-01-26T20:15:58.148113Z"
    }
   },
   "outputs": [
    {
     "data": {
      "text/plain": [
       "(2, 3, 4)"
      ]
     },
     "execution_count": 23,
     "metadata": {},
     "output_type": "execute_result"
    }
   ],
   "source": [
    "h.shape"
   ]
  },
  {
   "cell_type": "markdown",
   "metadata": {},
   "source": [
    "and we can confirm that the results here are identical,"
   ]
  },
  {
   "cell_type": "code",
   "execution_count": 24,
   "metadata": {
    "execution": {
     "iopub.execute_input": "2023-01-26T20:15:58.152559Z",
     "iopub.status.busy": "2023-01-26T20:15:58.152024Z",
     "iopub.status.idle": "2023-01-26T20:15:58.154947Z",
     "shell.execute_reply": "2023-01-26T20:15:58.154437Z"
    }
   },
   "outputs": [
    {
     "data": {
      "text/plain": [
       "True"
      ]
     },
     "execution_count": 24,
     "metadata": {},
     "output_type": "execute_result"
    }
   ],
   "source": [
    "np.all(h == d_3d)"
   ]
  },
  {
   "cell_type": "markdown",
   "metadata": {},
   "source": [
    "Broadcasting is often useful when you want to do calculations with coordinate values, which are often given as 1-D arrays corresponding to positions along a particular array dimension. For example, taking range and azimuth values for radar data (1-D separable polar coordinates) and converting to x,y pairs relative to the radar location."
   ]
  },
  {
   "cell_type": "markdown",
   "metadata": {},
   "source": [
    "Given the 3-D temperature field and 1-D pressure coordinates below, let's calculate $T * exp(P / 1000)$. We will need to use broadcasting to make the arrays compatible!"
   ]
  },
  {
   "cell_type": "code",
   "execution_count": 25,
   "metadata": {
    "execution": {
     "iopub.execute_input": "2023-01-26T20:15:58.159823Z",
     "iopub.status.busy": "2023-01-26T20:15:58.159253Z",
     "iopub.status.idle": "2023-01-26T20:15:58.162376Z",
     "shell.execute_reply": "2023-01-26T20:15:58.161934Z"
    }
   },
   "outputs": [
    {
     "data": {
      "text/plain": [
       "((4,), (4, 3, 2))"
      ]
     },
     "execution_count": 25,
     "metadata": {},
     "output_type": "execute_result"
    }
   ],
   "source": [
    "pressure = np.array([1000, 850, 500, 300])\n",
    "temps = np.linspace(20, 30, 24).reshape(4, 3, 2)\n",
    "pressure.shape, temps.shape"
   ]
  },
  {
   "cell_type": "code",
   "execution_count": 26,
   "metadata": {
    "execution": {
     "iopub.execute_input": "2023-01-26T20:15:58.166422Z",
     "iopub.status.busy": "2023-01-26T20:15:58.165854Z",
     "iopub.status.idle": "2023-01-26T20:15:58.168607Z",
     "shell.execute_reply": "2023-01-26T20:15:58.169000Z"
    }
   },
   "outputs": [
    {
     "data": {
      "text/plain": [
       "(4, 1, 1)"
      ]
     },
     "execution_count": 26,
     "metadata": {},
     "output_type": "execute_result"
    }
   ],
   "source": [
    "pressure[:, np.newaxis, np.newaxis].shape"
   ]
  },
  {
   "cell_type": "code",
   "execution_count": 27,
   "metadata": {
    "execution": {
     "iopub.execute_input": "2023-01-26T20:15:58.173784Z",
     "iopub.status.busy": "2023-01-26T20:15:58.173280Z",
     "iopub.status.idle": "2023-01-26T20:15:58.176306Z",
     "shell.execute_reply": "2023-01-26T20:15:58.175880Z"
    }
   },
   "outputs": [
    {
     "data": {
      "text/plain": [
       "array([[[54.36563657, 55.54749823],\n",
       "        [56.7293599 , 57.91122156],\n",
       "        [59.09308323, 60.27494489]],\n",
       "\n",
       "       [[52.89636361, 53.91360137],\n",
       "        [54.93083913, 55.94807689],\n",
       "        [56.96531466, 57.98255242]],\n",
       "\n",
       "       [[41.57644944, 42.29328477],\n",
       "        [43.01012011, 43.72695544],\n",
       "        [44.44379078, 45.16062611]],\n",
       "\n",
       "       [[37.56128856, 38.14818369],\n",
       "        [38.73507883, 39.32197396],\n",
       "        [39.90886909, 40.49576423]]])"
      ]
     },
     "execution_count": 27,
     "metadata": {},
     "output_type": "execute_result"
    }
   ],
   "source": [
    "temps * np.exp(pressure[:, np.newaxis, np.newaxis] / 1000)"
   ]
  },
  {
   "cell_type": "markdown",
   "metadata": {},
   "source": [
    "## Vectorize calculations to avoid explicit loops"
   ]
  },
  {
   "cell_type": "markdown",
   "metadata": {},
   "source": [
    "When working with arrays of data, loops over the individual array elements is a fact of life. However, for improved runtime performance, it is important to avoid performing these loops in Python as much as possible, and let NumPy handle the looping for you. Avoiding these loops frequently, but not always, results in shorter and clearer code as well."
   ]
  },
  {
   "cell_type": "markdown",
   "metadata": {},
   "source": [
    "### Look ahead/behind\n",
    "\n",
    "One common pattern for vectorizing is in converting loops that work over the current point as well as the previous and/or next point. This comes up when doing finite-difference calculations, e.g. approximating derivatives,\n",
    "\n",
    "\\begin{equation*}\n",
    "f'(x) = f_{i+1} - f_{i}\n",
    "\\end{equation*}"
   ]
  },
  {
   "cell_type": "code",
   "execution_count": 28,
   "metadata": {
    "execution": {
     "iopub.execute_input": "2023-01-26T20:15:58.181250Z",
     "iopub.status.busy": "2023-01-26T20:15:58.180577Z",
     "iopub.status.idle": "2023-01-26T20:15:58.183302Z",
     "shell.execute_reply": "2023-01-26T20:15:58.183666Z"
    }
   },
   "outputs": [
    {
     "data": {
      "text/plain": [
       "array([ 0.,  4.,  8., 12., 16., 20.])"
      ]
     },
     "execution_count": 28,
     "metadata": {},
     "output_type": "execute_result"
    }
   ],
   "source": [
    "a = np.linspace(0, 20, 6)\n",
    "a"
   ]
  },
  {
   "cell_type": "markdown",
   "metadata": {},
   "source": [
    "We can calculate the forward difference for this array with a manual loop as:"
   ]
  },
  {
   "cell_type": "code",
   "execution_count": 29,
   "metadata": {
    "execution": {
     "iopub.execute_input": "2023-01-26T20:15:58.188439Z",
     "iopub.status.busy": "2023-01-26T20:15:58.187873Z",
     "iopub.status.idle": "2023-01-26T20:15:58.190653Z",
     "shell.execute_reply": "2023-01-26T20:15:58.191021Z"
    }
   },
   "outputs": [
    {
     "data": {
      "text/plain": [
       "array([4., 4., 4., 4., 4.])"
      ]
     },
     "execution_count": 29,
     "metadata": {},
     "output_type": "execute_result"
    }
   ],
   "source": [
    "d = np.zeros(a.size - 1)\n",
    "for i in range(len(a) - 1):\n",
    "    d[i] = a[i + 1] - a[i]\n",
    "d"
   ]
  },
  {
   "cell_type": "markdown",
   "metadata": {},
   "source": [
    "It would be nice to express this calculation without a loop, if possible. To see how to go about this, let's consider the values that are involved in calculating `d[i]`, `a[i+1]` and `a[i]`. The values over the loop iterations are:\n",
    "\n",
    "|  i  | a[i+1] | a[i] |\n",
    "| --- |  ----  | ---- |\n",
    "|  0  |    4   |   0  |\n",
    "|  1  |    8   |   4  |\n",
    "|  2  |   12   |   8  |\n",
    "|  3  |   16   |  12  |\n",
    "|  4  |   20   |  16  |\n",
    "\n",
    "We can express the series of values for `a[i+1]` then as:"
   ]
  },
  {
   "cell_type": "code",
   "execution_count": 30,
   "metadata": {
    "execution": {
     "iopub.execute_input": "2023-01-26T20:15:58.195161Z",
     "iopub.status.busy": "2023-01-26T20:15:58.194540Z",
     "iopub.status.idle": "2023-01-26T20:15:58.197380Z",
     "shell.execute_reply": "2023-01-26T20:15:58.197796Z"
    }
   },
   "outputs": [
    {
     "data": {
      "text/plain": [
       "array([ 4.,  8., 12., 16., 20.])"
      ]
     },
     "execution_count": 30,
     "metadata": {},
     "output_type": "execute_result"
    }
   ],
   "source": [
    "a[1:]"
   ]
  },
  {
   "cell_type": "markdown",
   "metadata": {},
   "source": [
    "and `a[i]` as:"
   ]
  },
  {
   "cell_type": "code",
   "execution_count": 31,
   "metadata": {
    "execution": {
     "iopub.execute_input": "2023-01-26T20:15:58.201896Z",
     "iopub.status.busy": "2023-01-26T20:15:58.201385Z",
     "iopub.status.idle": "2023-01-26T20:15:58.204588Z",
     "shell.execute_reply": "2023-01-26T20:15:58.204125Z"
    }
   },
   "outputs": [
    {
     "data": {
      "text/plain": [
       "array([ 0.,  4.,  8., 12., 16.])"
      ]
     },
     "execution_count": 31,
     "metadata": {},
     "output_type": "execute_result"
    }
   ],
   "source": [
    "a[:-1]"
   ]
  },
  {
   "cell_type": "markdown",
   "metadata": {},
   "source": [
    "This means that we can express the forward difference as:"
   ]
  },
  {
   "cell_type": "code",
   "execution_count": 32,
   "metadata": {
    "execution": {
     "iopub.execute_input": "2023-01-26T20:15:58.208834Z",
     "iopub.status.busy": "2023-01-26T20:15:58.208312Z",
     "iopub.status.idle": "2023-01-26T20:15:58.211092Z",
     "shell.execute_reply": "2023-01-26T20:15:58.211461Z"
    }
   },
   "outputs": [
    {
     "data": {
      "text/plain": [
       "array([4., 4., 4., 4., 4.])"
      ]
     },
     "execution_count": 32,
     "metadata": {},
     "output_type": "execute_result"
    }
   ],
   "source": [
    "a[1:] - a[:-1]"
   ]
  },
  {
   "cell_type": "markdown",
   "metadata": {},
   "source": [
    "It should be noted that using slices in this way returns only a **view** on the original array. This means not only can you use the slices to modify the original data (even accidentally), but that this is also a quick operation that does not involve a copy and does not bloat memory usage."
   ]
  },
  {
   "cell_type": "markdown",
   "metadata": {},
   "source": [
    "#### 2nd Derivative\n",
    "    \n",
    "A finite difference estimate of the 2nd derivative is given by:\n",
    "\n",
    "\\begin{equation*}\n",
    "f''(x) = 2\n",
    "f_i - f_{i+1} - f_{i-1}\n",
    "\\end{equation*}\n",
    "\n",
    "(we're ignoring $\\Delta x$ here)\n",
    "\n",
    "Let's write some vectorized code to calculate this finite difference for `a` (using slices.) What values should we be expecting to get for the 2nd derivative?"
   ]
  },
  {
   "cell_type": "code",
   "execution_count": 33,
   "metadata": {
    "execution": {
     "iopub.execute_input": "2023-01-26T20:15:58.215818Z",
     "iopub.status.busy": "2023-01-26T20:15:58.215315Z",
     "iopub.status.idle": "2023-01-26T20:15:58.218531Z",
     "shell.execute_reply": "2023-01-26T20:15:58.218103Z"
    }
   },
   "outputs": [
    {
     "data": {
      "text/plain": [
       "array([0., 0., 0., 0.])"
      ]
     },
     "execution_count": 33,
     "metadata": {},
     "output_type": "execute_result"
    }
   ],
   "source": [
    "2 * a[1:-1] - a[:-2] - a[2:]"
   ]
  },
  {
   "cell_type": "markdown",
   "metadata": {},
   "source": [
    "### Blocking\n",
    "\n",
    "Another application where vectorization comes into play to make operations more efficient is when operating on blocks of data. Let's start by creating some temperature data (rounding to make it easier to see/recognize the values)."
   ]
  },
  {
   "cell_type": "code",
   "execution_count": 34,
   "metadata": {
    "execution": {
     "iopub.execute_input": "2023-01-26T20:15:58.222965Z",
     "iopub.status.busy": "2023-01-26T20:15:58.222462Z",
     "iopub.status.idle": "2023-01-26T20:15:58.225590Z",
     "shell.execute_reply": "2023-01-26T20:15:58.225166Z"
    }
   },
   "outputs": [
    {
     "data": {
      "text/plain": [
       "array([13.9, 17.8, 16.9, 12.5, 24.1, 27.2, 22.9, 23.4, 13.7, 27.3])"
      ]
     },
     "execution_count": 34,
     "metadata": {},
     "output_type": "execute_result"
    }
   ],
   "source": [
    "temps = np.round(20 + np.random.randn(10) * 5, 1)\n",
    "temps"
   ]
  },
  {
   "cell_type": "markdown",
   "metadata": {},
   "source": [
    "Let's start by writing a loop to take a 3-point running mean of the data. We'll do this by iterating over all points in the array and average the 3 points centered on that point. We'll simplify the problem by avoiding dealing with the cases at the edges of the array."
   ]
  },
  {
   "cell_type": "code",
   "execution_count": 35,
   "metadata": {
    "execution": {
     "iopub.execute_input": "2023-01-26T20:15:58.229755Z",
     "iopub.status.busy": "2023-01-26T20:15:58.227816Z",
     "iopub.status.idle": "2023-01-26T20:15:58.231899Z",
     "shell.execute_reply": "2023-01-26T20:15:58.231446Z"
    }
   },
   "outputs": [],
   "source": [
    "avg = np.zeros_like(temps)\n",
    "for i in range(1, len(temps) - 1):\n",
    "    sub = temps[i - 1 : i + 2]\n",
    "    avg[i] = sub.mean()"
   ]
  },
  {
   "cell_type": "code",
   "execution_count": 36,
   "metadata": {
    "execution": {
     "iopub.execute_input": "2023-01-26T20:15:58.235780Z",
     "iopub.status.busy": "2023-01-26T20:15:58.235278Z",
     "iopub.status.idle": "2023-01-26T20:15:58.238341Z",
     "shell.execute_reply": "2023-01-26T20:15:58.237926Z"
    }
   },
   "outputs": [
    {
     "data": {
      "text/plain": [
       "array([ 0.        , 16.2       , 15.73333333, 17.83333333, 21.26666667,\n",
       "       24.73333333, 24.5       , 20.        , 21.46666667,  0.        ])"
      ]
     },
     "execution_count": 36,
     "metadata": {},
     "output_type": "execute_result"
    }
   ],
   "source": [
    "avg"
   ]
  },
  {
   "cell_type": "markdown",
   "metadata": {},
   "source": [
    "As with the case of doing finite differences, we can express this using slices of the original array:"
   ]
  },
  {
   "cell_type": "code",
   "execution_count": 37,
   "metadata": {
    "execution": {
     "iopub.execute_input": "2023-01-26T20:15:58.242716Z",
     "iopub.status.busy": "2023-01-26T20:15:58.242183Z",
     "iopub.status.idle": "2023-01-26T20:15:58.245415Z",
     "shell.execute_reply": "2023-01-26T20:15:58.244932Z"
    }
   },
   "outputs": [
    {
     "data": {
      "text/plain": [
       "array([16.2       , 15.73333333, 17.83333333, 21.26666667, 24.73333333,\n",
       "       24.5       , 20.        , 21.46666667])"
      ]
     },
     "execution_count": 37,
     "metadata": {},
     "output_type": "execute_result"
    }
   ],
   "source": [
    "# i - 1            i          i + 1\n",
    "(temps[:-2] + temps[1:-1] + temps[2:]) / 3"
   ]
  },
  {
   "cell_type": "markdown",
   "metadata": {},
   "source": [
    "Another option to solve this is not using slicing but by using a powerful NumPy tool: `as_strided`. This tool can result in some odd behavior, so take care when using--the trade-off is that this can be used to do some powerful operations. What we're doing here is altering how NumPy is interpreting the values in the memory that underpins the array. So for this array:"
   ]
  },
  {
   "cell_type": "code",
   "execution_count": 38,
   "metadata": {
    "execution": {
     "iopub.execute_input": "2023-01-26T20:15:58.249412Z",
     "iopub.status.busy": "2023-01-26T20:15:58.248775Z",
     "iopub.status.idle": "2023-01-26T20:15:58.251730Z",
     "shell.execute_reply": "2023-01-26T20:15:58.251239Z"
    }
   },
   "outputs": [
    {
     "data": {
      "text/plain": [
       "array([13.9, 17.8, 16.9, 12.5, 24.1, 27.2, 22.9, 23.4, 13.7, 27.3])"
      ]
     },
     "execution_count": 38,
     "metadata": {},
     "output_type": "execute_result"
    }
   ],
   "source": [
    "temps"
   ]
  },
  {
   "cell_type": "markdown",
   "metadata": {},
   "source": [
    "we can create a view of the array with a new, bigger shape, with rows made up of overlapping values. We do this by specifying a new shape of 8x3, one row for each of the length 3 blocks we can fit in the original 1-D array of data. We then use the `strides` argument to control how NumPy walks between items in each dimension. The last item in the strides tuple is just as normal--it says that the number of bytes to walk between items is just the size of an item. (Increasing this would skip items.) The first item says that when we go to a new, in this case row, only advance the size of a single item. This is what gives us overlapping rows."
   ]
  },
  {
   "cell_type": "code",
   "execution_count": 39,
   "metadata": {
    "execution": {
     "iopub.execute_input": "2023-01-26T20:15:58.256851Z",
     "iopub.status.busy": "2023-01-26T20:15:58.256339Z",
     "iopub.status.idle": "2023-01-26T20:15:58.259578Z",
     "shell.execute_reply": "2023-01-26T20:15:58.259082Z"
    }
   },
   "outputs": [
    {
     "data": {
      "text/plain": [
       "array([[13.9, 17.8, 16.9],\n",
       "       [17.8, 16.9, 12.5],\n",
       "       [16.9, 12.5, 24.1],\n",
       "       [12.5, 24.1, 27.2],\n",
       "       [24.1, 27.2, 22.9],\n",
       "       [27.2, 22.9, 23.4],\n",
       "       [22.9, 23.4, 13.7],\n",
       "       [23.4, 13.7, 27.3]])"
      ]
     },
     "execution_count": 39,
     "metadata": {},
     "output_type": "execute_result"
    }
   ],
   "source": [
    "block_size = 3\n",
    "new_shape = (len(temps) - block_size + 1, block_size)\n",
    "bytes_per_item = temps.dtype.itemsize\n",
    "temps_strided = np.lib.stride_tricks.as_strided(\n",
    "    temps, shape=new_shape, strides=(bytes_per_item, bytes_per_item)\n",
    ")\n",
    "temps_strided"
   ]
  },
  {
   "cell_type": "markdown",
   "metadata": {},
   "source": [
    "Now that we have this view of the array with the rows representing overlapping blocks, we can operate across the rows with `mean` and the `axis=-1` argument to get our running average:"
   ]
  },
  {
   "cell_type": "code",
   "execution_count": 40,
   "metadata": {
    "execution": {
     "iopub.execute_input": "2023-01-26T20:15:58.263966Z",
     "iopub.status.busy": "2023-01-26T20:15:58.263479Z",
     "iopub.status.idle": "2023-01-26T20:15:58.266702Z",
     "shell.execute_reply": "2023-01-26T20:15:58.266206Z"
    }
   },
   "outputs": [
    {
     "data": {
      "text/plain": [
       "array([16.2       , 15.73333333, 17.83333333, 21.26666667, 24.73333333,\n",
       "       24.5       , 20.        , 21.46666667])"
      ]
     },
     "execution_count": 40,
     "metadata": {},
     "output_type": "execute_result"
    }
   ],
   "source": [
    "temps_strided.mean(axis=-1)"
   ]
  },
  {
   "cell_type": "markdown",
   "metadata": {},
   "source": [
    "It should be noted that there are no copies going on here, so if we change a value at a single indexed location, the change actually shows up in multiple locations:"
   ]
  },
  {
   "cell_type": "code",
   "execution_count": 41,
   "metadata": {
    "execution": {
     "iopub.execute_input": "2023-01-26T20:15:58.270932Z",
     "iopub.status.busy": "2023-01-26T20:15:58.270444Z",
     "iopub.status.idle": "2023-01-26T20:15:58.273673Z",
     "shell.execute_reply": "2023-01-26T20:15:58.273176Z"
    }
   },
   "outputs": [
    {
     "data": {
      "text/plain": [
       "array([[  13.9,   17.8, 2000. ],\n",
       "       [  17.8, 2000. ,   12.5],\n",
       "       [2000. ,   12.5,   24.1],\n",
       "       [  12.5,   24.1,   27.2],\n",
       "       [  24.1,   27.2,   22.9],\n",
       "       [  27.2,   22.9,   23.4],\n",
       "       [  22.9,   23.4,   13.7],\n",
       "       [  23.4,   13.7,   27.3]])"
      ]
     },
     "execution_count": 41,
     "metadata": {},
     "output_type": "execute_result"
    }
   ],
   "source": [
    "temps_strided[0, 2] = 2000\n",
    "temps_strided"
   ]
  },
  {
   "cell_type": "markdown",
   "metadata": {},
   "source": [
    "### Finding the difference between min and max\n",
    "\n",
    "Another operation that crops up when slicing and dicing data is trying to identify a set of indexes, along a particular axis, within a larger multidimensional array. For instance, say we have a 3-D array of temperatures, and want to identify the location of the $-10^oC$ isotherm within each column:"
   ]
  },
  {
   "cell_type": "code",
   "execution_count": 42,
   "metadata": {
    "execution": {
     "iopub.execute_input": "2023-01-26T20:15:58.277574Z",
     "iopub.status.busy": "2023-01-26T20:15:58.276967Z",
     "iopub.status.idle": "2023-01-26T20:15:58.280290Z",
     "shell.execute_reply": "2023-01-26T20:15:58.279697Z"
    }
   },
   "outputs": [],
   "source": [
    "pressure = np.linspace(1000, 100, 25)\n",
    "temps = np.random.randn(25, 30, 40) * 3 + np.linspace(25, -100, 25).reshape(-1, 1, 1)"
   ]
  },
  {
   "cell_type": "markdown",
   "metadata": {},
   "source": [
    "NumPy has the function `argmin()` which returns the index of the minimum value. We can use this to find the minimum absolute difference between the value and -10:"
   ]
  },
  {
   "cell_type": "code",
   "execution_count": 43,
   "metadata": {
    "execution": {
     "iopub.execute_input": "2023-01-26T20:15:58.283726Z",
     "iopub.status.busy": "2023-01-26T20:15:58.283234Z",
     "iopub.status.idle": "2023-01-26T20:15:58.287318Z",
     "shell.execute_reply": "2023-01-26T20:15:58.286820Z"
    }
   },
   "outputs": [
    {
     "data": {
      "text/plain": [
       "array([[6, 7, 7, ..., 6, 7, 7],\n",
       "       [7, 6, 6, ..., 8, 6, 6],\n",
       "       [6, 7, 7, ..., 6, 7, 8],\n",
       "       ...,\n",
       "       [6, 7, 7, ..., 8, 7, 7],\n",
       "       [6, 6, 8, ..., 6, 7, 7],\n",
       "       [7, 7, 7, ..., 7, 7, 6]])"
      ]
     },
     "execution_count": 43,
     "metadata": {},
     "output_type": "execute_result"
    }
   ],
   "source": [
    "# Using axis=0 to tell it to operate along the pressure dimension\n",
    "inds = np.argmin(np.abs(temps - -10), axis=0)\n",
    "inds"
   ]
  },
  {
   "cell_type": "code",
   "execution_count": 44,
   "metadata": {
    "execution": {
     "iopub.execute_input": "2023-01-26T20:15:58.291133Z",
     "iopub.status.busy": "2023-01-26T20:15:58.290642Z",
     "iopub.status.idle": "2023-01-26T20:15:58.294513Z",
     "shell.execute_reply": "2023-01-26T20:15:58.294908Z"
    }
   },
   "outputs": [
    {
     "data": {
      "text/plain": [
       "(30, 40)"
      ]
     },
     "execution_count": 44,
     "metadata": {},
     "output_type": "execute_result"
    }
   ],
   "source": [
    "inds.shape"
   ]
  },
  {
   "cell_type": "markdown",
   "metadata": {},
   "source": [
    "Great! We have an array representing the index of the point closest to $-10^oC$ in each column of data. We could use this to look up into our pressure coordinates to find the pressure level for each column:"
   ]
  },
  {
   "cell_type": "code",
   "execution_count": 45,
   "metadata": {
    "execution": {
     "iopub.execute_input": "2023-01-26T20:15:58.299089Z",
     "iopub.status.busy": "2023-01-26T20:15:58.298407Z",
     "iopub.status.idle": "2023-01-26T20:15:58.302281Z",
     "shell.execute_reply": "2023-01-26T20:15:58.301771Z"
    }
   },
   "outputs": [
    {
     "data": {
      "text/plain": [
       "array([[775. , 737.5, 737.5, ..., 775. , 737.5, 737.5],\n",
       "       [737.5, 775. , 775. , ..., 700. , 775. , 775. ],\n",
       "       [775. , 737.5, 737.5, ..., 775. , 737.5, 700. ],\n",
       "       ...,\n",
       "       [775. , 737.5, 737.5, ..., 700. , 737.5, 737.5],\n",
       "       [775. , 775. , 700. , ..., 775. , 737.5, 737.5],\n",
       "       [737.5, 737.5, 737.5, ..., 737.5, 737.5, 775. ]])"
      ]
     },
     "execution_count": 45,
     "metadata": {},
     "output_type": "execute_result"
    }
   ],
   "source": [
    "pressure[inds]"
   ]
  },
  {
   "cell_type": "markdown",
   "metadata": {},
   "source": [
    "How about using that to find the actual temperature value that was closest?"
   ]
  },
  {
   "cell_type": "code",
   "execution_count": 46,
   "metadata": {
    "execution": {
     "iopub.execute_input": "2023-01-26T20:15:58.305785Z",
     "iopub.status.busy": "2023-01-26T20:15:58.305215Z",
     "iopub.status.idle": "2023-01-26T20:15:58.311190Z",
     "shell.execute_reply": "2023-01-26T20:15:58.311576Z"
    }
   },
   "outputs": [
    {
     "data": {
      "text/plain": [
       "(30, 40, 30, 40)"
      ]
     },
     "execution_count": 46,
     "metadata": {},
     "output_type": "execute_result"
    }
   ],
   "source": [
    "temps[inds, :, :].shape"
   ]
  },
  {
   "cell_type": "markdown",
   "metadata": {},
   "source": [
    "Unfortunately, this replaced the pressure dimension (size 25) with the shape of our index array (30 x 40), giving us a 30 x 40 x 30 x 40 array (imagine what would have happened with real data!). One solution here would be to loop:"
   ]
  },
  {
   "cell_type": "code",
   "execution_count": 47,
   "metadata": {
    "execution": {
     "iopub.execute_input": "2023-01-26T20:15:58.317915Z",
     "iopub.status.busy": "2023-01-26T20:15:58.317398Z",
     "iopub.status.idle": "2023-01-26T20:15:58.320355Z",
     "shell.execute_reply": "2023-01-26T20:15:58.319857Z"
    }
   },
   "outputs": [
    {
     "data": {
      "text/plain": [
       "array([[ -5.70020499, -11.70387676, -12.01289493, ..., -11.06249487,\n",
       "        -12.07429088, -12.84368348],\n",
       "       [-17.93374989, -12.0728777 ,  -8.79225378, ..., -10.56493555,\n",
       "         -8.0396014 ,  -8.33925437],\n",
       "       [ -9.29260919,  -8.39547104,  -8.04919927, ...,  -9.56318149,\n",
       "         -8.60936207, -12.81792268],\n",
       "       ...,\n",
       "       [ -9.34344603, -10.49965773, -12.79901861, ..., -11.71129289,\n",
       "        -11.840881  ,  -9.04786841],\n",
       "       [ -5.77564919, -10.02375819,  -9.65222778, ...,  -9.26336772,\n",
       "         -6.42682922,  -9.89717292],\n",
       "       [-13.99813028,  -8.96901512, -10.46179014, ..., -11.59476819,\n",
       "        -11.36183715,  -5.58705375]])"
      ]
     },
     "execution_count": 47,
     "metadata": {},
     "output_type": "execute_result"
    }
   ],
   "source": [
    "output = np.empty(inds.shape, dtype=temps.dtype)\n",
    "for (i, j), val in np.ndenumerate(inds):\n",
    "    output[i, j] = temps[val, i, j]\n",
    "output"
   ]
  },
  {
   "cell_type": "markdown",
   "metadata": {},
   "source": [
    "Of course, what we really want to do is avoid the explicit loop. Let's temporarily simplify the problem to a single dimension. If we have a 1-D array, we can pass a 1-D array of indices (a full) range, and get back the same as the original data array:"
   ]
  },
  {
   "cell_type": "code",
   "execution_count": 48,
   "metadata": {
    "execution": {
     "iopub.execute_input": "2023-01-26T20:15:58.324863Z",
     "iopub.status.busy": "2023-01-26T20:15:58.324228Z",
     "iopub.status.idle": "2023-01-26T20:15:58.326985Z",
     "shell.execute_reply": "2023-01-26T20:15:58.326483Z"
    }
   },
   "outputs": [
    {
     "data": {
      "text/plain": [
       "array([1000. ,  962.5,  925. ,  887.5,  850. ,  812.5,  775. ,  737.5,\n",
       "        700. ,  662.5,  625. ,  587.5,  550. ,  512.5,  475. ,  437.5,\n",
       "        400. ,  362.5,  325. ,  287.5,  250. ,  212.5,  175. ,  137.5,\n",
       "        100. ])"
      ]
     },
     "execution_count": 48,
     "metadata": {},
     "output_type": "execute_result"
    }
   ],
   "source": [
    "pressure[np.arange(pressure.size)]"
   ]
  },
  {
   "cell_type": "code",
   "execution_count": 49,
   "metadata": {
    "execution": {
     "iopub.execute_input": "2023-01-26T20:15:58.330967Z",
     "iopub.status.busy": "2023-01-26T20:15:58.330471Z",
     "iopub.status.idle": "2023-01-26T20:15:58.333159Z",
     "shell.execute_reply": "2023-01-26T20:15:58.333547Z"
    }
   },
   "outputs": [
    {
     "data": {
      "text/plain": [
       "True"
      ]
     },
     "execution_count": 49,
     "metadata": {},
     "output_type": "execute_result"
    }
   ],
   "source": [
    "np.all(pressure[np.arange(pressure.size)] == pressure)"
   ]
  },
  {
   "cell_type": "markdown",
   "metadata": {},
   "source": [
    "We can use this to select all the indices on the other dimensions of our temperature array. We will also need to use the magic of broadcasting to combine arrays of indices across dimensions."
   ]
  },
  {
   "cell_type": "markdown",
   "metadata": {},
   "source": [
    "Now let's consider a vectorized solution:"
   ]
  },
  {
   "cell_type": "code",
   "execution_count": 50,
   "metadata": {
    "execution": {
     "iopub.execute_input": "2023-01-26T20:15:58.338443Z",
     "iopub.status.busy": "2023-01-26T20:15:58.337947Z",
     "iopub.status.idle": "2023-01-26T20:15:58.340648Z",
     "shell.execute_reply": "2023-01-26T20:15:58.341063Z"
    }
   },
   "outputs": [
    {
     "data": {
      "text/plain": [
       "array([[ -5.70020499, -11.70387676, -12.01289493, ..., -11.06249487,\n",
       "        -12.07429088, -12.84368348],\n",
       "       [-17.93374989, -12.0728777 ,  -8.79225378, ..., -10.56493555,\n",
       "         -8.0396014 ,  -8.33925437],\n",
       "       [ -9.29260919,  -8.39547104,  -8.04919927, ...,  -9.56318149,\n",
       "         -8.60936207, -12.81792268],\n",
       "       ...,\n",
       "       [ -9.34344603, -10.49965773, -12.79901861, ..., -11.71129289,\n",
       "        -11.840881  ,  -9.04786841],\n",
       "       [ -5.77564919, -10.02375819,  -9.65222778, ...,  -9.26336772,\n",
       "         -6.42682922,  -9.89717292],\n",
       "       [-13.99813028,  -8.96901512, -10.46179014, ..., -11.59476819,\n",
       "        -11.36183715,  -5.58705375]])"
      ]
     },
     "execution_count": 50,
     "metadata": {},
     "output_type": "execute_result"
    }
   ],
   "source": [
    "y_inds = np.arange(temps.shape[1])[:, np.newaxis]\n",
    "x_inds = np.arange(temps.shape[2])\n",
    "temps[inds, y_inds, x_inds]"
   ]
  },
  {
   "cell_type": "markdown",
   "metadata": {},
   "source": [
    "Let's say we want to find the relative humidity at the $-10^oC$ isotherm"
   ]
  },
  {
   "cell_type": "code",
   "execution_count": 51,
   "metadata": {
    "execution": {
     "iopub.execute_input": "2023-01-26T20:15:58.345429Z",
     "iopub.status.busy": "2023-01-26T20:15:58.344722Z",
     "iopub.status.idle": "2023-01-26T20:15:58.347524Z",
     "shell.execute_reply": "2023-01-26T20:15:58.347021Z"
    }
   },
   "outputs": [
    {
     "data": {
      "text/plain": [
       "True"
      ]
     },
     "execution_count": 51,
     "metadata": {},
     "output_type": "execute_result"
    }
   ],
   "source": [
    "np.all(output == temps[inds, y_inds, x_inds])"
   ]
  },
  {
   "cell_type": "markdown",
   "metadata": {},
   "source": [
    "---"
   ]
  },
  {
   "cell_type": "markdown",
   "metadata": {},
   "source": [
    "## Summary\n",
    "We've previewed some advanced NumPy capabilities with a focus on _vectorization_, or using clever broadcasting and windows of our data to enhance the speed and readability of our calculations. Doing so can reduce explicit construction of loops in your code and keep calculations running quickly!\n",
    "\n",
    "### What's next\n",
    "This is an advanced NumPy topic, and important to designing your own calculations in a way for them to be as scalable and quick as possible. Please check out some of the following links to explore this topic further. We also suggest diving into label-based indexing and subsetting with [Pandas](../pandas) and [Xarray](../xarray), where some of this broadcasting can be simplified or have added context."
   ]
  },
  {
   "cell_type": "markdown",
   "metadata": {},
   "source": [
    "## Resources and references\n",
    "* [NumPy Broadcasting Documentation](https://docs.scipy.org/doc/numpy/user/basics.broadcasting.html)"
   ]
  }
 ],
 "metadata": {
  "kernelspec": {
   "display_name": "Python 3 (ipykernel)",
   "language": "python",
   "name": "python3"
  },
  "language_info": {
   "codemirror_mode": {
    "name": "ipython",
    "version": 3
   },
   "file_extension": ".py",
   "mimetype": "text/x-python",
   "name": "python",
   "nbconvert_exporter": "python",
   "pygments_lexer": "ipython3",
   "version": "3.10.8"
  }
 },
 "nbformat": 4,
 "nbformat_minor": 4
}
