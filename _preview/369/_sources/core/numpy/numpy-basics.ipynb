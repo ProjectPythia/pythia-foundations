{
 "cells": [
  {
   "cell_type": "markdown",
   "metadata": {},
   "source": [
    "<img src=https://github.com/numpy/numpy/raw/main/branding/logo/primary/numpylogo.svg width=250 alt=\"NumPy Logo\"></img>\n",
    "# NumPy Basics\n",
    "---"
   ]
  },
  {
   "cell_type": "markdown",
   "metadata": {},
   "source": [
    "## Overview\n",
    "NumPy is the fundamental package for scientific computing with Python. It contains among other things:\n",
    "\n",
    "- a powerful N-dimensional array object\n",
    "- sophisticated (broadcasting) functions\n",
    "- useful linear algebra, Fourier transform, and random number capabilities\n",
    "\n",
    "The NumPy array object is the common interface for working with typed arrays of data across a wide-variety of scientific Python packages. NumPy also features a C-API, which enables interfacing existing Fortran/C/C++ libraries with Python and NumPy. In this notebook we will cover\n",
    "\n",
    "1. Creating an `array`\n",
    "1. Math and calculations with arrays\n",
    "1. Inspecting an array with slicing and indexing"
   ]
  },
  {
   "cell_type": "markdown",
   "metadata": {},
   "source": [
    "## Prerequisites\n",
    "\n",
    "| Concepts | Importance | Notes |\n",
    "| --- | --- | --- |\n",
    "| [Python Quickstart](../../foundations/quickstart) | Necessary | Lists, indexing, slicing, math |\n",
    "\n",
    "* **Time to learn**: 35 minutes\n",
    "---"
   ]
  },
  {
   "cell_type": "markdown",
   "metadata": {},
   "source": [
    "## Imports\n",
    "A common convention you might encounter is to rename `numpy` to `np` on import to shorten it for the many times we will be calling on `numpy` for functionality."
   ]
  },
  {
   "cell_type": "code",
   "execution_count": 1,
   "metadata": {
    "execution": {
     "iopub.execute_input": "2023-01-26T20:16:00.193227Z",
     "iopub.status.busy": "2023-01-26T20:16:00.192597Z",
     "iopub.status.idle": "2023-01-26T20:16:00.245188Z",
     "shell.execute_reply": "2023-01-26T20:16:00.244688Z"
    }
   },
   "outputs": [],
   "source": [
    "import numpy as np"
   ]
  },
  {
   "cell_type": "markdown",
   "metadata": {},
   "source": [
    "## Create an array of 'data'\n",
    "\n",
    "The NumPy array represents a *contiguous* block of memory, holding entries of a given type (and hence fixed size). The entries are laid out in memory according to the shape, or list of dimension sizes. Let's start by creating an array from a list of integers and taking a look at it,"
   ]
  },
  {
   "cell_type": "code",
   "execution_count": 2,
   "metadata": {
    "execution": {
     "iopub.execute_input": "2023-01-26T20:16:00.251450Z",
     "iopub.status.busy": "2023-01-26T20:16:00.247265Z",
     "iopub.status.idle": "2023-01-26T20:16:00.254477Z",
     "shell.execute_reply": "2023-01-26T20:16:00.254042Z"
    }
   },
   "outputs": [
    {
     "data": {
      "text/plain": [
       "array([1, 2, 3])"
      ]
     },
     "execution_count": 2,
     "metadata": {},
     "output_type": "execute_result"
    }
   ],
   "source": [
    "a = np.array([1, 2, 3])\n",
    "a"
   ]
  },
  {
   "cell_type": "markdown",
   "metadata": {},
   "source": [
    "We can inspect the number of dimensions our array is organized along with `ndim`, and how long each of these dimensions are with `shape`"
   ]
  },
  {
   "cell_type": "code",
   "execution_count": 3,
   "metadata": {
    "execution": {
     "iopub.execute_input": "2023-01-26T20:16:00.258204Z",
     "iopub.status.busy": "2023-01-26T20:16:00.257690Z",
     "iopub.status.idle": "2023-01-26T20:16:00.260688Z",
     "shell.execute_reply": "2023-01-26T20:16:00.260174Z"
    }
   },
   "outputs": [
    {
     "data": {
      "text/plain": [
       "1"
      ]
     },
     "execution_count": 3,
     "metadata": {},
     "output_type": "execute_result"
    }
   ],
   "source": [
    "a.ndim"
   ]
  },
  {
   "cell_type": "code",
   "execution_count": 4,
   "metadata": {
    "execution": {
     "iopub.execute_input": "2023-01-26T20:16:00.264272Z",
     "iopub.status.busy": "2023-01-26T20:16:00.263772Z",
     "iopub.status.idle": "2023-01-26T20:16:00.266774Z",
     "shell.execute_reply": "2023-01-26T20:16:00.266312Z"
    }
   },
   "outputs": [
    {
     "data": {
      "text/plain": [
       "(3,)"
      ]
     },
     "execution_count": 4,
     "metadata": {},
     "output_type": "execute_result"
    }
   ],
   "source": [
    "a.shape"
   ]
  },
  {
   "cell_type": "markdown",
   "metadata": {},
   "source": [
    "So our 1-dimensional array has a shape of `3` along that dimension! Finally we can check out the underlying type of our underlying data,"
   ]
  },
  {
   "cell_type": "code",
   "execution_count": 5,
   "metadata": {
    "execution": {
     "iopub.execute_input": "2023-01-26T20:16:00.270486Z",
     "iopub.status.busy": "2023-01-26T20:16:00.269985Z",
     "iopub.status.idle": "2023-01-26T20:16:00.272959Z",
     "shell.execute_reply": "2023-01-26T20:16:00.272442Z"
    }
   },
   "outputs": [
    {
     "data": {
      "text/plain": [
       "dtype('int64')"
      ]
     },
     "execution_count": 5,
     "metadata": {},
     "output_type": "execute_result"
    }
   ],
   "source": [
    "a.dtype"
   ]
  },
  {
   "cell_type": "markdown",
   "metadata": {},
   "source": [
    "Now, let's expand this with a new data type, and by using a list of lists we can grow the dimensions of our array!"
   ]
  },
  {
   "cell_type": "code",
   "execution_count": 6,
   "metadata": {
    "execution": {
     "iopub.execute_input": "2023-01-26T20:16:00.277215Z",
     "iopub.status.busy": "2023-01-26T20:16:00.276679Z",
     "iopub.status.idle": "2023-01-26T20:16:00.279718Z",
     "shell.execute_reply": "2023-01-26T20:16:00.279201Z"
    }
   },
   "outputs": [
    {
     "data": {
      "text/plain": [
       "array([[1., 2., 3.],\n",
       "       [4., 5., 6.]])"
      ]
     },
     "execution_count": 6,
     "metadata": {},
     "output_type": "execute_result"
    }
   ],
   "source": [
    "a = np.array([[1.0, 2.0, 3.0], [4.0, 5.0, 6.0]])\n",
    "a"
   ]
  },
  {
   "cell_type": "code",
   "execution_count": 7,
   "metadata": {
    "execution": {
     "iopub.execute_input": "2023-01-26T20:16:00.282901Z",
     "iopub.status.busy": "2023-01-26T20:16:00.281545Z",
     "iopub.status.idle": "2023-01-26T20:16:00.285814Z",
     "shell.execute_reply": "2023-01-26T20:16:00.285315Z"
    }
   },
   "outputs": [
    {
     "data": {
      "text/plain": [
       "2"
      ]
     },
     "execution_count": 7,
     "metadata": {},
     "output_type": "execute_result"
    }
   ],
   "source": [
    "a.ndim"
   ]
  },
  {
   "cell_type": "code",
   "execution_count": 8,
   "metadata": {
    "execution": {
     "iopub.execute_input": "2023-01-26T20:16:00.289410Z",
     "iopub.status.busy": "2023-01-26T20:16:00.288891Z",
     "iopub.status.idle": "2023-01-26T20:16:00.291869Z",
     "shell.execute_reply": "2023-01-26T20:16:00.291377Z"
    }
   },
   "outputs": [
    {
     "data": {
      "text/plain": [
       "(2, 3)"
      ]
     },
     "execution_count": 8,
     "metadata": {},
     "output_type": "execute_result"
    }
   ],
   "source": [
    "a.shape"
   ]
  },
  {
   "cell_type": "code",
   "execution_count": 9,
   "metadata": {
    "execution": {
     "iopub.execute_input": "2023-01-26T20:16:00.295532Z",
     "iopub.status.busy": "2023-01-26T20:16:00.295034Z",
     "iopub.status.idle": "2023-01-26T20:16:00.298116Z",
     "shell.execute_reply": "2023-01-26T20:16:00.297683Z"
    }
   },
   "outputs": [
    {
     "data": {
      "text/plain": [
       "dtype('float64')"
      ]
     },
     "execution_count": 9,
     "metadata": {},
     "output_type": "execute_result"
    }
   ],
   "source": [
    "a.dtype"
   ]
  },
  {
   "cell_type": "markdown",
   "metadata": {},
   "source": [
    "And as before we can use `ndim`, `shape`, and `dtype` to discover how many dimensions of what lengths are making up our array of floats."
   ]
  },
  {
   "cell_type": "markdown",
   "metadata": {},
   "source": [
    "### Generation\n",
    "NumPy also provides helper functions for generating arrays of data to save you typing for regularly spaced data. Don't forget your Python indexing rules!\n",
    "\n",
    "* `arange(start, stop, step)` creates a range of values in the interval `[start,stop)` with `step` spacing.\n",
    "* `linspace(start, stop, num)` creates a range of `num` evenly spaced values over the range `[start,stop]`."
   ]
  },
  {
   "cell_type": "markdown",
   "metadata": {},
   "source": [
    "#### arange"
   ]
  },
  {
   "cell_type": "code",
   "execution_count": 10,
   "metadata": {
    "execution": {
     "iopub.execute_input": "2023-01-26T20:16:00.302040Z",
     "iopub.status.busy": "2023-01-26T20:16:00.301546Z",
     "iopub.status.idle": "2023-01-26T20:16:00.304536Z",
     "shell.execute_reply": "2023-01-26T20:16:00.304032Z"
    }
   },
   "outputs": [
    {
     "data": {
      "text/plain": [
       "array([0, 1, 2, 3, 4])"
      ]
     },
     "execution_count": 10,
     "metadata": {},
     "output_type": "execute_result"
    }
   ],
   "source": [
    "a = np.arange(5)\n",
    "a"
   ]
  },
  {
   "cell_type": "code",
   "execution_count": 11,
   "metadata": {
    "execution": {
     "iopub.execute_input": "2023-01-26T20:16:00.308337Z",
     "iopub.status.busy": "2023-01-26T20:16:00.307846Z",
     "iopub.status.idle": "2023-01-26T20:16:00.310838Z",
     "shell.execute_reply": "2023-01-26T20:16:00.310346Z"
    }
   },
   "outputs": [
    {
     "data": {
      "text/plain": [
       "array([ 3,  4,  5,  6,  7,  8,  9, 10])"
      ]
     },
     "execution_count": 11,
     "metadata": {},
     "output_type": "execute_result"
    }
   ],
   "source": [
    "a = np.arange(3, 11)\n",
    "a"
   ]
  },
  {
   "cell_type": "code",
   "execution_count": 12,
   "metadata": {
    "execution": {
     "iopub.execute_input": "2023-01-26T20:16:00.314680Z",
     "iopub.status.busy": "2023-01-26T20:16:00.314182Z",
     "iopub.status.idle": "2023-01-26T20:16:00.317196Z",
     "shell.execute_reply": "2023-01-26T20:16:00.316658Z"
    }
   },
   "outputs": [
    {
     "data": {
      "text/plain": [
       "array([1, 3, 5, 7, 9])"
      ]
     },
     "execution_count": 12,
     "metadata": {},
     "output_type": "execute_result"
    }
   ],
   "source": [
    "a = np.arange(1, 10, 2)\n",
    "a"
   ]
  },
  {
   "cell_type": "markdown",
   "metadata": {},
   "source": [
    "#### linspace"
   ]
  },
  {
   "cell_type": "code",
   "execution_count": 13,
   "metadata": {
    "execution": {
     "iopub.execute_input": "2023-01-26T20:16:00.321255Z",
     "iopub.status.busy": "2023-01-26T20:16:00.320698Z",
     "iopub.status.idle": "2023-01-26T20:16:00.323793Z",
     "shell.execute_reply": "2023-01-26T20:16:00.323355Z"
    }
   },
   "outputs": [
    {
     "data": {
      "text/plain": [
       "array([0., 1., 2., 3., 4.])"
      ]
     },
     "execution_count": 13,
     "metadata": {},
     "output_type": "execute_result"
    }
   ],
   "source": [
    "b = np.linspace(0, 4, 5)\n",
    "b"
   ]
  },
  {
   "cell_type": "code",
   "execution_count": 14,
   "metadata": {
    "execution": {
     "iopub.execute_input": "2023-01-26T20:16:00.327361Z",
     "iopub.status.busy": "2023-01-26T20:16:00.326864Z",
     "iopub.status.idle": "2023-01-26T20:16:00.329887Z",
     "shell.execute_reply": "2023-01-26T20:16:00.329379Z"
    }
   },
   "outputs": [
    {
     "data": {
      "text/plain": [
       "(5,)"
      ]
     },
     "execution_count": 14,
     "metadata": {},
     "output_type": "execute_result"
    }
   ],
   "source": [
    "b.shape"
   ]
  },
  {
   "cell_type": "code",
   "execution_count": 15,
   "metadata": {
    "execution": {
     "iopub.execute_input": "2023-01-26T20:16:00.333945Z",
     "iopub.status.busy": "2023-01-26T20:16:00.333447Z",
     "iopub.status.idle": "2023-01-26T20:16:00.336535Z",
     "shell.execute_reply": "2023-01-26T20:16:00.336030Z"
    }
   },
   "outputs": [
    {
     "data": {
      "text/plain": [
       "array([ 3. ,  3.5,  4. ,  4.5,  5. ,  5.5,  6. ,  6.5,  7. ,  7.5,  8. ,\n",
       "        8.5,  9. ,  9.5, 10. ])"
      ]
     },
     "execution_count": 15,
     "metadata": {},
     "output_type": "execute_result"
    }
   ],
   "source": [
    "b = np.linspace(3, 10, 15)\n",
    "b"
   ]
  },
  {
   "cell_type": "code",
   "execution_count": 16,
   "metadata": {
    "execution": {
     "iopub.execute_input": "2023-01-26T20:16:00.340769Z",
     "iopub.status.busy": "2023-01-26T20:16:00.340267Z",
     "iopub.status.idle": "2023-01-26T20:16:00.343325Z",
     "shell.execute_reply": "2023-01-26T20:16:00.342906Z"
    }
   },
   "outputs": [
    {
     "data": {
      "text/plain": [
       "array([ 2.5  ,  3.275,  4.05 ,  4.825,  5.6  ,  6.375,  7.15 ,  7.925,\n",
       "        8.7  ,  9.475, 10.25 ])"
      ]
     },
     "execution_count": 16,
     "metadata": {},
     "output_type": "execute_result"
    }
   ],
   "source": [
    "b = np.linspace(2.5, 10.25, 11)\n",
    "b"
   ]
  },
  {
   "cell_type": "code",
   "execution_count": 17,
   "metadata": {
    "execution": {
     "iopub.execute_input": "2023-01-26T20:16:00.347688Z",
     "iopub.status.busy": "2023-01-26T20:16:00.347170Z",
     "iopub.status.idle": "2023-01-26T20:16:00.349829Z",
     "shell.execute_reply": "2023-01-26T20:16:00.350192Z"
    }
   },
   "outputs": [
    {
     "data": {
      "text/plain": [
       "array([  0.        ,   3.44827586,   6.89655172,  10.34482759,\n",
       "        13.79310345,  17.24137931,  20.68965517,  24.13793103,\n",
       "        27.5862069 ,  31.03448276,  34.48275862,  37.93103448,\n",
       "        41.37931034,  44.82758621,  48.27586207,  51.72413793,\n",
       "        55.17241379,  58.62068966,  62.06896552,  65.51724138,\n",
       "        68.96551724,  72.4137931 ,  75.86206897,  79.31034483,\n",
       "        82.75862069,  86.20689655,  89.65517241,  93.10344828,\n",
       "        96.55172414, 100.        ])"
      ]
     },
     "execution_count": 17,
     "metadata": {},
     "output_type": "execute_result"
    }
   ],
   "source": [
    "b = np.linspace(0, 100, 30)\n",
    "b"
   ]
  },
  {
   "cell_type": "markdown",
   "metadata": {},
   "source": [
    "## Perform calculations with NumPy\n",
    "\n",
    "### Arithmetic\n",
    "\n",
    "In core Python, that is *without* NumPy, creating sequences of values and adding them together requires writing a lot of manual loops, just like one would do in C/C++:"
   ]
  },
  {
   "cell_type": "code",
   "execution_count": 18,
   "metadata": {
    "execution": {
     "iopub.execute_input": "2023-01-26T20:16:00.355004Z",
     "iopub.status.busy": "2023-01-26T20:16:00.354513Z",
     "iopub.status.idle": "2023-01-26T20:16:00.357617Z",
     "shell.execute_reply": "2023-01-26T20:16:00.357204Z"
    }
   },
   "outputs": [
    {
     "data": {
      "text/plain": [
       "([5, 6, 7, 8, 9], [3.0, 3.375, 3.75, 4.125, 4.5])"
      ]
     },
     "execution_count": 18,
     "metadata": {},
     "output_type": "execute_result"
    }
   ],
   "source": [
    "a = list(range(5, 10))\n",
    "b = [3 + i * 1.5 / 4 for i in range(5)]\n",
    "\n",
    "a, b"
   ]
  },
  {
   "cell_type": "code",
   "execution_count": 19,
   "metadata": {
    "execution": {
     "iopub.execute_input": "2023-01-26T20:16:00.361856Z",
     "iopub.status.busy": "2023-01-26T20:16:00.361365Z",
     "iopub.status.idle": "2023-01-26T20:16:00.364492Z",
     "shell.execute_reply": "2023-01-26T20:16:00.364082Z"
    }
   },
   "outputs": [
    {
     "name": "stdout",
     "output_type": "stream",
     "text": [
      "[8.0, 9.375, 10.75, 12.125, 13.5]\n"
     ]
    }
   ],
   "source": [
    "result = []\n",
    "for x, y in zip(a, b):\n",
    "    result.append(x + y)\n",
    "print(result)"
   ]
  },
  {
   "cell_type": "markdown",
   "metadata": {},
   "source": [
    "That is very verbose and not very intuitive. Using NumPy this becomes:"
   ]
  },
  {
   "cell_type": "code",
   "execution_count": 20,
   "metadata": {
    "execution": {
     "iopub.execute_input": "2023-01-26T20:16:00.368320Z",
     "iopub.status.busy": "2023-01-26T20:16:00.367720Z",
     "iopub.status.idle": "2023-01-26T20:16:00.370105Z",
     "shell.execute_reply": "2023-01-26T20:16:00.369694Z"
    }
   },
   "outputs": [],
   "source": [
    "a = np.arange(5, 10)\n",
    "b = np.linspace(3, 4.5, 5)"
   ]
  },
  {
   "cell_type": "code",
   "execution_count": 21,
   "metadata": {
    "execution": {
     "iopub.execute_input": "2023-01-26T20:16:00.373962Z",
     "iopub.status.busy": "2023-01-26T20:16:00.373469Z",
     "iopub.status.idle": "2023-01-26T20:16:00.376158Z",
     "shell.execute_reply": "2023-01-26T20:16:00.376537Z"
    }
   },
   "outputs": [
    {
     "data": {
      "text/plain": [
       "array([ 8.   ,  9.375, 10.75 , 12.125, 13.5  ])"
      ]
     },
     "execution_count": 21,
     "metadata": {},
     "output_type": "execute_result"
    }
   ],
   "source": [
    "a + b"
   ]
  },
  {
   "cell_type": "markdown",
   "metadata": {},
   "source": [
    "Many major mathematical operations operate in the same way. They perform an element-by-element calculation of the two arrays."
   ]
  },
  {
   "cell_type": "code",
   "execution_count": 22,
   "metadata": {
    "execution": {
     "iopub.execute_input": "2023-01-26T20:16:00.380790Z",
     "iopub.status.busy": "2023-01-26T20:16:00.380283Z",
     "iopub.status.idle": "2023-01-26T20:16:00.383257Z",
     "shell.execute_reply": "2023-01-26T20:16:00.382812Z"
    }
   },
   "outputs": [
    {
     "data": {
      "text/plain": [
       "array([2.   , 2.625, 3.25 , 3.875, 4.5  ])"
      ]
     },
     "execution_count": 22,
     "metadata": {},
     "output_type": "execute_result"
    }
   ],
   "source": [
    "a - b"
   ]
  },
  {
   "cell_type": "code",
   "execution_count": 23,
   "metadata": {
    "execution": {
     "iopub.execute_input": "2023-01-26T20:16:00.387224Z",
     "iopub.status.busy": "2023-01-26T20:16:00.386733Z",
     "iopub.status.idle": "2023-01-26T20:16:00.389793Z",
     "shell.execute_reply": "2023-01-26T20:16:00.389287Z"
    }
   },
   "outputs": [
    {
     "data": {
      "text/plain": [
       "array([1.66666667, 1.77777778, 1.86666667, 1.93939394, 2.        ])"
      ]
     },
     "execution_count": 23,
     "metadata": {},
     "output_type": "execute_result"
    }
   ],
   "source": [
    "a / b"
   ]
  },
  {
   "cell_type": "code",
   "execution_count": 24,
   "metadata": {
    "execution": {
     "iopub.execute_input": "2023-01-26T20:16:00.393747Z",
     "iopub.status.busy": "2023-01-26T20:16:00.393212Z",
     "iopub.status.idle": "2023-01-26T20:16:00.396261Z",
     "shell.execute_reply": "2023-01-26T20:16:00.395843Z"
    }
   },
   "outputs": [
    {
     "data": {
      "text/plain": [
       "array([  125.        ,   422.92218768,  1476.10635524,  5311.85481585,\n",
       "       19683.        ])"
      ]
     },
     "execution_count": 24,
     "metadata": {},
     "output_type": "execute_result"
    }
   ],
   "source": [
    "a**b"
   ]
  },
  {
   "cell_type": "markdown",
   "metadata": {},
   "source": [
    "<div class=\"admonition alert alert-warning\">\n",
    "    <p class=\"admonition-title\" style=\"font-weight:bold\">Warning</p>\n",
    "    These arrays must be the same shape!\n",
    "</div>"
   ]
  },
  {
   "cell_type": "code",
   "execution_count": 25,
   "metadata": {
    "execution": {
     "iopub.execute_input": "2023-01-26T20:16:00.400544Z",
     "iopub.status.busy": "2023-01-26T20:16:00.399967Z",
     "iopub.status.idle": "2023-01-26T20:16:00.402904Z",
     "shell.execute_reply": "2023-01-26T20:16:00.402410Z"
    }
   },
   "outputs": [
    {
     "data": {
      "text/plain": [
       "((5,), (6,))"
      ]
     },
     "execution_count": 25,
     "metadata": {},
     "output_type": "execute_result"
    }
   ],
   "source": [
    "b = np.linspace(3, 4.5, 6)\n",
    "a.shape, b.shape"
   ]
  },
  {
   "cell_type": "code",
   "execution_count": 26,
   "metadata": {
    "execution": {
     "iopub.execute_input": "2023-01-26T20:16:00.406247Z",
     "iopub.status.busy": "2023-01-26T20:16:00.405746Z",
     "iopub.status.idle": "2023-01-26T20:16:00.594227Z",
     "shell.execute_reply": "2023-01-26T20:16:00.593715Z"
    },
    "tags": [
     "raises-exception"
    ]
   },
   "outputs": [
    {
     "ename": "ValueError",
     "evalue": "operands could not be broadcast together with shapes (5,) (6,) ",
     "output_type": "error",
     "traceback": [
      "\u001b[0;31m---------------------------------------------------------------------------\u001b[0m",
      "\u001b[0;31mValueError\u001b[0m                                Traceback (most recent call last)",
      "Cell \u001b[0;32mIn[26], line 1\u001b[0m\n\u001b[0;32m----> 1\u001b[0m \u001b[43ma\u001b[49m\u001b[43m \u001b[49m\u001b[38;5;241;43m*\u001b[39;49m\u001b[43m \u001b[49m\u001b[43mb\u001b[49m\n",
      "\u001b[0;31mValueError\u001b[0m: operands could not be broadcast together with shapes (5,) (6,) "
     ]
    }
   ],
   "source": [
    "a * b"
   ]
  },
  {
   "cell_type": "markdown",
   "metadata": {},
   "source": [
    "### Constants\n",
    "\n",
    "NumPy provides us access to some useful constants as well - remember you should never be typing these in manually! Other libraries such as SciPy and MetPy have their own set of constants that are more domain specific."
   ]
  },
  {
   "cell_type": "code",
   "execution_count": 27,
   "metadata": {
    "execution": {
     "iopub.execute_input": "2023-01-26T20:16:00.598384Z",
     "iopub.status.busy": "2023-01-26T20:16:00.597884Z",
     "iopub.status.idle": "2023-01-26T20:16:00.600959Z",
     "shell.execute_reply": "2023-01-26T20:16:00.600485Z"
    }
   },
   "outputs": [
    {
     "data": {
      "text/plain": [
       "3.141592653589793"
      ]
     },
     "execution_count": 27,
     "metadata": {},
     "output_type": "execute_result"
    }
   ],
   "source": [
    "np.pi"
   ]
  },
  {
   "cell_type": "code",
   "execution_count": 28,
   "metadata": {
    "execution": {
     "iopub.execute_input": "2023-01-26T20:16:00.604748Z",
     "iopub.status.busy": "2023-01-26T20:16:00.604138Z",
     "iopub.status.idle": "2023-01-26T20:16:00.607152Z",
     "shell.execute_reply": "2023-01-26T20:16:00.606648Z"
    }
   },
   "outputs": [
    {
     "data": {
      "text/plain": [
       "2.718281828459045"
      ]
     },
     "execution_count": 28,
     "metadata": {},
     "output_type": "execute_result"
    }
   ],
   "source": [
    "np.e"
   ]
  },
  {
   "cell_type": "markdown",
   "metadata": {},
   "source": [
    "You can use these for classic calculations you might be familiar with! Here we can create a range `t = [0, 2 pi]` by `pi/4`,"
   ]
  },
  {
   "cell_type": "code",
   "execution_count": 29,
   "metadata": {
    "execution": {
     "iopub.execute_input": "2023-01-26T20:16:00.611736Z",
     "iopub.status.busy": "2023-01-26T20:16:00.611125Z",
     "iopub.status.idle": "2023-01-26T20:16:00.613863Z",
     "shell.execute_reply": "2023-01-26T20:16:00.614228Z"
    }
   },
   "outputs": [
    {
     "data": {
      "text/plain": [
       "array([0.        , 0.78539816, 1.57079633, 2.35619449, 3.14159265,\n",
       "       3.92699082, 4.71238898, 5.49778714, 6.28318531])"
      ]
     },
     "execution_count": 29,
     "metadata": {},
     "output_type": "execute_result"
    }
   ],
   "source": [
    "t = np.arange(0, 2 * np.pi + np.pi / 4, np.pi / 4)\n",
    "t"
   ]
  },
  {
   "cell_type": "code",
   "execution_count": 30,
   "metadata": {
    "execution": {
     "iopub.execute_input": "2023-01-26T20:16:00.618450Z",
     "iopub.status.busy": "2023-01-26T20:16:00.617956Z",
     "iopub.status.idle": "2023-01-26T20:16:00.621021Z",
     "shell.execute_reply": "2023-01-26T20:16:00.620499Z"
    }
   },
   "outputs": [
    {
     "data": {
      "text/plain": [
       "array([0.  , 0.25, 0.5 , 0.75, 1.  , 1.25, 1.5 , 1.75, 2.  ])"
      ]
     },
     "execution_count": 30,
     "metadata": {},
     "output_type": "execute_result"
    }
   ],
   "source": [
    "t / np.pi"
   ]
  },
  {
   "cell_type": "markdown",
   "metadata": {},
   "source": [
    "### Array math functions\n",
    "\n",
    "NumPy also has math functions that can operate on arrays. Similar to the math operations, these greatly simplify and speed up these operations. Let's start with calculating $\\sin(t)$!"
   ]
  },
  {
   "cell_type": "code",
   "execution_count": 31,
   "metadata": {
    "execution": {
     "iopub.execute_input": "2023-01-26T20:16:00.624872Z",
     "iopub.status.busy": "2023-01-26T20:16:00.623103Z",
     "iopub.status.idle": "2023-01-26T20:16:00.627579Z",
     "shell.execute_reply": "2023-01-26T20:16:00.627942Z"
    }
   },
   "outputs": [
    {
     "data": {
      "text/plain": [
       "array([ 0.00000000e+00,  7.07106781e-01,  1.00000000e+00,  7.07106781e-01,\n",
       "        1.22464680e-16, -7.07106781e-01, -1.00000000e+00, -7.07106781e-01,\n",
       "       -2.44929360e-16])"
      ]
     },
     "execution_count": 31,
     "metadata": {},
     "output_type": "execute_result"
    }
   ],
   "source": [
    "sin_t = np.sin(t)\n",
    "sin_t"
   ]
  },
  {
   "cell_type": "markdown",
   "metadata": {},
   "source": [
    "and clean it up a bit by `round`ing to three decimal places."
   ]
  },
  {
   "cell_type": "code",
   "execution_count": 32,
   "metadata": {
    "execution": {
     "iopub.execute_input": "2023-01-26T20:16:00.632333Z",
     "iopub.status.busy": "2023-01-26T20:16:00.631809Z",
     "iopub.status.idle": "2023-01-26T20:16:00.634872Z",
     "shell.execute_reply": "2023-01-26T20:16:00.634454Z"
    }
   },
   "outputs": [
    {
     "data": {
      "text/plain": [
       "array([ 0.   ,  0.707,  1.   ,  0.707,  0.   , -0.707, -1.   , -0.707,\n",
       "       -0.   ])"
      ]
     },
     "execution_count": 32,
     "metadata": {},
     "output_type": "execute_result"
    }
   ],
   "source": [
    "np.round(sin_t, 3)"
   ]
  },
  {
   "cell_type": "code",
   "execution_count": 33,
   "metadata": {
    "execution": {
     "iopub.execute_input": "2023-01-26T20:16:00.638977Z",
     "iopub.status.busy": "2023-01-26T20:16:00.638396Z",
     "iopub.status.idle": "2023-01-26T20:16:00.641379Z",
     "shell.execute_reply": "2023-01-26T20:16:00.640860Z"
    }
   },
   "outputs": [
    {
     "data": {
      "text/plain": [
       "array([ 1.00000000e+00,  7.07106781e-01,  6.12323400e-17, -7.07106781e-01,\n",
       "       -1.00000000e+00, -7.07106781e-01, -1.83697020e-16,  7.07106781e-01,\n",
       "        1.00000000e+00])"
      ]
     },
     "execution_count": 33,
     "metadata": {},
     "output_type": "execute_result"
    }
   ],
   "source": [
    "cos_t = np.cos(t)\n",
    "cos_t"
   ]
  },
  {
   "cell_type": "markdown",
   "metadata": {},
   "source": [
    "<div class=\"admonition alert alert-info\">\n",
    "    <p class=\"admonition-title\" style=\"font-weight:bold\">Info</p>\n",
    "    Check out NumPy's list of mathematical functions <a href=https://numpy.org/doc/stable/reference/routines.math.html>here</a>!\n",
    "</div>"
   ]
  },
  {
   "cell_type": "markdown",
   "metadata": {},
   "source": [
    "We can convert between degrees and radians with only NumPy, by hand"
   ]
  },
  {
   "cell_type": "code",
   "execution_count": 34,
   "metadata": {
    "execution": {
     "iopub.execute_input": "2023-01-26T20:16:00.645426Z",
     "iopub.status.busy": "2023-01-26T20:16:00.644902Z",
     "iopub.status.idle": "2023-01-26T20:16:00.648054Z",
     "shell.execute_reply": "2023-01-26T20:16:00.647557Z"
    }
   },
   "outputs": [
    {
     "data": {
      "text/plain": [
       "array([  0.,  45.,  90., 135., 180., 225., 270., 315., 360.])"
      ]
     },
     "execution_count": 34,
     "metadata": {},
     "output_type": "execute_result"
    }
   ],
   "source": [
    "t / np.pi * 180"
   ]
  },
  {
   "cell_type": "markdown",
   "metadata": {},
   "source": [
    "or with built-in function `rad2deg`,"
   ]
  },
  {
   "cell_type": "code",
   "execution_count": 35,
   "metadata": {
    "execution": {
     "iopub.execute_input": "2023-01-26T20:16:00.652383Z",
     "iopub.status.busy": "2023-01-26T20:16:00.651858Z",
     "iopub.status.idle": "2023-01-26T20:16:00.654829Z",
     "shell.execute_reply": "2023-01-26T20:16:00.654326Z"
    }
   },
   "outputs": [
    {
     "data": {
      "text/plain": [
       "array([  0.,  45.,  90., 135., 180., 225., 270., 315., 360.])"
      ]
     },
     "execution_count": 35,
     "metadata": {},
     "output_type": "execute_result"
    }
   ],
   "source": [
    "degrees = np.rad2deg(t)\n",
    "degrees"
   ]
  },
  {
   "cell_type": "markdown",
   "metadata": {},
   "source": [
    "We are similarly provided algorithms for operations including integration, bulk summing, and cumulative summing."
   ]
  },
  {
   "cell_type": "code",
   "execution_count": 36,
   "metadata": {
    "execution": {
     "iopub.execute_input": "2023-01-26T20:16:00.659111Z",
     "iopub.status.busy": "2023-01-26T20:16:00.658549Z",
     "iopub.status.idle": "2023-01-26T20:16:00.661508Z",
     "shell.execute_reply": "2023-01-26T20:16:00.660976Z"
    }
   },
   "outputs": [
    {
     "data": {
      "text/plain": [
       "-0.0"
      ]
     },
     "execution_count": 36,
     "metadata": {},
     "output_type": "execute_result"
    }
   ],
   "source": [
    "sine_integral = np.trapz(sin_t, t)\n",
    "np.round(sine_integral, 3)"
   ]
  },
  {
   "cell_type": "code",
   "execution_count": 37,
   "metadata": {
    "execution": {
     "iopub.execute_input": "2023-01-26T20:16:00.665710Z",
     "iopub.status.busy": "2023-01-26T20:16:00.665135Z",
     "iopub.status.idle": "2023-01-26T20:16:00.668213Z",
     "shell.execute_reply": "2023-01-26T20:16:00.667714Z"
    }
   },
   "outputs": [
    {
     "data": {
      "text/plain": [
       "0.9999999999999996"
      ]
     },
     "execution_count": 37,
     "metadata": {},
     "output_type": "execute_result"
    }
   ],
   "source": [
    "cos_sum = np.sum(cos_t)\n",
    "cos_sum"
   ]
  },
  {
   "cell_type": "code",
   "execution_count": 38,
   "metadata": {
    "execution": {
     "iopub.execute_input": "2023-01-26T20:16:00.672036Z",
     "iopub.status.busy": "2023-01-26T20:16:00.671458Z",
     "iopub.status.idle": "2023-01-26T20:16:00.674231Z",
     "shell.execute_reply": "2023-01-26T20:16:00.673733Z"
    }
   },
   "outputs": [
    {
     "name": "stdout",
     "output_type": "stream",
     "text": [
      "[ 1.00000000e+00  1.70710678e+00  1.70710678e+00  1.00000000e+00\n",
      "  0.00000000e+00 -7.07106781e-01 -7.07106781e-01 -5.55111512e-16\n",
      "  1.00000000e+00]\n"
     ]
    }
   ],
   "source": [
    "cos_csum = np.cumsum(cos_t)\n",
    "print(cos_csum)"
   ]
  },
  {
   "cell_type": "markdown",
   "metadata": {},
   "source": [
    "## Indexing and subsetting arrays\n",
    "\n",
    "### Indexing\n",
    "\n",
    "We can use integer indexing to reach into our arrays and pull out individual elements. Let's make a toy 2-d array to explore. Here we create a 12-value `arange` and `reshape` it into a 3x4 array."
   ]
  },
  {
   "cell_type": "code",
   "execution_count": 39,
   "metadata": {
    "execution": {
     "iopub.execute_input": "2023-01-26T20:16:00.678455Z",
     "iopub.status.busy": "2023-01-26T20:16:00.677960Z",
     "iopub.status.idle": "2023-01-26T20:16:00.680944Z",
     "shell.execute_reply": "2023-01-26T20:16:00.680424Z"
    }
   },
   "outputs": [
    {
     "data": {
      "text/plain": [
       "array([[ 0,  1,  2,  3],\n",
       "       [ 4,  5,  6,  7],\n",
       "       [ 8,  9, 10, 11]])"
      ]
     },
     "execution_count": 39,
     "metadata": {},
     "output_type": "execute_result"
    }
   ],
   "source": [
    "a = np.arange(12).reshape(3, 4)\n",
    "a"
   ]
  },
  {
   "cell_type": "markdown",
   "metadata": {},
   "source": [
    "Recall that Python indexing starts at `0`, and we can begin indexing our array with the list-style `list[element]` notation,"
   ]
  },
  {
   "cell_type": "code",
   "execution_count": 40,
   "metadata": {
    "execution": {
     "iopub.execute_input": "2023-01-26T20:16:00.685014Z",
     "iopub.status.busy": "2023-01-26T20:16:00.684405Z",
     "iopub.status.idle": "2023-01-26T20:16:00.687419Z",
     "shell.execute_reply": "2023-01-26T20:16:00.687001Z"
    }
   },
   "outputs": [
    {
     "data": {
      "text/plain": [
       "array([0, 1, 2, 3])"
      ]
     },
     "execution_count": 40,
     "metadata": {},
     "output_type": "execute_result"
    }
   ],
   "source": [
    "a[0]"
   ]
  },
  {
   "cell_type": "markdown",
   "metadata": {},
   "source": [
    "to pull out just our first _row_ of data within `a`. Similarly we can index in reverse with negative indices,"
   ]
  },
  {
   "cell_type": "code",
   "execution_count": 41,
   "metadata": {
    "execution": {
     "iopub.execute_input": "2023-01-26T20:16:00.691607Z",
     "iopub.status.busy": "2023-01-26T20:16:00.691115Z",
     "iopub.status.idle": "2023-01-26T20:16:00.693942Z",
     "shell.execute_reply": "2023-01-26T20:16:00.694307Z"
    }
   },
   "outputs": [
    {
     "data": {
      "text/plain": [
       "array([ 8,  9, 10, 11])"
      ]
     },
     "execution_count": 41,
     "metadata": {},
     "output_type": "execute_result"
    }
   ],
   "source": [
    "a[-1]"
   ]
  },
  {
   "cell_type": "markdown",
   "metadata": {},
   "source": [
    "to pull out just the last row of data within `a`. This notation extends to as many dimensions as make up our array as `array[m, n, p, ...]`. The following diagram shows these indices for an example, 2-dimensional `6x6` array,"
   ]
  },
  {
   "cell_type": "markdown",
   "metadata": {},
   "source": [
    "![](array_index.png)"
   ]
  },
  {
   "cell_type": "markdown",
   "metadata": {},
   "source": [
    "For example, let's find the entry in our array corresponding to the 2nd row (`m=1` in Python) and the 3rd column (`n=2` in Python)"
   ]
  },
  {
   "cell_type": "code",
   "execution_count": 42,
   "metadata": {
    "execution": {
     "iopub.execute_input": "2023-01-26T20:16:00.698625Z",
     "iopub.status.busy": "2023-01-26T20:16:00.698110Z",
     "iopub.status.idle": "2023-01-26T20:16:00.701173Z",
     "shell.execute_reply": "2023-01-26T20:16:00.700629Z"
    }
   },
   "outputs": [
    {
     "data": {
      "text/plain": [
       "6"
      ]
     },
     "execution_count": 42,
     "metadata": {},
     "output_type": "execute_result"
    }
   ],
   "source": [
    "a[1, 2]"
   ]
  },
  {
   "cell_type": "markdown",
   "metadata": {},
   "source": [
    "We can again use these negative indices to index backwards,"
   ]
  },
  {
   "cell_type": "code",
   "execution_count": 43,
   "metadata": {
    "execution": {
     "iopub.execute_input": "2023-01-26T20:16:00.705633Z",
     "iopub.status.busy": "2023-01-26T20:16:00.705123Z",
     "iopub.status.idle": "2023-01-26T20:16:00.708097Z",
     "shell.execute_reply": "2023-01-26T20:16:00.708463Z"
    }
   },
   "outputs": [
    {
     "data": {
      "text/plain": [
       "11"
      ]
     },
     "execution_count": 43,
     "metadata": {},
     "output_type": "execute_result"
    }
   ],
   "source": [
    "a[-1, -1]"
   ]
  },
  {
   "cell_type": "markdown",
   "metadata": {},
   "source": [
    "and even mix-and-match along dimensions,"
   ]
  },
  {
   "cell_type": "code",
   "execution_count": 44,
   "metadata": {
    "execution": {
     "iopub.execute_input": "2023-01-26T20:16:00.714827Z",
     "iopub.status.busy": "2023-01-26T20:16:00.712191Z",
     "iopub.status.idle": "2023-01-26T20:16:00.719029Z",
     "shell.execute_reply": "2023-01-26T20:16:00.718352Z"
    }
   },
   "outputs": [
    {
     "data": {
      "text/plain": [
       "6"
      ]
     },
     "execution_count": 44,
     "metadata": {},
     "output_type": "execute_result"
    }
   ],
   "source": [
    "a[1, -2]"
   ]
  },
  {
   "cell_type": "markdown",
   "metadata": {},
   "source": [
    "### Slices\n",
    "\n",
    "Slicing syntax is written as `array[start:stop[:step]]`, where **all numbers are optional**.\n",
    "- defaults: \n",
    "  - start = 0\n",
    "  - stop = len(dim)\n",
    "  - step = 1\n",
    "- The second colon is **also optional** if no step is used.\n",
    "\n",
    "Let's pull out just the first row, `m=0` of `a` and see how this works!"
   ]
  },
  {
   "cell_type": "code",
   "execution_count": 45,
   "metadata": {
    "execution": {
     "iopub.execute_input": "2023-01-26T20:16:00.723491Z",
     "iopub.status.busy": "2023-01-26T20:16:00.722988Z",
     "iopub.status.idle": "2023-01-26T20:16:00.726233Z",
     "shell.execute_reply": "2023-01-26T20:16:00.725732Z"
    }
   },
   "outputs": [
    {
     "data": {
      "text/plain": [
       "array([0, 1, 2, 3])"
      ]
     },
     "execution_count": 45,
     "metadata": {},
     "output_type": "execute_result"
    }
   ],
   "source": [
    "b = a[0]\n",
    "b"
   ]
  },
  {
   "cell_type": "markdown",
   "metadata": {},
   "source": [
    "Laying out our default slice to see the entire array explicitly looks something like this,"
   ]
  },
  {
   "cell_type": "code",
   "execution_count": 46,
   "metadata": {
    "execution": {
     "iopub.execute_input": "2023-01-26T20:16:00.730493Z",
     "iopub.status.busy": "2023-01-26T20:16:00.729946Z",
     "iopub.status.idle": "2023-01-26T20:16:00.733097Z",
     "shell.execute_reply": "2023-01-26T20:16:00.732643Z"
    }
   },
   "outputs": [
    {
     "data": {
      "text/plain": [
       "array([0, 1, 2, 3])"
      ]
     },
     "execution_count": 46,
     "metadata": {},
     "output_type": "execute_result"
    }
   ],
   "source": [
    "b[0:4:1]"
   ]
  },
  {
   "cell_type": "markdown",
   "metadata": {},
   "source": [
    "where again, these default values are optional,"
   ]
  },
  {
   "cell_type": "code",
   "execution_count": 47,
   "metadata": {
    "execution": {
     "iopub.execute_input": "2023-01-26T20:16:00.736976Z",
     "iopub.status.busy": "2023-01-26T20:16:00.736355Z",
     "iopub.status.idle": "2023-01-26T20:16:00.739394Z",
     "shell.execute_reply": "2023-01-26T20:16:00.738945Z"
    }
   },
   "outputs": [
    {
     "data": {
      "text/plain": [
       "array([0, 1, 2, 3])"
      ]
     },
     "execution_count": 47,
     "metadata": {},
     "output_type": "execute_result"
    }
   ],
   "source": [
    "b[::]"
   ]
  },
  {
   "cell_type": "markdown",
   "metadata": {},
   "source": [
    "and even the second `:` is optional"
   ]
  },
  {
   "cell_type": "code",
   "execution_count": 48,
   "metadata": {
    "execution": {
     "iopub.execute_input": "2023-01-26T20:16:00.743313Z",
     "iopub.status.busy": "2023-01-26T20:16:00.742732Z",
     "iopub.status.idle": "2023-01-26T20:16:00.745829Z",
     "shell.execute_reply": "2023-01-26T20:16:00.745358Z"
    }
   },
   "outputs": [
    {
     "data": {
      "text/plain": [
       "array([0, 1, 2, 3])"
      ]
     },
     "execution_count": 48,
     "metadata": {},
     "output_type": "execute_result"
    }
   ],
   "source": [
    "b[:]"
   ]
  },
  {
   "cell_type": "markdown",
   "metadata": {},
   "source": [
    "Now to actually make our own slice, let's select all elements from `m=0` to `m=2`"
   ]
  },
  {
   "cell_type": "code",
   "execution_count": 49,
   "metadata": {
    "execution": {
     "iopub.execute_input": "2023-01-26T20:16:00.749644Z",
     "iopub.status.busy": "2023-01-26T20:16:00.749141Z",
     "iopub.status.idle": "2023-01-26T20:16:00.752185Z",
     "shell.execute_reply": "2023-01-26T20:16:00.751683Z"
    }
   },
   "outputs": [
    {
     "data": {
      "text/plain": [
       "array([0, 1])"
      ]
     },
     "execution_count": 49,
     "metadata": {},
     "output_type": "execute_result"
    }
   ],
   "source": [
    "b[0:2]"
   ]
  },
  {
   "cell_type": "markdown",
   "metadata": {},
   "source": [
    "<div class=\"admonition alert alert-warning\">\n",
    "    <p class=\"admonition-title\" style=\"font-weight:bold\">Warning</p>\n",
    "    Slice notation is <b>exclusive</b> of the final index.\n",
    "</div>"
   ]
  },
  {
   "cell_type": "markdown",
   "metadata": {},
   "source": [
    "This means that slices will include every value **up to** your `stop` index and not this index itself, like a half-open interval `[start, end)`. For example,"
   ]
  },
  {
   "cell_type": "code",
   "execution_count": 50,
   "metadata": {
    "execution": {
     "iopub.execute_input": "2023-01-26T20:16:00.756404Z",
     "iopub.status.busy": "2023-01-26T20:16:00.755763Z",
     "iopub.status.idle": "2023-01-26T20:16:00.758817Z",
     "shell.execute_reply": "2023-01-26T20:16:00.758364Z"
    }
   },
   "outputs": [
    {
     "data": {
      "text/plain": [
       "3"
      ]
     },
     "execution_count": 50,
     "metadata": {},
     "output_type": "execute_result"
    }
   ],
   "source": [
    "b[3]"
   ]
  },
  {
   "cell_type": "markdown",
   "metadata": {},
   "source": [
    "reveals a different value than"
   ]
  },
  {
   "cell_type": "code",
   "execution_count": 51,
   "metadata": {
    "execution": {
     "iopub.execute_input": "2023-01-26T20:16:00.762691Z",
     "iopub.status.busy": "2023-01-26T20:16:00.762205Z",
     "iopub.status.idle": "2023-01-26T20:16:00.765173Z",
     "shell.execute_reply": "2023-01-26T20:16:00.764643Z"
    }
   },
   "outputs": [
    {
     "data": {
      "text/plain": [
       "array([0, 1, 2])"
      ]
     },
     "execution_count": 51,
     "metadata": {},
     "output_type": "execute_result"
    }
   ],
   "source": [
    "b[0:3]"
   ]
  },
  {
   "cell_type": "markdown",
   "metadata": {},
   "source": [
    "Finally, a few more examples of this notation before reintroducing our 2-d array `a`."
   ]
  },
  {
   "cell_type": "code",
   "execution_count": 52,
   "metadata": {
    "execution": {
     "iopub.execute_input": "2023-01-26T20:16:00.769156Z",
     "iopub.status.busy": "2023-01-26T20:16:00.768512Z",
     "iopub.status.idle": "2023-01-26T20:16:00.771517Z",
     "shell.execute_reply": "2023-01-26T20:16:00.771022Z"
    }
   },
   "outputs": [
    {
     "data": {
      "text/plain": [
       "array([2, 3])"
      ]
     },
     "execution_count": 52,
     "metadata": {},
     "output_type": "execute_result"
    }
   ],
   "source": [
    "b[2:]  # m=2 through the end, can leave off the number"
   ]
  },
  {
   "cell_type": "code",
   "execution_count": 53,
   "metadata": {
    "execution": {
     "iopub.execute_input": "2023-01-26T20:16:00.775400Z",
     "iopub.status.busy": "2023-01-26T20:16:00.774865Z",
     "iopub.status.idle": "2023-01-26T20:16:00.777856Z",
     "shell.execute_reply": "2023-01-26T20:16:00.777430Z"
    }
   },
   "outputs": [
    {
     "data": {
      "text/plain": [
       "array([0, 1, 2])"
      ]
     },
     "execution_count": 53,
     "metadata": {},
     "output_type": "execute_result"
    }
   ],
   "source": [
    "b[:3]  # similarly, the same as our b[0:3]"
   ]
  },
  {
   "cell_type": "markdown",
   "metadata": {},
   "source": [
    "### Multidimensional slicing\n",
    "This entire syntax can be extended to each dimension of multidimensional arrays."
   ]
  },
  {
   "cell_type": "code",
   "execution_count": 54,
   "metadata": {
    "execution": {
     "iopub.execute_input": "2023-01-26T20:16:00.781690Z",
     "iopub.status.busy": "2023-01-26T20:16:00.781198Z",
     "iopub.status.idle": "2023-01-26T20:16:00.784076Z",
     "shell.execute_reply": "2023-01-26T20:16:00.783583Z"
    }
   },
   "outputs": [
    {
     "data": {
      "text/plain": [
       "array([[ 0,  1,  2,  3],\n",
       "       [ 4,  5,  6,  7],\n",
       "       [ 8,  9, 10, 11]])"
      ]
     },
     "execution_count": 54,
     "metadata": {},
     "output_type": "execute_result"
    }
   ],
   "source": [
    "a"
   ]
  },
  {
   "cell_type": "markdown",
   "metadata": {},
   "source": [
    "First let's pull out rows `0` through `2`, and then every `:` column for each of those"
   ]
  },
  {
   "cell_type": "code",
   "execution_count": 55,
   "metadata": {
    "execution": {
     "iopub.execute_input": "2023-01-26T20:16:00.788077Z",
     "iopub.status.busy": "2023-01-26T20:16:00.787481Z",
     "iopub.status.idle": "2023-01-26T20:16:00.790505Z",
     "shell.execute_reply": "2023-01-26T20:16:00.790004Z"
    }
   },
   "outputs": [
    {
     "data": {
      "text/plain": [
       "array([[0, 1, 2, 3],\n",
       "       [4, 5, 6, 7]])"
      ]
     },
     "execution_count": 55,
     "metadata": {},
     "output_type": "execute_result"
    }
   ],
   "source": [
    "a[0:2, :]"
   ]
  },
  {
   "cell_type": "markdown",
   "metadata": {},
   "source": [
    "Similarly, let's get all rows for just column `2`,"
   ]
  },
  {
   "cell_type": "code",
   "execution_count": 56,
   "metadata": {
    "execution": {
     "iopub.execute_input": "2023-01-26T20:16:00.794420Z",
     "iopub.status.busy": "2023-01-26T20:16:00.793869Z",
     "iopub.status.idle": "2023-01-26T20:16:00.796838Z",
     "shell.execute_reply": "2023-01-26T20:16:00.796324Z"
    }
   },
   "outputs": [
    {
     "data": {
      "text/plain": [
       "array([ 2,  6, 10])"
      ]
     },
     "execution_count": 56,
     "metadata": {},
     "output_type": "execute_result"
    }
   ],
   "source": [
    "a[:, 2]"
   ]
  },
  {
   "cell_type": "markdown",
   "metadata": {},
   "source": [
    "or just take a look at the full row `:`, for every second column, `::2`,"
   ]
  },
  {
   "cell_type": "code",
   "execution_count": 57,
   "metadata": {
    "execution": {
     "iopub.execute_input": "2023-01-26T20:16:00.800713Z",
     "iopub.status.busy": "2023-01-26T20:16:00.800226Z",
     "iopub.status.idle": "2023-01-26T20:16:00.803176Z",
     "shell.execute_reply": "2023-01-26T20:16:00.802727Z"
    }
   },
   "outputs": [
    {
     "data": {
      "text/plain": [
       "array([[ 0,  2],\n",
       "       [ 4,  6],\n",
       "       [ 8, 10]])"
      ]
     },
     "execution_count": 57,
     "metadata": {},
     "output_type": "execute_result"
    }
   ],
   "source": [
    "a[:, ::2]"
   ]
  },
  {
   "cell_type": "markdown",
   "metadata": {},
   "source": [
    "For any shape of array, you can use `...` to capture full slices of every non-specified dimension. Consider the 3-D array,"
   ]
  },
  {
   "cell_type": "code",
   "execution_count": 58,
   "metadata": {
    "execution": {
     "iopub.execute_input": "2023-01-26T20:16:00.807362Z",
     "iopub.status.busy": "2023-01-26T20:16:00.806632Z",
     "iopub.status.idle": "2023-01-26T20:16:00.809654Z",
     "shell.execute_reply": "2023-01-26T20:16:00.809135Z"
    }
   },
   "outputs": [
    {
     "data": {
      "text/plain": [
       "array([[[ 0,  1,  2],\n",
       "        [ 3,  4,  5]],\n",
       "\n",
       "       [[ 6,  7,  8],\n",
       "        [ 9, 10, 11]]])"
      ]
     },
     "execution_count": 58,
     "metadata": {},
     "output_type": "execute_result"
    }
   ],
   "source": [
    "c = a.reshape(2, 2, 3)\n",
    "c"
   ]
  },
  {
   "cell_type": "code",
   "execution_count": 59,
   "metadata": {
    "execution": {
     "iopub.execute_input": "2023-01-26T20:16:00.813507Z",
     "iopub.status.busy": "2023-01-26T20:16:00.812933Z",
     "iopub.status.idle": "2023-01-26T20:16:00.815894Z",
     "shell.execute_reply": "2023-01-26T20:16:00.815391Z"
    }
   },
   "outputs": [
    {
     "data": {
      "text/plain": [
       "array([[0, 1, 2],\n",
       "       [3, 4, 5]])"
      ]
     },
     "execution_count": 59,
     "metadata": {},
     "output_type": "execute_result"
    }
   ],
   "source": [
    "c[0, ...]"
   ]
  },
  {
   "cell_type": "markdown",
   "metadata": {},
   "source": [
    "and so this is equivalent to"
   ]
  },
  {
   "cell_type": "code",
   "execution_count": 60,
   "metadata": {
    "execution": {
     "iopub.execute_input": "2023-01-26T20:16:00.819747Z",
     "iopub.status.busy": "2023-01-26T20:16:00.819253Z",
     "iopub.status.idle": "2023-01-26T20:16:00.822327Z",
     "shell.execute_reply": "2023-01-26T20:16:00.821907Z"
    }
   },
   "outputs": [
    {
     "data": {
      "text/plain": [
       "array([[0, 1, 2],\n",
       "       [3, 4, 5]])"
      ]
     },
     "execution_count": 60,
     "metadata": {},
     "output_type": "execute_result"
    }
   ],
   "source": [
    "c[0, :, :]"
   ]
  },
  {
   "cell_type": "markdown",
   "metadata": {},
   "source": [
    "for extracting every dimension across our first row. We can also flip this around,"
   ]
  },
  {
   "cell_type": "code",
   "execution_count": 61,
   "metadata": {
    "execution": {
     "iopub.execute_input": "2023-01-26T20:16:00.826233Z",
     "iopub.status.busy": "2023-01-26T20:16:00.825611Z",
     "iopub.status.idle": "2023-01-26T20:16:00.828686Z",
     "shell.execute_reply": "2023-01-26T20:16:00.828272Z"
    }
   },
   "outputs": [
    {
     "data": {
      "text/plain": [
       "array([[ 2,  5],\n",
       "       [ 8, 11]])"
      ]
     },
     "execution_count": 61,
     "metadata": {},
     "output_type": "execute_result"
    }
   ],
   "source": [
    "c[..., -1]"
   ]
  },
  {
   "cell_type": "markdown",
   "metadata": {},
   "source": [
    "to investigate every preceding dimension along our the last entry of our last axis, the same as `c[:, :, -1]`."
   ]
  },
  {
   "cell_type": "markdown",
   "metadata": {},
   "source": [
    "---"
   ]
  },
  {
   "cell_type": "markdown",
   "metadata": {},
   "source": [
    "## Summary\n",
    "In this notebook we introduced NumPy and the `ndarray` that is so crucial to the entirety of the scientific Python community ecosystem. We created some arrays, used some of NumPy's own mathematical functions to manipulate them, and then introduced the world of NumPy indexing and selecting for even multi-dimensional arrays.\n",
    "\n",
    "### What's next?\n",
    "This notebook is the gateway to nearly every other Pythia resource here. This information is crucial for understanding SciPy, pandas, xarray, and more. Continue into NumPy to explore some more intermediate and advanced topics!"
   ]
  },
  {
   "cell_type": "markdown",
   "metadata": {},
   "source": [
    "## Resources and references\n",
    "- [NumPy User Guide](http://docs.scipy.org/doc/numpy/user/)\n",
    "- [SciPy Lecture Notes](https://scipy-lectures.org/)"
   ]
  }
 ],
 "metadata": {
  "kernelspec": {
   "display_name": "Python 3 (ipykernel)",
   "language": "python",
   "name": "python3"
  },
  "language_info": {
   "codemirror_mode": {
    "name": "ipython",
    "version": 3
   },
   "file_extension": ".py",
   "mimetype": "text/x-python",
   "name": "python",
   "nbconvert_exporter": "python",
   "pygments_lexer": "ipython3",
   "version": "3.10.8"
  },
  "toc-autonumbering": false
 },
 "nbformat": 4,
 "nbformat_minor": 4
}
