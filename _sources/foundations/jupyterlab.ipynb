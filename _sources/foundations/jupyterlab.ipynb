{
 "cells": [
  {
   "cell_type": "markdown",
   "metadata": {
    "id": "hC-731NWXAnQ"
   },
   "source": [
    "# JupyterLab"
   ]
  },
  {
   "cell_type": "markdown",
   "metadata": {
    "id": "3rIfwtTKpQLf"
   },
   "source": [
    "---"
   ]
  },
  {
   "cell_type": "markdown",
   "metadata": {
    "id": "MkdbWkKzfegV",
    "jp-MarkdownHeadingCollapsed": true,
    "tags": []
   },
   "source": [
    "## Overview\n",
    "\n",
    "JupyterLab is a popular web application on which users can create and write their Jupyter Notebooks, as well as explore data, install software, etc. This section will introduce the JupyterLab interface and cover details of JupyterLab Notebooks.\n",
    "\n",
    "1. Set Up\n",
    "2. The JupyterLab Interface\n",
    "3. Running JupyterLab Notebooks"
   ]
  },
  {
   "cell_type": "markdown",
   "metadata": {
    "id": "yt-WtTrcpRpo"
   },
   "source": [
    "## Prerequisites\n",
    "| Concepts | Importance | Notes |\n",
    "| --- | --- | --- |\n",
    "| [Getting Started with Jupyter](getting-started-jupyter) | Helpful | |\n",
    "| [Installing and Running Python: Python in Jupyter](https://foundations.projectpythia.org/foundations/jupyter.html) | Helpful | |\n",
    "\n",
    "- **Time to learn**: 50 minutes"
   ]
  },
  {
   "cell_type": "markdown",
   "metadata": {
    "id": "nvLyiIa8pTI5"
   },
   "source": [
    "---"
   ]
  },
  {
   "cell_type": "markdown",
   "metadata": {
    "id": "eRjK14BjeQXA",
    "tags": []
   },
   "source": [
    "## Set Up\n",
    "\n",
    "To launch the JupyterLab interface in your browser, follow the instructions in [Installing and Running Python: Python in Jupyter](https://foundations.projectpythia.org/foundations/jupyter.html).\n",
    "\n",
    "If, instead, you want to follow along using a provided remote JupyterLab instance, launch this notebook via [Binder](https://mybinder.org/) using the launch icon at the top of this page,\n",
    "\n",
    "![Binder Launch](../images/binder-highlight.png \"Binder launch button location\")\n",
    "\n",
    "and follow along from there! If launching Binder, take note of the `Launcher` tab in the upper-left (see interface below). Click there to find yourself in the same interface moving forward, and feel free to refer back to this tab to follow along."
   ]
  },
  {
   "cell_type": "markdown",
   "metadata": {
    "id": "Qe2fbSa2gS2X"
   },
   "source": [
    "## The JupyterLab Interface\n",
    "\n",
    "Go to your browser and take a look at the JupyterLab interface.\n",
    "\n",
    "With a base installation of JupyterLab your screen should look similar to the image below.\n",
    "\n",
    "Notice:\n",
    "- The **Menu Bar** at the top of the screen, containing the typical dropdown menus: \"File\", \"Edit\", \"View\", etc.\n",
    "- Below that is the **Workspace Area** (currently contains the Launcher).\n",
    "- The **Launcher** is a quick shortcut for accessing the Console/Terminal, for creating new Notebooks, or for creating new Text or Markdown files.\n",
    "- On the left is a **Collapsible Sidebar**. It currently contains the File Browser, but you can also select the Running Tabs and Kernels, the Table of Contents, and the Extensions Manager.\n",
    "- Below everything is the **Information Bar**, which is context sensitive. We will touch on this more.\n",
    "\n",
    "![Interface](../images/interface_labeled.png)\n",
    "\n",
    "We will now take a closer look at certain aspects and features of the JupyterLab Interface."
   ]
  },
  {
   "cell_type": "markdown",
   "metadata": {
    "id": "zpDZFM3ngsY6"
   },
   "source": [
    "### Left Sidebar\n",
    "\n",
    "The Collapsible Left Sidebar is open to the **File Browser Tab** at launch. Clicking the File Browser Tab will collapse the sidebar or reopen it to this tab.\n",
    "- Within this tab, you will see the \"+\" button, which allows you to create a new launcher. \n",
    "- Next to that is the \"+ folder\" button which allows you to create a new folder that then appears below \"Name\" in the contents of your directory. Double click the folder to enter it, right click the folder for options, or press the \"root folder\" icon to return to the root directory. The root directory is the directory from which JupyterLab was launched. You cannot go above the root directory. \n",
    "- The \"upload\" button (looks like an arrow pointing up) allows you to upload files to the current folder. \n",
    "- The \"refresh\" button refreshes the File Browser.\n",
    "\n",
    "Below the File Browser Tab is the **Running Tabs and Kernels Tab**. Currently, this tab doesn't have much in it. We will revisit this when we have running kernels. Remember that Kernels are background processes, so closing a tab (Terminal or Notebook) doesn’t shut down the kernel. You have to do that manually. \n",
    "\n",
    "<img src=\"../images/running-tabs-kernels.png\" width=\"200\"> \n",
    "\n",
    "\n",
    "The **Table of Contents Tab** is auto-populated based on the headings and subheadings used in the Markdown cells of your notebook. It allows you to quickly jump between sections of the document.\n",
    "\n",
    "<img src=\"../images/table-contents.png\" width=\"200\"> \n",
    "\n",
    "Last is the **Extensions Manager Tab** where you can customize or enhance any part of JupyterLab. These customizations could pertain to themes or keyboard shortcuts, for example. We will not be covering JupyterLab extensions, but you can read more about them [here](https://jupyterlab.readthedocs.io/en/stable/user/extensions.html).\n",
    "\n",
    "<img src=\"../images/extensions.png\" width=\"200\">"
   ]
  },
  {
   "cell_type": "markdown",
   "metadata": {
    "id": "1WPljwIRg1KH"
   },
   "source": [
    "### Terminals\n",
    " \n",
    "Let’s select the Running Tabs and Kernels Tab in the Left Sidebar and see how it changes when we've used the Launcher.\n",
    "\n",
    "Open a Terminal in the Launcher. It should look very similar to the desktop terminal that you initially launched JupyterLab from, but is running from within JupyterLab, within your existing Conda environment, and within the directory you launched JupyterLab from (the same root folder shown in the File Browser Tab). Notice that there is now a Terminal listed in the Running Terminals Tab.\n",
    "\n",
    "In the terminal you can use your usual terminal commands. For example, in the terminal window, run: \n",
    "\n",
    "```\n",
    "$ mkdir test\n",
    "```\n",
    "\n",
    "Select the File Browser Tab, refresh it, and see that your new folder is there.\n",
    "\n",
    "In the Terminal Window run:\n",
    "\n",
    "```\n",
    "$ rmdir test\n",
    "```\n",
    "Hit refresh in the File Browser again to see that the directory is gone.\n",
    "\n",
    "![Terminal](../images/terminal.png)\n",
    "\n",
    "Back with the Running Terminals and Kernels Tab open, click the \"X\" in your workspace to close the Terminal window. Notice that the Terminal is still running in the background!  Click on the terminal in the Running Terminals and Kernels Tab to reopen it (and hit enter or return to get your prompt back). To truly close it, execute in the Terminal window:\n",
    "\n",
    "```\n",
    "$ exit\n",
    "```\n",
    "\n",
    "OR click the “X” shut down button in the Running Terminals tab.\n",
    "\n",
    "Doing so will return you to the Launcher. \n",
    "\n",
    "<div class=\"admonition alert alert-info\">\n",
    "    <p class=\"admonition-title\" style=\"font-weight:bold\">Info</p>\n",
    "        The terminal is running on the local host when JupyterLab is launched locally, and remote host when invoked through Jupyter Hub.\n",
    "</div>"
   ]
  },
  {
   "cell_type": "markdown",
   "metadata": {
    "id": "iQAVvbtJg6pi"
   },
   "source": [
    "### Consoles\n",
    "\n",
    "Back in the Launcher, click the “Python 3” Console button. There is only one console option right now, but you could install more kernels into your Conda environment. \n",
    "\n",
    "There will be three dots while the kernel starts, then what loads looks like an IPython console. This is a place to execute Python commands in a stand alone workspace which is good for testing. Notice that the kernel started in the Running Terminals and Kernels tab!\n",
    "\n",
    "Start in a “cell” at the bottom of the Console window. Type:\n",
    "``` python\n",
    "i = 5\n",
    "print(i)\n",
    "```\n",
    "To execute the cell, type <kbd>Shift</kbd>+<kbd>Enter</kbd>. Notice that the console redisplays the code you wrote, labels it with a number, and displays (prints) the output to the screen. \n",
    "\n",
    "In the next cell, enter:\n",
    "``` python\n",
    "s = 'Hello, World!'\n",
    "print(f's = {s}')\n",
    "s\n",
    "```\n",
    "\n",
    "The first line of this code designates a string `s` with the value \"Hello, World!\", the second line uses f-formatting to print the string, and the final line just calls up `s`. The last line in the cell will always be returned (its value displayed) regardless of whether you called `print`. Type <kbd>Shift</kbd>+<kbd>Enter</kbd> to execute the cell. Again the output is labeled (this time with a 2), and we see the input code, the printed standard-out statement, and the return statement. The “return value” and the values “printed to screen” are different!\n",
    "\n",
    "![Console](../images/console.png)\n",
    "\n",
    "Close the window and shut down the Console in the Running Kernels tab. We’re back to the Launcher again."
   ]
  },
  {
   "cell_type": "markdown",
   "metadata": {
    "id": "UDCCs37IhK7S"
   },
   "source": [
    "### Text Editor\n",
    "\n",
    "Click on the “Text File” button in the Launcher.\n",
    "Select the File Browser tab to see the new file `untitled.txt` you created.\n",
    "\n",
    "Enter this Python code into the new text file:\n",
    "``` python\n",
    "s = 'Hello, World!'\n",
    "print(s)\n",
    "```\n",
    "\n",
    "You may notice that the file has a dot instead of an \"X\" where you'd close it. This indicates that the file hasn't been saved or has unsaved changes. Save the file (\"command+s\" on Mac, \"control+s\" on Windows, or \"File&#9654;Save Text\").\n",
    "\n",
    "Go to the File Browser tab, right-click the new file we created and “Rename” it to `hello.py`. Once the extension changes to `.py`, Jupyter recognizes that this is a Python file, and the text editor highlights the code based on Python syntax.\n",
    "\n",
    "Now, click the “+” button in the File Browser to create a new Launcher. In the Launcher tab, click on the “Terminal” button again to create a terminal. Now you have 2 tabs open: a text editor tab and a terminal tab. Drag the Terminal tab to the right side of the main work area to view both windows simultaneously. Click the File Browser tab to collapse the left sidebar and get more real estate! Alternatively, you could stack the windows one on top of the other.\n",
    "\n",
    "Run `ls` in the Terminal window to see the text file we just created. Execute `python hello.py` in the Terminal window. See the output in the Terminal window.\n",
    "\n",
    "![Text Editor](../images/txt-editor.png)\n",
    "\n",
    "Now, let’s close the Terminal tab and shut down the Terminal in the Running Kernels tab (or execute “exit” in the Terminal itself). You should just have the Text editor window open; now we're ready to look at Jupyter Notebooks.\n"
   ]
  },
  {
   "cell_type": "markdown",
   "metadata": {
    "id": "b0Zv8pF8e7Y0"
   },
   "source": [
    "## Running JupyterLab Notebooks\n",
    "\n",
    "There are two ways to open a Jupyter Notebook. One way is to select the File Browser Tab, click the \"New Launcher\" button, and select a Python 3 Notebook from the Launcher. Another way is to go to the top Menu Bar and select \"File&#9654;New&#9654;Notebook\". JupyterLab will prompt you with a dialogue box to select the Kernel you want to use in your Notebook. Select the “Python 3” kernel.\n",
    "\n",
    "If you have the File Browser Tab open, notice you just created a file called `Untitled.ipynb.` You will also have a new window open in the main work area for your new Notebook.\n",
    "\n",
    "Let’s explore the Notebook interface:\n",
    " \n",
    "There is a **Toolbar** at the top with buttons that allow you to Save, Create New Cells, Cut/Paste/Copy Cells, Run the Cell, Stop the Kernel, and Refresh the Kernel. There is also a **dropdown menu** to select the kind of cell (Markdown, Raw, or Code). All the way to the right is the name of your Kernel (which you can click to change Kernels) and a **Kernel Status Icon** that indicates if something is being computed by the Kernel (by a dark circle) or not (by an empty circle).\n",
    "\n",
    "Below the Toolbar is the Notebook itself. You should see an empty cell at the top of the Notebook. This should look similar to the layout of the Console.\n",
    "\n",
    "The cell can be in 1 of 2 modes:  command mode or edit mode.\n",
    "If your cell is grayed out and you can’t see a blinking cursor in the cell, then the cell is in command mode. We’ll talk about command mode more later. Click inside the box, and the cell will turn white with a blinking cursor inside it; the cell is now in edit mode. The mode is also listed on the info bar at the bottom of the page. The cell is selected if the blue bar is on the left side of the cell.\n",
    "\n",
    "![Notebook Interface](../images/notebook-interface_labeled.png)\n",
    "\n",
    "You may move the Notebook over so you can see your text file at the same time to compare, resizing the Notebook window as needed."
   ]
  },
  {
   "cell_type": "markdown",
   "metadata": {
    "id": "Dl5dbdlPwmLk"
   },
   "source": [
    "### Code Cells\n",
    "Click inside the first cell of the Notebook to switch the cell to edit mode.\n",
    "Enter the following into the cell:\n",
    "\n",
    "``` python\n",
    "print(2+2)\n",
    "```\n",
    "\n",
    "Then type <kbd>Shift</kbd>+<kbd>Enter</kbd> to execute the cell.\n",
    "\n",
    "You'll see the output, `4`, printed directly below your code cell. Executing the cell automatically creates a new cell in edit mode below the first.\n",
    "\n",
    "In this new cell, enter:\n",
    "\n",
    "``` python\n",
    "for i in range(4):\n",
    "    print(i) \n",
    "```\n",
    "\n",
    "Execute the cell. A Jupyter code cell can run multiple lines of code; each Jupyter code cell can even contain a complete Python program! \n",
    "\n",
    "To demonstrate how to import code that you have written in a `.py` file, enter the following into the next cell:\n",
    "\n",
    "``` python\n",
    "import hello\n",
    "```\n",
    "\n",
    "Then type <kbd>Shift</kbd>+<kbd>Enter</kbd>. \n",
    "\n",
    "This single-line `import` statement runs the contents of your `hello.py` script file, and would do the same for any file regardless of length. \n",
    "\n",
    "<div class=\"admonition alert alert-warning\">\n",
    "    <p class=\"admonition-title\" style=\"font-weight:bold\">Warning</p>\n",
    "        It is generally considered bad practice to include any output in a “.py” file meant to be imported and used within different Python scripts.  Such a file should contain only function and class definitions.\n",
    "</div>\n",
    "You've executed the cell with the Python 3 kernel, and it spit out the output, “Hello, World!” Since you've imported the `hello.py` module into the Notebook’s kernel runtime, you can now directly look at the variable “s” in this second cell.\n",
    "Enter the following in the next cell:\n",
    "\n",
    "``` python\n",
    "hello.s\n",
    "```\n",
    "\n",
    "Hit <kbd>Shift</kbd>+<kbd>Enter</kbd> to execute.\n",
    "\n",
    "Again, it displays the value of the variable `s` from the “hello” module we just created. One difference is that this time the output is given its own label `[2]` matching the input label of the cell (whereas the output from cell `[1]` is not labelled).  This is the difference between output sent to the screen vs. the return value of the cell.\n",
    "\n",
    "Let’s now import a module from the Python standard library:\n",
    "\n",
    "``` python\n",
    "import time\n",
    "time.sleep(10)\n",
    "```\n",
    "\n",
    "Again, hit <kbd>Shift</kbd>+<kbd>Enter</kbd>. \n",
    "\n",
    "The `time.sleep(10)` function causes code to wait for 10 seconds, which is plenty of time to notice how the cell changes in time:\n",
    " - The label of the cell is `[*]`, indicating that the kernel is running that cell  \n",
    " - In the top right corner of the Notebook, the status icon is a filled-in circle, indicating that the kernel is running\n",
    "\n",
    "After 10 seconds, the cell completes running, the label is updated to `[3], and the status icon returns to the “empty circle” state. If you rerun the cell, the label will update to `[4]`.\n",
    "\n",
    "![Code Cells](../images/codecells.png)"
   ]
  },
  {
   "cell_type": "markdown",
   "metadata": {
    "id": "DTSoIqjAM4sg",
    "jp-MarkdownHeadingCollapsed": true,
    "tags": []
   },
   "source": [
    "### Markdown Cells\n",
    "Now, with the next cell selected (i.e., the blue bar appears to the left of the cell), whether in edit or command mode, go up to the “cell type” dropdown menu above and select “Markdown”.\n",
    "Notice that the `[ ]` label goes away.\n",
    "\n",
    "Markdown is a markup language that allows you to format text in a plain-text editor. Here we will demonstrate some common Markdown syntax. You can learn more at [the Markdown Guide site](https://www.markdownguide.org/) or in our [Getting Started with Jupyter: Markdown](https://foundations.projectpythia.org/foundations/markdown.html) content.\n",
    "Click on the cell and enter edit mode; we can now type in some markdown text like so:\n",
    "\n",
    "```markdown\n",
    "# This is a heading!\n",
    "And this is some text.\n",
    "\n",
    "## And this is a subheading\n",
    "with a bulleted list in it:\n",
    "\n",
    " - one\n",
    " - two\n",
    " - three\n",
    "```\n",
    "\n",
    "Then press <kbd>Shift</kbd>+<kbd>Enter</kbd> to render the markdown to HTML.\n",
    "\n",
    "<img src=\"../images/markdown.png\" width=\"600\">\n",
    "\n",
    "Again, in the next cell, change the cell type to “Markdown”. To demonstrate displaying equations, enter:\n",
    "\n",
    "```markdown\n",
    "## Some math\n",
    "\n",
    "And Jupyter’s version of markdown can display LaTeX:\n",
    "\n",
    "$$\n",
    "e^x=\\sum_{i=0}^{\\infty} \\frac{1}{i!}x^i\n",
    "$$\n",
    "```\n",
    "\n",
    "When you are done, type <kbd>Shift</kbd>+<kbd>Enter</kbd> to render the markdown document.\n",
    "\n",
    "<img src=\"../images/markdown_eq.png\" width=\"600\">\n",
    "\n",
    "You can also do inline equations with a single \"$\", for example\n",
    "\n",
    "```markdown\n",
    "This is an equation: $i^4$.\n",
    "```\n",
    "\n",
    "<img src=\"../images/markdown_eq_inline.png\" width=\"600\">\n",
    "\n",
    "Note that the “markdown” source code is rendered into much prettier text, which we can take advantage of for narrating our work in the Notebook!"
   ]
  },
  {
   "cell_type": "markdown",
   "metadata": {
    "id": "DPP39honNHSh",
    "jp-MarkdownHeadingCollapsed": true,
    "tags": []
   },
   "source": [
    "### Raw Cells\n",
    "\n",
    "Now in a new cell selected, select “raw” from the “cell type” dropdown menu. Again, the `[ ]` label goes away, and you can enter the following in the cell:\n",
    "\n",
    "```text\n",
    "i = 8\n",
    "print(i)\n",
    "```\n",
    "\n",
    "When you <kbd>Shift</kbd>+<kbd>Enter</kbd> the text isn’t rendered.  \n",
    "\n",
    "This is a way of entering text/source that you do not want the Notebook to do anything with (i.e., no rendering).  \n",
    "\n",
    "![Raw](../images/raw.png)"
   ]
  },
  {
   "cell_type": "markdown",
   "metadata": {
    "id": "N89Z7vdgNMKx"
   },
   "source": [
    "### Command Mode Shortcuts\n",
    "\n",
    "Now, select the “raw” cell you just created by clicking on the far left of the cell.\n",
    "\n",
    "You are now in “command mode”. The up and down arrows move to different cells. Don't hit “enter” which would switch the cell to “edit mode.\" Let’s explore command mode.\n",
    "\n",
    "You can change the cell type with `y` for code, `m` for markdown, or `r` for raw.\n",
    "\n",
    "You can add a new cell above the selected cell with `a` (or below the selected cell with `b`).\n",
    "\n",
    "You can cut (`x`), copy (`c`), and paste (`v`).\n",
    "\n",
    "You can move a cell up or down by clicking and dragging. \n",
    "\n",
    "<div class=\"admonition alert alert-warning\">\n",
    "    <p class=\"admonition-title\" style=\"font-weight:bold\">Warning</p>\n",
    "        Cells can be executed in any order you want.  You just have to select the cell and <kbd>Shift</kbd>+<kbd>Enter</kbd>, and select the cells in any order you want.  However, if you share your notebook, there is an implicit expectation to execute the cells in the order in which they are presented in the notebook. Be careful with this! If variables are reused or redefined between cells, reordering them could have unintended consequences!\n",
    "</div>"
   ]
  },
  {
   "cell_type": "markdown",
   "metadata": {
    "id": "KySy3X-aauaR"
   },
   "source": [
    "### Special Variables\n",
    "\n",
    "Now, in the empty cell at the end, enter one underscore:\n",
    "\n",
    "```\n",
    "_\n",
    "```\n",
    "\n",
    "This is a special character that means the last cell output.  Two underscores means the second to last cell output, and three underscores means the third to last output. You can also refer to the output by label with:\n",
    "\n",
    "```\n",
    "_2\n",
    "```\n",
    "\n",
    "<div class=\"admonition alert alert-danger\">\n",
    "    <p class=\"admonition-title\" style=\"font-weight:bold\">Danger</p>\n",
    "        If the cell you to refer to does not have a return value, this will raise an error.\n",
    "</div>\n",
    "\n",
    "You can equivalently use the variables `Out[2]` or `In[2]` to retrieve the output and input (as a string).\n",
    "\n",
    "<img src=\"../images/special_vars.png\" width=\"600\"> "
   ]
  },
  {
   "cell_type": "markdown",
   "metadata": {
    "id": "F0wU5mU2blds"
   },
   "source": [
    "### Shell Commands\n",
    "\n",
    "In the next code cell, enter the following:\n",
    "\n",
    "``` ipython\n",
    "!pwd\n",
    "```\n",
    "\n",
    "The `!` allows you to write shell commands. A shell command is a command that is run by the host operating system, not the Python kernel. Executing this cell will \"print the working directory\" (i.e. your current directory).\n",
    "\n",
    "You can even use the output of shell commands as input to Python code. For example:\n",
    "\n",
    "``` ipython\n",
    "files = !ls\n",
    "print(files)\n",
    "```"
   ]
  },
  {
   "cell_type": "markdown",
   "metadata": {
    "id": "SLtXSO0bNRHC"
   },
   "source": [
    "### Stopping & Restarting the Kernel\n",
    "\n",
    "All of your commands and their output have been remembered by the kernel. However, sometimes you may get code that takes too long to execute, and you need to stop it. For example, in the next code cell, run:\n",
    "\n",
    "``` python\n",
    "time.sleep(1000)\n",
    "```\n",
    "\n",
    "You can stop the kernel with the square “stop” button at the top Notebook toolbar.  This results in a \"KeyboardInterrupt\" error.\n",
    "\n",
    "If you execute a notebook out of order, you can end up in a corrupted state (redefined variables, for example). To start fresh, you should restart the kernel with the circle-arrow button in the toolbar at the top. Now the kernel has forgotten everything, and you'll need to rerun each cell."
   ]
  },
  {
   "cell_type": "markdown",
   "metadata": {
    "id": "wdgosdLGNXtd"
   },
   "source": [
    "### Magics\n",
    "\n",
    "A \"magic\" is a Jupyter Notebook command proceded by a `%` symbol. In the next code cell, enter the following:\n",
    "\n",
    "``` python\n",
    "%timeit time.sleep(1)\n",
    "```\n",
    "\n",
    "The “%timeit” magic is a timer that runs the command multiple times, measuring how long it takes and gathering timing statistics. Hit <kbd>Shift</kbd>+<kbd>Enter</kbd> to see it work.  \n",
    "\n",
    "Multiline magics work on entire cells, and these have a double-`%`.  For example, here is a multiline version of the timeit magic:\n",
    "\n",
    "``` python\n",
    "%%timeit\n",
    "\n",
    "time.sleep(0.5)\n",
    "time.sleep(0.5)\n",
    "```\n",
    "\n",
    "Then press <kbd>Shift</kbd>+<kbd>Enter</kbd> to run it.  This will time the entire cell.\n",
    "\n",
    "<img src=\"../images/magics.png\" width=\"600\"> "
   ]
  },
  {
   "cell_type": "markdown",
   "metadata": {
    "id": "Y3euwtAoexvZ"
   },
   "source": [
    "## Shutting Down\n",
    "\n",
    "Before shutting down, save your notebook with the disc icon in the Notebook toolbar. Now, close both tabs (the notebook and the text editor). You're back to the Launcher.\n",
    "\n",
    "The notebook kernel is still running, though, so go to the Running Kernels tab and shut it down.\n",
    "\n",
    "Now we’re done.  Go to “File&#9654;Shut Down” to close both your browser tab and JupyterLab itself."
   ]
  },
  {
   "cell_type": "markdown",
   "metadata": {
    "id": "Pp8SMkeLpfkf"
   },
   "source": [
    "## Summary\n",
    "\n",
    "You are now familiar with the JupyterLab interface and running Jupyter Notebooks. Jupyter is popular for allowing you to intersperse Markdown text or equations between code cells. Jupyter offers some functionality that a Python script does not: certain keyboard shortcuts, special variables, shell scripting, and magics.\n",
    "\n",
    "### What's next?\n",
    "\n",
    "- [Markdown](markdown)\n"
   ]
  },
  {
   "cell_type": "markdown",
   "metadata": {
    "id": "lj8lTb4Aphra"
   },
   "source": [
    "## Resources and references\n",
    "\n",
    "- [Jupyter Documentation](https://jupyter.org/)\n",
    "- [JupyterLab Documentation](https://jupyterlab.readthedocs.io/en/stable/)\n",
    "- [JupyterLab Extensions](https://jupyterlab.readthedocs.io/en/stable/user/extensions.html)\n",
    "- [Markdown Guide](https://www.markdownguide.org/)\n",
    "- [Xdev Python Tutorial Seminar Series - Jupyter Notebooks](https://youtu.be/xSzXvwzFsDU)"
   ]
  }
 ],
 "metadata": {
  "colab": {
   "collapsed_sections": [],
   "name": "jupyterlab.ipynb",
   "provenance": [],
   "toc_visible": true
  },
  "kernelspec": {
   "display_name": "Python 3 (ipykernel)",
   "language": "python",
   "name": "python3"
  },
  "language_info": {
   "codemirror_mode": {
    "name": "ipython",
    "version": 3
   },
   "file_extension": ".py",
   "mimetype": "text/x-python",
   "name": "python",
   "nbconvert_exporter": "python",
   "pygments_lexer": "ipython3",
   "version": "3.10.8"
  }
 },
 "nbformat": 4,
 "nbformat_minor": 4
}
