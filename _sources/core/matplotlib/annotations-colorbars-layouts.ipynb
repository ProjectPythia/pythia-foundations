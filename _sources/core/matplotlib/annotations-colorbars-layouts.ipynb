{
 "cells": [
  {
   "cell_type": "markdown",
   "id": "a2d0abc7-ffd8-483e-87ae-bb169c5bcecf",
   "metadata": {},
   "source": [
    "![Matplotlib logo](https://matplotlib.org/stable/_images/sphx_glr_logos2_003.png)"
   ]
  },
  {
   "cell_type": "markdown",
   "id": "2583ef82-33dc-4df5-9f6d-f357d72f0b81",
   "metadata": {},
   "source": [
    "# Annotations, Colorbars, and Advanced Layouts\n",
    "\n",
    "---\n",
    "## Overview\n",
    "\n",
    "In this section we explore methods for customizing plots.  The following topics will be covered:\n",
    "\n",
    "1. Adding annotations\n",
    "1. Rendering equations\n",
    "1. Colormap overview \n",
    "1. Basic colorbars \n",
    "1. Shared colorbars\n",
    "1. Custom colorbars\n",
    "1. Mosaic subplots"
   ]
  },
  {
   "cell_type": "markdown",
   "id": "94250818-a557-4717-ae71-6aa45b9f212b",
   "metadata": {},
   "source": [
    "## Prerequisites\n",
    "\n",
    "\n",
    "| Concepts | Importance |\n",
    "| --- | --- |\n",
    "| [NumPy Basics](../numpy/numpy-basics) | Necessary |\n",
    "| [Matplotlib Basics](matplotlib-basics) | Necessary |\n",
    "\n",
    "- **Time to learn**: *30-40 minutes*"
   ]
  },
  {
   "cell_type": "markdown",
   "id": "9deb8579-2995-46b4-a82f-1ab79a67155c",
   "metadata": {},
   "source": [
    "## Imports\n",
    "Here, we import the `matplotlib.pyplot` interface and `numpy`, in addition to the `scipy` statistics package (`scipy.stats`) for generating sample data."
   ]
  },
  {
   "cell_type": "code",
   "execution_count": null,
   "id": "00b72a52-d8e5-48e1-ac4c-35c2e3217de5",
   "metadata": {},
   "outputs": [],
   "source": [
    "import matplotlib.pyplot as plt\n",
    "import numpy as np\n",
    "import scipy.stats as stats\n",
    "from matplotlib.colors import LinearSegmentedColormap, ListedColormap, Normalize"
   ]
  },
  {
   "cell_type": "markdown",
   "id": "a4a423a8-5692-448f-aa78-3d16d3ace19d",
   "metadata": {},
   "source": [
    "## Create Some Sample Data\n",
    "By using `scipy.stats`, the Scipy statistics package described above, we can easily create a data array containing a normal distribution.  We can plot these data points to confirm that the correct distribution was generated. The generated sample data will then be used later in this section. The code and sample plot for this data generation are as follows:"
   ]
  },
  {
   "cell_type": "code",
   "execution_count": null,
   "id": "cd97b1e4-0b10-4099-b288-0c9cb7624a11",
   "metadata": {},
   "outputs": [],
   "source": [
    "mu = 0\n",
    "variance = 1\n",
    "sigma = np.sqrt(variance)\n",
    "\n",
    "x = np.linspace(mu - 3 * sigma, mu + 3 * sigma, 200)\n",
    "pdf = stats.norm.pdf(x, mu, sigma)\n",
    "\n",
    "plt.plot(x, pdf);"
   ]
  },
  {
   "cell_type": "markdown",
   "id": "fbe53c79-98d1-4cda-bea9-4cf532ce835e",
   "metadata": {},
   "source": [
    "## Adding Annotations\n",
    "A common part of many people's workflows is adding annotations.  A rough definition of 'annotation' is 'a note of explanation or comment added to text or a diagram'.\n",
    "\n",
    "We can add an annotation to a plot using `plt.text`.  This method takes the x and y data coordinates at which to draw the annotation (as floating-point values), and the string containing the annotation text."
   ]
  },
  {
   "cell_type": "code",
   "execution_count": null,
   "id": "1b5598da-caf6-4bc6-aa59-e74954b77bce",
   "metadata": {},
   "outputs": [],
   "source": [
    "plt.plot(x, pdf)\n",
    "plt.text(0, 0.05, 'here is some text!');"
   ]
  },
  {
   "cell_type": "markdown",
   "id": "1ab0a677-90c8-43f9-9d0d-c2f9de698edb",
   "metadata": {},
   "source": [
    "## Rendering Equations"
   ]
  },
  {
   "cell_type": "markdown",
   "id": "9e2bc873-0592-4813-81ab-79e3ea7f5855",
   "metadata": {},
   "source": [
    "We can also add annotations with **equation formatting**, by using LaTeX syntax.  The key is to use strings in the following format:\n",
    "\n",
    "```python\n",
    "r'$some_equation$'\n",
    "```\n",
    "\n",
    "Let's run an example that renders the following equation as an annotation:\n",
    "\n",
    "$$f(x) = \\frac{1}{\\mu\\sqrt{2\\pi}}  e^{-\\frac{1}{2}\\left(\\frac{x-\\mu}{\\sigma}\\right)^2}$$\n",
    "\n",
    "The next code block and plot demonstrate rendering this equation as an annotation.\n",
    "\n",
    "If you are interested in learning more about LaTeX syntax, check out [their official documentation](https://latex-tutorial.com/tutorials/amsmath/).\n",
    "\n",
    "Furthermore, if the code is being executed in a Jupyter notebook run interactively (e.g., on Binder), you can double-click on the cell to see the LaTeX source for the rendered equation."
   ]
  },
  {
   "cell_type": "code",
   "execution_count": null,
   "id": "9ae9caab-af46-42f5-ac36-47cafbcdaf68",
   "metadata": {},
   "outputs": [],
   "source": [
    "plt.plot(x, pdf)\n",
    "\n",
    "plt.text(\n",
    "    -1,\n",
    "    0.05,\n",
    "    r'$f(x) = \\frac{1}{\\mu\\sqrt{2\\pi}}  e^{-\\frac{1}{2}\\left(\\frac{x-\\mu}{\\sigma}\\right)^2}$',\n",
    ");"
   ]
  },
  {
   "cell_type": "markdown",
   "id": "aad54e23-b488-4437-89ad-55e14e410f90",
   "metadata": {},
   "source": [
    "As you can see, the equation was correctly rendered in the plot above. However, the equation appears quite small.  We can increase the size of the text using the `fontsize` keyword argument, and center the equation using the `ha` (horizontal alignment) keyword argument.\n",
    "\n",
    "The following example illustrates the use of these keyword arguments, as well as creating a legend containing LaTeX notation:"
   ]
  },
  {
   "cell_type": "code",
   "execution_count": null,
   "id": "f915a43f-dd59-462a-a52f-f2d39e53f6cd",
   "metadata": {},
   "outputs": [],
   "source": [
    "fstr = r'$f(x) = \\frac{1}{\\mu\\sqrt{2\\pi}}  e^{-\\frac{1}{2}\\left(\\frac{x-\\mu}{\\sigma}\\right)^2}$'\n",
    "\n",
    "plt.plot(x, pdf, label=r'$\\mu=0, \\,\\, \\sigma^2 = 1$')\n",
    "plt.text(0, 0.05, fstr, fontsize=15, ha='center')\n",
    "plt.legend();"
   ]
  },
  {
   "cell_type": "markdown",
   "id": "79bc5d01-186c-41df-b645-73d49cfc85d1",
   "metadata": {},
   "source": [
    "### Add a Box Around the Text"
   ]
  },
  {
   "cell_type": "markdown",
   "id": "210d8d70-e14c-47fa-a710-1d04e84496f4",
   "metadata": {},
   "source": [
    "To improve readability, we can also add a box around the equation text.  This is done using `bbox`.\n",
    "\n",
    "`bbox` is a keyword argument in `plt.text` that creates a box around text.  It takes a dictionary that specifies options, behaving like additional keyword arguments inside of the `bbox` argument.  In this case, we use the following dictionary keys:\n",
    "* a rounded box style (`boxstyle = 'round'`)\n",
    "* a light grey facecolor (`fc = 'lightgrey'`)\n",
    "* a black edgecolor (`ec = 'k'`)\n",
    "\n",
    "This example demonstrates the correct use of `bbox`:"
   ]
  },
  {
   "cell_type": "code",
   "execution_count": null,
   "id": "3be0cb9a-8058-4357-97e4-089d556b3194",
   "metadata": {},
   "outputs": [],
   "source": [
    "fig = plt.figure(figsize=(10, 8))\n",
    "plt.plot(x, pdf)\n",
    "\n",
    "fstr = r'$f(x) = \\frac{1}{\\mu\\sqrt{2\\pi}}  e^{-\\frac{1}{2}\\left(\\frac{x-\\mu}{\\sigma}\\right)^2}$'\n",
    "plt.text(\n",
    "    0,\n",
    "    0.05,\n",
    "    fstr,\n",
    "    fontsize=18,\n",
    "    ha='center',\n",
    "    bbox=dict(boxstyle='round', fc='lightgrey', ec='k'),\n",
    ")\n",
    "\n",
    "plt.xticks(fontsize=16)\n",
    "plt.yticks(fontsize=16)\n",
    "\n",
    "plt.title(\"Normal Distribution with SciPy\", fontsize=24);"
   ]
  },
  {
   "cell_type": "markdown",
   "id": "91f4b661-131f-4d29-925f-0028f987be14",
   "metadata": {},
   "source": [
    "---"
   ]
  },
  {
   "cell_type": "markdown",
   "id": "60564465-4b40-467b-a1a5-d10c4378329c",
   "metadata": {},
   "source": [
    "## Colormap Overview\n",
    "\n",
    "Colormaps are a visually appealing method of looking at visualized data in a new and different way. They associate specific values with hues, using color to ease rapid understanding of plotted data; for example, displaying hotter temperatures as red and colder temperatures as blue."
   ]
  },
  {
   "cell_type": "markdown",
   "id": "b0179902-36d5-4b51-894c-f8aad2d92ad8",
   "metadata": {},
   "source": [
    "### Classes of colormaps\n",
    "\n",
    "There are four different classes of colormaps, and many individual maps are contained in each class.  To view some examples for each class, use the dropdown arrow next to the class name below.\n",
    "\n",
    "<details>\n",
    "<summary> 1. <b>Sequential:</b> These colormaps incrementally increase or decrease in lightness and/or saturation of color.  In general, they work best for ordered data. </summary>\n",
    "\n",
    "![Perceptually Sequential](images/perceptually-sequential.png)\n",
    "\n",
    "![Sequential](images/sequential.png)\n",
    "\n",
    "![Sequential2](images/sequential2.png)\n",
    "\n",
    "![Perceptually Sequential](images/ps.png)\n",
    "\n",
    "![Sequential](images/s1.png)\n",
    "\n",
    "![Sequential2](images/s2.png)\n",
    "</details>\n",
    "\n",
    "<details>\n",
    "    <summary> 2. <b>Diverging:</b> These colormaps contain two colors that change in lightness and/or saturation in proportion to distance from the middle, and an unsaturated color in the middle.  They are almost always used with data containing a natural zero point, such as sea level. </summary>\n",
    "\n",
    "![Diverging](images/diverging.png)\n",
    "\n",
    "![Diverging](images/d.png)\n",
    "</details>\n",
    "\n",
    "<details>\n",
    "    <summary> 3. <b>Cyclic:</b> These colormaps have two different colors that change in lightness and meet in the middle, and unsaturated colors at the beginning and end.  They are usually best for data values that wrap around, such as longitude. </summary>\n",
    "\n",
    "![Cyclic](images/cyclic.png)\n",
    "\n",
    "![Cyclic](images/c.png)\n",
    "</details>\n",
    "\n",
    "<details>\n",
    "    <summary> 4. <b>Qualitative:</b> These colormaps have no pattern, and are mostly bands of miscellaneous colors.  You should only use these colormaps for unordered data without relationships. </summary>\n",
    "\n",
    "![Qualitative](images/qualitative.png)\n",
    "\n",
    "![Miscellanous](images/misc.png)\n",
    "\n",
    "![Miscellanous](images/m.png)\n",
    "</details>"
   ]
  },
  {
   "cell_type": "markdown",
   "id": "5ce3b4c7-1186-4067-9b34-552382bf614e",
   "metadata": {},
   "source": [
    "### Other considerations\n",
    "\n",
    "There is a lot of info about choosing colormaps that could be its own tutorial. Two important considerations:\n",
    "1. Color-blind friendly patterns: By using colormaps that do not contain both red and green, you can help people with the most common form of color blindness read your data plots more easily.  The GeoCAT examples gallery has a section about [picking better colormaps](https://geocat-examples.readthedocs.io/en/latest/gallery/index.html#colors) that covers this issue in greater detail.\n",
    "1. Grayscale conversion: It is not too uncommon for a plot originally rendered in color to be converted to black-and-white (monochrome grayscale).  This reduces the usefulness of specific colormaps, as shown below.\n",
    "\n",
    "![hsv colormap in grayscale](images/hsv2gray.png)\n",
    "\n",
    "- For more information on these concerns, as well as colormap choices in general, see the documentation page [Choosing Colormaps in Matplotlib](https://matplotlib.org/stable/tutorials/colors/colormaps.html). "
   ]
  },
  {
   "cell_type": "markdown",
   "id": "66f8b410-ce74-47ad-99be-0b7c670c6c05",
   "metadata": {},
   "source": [
    "## Basic Colorbars"
   ]
  },
  {
   "cell_type": "markdown",
   "id": "cb557718-d4ee-41c9-834c-ceddf2e3329a",
   "metadata": {},
   "source": [
    "Before we look at a colorbar, let's generate some fake X and Y data using `numpy.random`, and set a number of bins for a histogram:"
   ]
  },
  {
   "cell_type": "code",
   "execution_count": null,
   "id": "49665676-e0db-425d-9ac2-9a0cab084297",
   "metadata": {},
   "outputs": [],
   "source": [
    "npts = 1000\n",
    "nbins = 15\n",
    "\n",
    "x = np.random.normal(size=npts)\n",
    "y = np.random.normal(size=npts)"
   ]
  },
  {
   "cell_type": "markdown",
   "id": "614c5189-a563-4856-a900-26bf3dcc849a",
   "metadata": {},
   "source": [
    "Now we can use our fake data to plot a 2-D histogram with the number of bins set above.  We then add a colorbar to the plot, using the default colormap `viridis`."
   ]
  },
  {
   "cell_type": "code",
   "execution_count": null,
   "id": "bf3694f1-e8ed-40de-a50a-7e85b179868c",
   "metadata": {},
   "outputs": [],
   "source": [
    "fig = plt.figure()\n",
    "ax = plt.gca()\n",
    "\n",
    "plt.hist2d(x, y, bins=nbins, density=True)\n",
    "plt.colorbar();"
   ]
  },
  {
   "cell_type": "markdown",
   "id": "dc8e6e2b-3850-4379-bf18-d78ee01739dc",
   "metadata": {},
   "source": [
    "We can change which colormap to use by setting the keyword argument `cmap = 'colormap_name'` in the plotting function call.  This sets the colormap not only for the plot, but for the colorbar as well.  In this case, we use the `magma` colormap:"
   ]
  },
  {
   "cell_type": "code",
   "execution_count": null,
   "id": "16c61ae2-14f6-4b14-8360-c832a46a42b1",
   "metadata": {},
   "outputs": [],
   "source": [
    "fig = plt.figure()\n",
    "ax = plt.gca()\n",
    "\n",
    "plt.hist2d(x, y, bins=nbins, density=True, cmap='magma')\n",
    "plt.colorbar();"
   ]
  },
  {
   "cell_type": "markdown",
   "id": "7c80a5af-364b-4eda-87c0-10a709b1f32b",
   "metadata": {},
   "source": [
    "## Shared Colorbars\n",
    "Oftentimes, you are plotting multiple subplots, or multiple `Axes` objects, simultaneously. In these scenarios, you can create colorbars that span multiple plots, as shown in the following example:"
   ]
  },
  {
   "cell_type": "code",
   "execution_count": null,
   "id": "affb4b48-1656-4f70-a9d5-e7bfb0002e7b",
   "metadata": {},
   "outputs": [],
   "source": [
    "fig, ax = plt.subplots(nrows=1, ncols=2, constrained_layout=True)\n",
    "\n",
    "hist1 = ax[0].hist2d(x, y, bins=15, density=True, vmax=0.18)\n",
    "hist2 = ax[1].hist2d(x, y, bins=30, density=True, vmax=0.18)\n",
    "\n",
    "fig.colorbar(hist1[3], ax=ax, location='bottom')"
   ]
  },
  {
   "cell_type": "markdown",
   "id": "1662bf3c",
   "metadata": {},
   "source": [
    "You may be wondering why the call to `fig.colorbar` uses the argument `hist1[3]`. The explanation is as follows: `hist1` is a tuple returned by `hist2d`, and `hist1[3]` contains a `matplotlib.collections.QuadMesh` that points to the colormap for the first histogram. To make sure that both histograms are using the same colormap with the same range of values, `vmax` is set to 0.18 for both plots. This ensures that both histograms are using colormaps that represent values from 0 (the default for histograms) to 0.18. Because the same data values are used for both plots, it doesn't matter whether we pass in `hist1[3]` or `hist2[3]` to `fig.colorbar`.\n",
    "You can learn more about this topic by reviewing the [`matplotlib.axes.Axes.hist2d` documentation](https://matplotlib.org/stable/api/_as_gen/matplotlib.axes.Axes.hist2d.html)."
   ]
  },
  {
   "cell_type": "markdown",
   "id": "84c50862",
   "metadata": {},
   "source": [
    "In addition, there are many other types of plots that can also share colorbars. An actual use case that is quite common is to use shared colorbars to compare data between filled contour plots. The `vmin` and `vmax` keyword arguments behave the same way for `contourf` as they do for `hist2d`. However, there is a potential downside to using the `vmin` and `vmax` kwargs. When plotting two different datasets, the dataset with the smaller range of values won't show the full range of colors, even though the colormaps are the same. Thus, it can potentially matter which output from `contourf` is used to make a colorbar.  The following examples demonstrate general plotting technique for filled contour plots with shared colorbars, as well as best practices for dealing with some of these logistical issues:"
   ]
  },
  {
   "cell_type": "code",
   "execution_count": null,
   "id": "28d4cea3",
   "metadata": {},
   "outputs": [],
   "source": [
    "x2 = y2 = np.arange(-3, 3.01, 0.025)\n",
    "X2, Y2 = np.meshgrid(x2, y2)\n",
    "Z = np.sqrt(np.sin(X2) ** 2 + np.sin(Y2) ** 2)\n",
    "Z2 = np.sqrt(2 * np.cos(X2) ** 2 + 2 * np.cos(Y2) ** 2)\n",
    "\n",
    "fig, ax = plt.subplots(nrows=1, ncols=2, constrained_layout=True)\n",
    "c1 = ax[0].contourf(X2, Y2, Z, vmin=0, vmax=2)\n",
    "c2 = ax[1].contourf(X2, Y2, Z2, vmin=0, vmax=2)\n",
    "fig.colorbar(c1, ax=ax[0], location='bottom')\n",
    "fig.colorbar(c2, ax=ax[1], location='bottom')\n",
    "\n",
    "fig.suptitle('Shared colormaps on data with different ranges')"
   ]
  },
  {
   "cell_type": "code",
   "execution_count": null,
   "id": "5570ebb7",
   "metadata": {},
   "outputs": [],
   "source": [
    "fig, ax = plt.subplots(nrows=1, ncols=2, constrained_layout=True)\n",
    "c1 = ax[0].contourf(X2, Y2, Z, vmin=0, vmax=2)\n",
    "c2 = ax[1].contourf(X2, Y2, Z2, vmin=0, vmax=2)\n",
    "fig.colorbar(c2, ax=ax, location='bottom')\n",
    "\n",
    "fig.suptitle('Using the contourf output from the data with a wider range')"
   ]
  },
  {
   "cell_type": "markdown",
   "id": "92d072f8-7370-4ea5-92e0-4407cb5905bb",
   "metadata": {
    "tags": []
   },
   "source": [
    "## Custom Colorbars\n",
    "\n",
    "Despite the availability of a large number of premade colorbar styles, it can still occasionally be helpful to create your own colorbars.\n",
    "\n",
    "Below are 2 similar examples of using custom colorbars.\n",
    "\n",
    "The first example uses a very discrete list of colors, simply named `colors`, and creates a colormap from this list by using the call `ListedColormap`. \n",
    "\n",
    "The second example uses the function `LinearSegmentedColormap` to create a new colormap, using interpolation and the `colors` list defined in the first example."
   ]
  },
  {
   "cell_type": "code",
   "execution_count": null,
   "id": "308cb21e-7d82-42b9-a02a-0b452d58d4ed",
   "metadata": {},
   "outputs": [],
   "source": [
    "colors = [\n",
    "    'white',\n",
    "    'pink',\n",
    "    'red',\n",
    "    'orange',\n",
    "    'yellow',\n",
    "    'green',\n",
    "    'blue',\n",
    "    'purple',\n",
    "    'black',\n",
    "]\n",
    "ccmap = ListedColormap(colors)\n",
    "norm = Normalize(vmin=0, vmax=0.18)\n",
    "\n",
    "fig, ax = plt.subplots(nrows=1, ncols=2, constrained_layout=True)\n",
    "\n",
    "hist1 = ax[0].hist2d(x, y, bins=15, density=True, cmap=ccmap, norm=norm)\n",
    "hist2 = ax[1].hist2d(x, y, bins=30, density=True, cmap=ccmap, norm=norm)\n",
    "\n",
    "cbar = fig.colorbar(hist1[3], ax=ax, location='bottom')"
   ]
  },
  {
   "cell_type": "code",
   "execution_count": null,
   "id": "5c72b622-ba9b-4fdb-be25-27366eca3872",
   "metadata": {},
   "outputs": [],
   "source": [
    "cbcmap = LinearSegmentedColormap.from_list(\"cbcmap\", colors)\n",
    "\n",
    "fig, ax = plt.subplots(nrows=1, ncols=2, constrained_layout=True)\n",
    "\n",
    "hist1 = ax[0].hist2d(x, y, bins=15, density=True, cmap=cbcmap, norm=norm)\n",
    "hist2 = ax[1].hist2d(x, y, bins=30, density=True, cmap=cbcmap, norm=norm)\n",
    "\n",
    "cbar = fig.colorbar(hist1[3], ax=ax, location='bottom')"
   ]
  },
  {
   "cell_type": "markdown",
   "id": "ea7f200f",
   "metadata": {},
   "source": [
    "### The `Normalize` Class\n",
    "Notice that both of these examples contain plotting functions that make use of the `norm` kwarg.  This keyword argument takes an object of the `Normalize` class.  A `Normalize` object is constructed with two numeric values, representing the start and end of the data.  It then linearly normalizes the data in that range into an interval of [0,1]. If this sounds familiar, it is because this functionality was used in a previous histogram example.  Feel free to review any previous examples if you need a refresher on particular topics. In this example, the values of the `vmin` and `vmax` kwargs used in `hist2d` are reused as arguments to the `Normalize` class constructor.  This sets the values of `vmin` and `vmax` as the starting and ending data values for our `Normalize` object, which is passed to the `norm` kwarg of `hist2d` to normalize the data. There are many different options for normalizing data, and it is important to explicitly specify how you want your data normalized, especially when making a custom colormap.\n",
    "\n",
    "For information on nonlinear and other complex forms of normalization, review this [Colormap Normalization tutorial](https://matplotlib.org/stable/tutorials/colors/colormapnorms.html#)."
   ]
  },
  {
   "cell_type": "markdown",
   "id": "e41f44e0-2c4f-4ce2-abe6-35d20b8c142e",
   "metadata": {
    "tags": []
   },
   "source": [
    "## Mosaic Subplots\n",
    "One of the helpful features recently added to Matplotlib is the `subplot_mosaic` method.  This method allows you to specify the structure of your figure using specially formatted strings, and will generate subplots automatically based on that structure.\n",
    "\n",
    "For example, if we wanted two plots on top, and one on the bottom, we can construct them by passing the following string to `subplot_mosaic`:\n",
    "\n",
    "```python\n",
    "\"\"\n",
    "AB\n",
    "CC\n",
    "\"\"\n",
    "```\n",
    "\n",
    "This creates three `Axes` objects corresponding to three subplots.  The subplots `A` and `B` are on top of the subplot `C`, and the `C` subplot spans the combined width of `A` and `B`.\n",
    "\n",
    "Once we create the subplots, we can access them using the dictionary returned by `subplot_mosaic`.  You can specify an `Axes` object (in this example, `your_axis`) in the dictionary (in this example, `axes_dict`) by using the syntax `axes_dict['your_axis']`. A full example of `subplot_mosaic` is as follows:"
   ]
  },
  {
   "cell_type": "code",
   "execution_count": null,
   "id": "7e080054-ce5c-451d-81f6-c4791a4b2537",
   "metadata": {},
   "outputs": [],
   "source": [
    "axdict = plt.figure(constrained_layout=True).subplot_mosaic(\n",
    "    \"\"\"\n",
    "    AB\n",
    "    CC\n",
    "    \"\"\"\n",
    ")\n",
    "\n",
    "histA = axdict['A'].hist2d(x, y, bins=15, density=True, cmap=cbcmap, norm=norm)\n",
    "histB = axdict['B'].hist2d(x, y, bins=10, density=True, cmap=cbcmap, norm=norm)\n",
    "histC = axdict['C'].hist2d(x, y, bins=30, density=True, cmap=cbcmap, norm=norm)"
   ]
  },
  {
   "cell_type": "markdown",
   "id": "7569067a-7c59-46b0-b283-b108094010f1",
   "metadata": {},
   "source": [
    "You'll notice there is not a colorbar plotted by default. When constructing the colorbar, we need to specify the following:\n",
    "* Which plot to use for the colormapping (ex. `histA`)\n",
    "* Which subplots (`Axes` objects) to merge colorbars across (ex. [`histA`, `histB`])\n",
    "* Where to place the colorbar (ex. `bottom`)"
   ]
  },
  {
   "cell_type": "code",
   "execution_count": null,
   "id": "3077f1b6-adba-411d-a5a5-430600f0e2fa",
   "metadata": {},
   "outputs": [],
   "source": [
    "axdict = plt.figure(constrained_layout=True).subplot_mosaic(\n",
    "    \"\"\"\n",
    "    AB\n",
    "    CC\n",
    "    \"\"\"\n",
    ")\n",
    "\n",
    "histA = axdict['A'].hist2d(x, y, bins=15, density=True, cmap=cbcmap, norm=norm)\n",
    "histB = axdict['B'].hist2d(x, y, bins=10, density=True, cmap=cbcmap, norm=norm)\n",
    "histC = axdict['C'].hist2d(x, y, bins=30, density=True, cmap=cbcmap, norm=norm)\n",
    "\n",
    "fig.colorbar(histA[3], ax=[axdict['A'], axdict['B']], location='bottom')\n",
    "fig.colorbar(histC[3], ax=[axdict['C']], location='right');"
   ]
  },
  {
   "cell_type": "markdown",
   "id": "85b884b1-4db7-4d9d-9563-79750dbcfc67",
   "metadata": {},
   "source": [
    "---"
   ]
  },
  {
   "cell_type": "markdown",
   "id": "2f505b91-cb9a-4175-a1b7-91f501c1e2cc",
   "metadata": {},
   "source": [
    "## Summary\n",
    "* You can use features in Matplotlib to add text annotations to your plots, including equations in mathematical notation\n",
    "* There are a number of considerations to take into account when choosing your colormap\n",
    "* You can create your own colormaps with Matplotlib\n",
    "* Various subplots and corresponding `Axes` objects in a figure can share colorbars\n",
    "    \n",
    "## Resources and references\n",
    "- [Matplotlib text documentation](https://matplotlib.org/stable/api/text_api.html#matplotlib.text.Text.set_math_fontfamily)\n",
    "- [Matplotlib annotation documentation](https://matplotlib.org/stable/api/_as_gen/matplotlib.pyplot.annotate.html)\n",
    "- [Matplotlib's annotation examples](https://matplotlib.org/stable/tutorials/text/annotations.html#sphx-glr-tutorials-text-annotations-py)\n",
    "- [Writing mathematical expressions in Matplotlib](https://matplotlib.org/stable/tutorials/text/mathtext.html)\n",
    "- [Mathtext Examples](https://matplotlib.org/stable/gallery/text_labels_and_annotations/mathtext_examples.html#sphx-glr-gallery-text-labels-and-annotations-mathtext-examples-py)\n",
    "- [Drawing fancy boxes with Matplotlib](https://matplotlib.org/stable/gallery/shapes_and_collections/fancybox_demo.html)\n",
    "- [Plot Types Cheat Sheet](https://lnkd.in/dD5fE8V)\n",
    "- [Choosing Colormaps in Matplotlib](https://matplotlib.org/stable/tutorials/colors/colormaps.html)\n",
    "- [Making custom colormaps](https://matplotlib.org/stable/tutorials/colors/colormap-manipulation.html)\n",
    "- [Complex figure and subplot composition](https://matplotlib.org/stable/tutorials/provisional/mosaic.html#)"
   ]
  },
  {
   "cell_type": "code",
   "execution_count": null,
   "id": "28649673-c9c6-4914-9f60-5c06c25e1e49",
   "metadata": {},
   "outputs": [],
   "source": []
  }
 ],
 "metadata": {
  "kernelspec": {
   "display_name": "Python 3 (ipykernel)",
   "language": "python",
   "name": "python3"
  },
  "language_info": {
   "codemirror_mode": {
    "name": "ipython",
    "version": 3
   },
   "file_extension": ".py",
   "mimetype": "text/x-python",
   "name": "python",
   "nbconvert_exporter": "python",
   "pygments_lexer": "ipython3",
   "version": "3.10.9"
  }
 },
 "nbformat": 4,
 "nbformat_minor": 5
}
