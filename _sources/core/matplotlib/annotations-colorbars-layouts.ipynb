{
 "cells": [
  {
   "cell_type": "markdown",
   "id": "a2d0abc7-ffd8-483e-87ae-bb169c5bcecf",
   "metadata": {},
   "source": [
    "![Matplotlib logo](https://matplotlib.org/stable/_images/sphx_glr_logos2_003.png)"
   ]
  },
  {
   "cell_type": "markdown",
   "id": "2583ef82-33dc-4df5-9f6d-f357d72f0b81",
   "metadata": {},
   "source": [
    "# Annotations, Colorbars, and Advanced Layouts\n",
    "\n",
    "---\n",
    "## Overview\n",
    "\n",
    "In this section we explore methods for customizing plots, including the following:\n",
    "\n",
    "1. Adding annotations\n",
    "1. Rendering equations\n",
    "1. Colormap overview \n",
    "1. Basic colorbars \n",
    "1. Shared colorbars\n",
    "1. Custom colorbars\n",
    "1. Mosaic subplots"
   ]
  },
  {
   "cell_type": "markdown",
   "id": "94250818-a557-4717-ae71-6aa45b9f212b",
   "metadata": {},
   "source": [
    "## Prerequisites\n",
    "\n",
    "\n",
    "| Concepts | Importance |\n",
    "| --- | --- |\n",
    "| [NumPy Basics](../numpy/numpy-basics) | Necessary |\n",
    "| [Matplotlib Basics](matplotlib-basics) | Necessary |\n",
    "\n",
    "- **Time to learn**: *30-40 minutes*"
   ]
  },
  {
   "cell_type": "markdown",
   "id": "9deb8579-2995-46b4-a82f-1ab79a67155c",
   "metadata": {},
   "source": [
    "## Imports\n",
    "Here, we import `matplotlib`, `numpy`, and `scipy` (to generate some sample data)"
   ]
  },
  {
   "cell_type": "code",
   "execution_count": null,
   "id": "00b72a52-d8e5-48e1-ac4c-35c2e3217de5",
   "metadata": {},
   "outputs": [],
   "source": [
    "import matplotlib.pyplot as plt\n",
    "import numpy as np\n",
    "import scipy.stats as stats\n",
    "from matplotlib.colors import LinearSegmentedColormap, ListedColormap, Normalize"
   ]
  },
  {
   "cell_type": "markdown",
   "id": "a4a423a8-5692-448f-aa78-3d16d3ace19d",
   "metadata": {},
   "source": [
    "## Create Some Sample Data\n",
    "Using `scipy.stats`, we can create a normal distribution! Notice how nicely centered and normal our distribution is!"
   ]
  },
  {
   "cell_type": "code",
   "execution_count": null,
   "id": "cd97b1e4-0b10-4099-b288-0c9cb7624a11",
   "metadata": {},
   "outputs": [],
   "source": [
    "mu = 0\n",
    "variance = 1\n",
    "sigma = np.sqrt(variance)\n",
    "\n",
    "x = np.linspace(mu - 3 * sigma, mu + 3 * sigma, 200)\n",
    "pdf = stats.norm.pdf(x, mu, sigma)\n",
    "\n",
    "plt.plot(x, pdf);"
   ]
  },
  {
   "cell_type": "markdown",
   "id": "fbe53c79-98d1-4cda-bea9-4cf532ce835e",
   "metadata": {},
   "source": [
    "## Adding Annotations\n",
    "A common part of many people's workflows is adding annotations, or \"a note of explanation or comment added to a text or diagram.\"\n",
    "\n",
    "We can do this using `plt.text` which takes the inputs of the `(x, y)` float text position in data coordinates and the text string."
   ]
  },
  {
   "cell_type": "code",
   "execution_count": null,
   "id": "1b5598da-caf6-4bc6-aa59-e74954b77bce",
   "metadata": {},
   "outputs": [],
   "source": [
    "plt.plot(x, pdf)\n",
    "plt.text(0, 0.05, 'here is some text!');"
   ]
  },
  {
   "cell_type": "markdown",
   "id": "1ab0a677-90c8-43f9-9d0d-c2f9de698edb",
   "metadata": {},
   "source": [
    "## Rendering Equations"
   ]
  },
  {
   "cell_type": "markdown",
   "id": "9e2bc873-0592-4813-81ab-79e3ea7f5855",
   "metadata": {},
   "source": [
    "We can even add **math text**, using Latex syntax. The key is use strings with following format:\n",
    "\n",
    "```python\n",
    "r'$some_equation$'\n",
    "```\n",
    "\n",
    "Here is the example equation we use!\n",
    "\n",
    "$$f(x) = \\frac{1}{\\mu\\sqrt{2\\pi}}  e^{-\\frac{1}{2}\\left(\\frac{x-\\mu}{\\sigma}\\right)^2}$$\n",
    "\n",
    "If you are interested in learning more about Latex syntax, check out [their official documentation](https://latex-tutorial.com/tutorials/amsmath/).\n",
    "\n",
    "Further, if you’re running the notebook interactively (e.g. on Binder) you can double click on the cell to see the latex source for the rendered equation."
   ]
  },
  {
   "cell_type": "code",
   "execution_count": null,
   "id": "9ae9caab-af46-42f5-ac36-47cafbcdaf68",
   "metadata": {},
   "outputs": [],
   "source": [
    "plt.plot(x, pdf)\n",
    "\n",
    "plt.text(\n",
    "    -1,\n",
    "    0.05,\n",
    "    r'$f(x) = \\frac{1}{\\mu\\sqrt{2\\pi}}  e^{-\\frac{1}{2}\\left(\\frac{x-\\mu}{\\sigma}\\right)^2}$',\n",
    ");"
   ]
  },
  {
   "cell_type": "markdown",
   "id": "aad54e23-b488-4437-89ad-55e14e410f90",
   "metadata": {},
   "source": [
    "We plotted our equation! But it looks pretty small; we can increase the size of the text, and center the equation by using `fontsize` and `ha` (horizontal alignment).\n",
    "\n",
    "This next example also uses latex notation in the legend text."
   ]
  },
  {
   "cell_type": "code",
   "execution_count": null,
   "id": "f915a43f-dd59-462a-a52f-f2d39e53f6cd",
   "metadata": {},
   "outputs": [],
   "source": [
    "fstr = r'$f(x) = \\frac{1}{\\mu\\sqrt{2\\pi}}  e^{-\\frac{1}{2}\\left(\\frac{x-\\mu}{\\sigma}\\right)^2}$'\n",
    "\n",
    "plt.plot(x, pdf, label=r'$\\mu=0, \\,\\, \\sigma^2 = 1$')\n",
    "plt.text(0, 0.05, fstr, fontsize=15, ha='center')\n",
    "plt.legend();"
   ]
  },
  {
   "cell_type": "markdown",
   "id": "79bc5d01-186c-41df-b645-73d49cfc85d1",
   "metadata": {},
   "source": [
    "### Add a Box Around the Text"
   ]
  },
  {
   "cell_type": "markdown",
   "id": "210d8d70-e14c-47fa-a710-1d04e84496f4",
   "metadata": {},
   "source": [
    "One other thing we can add here, for readability, is a box around the text, using `bbox`.\n",
    "\n",
    "The `bbox` argument in `plt.text` uses a dictionary to create the box! We pass in:\n",
    "* a rounded box sytle (`boxstyle = 'round'`)\n",
    "* a light grey facecolor (`fc = 'lightgrey'`)\n",
    "* a black edgecolor (`ec = 'k'`)"
   ]
  },
  {
   "cell_type": "code",
   "execution_count": null,
   "id": "3be0cb9a-8058-4357-97e4-089d556b3194",
   "metadata": {},
   "outputs": [],
   "source": [
    "fig = plt.figure(figsize=(10, 8))\n",
    "plt.plot(x, pdf)\n",
    "\n",
    "fstr = r'$f(x) = \\frac{1}{\\mu\\sqrt{2\\pi}}  e^{-\\frac{1}{2}\\left(\\frac{x-\\mu}{\\sigma}\\right)^2}$'\n",
    "plt.text(\n",
    "    0,\n",
    "    0.05,\n",
    "    fstr,\n",
    "    fontsize=18,\n",
    "    ha='center',\n",
    "    bbox=dict(boxstyle='round', fc='lightgrey', ec='k'),\n",
    ")\n",
    "\n",
    "plt.xticks(fontsize=16)\n",
    "plt.yticks(fontsize=16)\n",
    "\n",
    "plt.title(\"Normal Distribution with SciPy\", fontsize=24);"
   ]
  },
  {
   "cell_type": "markdown",
   "id": "91f4b661-131f-4d29-925f-0028f987be14",
   "metadata": {},
   "source": [
    "---"
   ]
  },
  {
   "cell_type": "markdown",
   "id": "60564465-4b40-467b-a1a5-d10c4378329c",
   "metadata": {},
   "source": [
    "## Colormap Overview\n",
    "\n",
    "Colormaps are a visually appealing way to represent another dimension to your data. They are a matrix of hues and values allowing you to, for example, display hotter temperatures as red and colder temperatures as blue."
   ]
  },
  {
   "cell_type": "markdown",
   "id": "b0179902-36d5-4b51-894c-f8aad2d92ad8",
   "metadata": {},
   "source": [
    "### Classes of colormaps\n",
    "\n",
    "Click the dropdown arrow to see examples of colormaps within their respective classes.\n",
    "\n",
    "<details>\n",
    "<summary> 1. <b>Sequential:</b> change in lightness and/or saturation of color incrementally. Good for data that has ordering. </summary>\n",
    "\n",
    "![Perceptually Sequential](images/perceptually-sequential.png)\n",
    "\n",
    "![Sequential](images/sequential.png)\n",
    "\n",
    "![Sequential2](images/sequential2.png)\n",
    "\n",
    "![Perceptually Sequential](images/ps.png)\n",
    "\n",
    "![Sequential](images/s1.png)\n",
    "\n",
    "![Sequential2](images/s2.png)\n",
    "</details>\n",
    "\n",
    "<details>\n",
    "    <summary> 2. <b>Diverging:</b> change in lightness and/or saturation of two different colors that meet in the middle at an unsaturated color. Should be used when the data has a natural zero point, such as sea level. </summary>\n",
    "\n",
    "![Diverging](images/diverging.png)\n",
    "\n",
    "![Diverging](images/d.png)\n",
    "</details>\n",
    "\n",
    "<details>\n",
    "    <summary> 3. <b>Cyclic:</b> change in lightness of two different colors that meet in the middle and begin and end at an unsaturated color. Should be used for values that naturally wrap around. </summary>\n",
    "\n",
    "![Cyclic](images/cyclic.png)\n",
    "\n",
    "![Cyclic](images/c.png)\n",
    "</details>\n",
    "\n",
    "<details>\n",
    "    <summary> 4. <b>Qualitative:</b> miscellaneous color. Should not be used for data that has ordering or relationships. </summary>\n",
    "\n",
    "![Qualitative](images/qualitative.png)\n",
    "\n",
    "![Miscellanous](images/misc.png)\n",
    "\n",
    "![Miscellanous](images/m.png)\n",
    "</details>"
   ]
  },
  {
   "cell_type": "markdown",
   "id": "e1bff589",
   "metadata": {},
   "source": []
  },
  {
   "cell_type": "markdown",
   "id": "5ce3b4c7-1186-4067-9b34-552382bf614e",
   "metadata": {},
   "source": [
    "### Other considerations\n",
    "\n",
    "There is a lot of info about choosing colormaps that could be its own tutorial. Two important considerations:\n",
    "1. Color blind friendly patterns: avoiding colormaps with both red and green can account for the most common form of color blindness. The GeoCAT-examples gallery has a section devoted to [picking better colormaps](https://geocat-examples.readthedocs.io/en/latest/gallery/index.html#colors) that covers this.\n",
    "\n",
    "1. Grayscale conversion: It is not uncommon for plots rendered in color to be printed in black and white, obscuring the usefulness of a chosen colormap\n",
    "\n",
    "![hsv colormap in grayscale](images/hsv2gray.png)\n",
    "\n",
    "- See [Choosing Colormaps in Matplotlib](https://matplotlib.org/stable/tutorials/colors/colormaps.html) for a more in depth version of this section"
   ]
  },
  {
   "cell_type": "markdown",
   "id": "66f8b410-ce74-47ad-99be-0b7c670c6c05",
   "metadata": {},
   "source": [
    "## Basic Colorbars"
   ]
  },
  {
   "cell_type": "markdown",
   "id": "cb557718-d4ee-41c9-834c-ceddf2e3329a",
   "metadata": {},
   "source": [
    "Before we look at a colorbar, let's generate some fake data using `numpy.random`"
   ]
  },
  {
   "cell_type": "code",
   "execution_count": null,
   "id": "49665676-e0db-425d-9ac2-9a0cab084297",
   "metadata": {},
   "outputs": [],
   "source": [
    "npts = 1000\n",
    "nbins = 15\n",
    "\n",
    "x = np.random.normal(size=npts)\n",
    "y = np.random.normal(size=npts)"
   ]
  },
  {
   "cell_type": "markdown",
   "id": "614c5189-a563-4856-a900-26bf3dcc849a",
   "metadata": {},
   "source": [
    "Here, we plot a 2D histogram using our fake data, using the default colorbar \"viridis\""
   ]
  },
  {
   "cell_type": "code",
   "execution_count": null,
   "id": "bf3694f1-e8ed-40de-a50a-7e85b179868c",
   "metadata": {},
   "outputs": [],
   "source": [
    "fig = plt.figure()\n",
    "ax = plt.gca()\n",
    "\n",
    "plt.hist2d(x, y, bins=nbins, density=True)\n",
    "plt.colorbar();"
   ]
  },
  {
   "cell_type": "markdown",
   "id": "dc8e6e2b-3850-4379-bf18-d78ee01739dc",
   "metadata": {},
   "source": [
    "We can change which colorbar to use by passing in `cmap = 'colorbar_name'`. We can use the `magma` colorbar instead!"
   ]
  },
  {
   "cell_type": "code",
   "execution_count": null,
   "id": "16c61ae2-14f6-4b14-8360-c832a46a42b1",
   "metadata": {},
   "outputs": [],
   "source": [
    "fig = plt.figure()\n",
    "ax = plt.gca()\n",
    "\n",
    "plt.hist2d(x, y, bins=nbins, density=True, cmap='magma')\n",
    "plt.colorbar();"
   ]
  },
  {
   "cell_type": "markdown",
   "id": "7c80a5af-364b-4eda-87c0-10a709b1f32b",
   "metadata": {},
   "source": [
    "## Shared Colorbars\n",
    "Often times, you are not plotting a single axis. You may wish to share colorbars between different plots! We can share colorbars between two plots using the following:"
   ]
  },
  {
   "cell_type": "code",
   "execution_count": null,
   "id": "affb4b48-1656-4f70-a9d5-e7bfb0002e7b",
   "metadata": {},
   "outputs": [],
   "source": [
    "fig, ax = plt.subplots(nrows=1, ncols=2, constrained_layout=True)\n",
    "\n",
    "hist1 = ax[0].hist2d(x, y, bins=15, density=True, vmax=0.18)\n",
    "hist2 = ax[1].hist2d(x, y, bins=30, density=True, vmax=0.18)\n",
    "\n",
    "fig.colorbar(hist1[3], ax=ax, location='bottom')"
   ]
  },
  {
   "cell_type": "markdown",
   "id": "1662bf3c",
   "metadata": {},
   "source": [
    "You may have noticed the input argument `hist1[3]` to `fig.colorbar`. To clarify, `hist1` is a tuple returned by `hist2d`, and `hist1[3]` returns a `matplotlib.collections.QuadMesh` that points to the colormap for the first histogram. To make sure that both histograms are using the same colormap with the same range of values, `vmax` is set to 0.18 for both plots. This ensures that both histograms are using colormaps that represent values from 0 (the default for histograms) to 0.18. Because the same data is used for both plots, it doesn't matter whether we pass in `hist1[3]` or `hist2[3]` to `fig.colorbar`.\n",
    "Read more at the [`matplotlib.axes.Axes.hist2d` documentation](https://matplotlib.org/stable/api/_as_gen/matplotlib.axes.Axes.hist2d.html)."
   ]
  },
  {
   "cell_type": "markdown",
   "id": "84c50862",
   "metadata": {},
   "source": [
    "Other kinds of plots can share colorbars too. A common use case is filled contour plots with shared colorbars for comparing data. `vmin` and `vmax` behave the same way for `contourf` as they do for `hist2d`. A downside to using the `vmin` and `vmax` kwargs when plotting two different datasets is that while the colormaps may be the same, the dataset with a smaller range of values won't show the full range of colors as seen below. Thus, it *does* matter in this particular example which output from `contourf` is used to make the colorbar."
   ]
  },
  {
   "cell_type": "code",
   "execution_count": null,
   "id": "28d4cea3",
   "metadata": {},
   "outputs": [],
   "source": [
    "x2 = y2 = np.arange(-3, 3.01, 0.025)\n",
    "X2, Y2 = np.meshgrid(x2, y2)\n",
    "Z = np.sqrt(np.sin(X2) ** 2 + np.sin(Y2) ** 2)\n",
    "Z2 = np.sqrt(2 * np.cos(X2) ** 2 + 2 * np.cos(Y2) ** 2)\n",
    "\n",
    "fig, ax = plt.subplots(nrows=1, ncols=2, constrained_layout=True)\n",
    "c1 = ax[0].contourf(X2, Y2, Z, vmin=0, vmax=2)\n",
    "c2 = ax[1].contourf(X2, Y2, Z2, vmin=0, vmax=2)\n",
    "fig.colorbar(c1, ax=ax[0], location='bottom')\n",
    "fig.colorbar(c2, ax=ax[1], location='bottom')\n",
    "\n",
    "fig.suptitle('Shared colormaps on data with different ranges')"
   ]
  },
  {
   "cell_type": "code",
   "execution_count": null,
   "id": "5570ebb7",
   "metadata": {},
   "outputs": [],
   "source": [
    "fig, ax = plt.subplots(nrows=1, ncols=2, constrained_layout=True)\n",
    "c1 = ax[0].contourf(X2, Y2, Z, vmin=0, vmax=2)\n",
    "c2 = ax[1].contourf(X2, Y2, Z2, vmin=0, vmax=2)\n",
    "fig.colorbar(c2, ax=ax, location='bottom')\n",
    "\n",
    "fig.suptitle('Using the contourf output from the data with a wider range')"
   ]
  },
  {
   "cell_type": "markdown",
   "id": "92d072f8-7370-4ea5-92e0-4407cb5905bb",
   "metadata": {
    "tags": []
   },
   "source": [
    "## Custom Colorbars\n",
    "\n",
    "Even with the large collection of prepackaged colorbars, you may find it useful to create your own colorbar.\n",
    "\n",
    "Below are 2 similar examples of using custom colorbars: \n",
    "\n",
    "The first has very discrete list of colors called `colors`, and creates a colormap from this list with the call `ListedColormap`. \n",
    "\n",
    "The second used the call `LinearSegmentedColormap` to create a colormap from interpolating the same list `colors`."
   ]
  },
  {
   "cell_type": "code",
   "execution_count": null,
   "id": "308cb21e-7d82-42b9-a02a-0b452d58d4ed",
   "metadata": {},
   "outputs": [],
   "source": [
    "colors = [\n",
    "    'white',\n",
    "    'pink',\n",
    "    'red',\n",
    "    'orange',\n",
    "    'yellow',\n",
    "    'green',\n",
    "    'blue',\n",
    "    'purple',\n",
    "    'black',\n",
    "]\n",
    "ccmap = ListedColormap(colors)\n",
    "norm = Normalize(vmin=0, vmax=0.18)\n",
    "\n",
    "fig, ax = plt.subplots(nrows=1, ncols=2, constrained_layout=True)\n",
    "\n",
    "hist1 = ax[0].hist2d(x, y, bins=15, density=True, cmap=ccmap, norm=norm)\n",
    "hist2 = ax[1].hist2d(x, y, bins=30, density=True, cmap=ccmap, norm=norm)\n",
    "\n",
    "cbar = fig.colorbar(hist1[3], ax=ax, location='bottom')"
   ]
  },
  {
   "cell_type": "code",
   "execution_count": null,
   "id": "5c72b622-ba9b-4fdb-be25-27366eca3872",
   "metadata": {},
   "outputs": [],
   "source": [
    "cbcmap = LinearSegmentedColormap.from_list(\"cbcmap\", colors)\n",
    "\n",
    "fig, ax = plt.subplots(nrows=1, ncols=2, constrained_layout=True)\n",
    "\n",
    "hist1 = ax[0].hist2d(x, y, bins=15, density=True, cmap=cbcmap, norm=norm)\n",
    "hist2 = ax[1].hist2d(x, y, bins=30, density=True, cmap=cbcmap, norm=norm)\n",
    "\n",
    "cbar = fig.colorbar(hist1[3], ax=ax, location='bottom')"
   ]
  },
  {
   "cell_type": "markdown",
   "id": "ea7f200f",
   "metadata": {},
   "source": [
    "### The `Normalize` Class\n",
    "Note that both plots use the `norm` kwarg. The `Normalize` class linearly normalizes data into the [0, 1] interval. This is used to linearly map the colors in the colormap to the data from `vmin` to `vmax`. In fact, we used this functionality in the previous histogram exercise! The `vmin` and `vmax` kwargs for `hist2d` are simply passed into the `Normalize` function. When making a custom colormap, it is best to specify how you want the data normalized.\n",
    "\n",
    "For non-linear nomalization, check out this [Colormap Normalization tutorial](https://matplotlib.org/stable/tutorials/colors/colormapnorms.html#)."
   ]
  },
  {
   "cell_type": "markdown",
   "id": "e41f44e0-2c4f-4ce2-abe6-35d20b8c142e",
   "metadata": {
    "tags": []
   },
   "source": [
    "## Mosaic Subplots\n",
    "One of the recent features added to Matplotlib is `subplot_mosaic` where you can pass the structure of your figure, and it will generate your subplots automatically!\n",
    "\n",
    "For example, if we wanted two plots on top, and one of the bottom, we can construct it using the following block of text:\n",
    "\n",
    "```python\n",
    "\"\"\n",
    "AB\n",
    "CC\n",
    "\"\"\n",
    "```\n",
    "\n",
    "This corresponds to three axes: `A`, `B`, and `C` with `A` and `B` on top of `C`.\n",
    "\n",
    "Once we create the subplots, we can access them using the resultant axes dictionary, with the syntax `axes_dict['your_axis']`. An example of this is given below!"
   ]
  },
  {
   "cell_type": "code",
   "execution_count": null,
   "id": "7e080054-ce5c-451d-81f6-c4791a4b2537",
   "metadata": {},
   "outputs": [],
   "source": [
    "axdict = plt.figure(constrained_layout=True).subplot_mosaic(\n",
    "    \"\"\"\n",
    "    AB\n",
    "    CC\n",
    "    \"\"\"\n",
    ")\n",
    "\n",
    "histA = axdict['A'].hist2d(x, y, bins=15, density=True, cmap=cbcmap, norm=norm)\n",
    "histB = axdict['B'].hist2d(x, y, bins=10, density=True, cmap=cbcmap, norm=norm)\n",
    "histC = axdict['C'].hist2d(x, y, bins=30, density=True, cmap=cbcmap, norm=norm)"
   ]
  },
  {
   "cell_type": "markdown",
   "id": "7569067a-7c59-46b0-b283-b108094010f1",
   "metadata": {},
   "source": [
    "You'll notice there is not a colorbar plotted by default. When constructing the colorbar, we need to specify:\n",
    "* Which plot to use for the colormapping (ex. `histA`)\n",
    "* Which axes to merge colorbars across (ex. [`histA`, `histB`])\n",
    "* Where to place the colorbar (ex. `bottom`)"
   ]
  },
  {
   "cell_type": "code",
   "execution_count": null,
   "id": "3077f1b6-adba-411d-a5a5-430600f0e2fa",
   "metadata": {},
   "outputs": [],
   "source": [
    "axdict = plt.figure(constrained_layout=True).subplot_mosaic(\n",
    "    \"\"\"\n",
    "    AB\n",
    "    CC\n",
    "    \"\"\"\n",
    ")\n",
    "\n",
    "histA = axdict['A'].hist2d(x, y, bins=15, density=True, cmap=cbcmap, norm=norm)\n",
    "histB = axdict['B'].hist2d(x, y, bins=10, density=True, cmap=cbcmap, norm=norm)\n",
    "histC = axdict['C'].hist2d(x, y, bins=30, density=True, cmap=cbcmap, norm=norm)\n",
    "\n",
    "fig.colorbar(histA[3], ax=[axdict['A'], axdict['B']], location='bottom')\n",
    "fig.colorbar(histC[3], ax=[axdict['C']], location='right');"
   ]
  },
  {
   "cell_type": "markdown",
   "id": "85b884b1-4db7-4d9d-9563-79750dbcfc67",
   "metadata": {},
   "source": [
    "---"
   ]
  },
  {
   "cell_type": "markdown",
   "id": "2f505b91-cb9a-4175-a1b7-91f501c1e2cc",
   "metadata": {},
   "source": [
    "## Summary\n",
    "* You can use features in Matplotlib to add annotations, even math, to your plots\n",
    "* There are a number of considerations to take into account when choosing your colormap\n",
    "* You can create your own colormaps with Matplotlib\n",
    "* Various axes in figures can share colorbars\n",
    "    \n",
    "## Resources and references\n",
    "- [Matplotlib text documentation](https://matplotlib.org/stable/api/text_api.html#matplotlib.text.Text.set_math_fontfamily)\n",
    "- [Matplotlib annotation documentation](https://matplotlib.org/stable/api/_as_gen/matplotlib.pyplot.annotate.html)\n",
    "- [Matplotlib's annotation examples](https://matplotlib.org/stable/tutorials/text/annotations.html#sphx-glr-tutorials-text-annotations-py)\n",
    "- [Writing mathmatical expressions in Matplotlib](https://matplotlib.org/stable/tutorials/text/mathtext.html)\n",
    "- [Mathtext Examples](https://matplotlib.org/stable/gallery/text_labels_and_annotations/mathtext_examples.html#sphx-glr-gallery-text-labels-and-annotations-mathtext-examples-py)\n",
    "- [Drawing fancy boxes with Matplotlib](https://matplotlib.org/stable/gallery/shapes_and_collections/fancybox_demo.html)\n",
    "- [Plot Types Cheat Sheet](https://lnkd.in/dD5fE8V)\n",
    "- [Choosing Colormaps in Matplotlib](https://matplotlib.org/stable/tutorials/colors/colormaps.html)\n",
    "- [Making custom colormaps](https://matplotlib.org/stable/tutorials/colors/colormap-manipulation.html)\n",
    "- [Complex figure and subplot composition](https://matplotlib.org/stable/tutorials/provisional/mosaic.html#)"
   ]
  },
  {
   "cell_type": "code",
   "execution_count": null,
   "id": "28649673-c9c6-4914-9f60-5c06c25e1e49",
   "metadata": {},
   "outputs": [],
   "source": []
  }
 ],
 "metadata": {
  "kernelspec": {
   "display_name": "Python 3 (ipykernel)",
   "language": "python",
   "name": "python3"
  },
  "language_info": {
   "codemirror_mode": {
    "name": "ipython",
    "version": 3
   },
   "file_extension": ".py",
   "mimetype": "text/x-python",
   "name": "python",
   "nbconvert_exporter": "python",
   "pygments_lexer": "ipython3",
   "version": "3.10.5"
  }
 },
 "nbformat": 4,
 "nbformat_minor": 5
}
